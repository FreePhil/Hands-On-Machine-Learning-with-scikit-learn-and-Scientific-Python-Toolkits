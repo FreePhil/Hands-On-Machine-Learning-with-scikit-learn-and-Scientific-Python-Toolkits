{
 "cells": [
  {
   "cell_type": "code",
   "execution_count": 1,
   "metadata": {},
   "outputs": [],
   "source": []
  },
  {
   "cell_type": "code",
   "execution_count": 106,
   "metadata": {},
   "outputs": [],
   "source": [
    "lines = [\n",
    "    'How to tokenize?\\nLike a boss.',\n",
    "    'Google is accessible via http://www.google.com',\n",
    "    '1000 new followers! #TwitterFamous',\n",
    "]"
   ]
  },
  {
   "cell_type": "code",
   "execution_count": 107,
   "metadata": {},
   "outputs": [
    {
     "data": {
      "text/plain": [
       "['How to tokenize?\\nLike a boss.',\n",
       " 'Google is accessible via http://www.google.com',\n",
       " '1000 new followers! #TwitterFamous']"
      ]
     },
     "execution_count": 107,
     "metadata": {},
     "output_type": "execute_result"
    }
   ],
   "source": [
    "lines"
   ]
  },
  {
   "cell_type": "code",
   "execution_count": 108,
   "metadata": {},
   "outputs": [
    {
     "name": "stdout",
     "output_type": "stream",
     "text": [
      "['How', 'to', 'tokenize?', 'Like', 'a', 'boss.']\n",
      "['Google', 'is', 'accessible', 'via', 'http://www.google.com']\n",
      "['1000', 'new', 'followers!', '#TwitterFamous']\n"
     ]
    }
   ],
   "source": [
    "for line in lines:\n",
    "    print(line.split())"
   ]
  },
  {
   "cell_type": "code",
   "execution_count": 109,
   "metadata": {},
   "outputs": [
    {
     "name": "stdout",
     "output_type": "stream",
     "text": [
      "['How', 'to', 'tokenize', 'Like', 'a', 'boss']\n",
      "['Google', 'is', 'accessible', 'via', 'http', 'www', 'google', 'com']\n",
      "['1000', 'new', 'followers', 'TwitterFamous']\n"
     ]
    }
   ],
   "source": [
    "import re\n",
    "\n",
    "_token_pattern = r\"\\w+\"\n",
    "token_pattern = re.compile(_token_pattern)\n",
    "    \n",
    "for line in lines:\n",
    "    print(token_pattern.findall(line))"
   ]
  },
  {
   "cell_type": "code",
   "execution_count": 115,
   "metadata": {},
   "outputs": [
    {
     "name": "stdout",
     "output_type": "stream",
     "text": [
      "['how', 'to', 'tokenize', 'like', 'a', 'boss']\n",
      "['google', 'is', 'accessible', 'via', '_url_']\n",
      "['_num_', 'new', 'followers', '_hashtag_']\n"
     ]
    }
   ],
   "source": [
    "_token_pattern = r\"\\w+\"\n",
    "token_pattern = re.compile(_token_pattern)\n",
    "\n",
    "def tokenizer(line):\n",
    "    line = line.lower()\n",
    "    line = re.sub(r'http[s]?://[\\w\\/\\-\\.\\?]+','_url_', line)\n",
    "    line = re.sub(r'\\d+:\\d+','_time_', line)\n",
    "    line = re.sub(r'#\\w+', '_hashtag_', line)\n",
    "    line = re.sub(r'\\d+','_num_', line)\n",
    "    return token_pattern.findall(line)\n",
    "\n",
    "for line in lines:\n",
    "    print(tokenizer(line))"
   ]
  },
  {
   "cell_type": "code",
   "execution_count": 114,
   "metadata": {},
   "outputs": [
    {
     "name": "stdout",
     "output_type": "stream",
     "text": [
      "['How', 'to', 'tokenize', 'Like', 'boss']\n",
      "['Google', 'is', 'accessible', 'via', 'http', 'www', 'google', 'com']\n",
      "['1000', 'new', 'followers', 'TwitterFamous']\n"
     ]
    }
   ],
   "source": [
    "import re\n",
    "\n",
    "_token_pattern = r\"(?u)\\b\\w\\w+\\b\"\n",
    "token_pattern = re.compile(_token_pattern)\n",
    "    \n",
    "for line in lines:\n",
    "    print(token_pattern.findall(line))"
   ]
  },
  {
   "cell_type": "code",
   "execution_count": 146,
   "metadata": {},
   "outputs": [],
   "source": [
    "from sklearn.feature_extraction.text import CountVectorizer\n",
    "\n",
    "vec = CountVectorizer(lowercase=True, tokenizer=tokenizer)\n",
    "\n",
    "x = vec.fit_transform(lines)"
   ]
  },
  {
   "cell_type": "code",
   "execution_count": 147,
   "metadata": {},
   "outputs": [
    {
     "name": "stdout",
     "output_type": "stream",
     "text": [
      "['how', 'to', 'tokenize', 'like', 'a', 'boss', 'google', 'is', 'accessible', 'via', '_url_', '_num_', 'new', 'followers', '_hashtag_']\n"
     ]
    }
   ],
   "source": [
    "print(list(vec.vocabulary_.keys()))"
   ]
  },
  {
   "cell_type": "code",
   "execution_count": 148,
   "metadata": {},
   "outputs": [
    {
     "data": {
      "text/html": [
       "<div>\n",
       "<style scoped>\n",
       "    .dataframe tbody tr th:only-of-type {\n",
       "        vertical-align: middle;\n",
       "    }\n",
       "\n",
       "    .dataframe tbody tr th {\n",
       "        vertical-align: top;\n",
       "    }\n",
       "\n",
       "    .dataframe thead th {\n",
       "        text-align: right;\n",
       "    }\n",
       "</style>\n",
       "<table border=\"1\" class=\"dataframe\">\n",
       "  <thead>\n",
       "    <tr style=\"text-align: right;\">\n",
       "      <th></th>\n",
       "      <th>how</th>\n",
       "      <th>to</th>\n",
       "      <th>tokenize</th>\n",
       "      <th>like</th>\n",
       "      <th>a</th>\n",
       "      <th>boss</th>\n",
       "      <th>google</th>\n",
       "      <th>is</th>\n",
       "      <th>accessible</th>\n",
       "      <th>via</th>\n",
       "      <th>_url_</th>\n",
       "      <th>_num_</th>\n",
       "      <th>new</th>\n",
       "      <th>followers</th>\n",
       "      <th>_hashtag_</th>\n",
       "    </tr>\n",
       "    <tr>\n",
       "      <th>doc-id</th>\n",
       "      <th></th>\n",
       "      <th></th>\n",
       "      <th></th>\n",
       "      <th></th>\n",
       "      <th></th>\n",
       "      <th></th>\n",
       "      <th></th>\n",
       "      <th></th>\n",
       "      <th></th>\n",
       "      <th></th>\n",
       "      <th></th>\n",
       "      <th></th>\n",
       "      <th></th>\n",
       "      <th></th>\n",
       "      <th></th>\n",
       "    </tr>\n",
       "  </thead>\n",
       "  <tbody>\n",
       "    <tr>\n",
       "      <th>0</th>\n",
       "      <td>0</td>\n",
       "      <td>0</td>\n",
       "      <td>0</td>\n",
       "      <td>1</td>\n",
       "      <td>0</td>\n",
       "      <td>1</td>\n",
       "      <td>0</td>\n",
       "      <td>0</td>\n",
       "      <td>1</td>\n",
       "      <td>0</td>\n",
       "      <td>1</td>\n",
       "      <td>0</td>\n",
       "      <td>1</td>\n",
       "      <td>1</td>\n",
       "      <td>0</td>\n",
       "    </tr>\n",
       "    <tr>\n",
       "      <th>1</th>\n",
       "      <td>0</td>\n",
       "      <td>0</td>\n",
       "      <td>1</td>\n",
       "      <td>0</td>\n",
       "      <td>1</td>\n",
       "      <td>0</td>\n",
       "      <td>0</td>\n",
       "      <td>1</td>\n",
       "      <td>0</td>\n",
       "      <td>1</td>\n",
       "      <td>0</td>\n",
       "      <td>0</td>\n",
       "      <td>0</td>\n",
       "      <td>0</td>\n",
       "      <td>1</td>\n",
       "    </tr>\n",
       "    <tr>\n",
       "      <th>2</th>\n",
       "      <td>1</td>\n",
       "      <td>1</td>\n",
       "      <td>0</td>\n",
       "      <td>0</td>\n",
       "      <td>0</td>\n",
       "      <td>0</td>\n",
       "      <td>1</td>\n",
       "      <td>0</td>\n",
       "      <td>0</td>\n",
       "      <td>0</td>\n",
       "      <td>0</td>\n",
       "      <td>1</td>\n",
       "      <td>0</td>\n",
       "      <td>0</td>\n",
       "      <td>0</td>\n",
       "    </tr>\n",
       "  </tbody>\n",
       "</table>\n",
       "</div>"
      ],
      "text/plain": [
       "        how  to  tokenize  like  a  boss  google  is  accessible  via  _url_  \\\n",
       "doc-id                                                                         \n",
       "0         0   0         0     1  0     1       0   0           1    0      1   \n",
       "1         0   0         1     0  1     0       0   1           0    1      0   \n",
       "2         1   1         0     0  0     0       1   0           0    0      0   \n",
       "\n",
       "        _num_  new  followers  _hashtag_  \n",
       "doc-id                                    \n",
       "0           0    1          1          0  \n",
       "1           0    0          0          1  \n",
       "2           1    0          0          0  "
      ]
     },
     "execution_count": 148,
     "metadata": {},
     "output_type": "execute_result"
    }
   ],
   "source": [
    "df = pd.DataFrame(\n",
    "    x.todense(), \n",
    "    columns=vec.vocabulary_.keys(),\n",
    ")\n",
    "\n",
    "df.index.name = 'doc-id'\n",
    "\n",
    "df"
   ]
  },
  {
   "cell_type": "code",
   "execution_count": 139,
   "metadata": {},
   "outputs": [],
   "source": [
    "flight_delayed_lines = [\n",
    "    'Flight was delayed, I am not happy',\n",
    "    'Flight was not delayed, I am happy'\n",
    "]"
   ]
  },
  {
   "cell_type": "code",
   "execution_count": 152,
   "metadata": {},
   "outputs": [
    {
     "data": {
      "text/html": [
       "<div>\n",
       "<style scoped>\n",
       "    .dataframe tbody tr th:only-of-type {\n",
       "        vertical-align: middle;\n",
       "    }\n",
       "\n",
       "    .dataframe tbody tr th {\n",
       "        vertical-align: top;\n",
       "    }\n",
       "\n",
       "    .dataframe thead th {\n",
       "        text-align: right;\n",
       "    }\n",
       "</style>\n",
       "<table border=\"1\" class=\"dataframe\">\n",
       "  <thead>\n",
       "    <tr style=\"text-align: right;\">\n",
       "      <th></th>\n",
       "      <th>flight was</th>\n",
       "      <th>was delayed</th>\n",
       "      <th>delayed am</th>\n",
       "      <th>am not</th>\n",
       "      <th>not happy</th>\n",
       "      <th>was not</th>\n",
       "      <th>not delayed</th>\n",
       "      <th>am happy</th>\n",
       "    </tr>\n",
       "    <tr>\n",
       "      <th>doc-id</th>\n",
       "      <th></th>\n",
       "      <th></th>\n",
       "      <th></th>\n",
       "      <th></th>\n",
       "      <th></th>\n",
       "      <th></th>\n",
       "      <th></th>\n",
       "      <th></th>\n",
       "    </tr>\n",
       "  </thead>\n",
       "  <tbody>\n",
       "    <tr>\n",
       "      <th>0</th>\n",
       "      <td>0</td>\n",
       "      <td>1</td>\n",
       "      <td>1</td>\n",
       "      <td>1</td>\n",
       "      <td>0</td>\n",
       "      <td>1</td>\n",
       "      <td>1</td>\n",
       "      <td>0</td>\n",
       "    </tr>\n",
       "    <tr>\n",
       "      <th>1</th>\n",
       "      <td>1</td>\n",
       "      <td>0</td>\n",
       "      <td>1</td>\n",
       "      <td>1</td>\n",
       "      <td>1</td>\n",
       "      <td>0</td>\n",
       "      <td>0</td>\n",
       "      <td>1</td>\n",
       "    </tr>\n",
       "  </tbody>\n",
       "</table>\n",
       "</div>"
      ],
      "text/plain": [
       "        flight was  was delayed  delayed am  am not  not happy  was not  \\\n",
       "doc-id                                                                    \n",
       "0                0            1           1       1          0        1   \n",
       "1                1            0           1       1          1        0   \n",
       "\n",
       "        not delayed  am happy  \n",
       "doc-id                         \n",
       "0                 1         0  \n",
       "1                 0         1  "
      ]
     },
     "execution_count": 152,
     "metadata": {},
     "output_type": "execute_result"
    }
   ],
   "source": [
    "from sklearn.feature_extraction.text import CountVectorizer\n",
    "\n",
    "vec = CountVectorizer(ngram_range=(2,2))\n",
    "\n",
    "x = vec.fit_transform(flight_delayed_lines)\n",
    "\n",
    "df = pd.DataFrame(\n",
    "    x.todense(), \n",
    "    columns=vec.vocabulary_.keys(),\n",
    ")\n",
    "\n",
    "df.index.name = 'doc-id'\n",
    "\n",
    "df"
   ]
  },
  {
   "cell_type": "code",
   "execution_count": 157,
   "metadata": {},
   "outputs": [
    {
     "data": {
      "text/html": [
       "<div>\n",
       "<style scoped>\n",
       "    .dataframe tbody tr th:only-of-type {\n",
       "        vertical-align: middle;\n",
       "    }\n",
       "\n",
       "    .dataframe tbody tr th {\n",
       "        vertical-align: top;\n",
       "    }\n",
       "\n",
       "    .dataframe thead th {\n",
       "        text-align: right;\n",
       "    }\n",
       "</style>\n",
       "<table border=\"1\" class=\"dataframe\">\n",
       "  <thead>\n",
       "    <tr style=\"text-align: right;\">\n",
       "      <th></th>\n",
       "      <th>flig</th>\n",
       "      <th>ligh</th>\n",
       "      <th>ight</th>\n",
       "      <th>ght</th>\n",
       "      <th>ht w</th>\n",
       "      <th>t wa</th>\n",
       "      <th>was</th>\n",
       "      <th>was</th>\n",
       "      <th>as d</th>\n",
       "      <th>s de</th>\n",
       "      <th>...</th>\n",
       "      <th>t ha</th>\n",
       "      <th>hap</th>\n",
       "      <th>happ</th>\n",
       "      <th>appy</th>\n",
       "      <th>as n</th>\n",
       "      <th>s no</th>\n",
       "      <th>ot d</th>\n",
       "      <th>t de</th>\n",
       "      <th>am h</th>\n",
       "      <th>m ha</th>\n",
       "    </tr>\n",
       "    <tr>\n",
       "      <th>doc-id</th>\n",
       "      <th></th>\n",
       "      <th></th>\n",
       "      <th></th>\n",
       "      <th></th>\n",
       "      <th></th>\n",
       "      <th></th>\n",
       "      <th></th>\n",
       "      <th></th>\n",
       "      <th></th>\n",
       "      <th></th>\n",
       "      <th></th>\n",
       "      <th></th>\n",
       "      <th></th>\n",
       "      <th></th>\n",
       "      <th></th>\n",
       "      <th></th>\n",
       "      <th></th>\n",
       "      <th></th>\n",
       "      <th></th>\n",
       "      <th></th>\n",
       "      <th></th>\n",
       "    </tr>\n",
       "  </thead>\n",
       "  <tbody>\n",
       "    <tr>\n",
       "      <th>0</th>\n",
       "      <td>1</td>\n",
       "      <td>1</td>\n",
       "      <td>1</td>\n",
       "      <td>1</td>\n",
       "      <td>1</td>\n",
       "      <td>1</td>\n",
       "      <td>1</td>\n",
       "      <td>0</td>\n",
       "      <td>1</td>\n",
       "      <td>1</td>\n",
       "      <td>...</td>\n",
       "      <td>1</td>\n",
       "      <td>0</td>\n",
       "      <td>1</td>\n",
       "      <td>1</td>\n",
       "      <td>0</td>\n",
       "      <td>0</td>\n",
       "      <td>1</td>\n",
       "      <td>1</td>\n",
       "      <td>1</td>\n",
       "      <td>1</td>\n",
       "    </tr>\n",
       "    <tr>\n",
       "      <th>1</th>\n",
       "      <td>1</td>\n",
       "      <td>1</td>\n",
       "      <td>1</td>\n",
       "      <td>1</td>\n",
       "      <td>1</td>\n",
       "      <td>1</td>\n",
       "      <td>1</td>\n",
       "      <td>1</td>\n",
       "      <td>0</td>\n",
       "      <td>1</td>\n",
       "      <td>...</td>\n",
       "      <td>1</td>\n",
       "      <td>1</td>\n",
       "      <td>0</td>\n",
       "      <td>0</td>\n",
       "      <td>1</td>\n",
       "      <td>1</td>\n",
       "      <td>0</td>\n",
       "      <td>1</td>\n",
       "      <td>1</td>\n",
       "      <td>1</td>\n",
       "    </tr>\n",
       "  </tbody>\n",
       "</table>\n",
       "<p>2 rows × 37 columns</p>\n",
       "</div>"
      ],
      "text/plain": [
       "        flig  ligh  ight  ght   ht w  t wa   was  was   as d  s de  ...  t ha  \\\n",
       "doc-id                                                              ...         \n",
       "0          1     1     1     1     1     1     1     0     1     1  ...     1   \n",
       "1          1     1     1     1     1     1     1     1     0     1  ...     1   \n",
       "\n",
       "         hap  happ  appy  as n  s no  ot d  t de  am h  m ha  \n",
       "doc-id                                                        \n",
       "0          0     1     1     0     0     1     1     1     1  \n",
       "1          1     0     0     1     1     0     1     1     1  \n",
       "\n",
       "[2 rows x 37 columns]"
      ]
     },
     "execution_count": 157,
     "metadata": {},
     "output_type": "execute_result"
    }
   ],
   "source": [
    "from sklearn.feature_extraction.text import CountVectorizer\n",
    "\n",
    "vec = CountVectorizer(analyzer='char', ngram_range=(4,4))\n",
    "\n",
    "x = vec.fit_transform(flight_delayed_lines)\n",
    "\n",
    "df = pd.DataFrame(\n",
    "    x.todense(), \n",
    "    columns=vec.vocabulary_.keys(),\n",
    ")\n",
    "\n",
    "df.index.name = 'doc-id'\n",
    "\n",
    "df"
   ]
  },
  {
   "cell_type": "code",
   "execution_count": null,
   "metadata": {},
   "outputs": [],
   "source": [
    "from sklearn.feature_extraction.text import CountVectorizer\n",
    "\n",
    "vec = CountVectorizer()\n",
    "\n",
    "x = vec.fit_transform(flight_delayed_lines)\n",
    "\n",
    "df = pd.DataFrame(\n",
    "    x.todense(), \n",
    "    columns=vec.vocabulary_.keys(),\n",
    ")\n",
    "\n",
    "df.index.name = 'doc-id'\n",
    "\n",
    "df"
   ]
  },
  {
   "cell_type": "code",
   "execution_count": 71,
   "metadata": {},
   "outputs": [],
   "source": [
    "from sklearn.feature_extraction.text import CountVectorizer\n",
    "\n",
    "vec = CountVectorizer(tokenizer=tokenizer)\n",
    "\n",
    "x = vec.fit_transform(lines)"
   ]
  },
  {
   "cell_type": "code",
   "execution_count": null,
   "metadata": {},
   "outputs": [],
   "source": []
  }
 ],
 "metadata": {
  "kernelspec": {
   "display_name": "Python 3",
   "language": "python",
   "name": "python3"
  },
  "language_info": {
   "codemirror_mode": {
    "name": "ipython",
    "version": 3
   },
   "file_extension": ".py",
   "mimetype": "text/x-python",
   "name": "python",
   "nbconvert_exporter": "python",
   "pygments_lexer": "ipython3",
   "version": "3.6.9"
  }
 },
 "nbformat": 4,
 "nbformat_minor": 2
}
