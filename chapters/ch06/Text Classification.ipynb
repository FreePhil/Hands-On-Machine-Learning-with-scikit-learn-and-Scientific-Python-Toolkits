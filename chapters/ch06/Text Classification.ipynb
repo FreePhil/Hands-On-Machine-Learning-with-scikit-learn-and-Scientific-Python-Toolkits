{
 "cells": [
  {
   "cell_type": "markdown",
   "metadata": {},
   "source": [
    "# Loading Data"
   ]
  },
  {
   "cell_type": "code",
   "execution_count": 3,
   "metadata": {},
   "outputs": [],
   "source": [
    "# https://www.figure-eight.com/data-for-everyone/"
   ]
  },
  {
   "cell_type": "code",
   "execution_count": 4,
   "metadata": {},
   "outputs": [],
   "source": [
    "# pip install requests\n",
    "import requests\n",
    "\n",
    "# url = 'https://d1p17r2m4rzlbo.cloudfront.net/wp-content/uploads/2016/03/Apple-Twitter-Sentiment-DFE.csv'\n",
    "url = 'https://d1p17r2m4rzlbo.cloudfront.net/wp-content/uploads/2016/03/Airline-Sentiment-2-w-AA.csv'\n",
    "r = requests.get(url)"
   ]
  },
  {
   "cell_type": "code",
   "execution_count": 5,
   "metadata": {},
   "outputs": [],
   "source": [
    "from io import StringIO\n",
    "\n",
    "df = pd.read_csv(StringIO(r.text), sep=\",\") "
   ]
  },
  {
   "cell_type": "code",
   "execution_count": 6,
   "metadata": {},
   "outputs": [
    {
     "data": {
      "text/plain": [
       "Index(['_unit_id', '_golden', '_unit_state', '_trusted_judgments',\n",
       "       '_last_judgment_at', 'airline_sentiment',\n",
       "       'airline_sentiment:confidence', 'negativereason',\n",
       "       'negativereason:confidence', 'airline', 'airline_sentiment_gold',\n",
       "       'name', 'negativereason_gold', 'retweet_count', 'text', 'tweet_coord',\n",
       "       'tweet_created', 'tweet_id', 'tweet_location', 'user_timezone'],\n",
       "      dtype='object')"
      ]
     },
     "execution_count": 6,
     "metadata": {},
     "output_type": "execute_result"
    }
   ],
   "source": [
    "df.columns"
   ]
  },
  {
   "cell_type": "code",
   "execution_count": 7,
   "metadata": {},
   "outputs": [
    {
     "data": {
      "text/plain": [
       "(14640, 20)"
      ]
     },
     "execution_count": 7,
     "metadata": {},
     "output_type": "execute_result"
    }
   ],
   "source": [
    "df.shape"
   ]
  },
  {
   "cell_type": "code",
   "execution_count": 8,
   "metadata": {},
   "outputs": [
    {
     "data": {
      "text/plain": [
       "negative    0.626913\n",
       "neutral     0.211680\n",
       "positive    0.161407\n",
       "Name: airline_sentiment, dtype: float64"
      ]
     },
     "execution_count": 8,
     "metadata": {},
     "output_type": "execute_result"
    }
   ],
   "source": [
    "df['airline_sentiment'].value_counts() / df['airline_sentiment'].shape[0]"
   ]
  },
  {
   "cell_type": "code",
   "execution_count": 9,
   "metadata": {},
   "outputs": [
    {
     "data": {
      "text/plain": [
       "Customer Service Issue         0.198770\n",
       "Late Flight                    0.113730\n",
       "Can't Tell                     0.081284\n",
       "Cancelled Flight               0.057855\n",
       "Lost Luggage                   0.049454\n",
       "Bad Flight                     0.039617\n",
       "Flight Booking Problems        0.036134\n",
       "Flight Attendant Complaints    0.032855\n",
       "longlines                      0.012158\n",
       "Damaged Luggage                0.005055\n",
       "Name: negativereason, dtype: float64"
      ]
     },
     "execution_count": 9,
     "metadata": {},
     "output_type": "execute_result"
    }
   ],
   "source": [
    "df['negativereason'].value_counts() / df['airline_sentiment'].shape[0]"
   ]
  },
  {
   "cell_type": "code",
   "execution_count": 10,
   "metadata": {},
   "outputs": [],
   "source": [
    "pd.options.display.max_colwidth = 120"
   ]
  },
  {
   "cell_type": "code",
   "execution_count": 11,
   "metadata": {},
   "outputs": [
    {
     "data": {
      "text/html": [
       "<div>\n",
       "<style scoped>\n",
       "    .dataframe tbody tr th:only-of-type {\n",
       "        vertical-align: middle;\n",
       "    }\n",
       "\n",
       "    .dataframe tbody tr th {\n",
       "        vertical-align: top;\n",
       "    }\n",
       "\n",
       "    .dataframe thead th {\n",
       "        text-align: right;\n",
       "    }\n",
       "</style>\n",
       "<table border=\"1\" class=\"dataframe\">\n",
       "  <thead>\n",
       "    <tr style=\"text-align: right;\">\n",
       "      <th></th>\n",
       "      <th>text</th>\n",
       "      <th>airline</th>\n",
       "      <th>airline_sentiment:confidence</th>\n",
       "      <th>airline_sentiment</th>\n",
       "    </tr>\n",
       "  </thead>\n",
       "  <tbody>\n",
       "    <tr>\n",
       "      <th>7303</th>\n",
       "      <td>@JetBlue im still waiting??? No answer!!</td>\n",
       "      <td>Delta</td>\n",
       "      <td>1.0000</td>\n",
       "      <td>negative</td>\n",
       "    </tr>\n",
       "    <tr>\n",
       "      <th>14438</th>\n",
       "      <td>@AmericanAir I will thank you. What do I do if I can't get through and my flight on hold Cancelled Flights?</td>\n",
       "      <td>American</td>\n",
       "      <td>0.7026</td>\n",
       "      <td>neutral</td>\n",
       "    </tr>\n",
       "    <tr>\n",
       "      <th>7592</th>\n",
       "      <td>@JetBlue have a cpap machine for sleep apnea. Is this OK to carry on if I also have a small bag for clothes?</td>\n",
       "      <td>Delta</td>\n",
       "      <td>1.0000</td>\n",
       "      <td>neutral</td>\n",
       "    </tr>\n",
       "    <tr>\n",
       "      <th>10207</th>\n",
       "      <td>@USAirways My bags were supposed to be delivered to NYC last night (missing since Thurs) but are not here. Can someo...</td>\n",
       "      <td>US Airways</td>\n",
       "      <td>1.0000</td>\n",
       "      <td>negative</td>\n",
       "    </tr>\n",
       "    <tr>\n",
       "      <th>7057</th>\n",
       "      <td>@JetBlue also. My party { me and my sister and mom} are on three separate reservations. Will TSA lets us go through ...</td>\n",
       "      <td>Delta</td>\n",
       "      <td>1.0000</td>\n",
       "      <td>neutral</td>\n",
       "    </tr>\n",
       "    <tr>\n",
       "      <th>5139</th>\n",
       "      <td>@SouthwestAir Thanks for making good on @PoteetTJ 's Cancelled Flightled flight.</td>\n",
       "      <td>Southwest</td>\n",
       "      <td>0.6680</td>\n",
       "      <td>positive</td>\n",
       "    </tr>\n",
       "    <tr>\n",
       "      <th>8371</th>\n",
       "      <td>@JetBlue i am here - what is your resolution?</td>\n",
       "      <td>Delta</td>\n",
       "      <td>0.6201</td>\n",
       "      <td>negative</td>\n",
       "    </tr>\n",
       "    <tr>\n",
       "      <th>3973</th>\n",
       "      <td>@united That made me so mad, but then I called the bag number, and that person was helpful and told me where the bag...</td>\n",
       "      <td>United</td>\n",
       "      <td>0.6301</td>\n",
       "      <td>positive</td>\n",
       "    </tr>\n",
       "    <tr>\n",
       "      <th>309</th>\n",
       "      <td>@VirginAmerica is saving my sanity right now: http://t.co/ELtBOLjUl9</td>\n",
       "      <td>Virgin America</td>\n",
       "      <td>0.3750</td>\n",
       "      <td>neutral</td>\n",
       "    </tr>\n",
       "    <tr>\n",
       "      <th>2798</th>\n",
       "      <td>@united or frontier ... http://t.co/n8WiNFu6C5</td>\n",
       "      <td>United</td>\n",
       "      <td>1.0000</td>\n",
       "      <td>neutral</td>\n",
       "    </tr>\n",
       "    <tr>\n",
       "      <th>1099</th>\n",
       "      <td>@united from MEX NRT (dates TBD) but I'm getting a 200 to 300 USD difference in my quotations through September when...</td>\n",
       "      <td>United</td>\n",
       "      <td>0.6775</td>\n",
       "      <td>negative</td>\n",
       "    </tr>\n",
       "    <tr>\n",
       "      <th>7185</th>\n",
       "      <td>@JetBlue Indeed. I don't know what's going on in Pittsburgh that weekend, but, it's drawing a crowd via JetBlue!</td>\n",
       "      <td>Delta</td>\n",
       "      <td>1.0000</td>\n",
       "      <td>neutral</td>\n",
       "    </tr>\n",
       "    <tr>\n",
       "      <th>9759</th>\n",
       "      <td>I've been trying to set up my phone interview for days, and hoping the position won't be filled because the link doe...</td>\n",
       "      <td>US Airways</td>\n",
       "      <td>1.0000</td>\n",
       "      <td>negative</td>\n",
       "    </tr>\n",
       "    <tr>\n",
       "      <th>7349</th>\n",
       "      <td>@JetBlue thanks for the response. Just been waiting for 5 hours and really frustrated. Seems like no one at JetBlue ...</td>\n",
       "      <td>Delta</td>\n",
       "      <td>1.0000</td>\n",
       "      <td>negative</td>\n",
       "    </tr>\n",
       "    <tr>\n",
       "      <th>12600</th>\n",
       "      <td>@AmericanAir There are only 24 hours to Cancelled Flight or change itineraries booked online and that 24 hours is ju...</td>\n",
       "      <td>American</td>\n",
       "      <td>1.0000</td>\n",
       "      <td>negative</td>\n",
       "    </tr>\n",
       "    <tr>\n",
       "      <th>5298</th>\n",
       "      <td>@SouthwestAir I am trying to change a ticket for travel on Monday that cannot be changed online. Anyway faster than ...</td>\n",
       "      <td>Southwest</td>\n",
       "      <td>0.6737</td>\n",
       "      <td>negative</td>\n",
       "    </tr>\n",
       "    <tr>\n",
       "      <th>12575</th>\n",
       "      <td>@AmericanAir gate agents disappeared and customer service agents were miserable and unhelpful. #letdown #neveragain</td>\n",
       "      <td>American</td>\n",
       "      <td>1.0000</td>\n",
       "      <td>negative</td>\n",
       "    </tr>\n",
       "    <tr>\n",
       "      <th>797</th>\n",
       "      <td>@united it's highly unprofessional for you to overbook a flight by 12 seats &amp;amp;feel that I should rearrange my sch...</td>\n",
       "      <td>United</td>\n",
       "      <td>1.0000</td>\n",
       "      <td>negative</td>\n",
       "    </tr>\n",
       "    <tr>\n",
       "      <th>8925</th>\n",
       "      <td>@JetBlue thanks!! Great service in #T5 already! #lovejetBlue</td>\n",
       "      <td>Delta</td>\n",
       "      <td>1.0000</td>\n",
       "      <td>positive</td>\n",
       "    </tr>\n",
       "    <tr>\n",
       "      <th>14352</th>\n",
       "      <td>@AmericanAir there's a direct from Miami w a seat but u rebooked niece Tuesday. Can't get through on phones? #custom...</td>\n",
       "      <td>American</td>\n",
       "      <td>1.0000</td>\n",
       "      <td>negative</td>\n",
       "    </tr>\n",
       "  </tbody>\n",
       "</table>\n",
       "</div>"
      ],
      "text/plain": [
       "                                                                                                                          text  \\\n",
       "7303                                                                                  @JetBlue im still waiting??? No answer!!   \n",
       "14438              @AmericanAir I will thank you. What do I do if I can't get through and my flight on hold Cancelled Flights?   \n",
       "7592              @JetBlue have a cpap machine for sleep apnea. Is this OK to carry on if I also have a small bag for clothes?   \n",
       "10207  @USAirways My bags were supposed to be delivered to NYC last night (missing since Thurs) but are not here. Can someo...   \n",
       "7057   @JetBlue also. My party { me and my sister and mom} are on three separate reservations. Will TSA lets us go through ...   \n",
       "5139                                          @SouthwestAir Thanks for making good on @PoteetTJ 's Cancelled Flightled flight.   \n",
       "8371                                                                             @JetBlue i am here - what is your resolution?   \n",
       "3973   @united That made me so mad, but then I called the bag number, and that person was helpful and told me where the bag...   \n",
       "309                                                       @VirginAmerica is saving my sanity right now: http://t.co/ELtBOLjUl9   \n",
       "2798                                                                            @united or frontier ... http://t.co/n8WiNFu6C5   \n",
       "1099   @united from MEX NRT (dates TBD) but I'm getting a 200 to 300 USD difference in my quotations through September when...   \n",
       "7185          @JetBlue Indeed. I don't know what's going on in Pittsburgh that weekend, but, it's drawing a crowd via JetBlue!   \n",
       "9759   I've been trying to set up my phone interview for days, and hoping the position won't be filled because the link doe...   \n",
       "7349   @JetBlue thanks for the response. Just been waiting for 5 hours and really frustrated. Seems like no one at JetBlue ...   \n",
       "12600  @AmericanAir There are only 24 hours to Cancelled Flight or change itineraries booked online and that 24 hours is ju...   \n",
       "5298   @SouthwestAir I am trying to change a ticket for travel on Monday that cannot be changed online. Anyway faster than ...   \n",
       "12575      @AmericanAir gate agents disappeared and customer service agents were miserable and unhelpful. #letdown #neveragain   \n",
       "797    @united it's highly unprofessional for you to overbook a flight by 12 seats &amp;feel that I should rearrange my sch...   \n",
       "8925                                                              @JetBlue thanks!! Great service in #T5 already! #lovejetBlue   \n",
       "14352  @AmericanAir there's a direct from Miami w a seat but u rebooked niece Tuesday. Can't get through on phones? #custom...   \n",
       "\n",
       "              airline  airline_sentiment:confidence airline_sentiment  \n",
       "7303            Delta                        1.0000          negative  \n",
       "14438        American                        0.7026           neutral  \n",
       "7592            Delta                        1.0000           neutral  \n",
       "10207      US Airways                        1.0000          negative  \n",
       "7057            Delta                        1.0000           neutral  \n",
       "5139        Southwest                        0.6680          positive  \n",
       "8371            Delta                        0.6201          negative  \n",
       "3973           United                        0.6301          positive  \n",
       "309    Virgin America                        0.3750           neutral  \n",
       "2798           United                        1.0000           neutral  \n",
       "1099           United                        0.6775          negative  \n",
       "7185            Delta                        1.0000           neutral  \n",
       "9759       US Airways                        1.0000          negative  \n",
       "7349            Delta                        1.0000          negative  \n",
       "12600        American                        1.0000          negative  \n",
       "5298        Southwest                        0.6737          negative  \n",
       "12575        American                        1.0000          negative  \n",
       "797            United                        1.0000          negative  \n",
       "8925            Delta                        1.0000          positive  \n",
       "14352        American                        1.0000          negative  "
      ]
     },
     "execution_count": 11,
     "metadata": {},
     "output_type": "execute_result"
    }
   ],
   "source": [
    "df[['text', 'airline', 'airline_sentiment:confidence', 'airline_sentiment']].sample(20)"
   ]
  },
  {
   "cell_type": "code",
   "execution_count": 12,
   "metadata": {},
   "outputs": [],
   "source": [
    "from sklearn.model_selection import train_test_split\n",
    "\n",
    "df_train, df_test = train_test_split(df)"
   ]
  },
  {
   "cell_type": "code",
   "execution_count": 14,
   "metadata": {},
   "outputs": [],
   "source": [
    "from sklearn.preprocessing import LabelEncoder\n",
    "\n",
    "le = LabelEncoder()\n",
    "\n",
    "y_train = le.fit_transform(df_train['airline_sentiment'])\n",
    "y_test = le.transform(df_test['airline_sentiment'])\n",
    "\n",
    "# y_train = df_train['airline_sentiment']\n",
    "# y_test = df_test['airline_sentiment']"
   ]
  },
  {
   "cell_type": "code",
   "execution_count": 15,
   "metadata": {},
   "outputs": [
    {
     "data": {
      "text/plain": [
       "['negative', 'neutral', 'positive']"
      ]
     },
     "execution_count": 15,
     "metadata": {},
     "output_type": "execute_result"
    }
   ],
   "source": [
    "le.classes_.tolist()"
   ]
  },
  {
   "cell_type": "code",
   "execution_count": 102,
   "metadata": {},
   "outputs": [],
   "source": [
    "from sklearn.feature_extraction.text import CountVectorizer\n",
    "\n",
    "vec = CountVectorizer(ngram_range=(1,3), min_df=3, max_df=0.2, strip_accents='ascii')\n",
    "\n",
    "x_train = vec.fit_transform(df_train['text'])\n",
    "x_test = vec.transform(df_test['text'])"
   ]
  },
  {
   "cell_type": "code",
   "execution_count": 103,
   "metadata": {},
   "outputs": [
    {
     "data": {
      "text/html": [
       "<div>\n",
       "<style scoped>\n",
       "    .dataframe tbody tr th:only-of-type {\n",
       "        vertical-align: middle;\n",
       "    }\n",
       "\n",
       "    .dataframe tbody tr th {\n",
       "        vertical-align: top;\n",
       "    }\n",
       "\n",
       "    .dataframe thead th {\n",
       "        text-align: right;\n",
       "    }\n",
       "</style>\n",
       "<table border=\"1\" class=\"dataframe\">\n",
       "  <thead>\n",
       "    <tr style=\"text-align: right;\">\n",
       "      <th></th>\n",
       "      <th>token</th>\n",
       "    </tr>\n",
       "    <tr>\n",
       "      <th>id</th>\n",
       "      <th></th>\n",
       "    </tr>\n",
       "  </thead>\n",
       "  <tbody>\n",
       "    <tr>\n",
       "      <th>0</th>\n",
       "      <td>00</td>\n",
       "    </tr>\n",
       "    <tr>\n",
       "      <th>1</th>\n",
       "      <td>00 pm</td>\n",
       "    </tr>\n",
       "    <tr>\n",
       "      <th>2</th>\n",
       "      <td>000</td>\n",
       "    </tr>\n",
       "    <tr>\n",
       "      <th>3</th>\n",
       "      <td>000 feet</td>\n",
       "    </tr>\n",
       "    <tr>\n",
       "      <th>4</th>\n",
       "      <td>000 miles</td>\n",
       "    </tr>\n",
       "    <tr>\n",
       "      <th>...</th>\n",
       "      <td>...</td>\n",
       "    </tr>\n",
       "    <tr>\n",
       "      <th>18303</th>\n",
       "      <td>yvr</td>\n",
       "    </tr>\n",
       "    <tr>\n",
       "      <th>18304</th>\n",
       "      <td>yvr to</td>\n",
       "    </tr>\n",
       "    <tr>\n",
       "      <th>18305</th>\n",
       "      <td>yyz</td>\n",
       "    </tr>\n",
       "    <tr>\n",
       "      <th>18306</th>\n",
       "      <td>zero</td>\n",
       "    </tr>\n",
       "    <tr>\n",
       "      <th>18307</th>\n",
       "      <td>zone</td>\n",
       "    </tr>\n",
       "  </tbody>\n",
       "</table>\n",
       "<p>18308 rows × 1 columns</p>\n",
       "</div>"
      ],
      "text/plain": [
       "           token\n",
       "id              \n",
       "0             00\n",
       "1          00 pm\n",
       "2            000\n",
       "3       000 feet\n",
       "4      000 miles\n",
       "...          ...\n",
       "18303        yvr\n",
       "18304     yvr to\n",
       "18305        yyz\n",
       "18306       zero\n",
       "18307       zone\n",
       "\n",
       "[18308 rows x 1 columns]"
      ]
     },
     "execution_count": 103,
     "metadata": {},
     "output_type": "execute_result"
    }
   ],
   "source": [
    "pd.DataFrame(vec.vocabulary_.items(), columns=['token', 'id']).sort_values('id').set_index('id')"
   ]
  },
  {
   "cell_type": "code",
   "execution_count": 104,
   "metadata": {},
   "outputs": [
    {
     "data": {
      "text/plain": [
       "<10980x18308 sparse matrix of type '<class 'numpy.int64'>'\n",
       "\twith 254249 stored elements in Compressed Sparse Row format>"
      ]
     },
     "execution_count": 104,
     "metadata": {},
     "output_type": "execute_result"
    }
   ],
   "source": [
    "x_train"
   ]
  },
  {
   "cell_type": "code",
   "execution_count": 105,
   "metadata": {},
   "outputs": [
    {
     "data": {
      "text/plain": [
       "<3660x18308 sparse matrix of type '<class 'numpy.int64'>'\n",
       "\twith 78977 stored elements in Compressed Sparse Row format>"
      ]
     },
     "execution_count": 105,
     "metadata": {},
     "output_type": "execute_result"
    }
   ],
   "source": [
    "x_test"
   ]
  },
  {
   "cell_type": "code",
   "execution_count": 106,
   "metadata": {},
   "outputs": [
    {
     "data": {
      "text/html": [
       "<div>\n",
       "<style scoped>\n",
       "    .dataframe tbody tr th:only-of-type {\n",
       "        vertical-align: middle;\n",
       "    }\n",
       "\n",
       "    .dataframe tbody tr th {\n",
       "        vertical-align: top;\n",
       "    }\n",
       "\n",
       "    .dataframe thead th {\n",
       "        text-align: right;\n",
       "    }\n",
       "</style>\n",
       "<table border=\"1\" class=\"dataframe\">\n",
       "  <thead>\n",
       "    <tr style=\"text-align: right;\">\n",
       "      <th></th>\n",
       "      <th>Precision</th>\n",
       "      <th>Recall</th>\n",
       "      <th>F</th>\n",
       "      <th>Support</th>\n",
       "    </tr>\n",
       "  </thead>\n",
       "  <tbody>\n",
       "    <tr>\n",
       "      <th>negative</th>\n",
       "      <td>0.848980</td>\n",
       "      <td>0.902386</td>\n",
       "      <td>0.874869</td>\n",
       "      <td>2305</td>\n",
       "    </tr>\n",
       "    <tr>\n",
       "      <th>neutral</th>\n",
       "      <td>0.693023</td>\n",
       "      <td>0.576774</td>\n",
       "      <td>0.629577</td>\n",
       "      <td>775</td>\n",
       "    </tr>\n",
       "    <tr>\n",
       "      <th>positive</th>\n",
       "      <td>0.700885</td>\n",
       "      <td>0.682759</td>\n",
       "      <td>0.691703</td>\n",
       "      <td>580</td>\n",
       "    </tr>\n",
       "  </tbody>\n",
       "</table>\n",
       "</div>"
      ],
      "text/plain": [
       "          Precision    Recall         F  Support\n",
       "negative   0.848980  0.902386  0.874869     2305\n",
       "neutral    0.693023  0.576774  0.629577      775\n",
       "positive   0.700885  0.682759  0.691703      580"
      ]
     },
     "execution_count": 106,
     "metadata": {},
     "output_type": "execute_result"
    }
   ],
   "source": [
    "from sklearn.metrics import precision_recall_fscore_support \n",
    "from sklearn.naive_bayes import MultinomialNB\n",
    "\n",
    "clf = MultinomialNB(fit_prior=True)\n",
    "clf.fit(x_train, y_train)\n",
    "y_test_pred = clf.predict(x_test)\n",
    "\n",
    "p, r, f, s = precision_recall_fscore_support(y_test, y_test_pred)\n",
    "\n",
    "pd.DataFrame(\n",
    "    {\n",
    "        'Precision': p,\n",
    "        'Recall': r,\n",
    "        'F': f,\n",
    "        'Support': s,\n",
    "    },\n",
    "    index =le.classes_.tolist()\n",
    ")"
   ]
  },
  {
   "cell_type": "code",
   "execution_count": 107,
   "metadata": {},
   "outputs": [
    {
     "data": {
      "text/plain": [
       "0.7986338797814208"
      ]
     },
     "execution_count": 107,
     "metadata": {},
     "output_type": "execute_result"
    }
   ],
   "source": [
    "precision_recall_fscore_support(y_test, y_test_pred, average='micro')[2]"
   ]
  },
  {
   "cell_type": "code",
   "execution_count": 108,
   "metadata": {},
   "outputs": [
    {
     "data": {
      "text/html": [
       "<div>\n",
       "<style scoped>\n",
       "    .dataframe tbody tr th:only-of-type {\n",
       "        vertical-align: middle;\n",
       "    }\n",
       "\n",
       "    .dataframe tbody tr th {\n",
       "        vertical-align: top;\n",
       "    }\n",
       "\n",
       "    .dataframe thead th {\n",
       "        text-align: right;\n",
       "    }\n",
       "</style>\n",
       "<table border=\"1\" class=\"dataframe\">\n",
       "  <thead>\n",
       "    <tr style=\"text-align: right;\">\n",
       "      <th></th>\n",
       "      <th>Precision</th>\n",
       "      <th>Recall</th>\n",
       "      <th>F</th>\n",
       "      <th>Support</th>\n",
       "    </tr>\n",
       "  </thead>\n",
       "  <tbody>\n",
       "    <tr>\n",
       "      <th>negative</th>\n",
       "      <td>0.881349</td>\n",
       "      <td>0.873319</td>\n",
       "      <td>0.877315</td>\n",
       "      <td>2305</td>\n",
       "    </tr>\n",
       "    <tr>\n",
       "      <th>neutral</th>\n",
       "      <td>0.663475</td>\n",
       "      <td>0.625806</td>\n",
       "      <td>0.644090</td>\n",
       "      <td>775</td>\n",
       "    </tr>\n",
       "    <tr>\n",
       "      <th>positive</th>\n",
       "      <td>0.668217</td>\n",
       "      <td>0.743103</td>\n",
       "      <td>0.703673</td>\n",
       "      <td>580</td>\n",
       "    </tr>\n",
       "  </tbody>\n",
       "</table>\n",
       "</div>"
      ],
      "text/plain": [
       "          Precision    Recall         F  Support\n",
       "negative   0.881349  0.873319  0.877315     2305\n",
       "neutral    0.663475  0.625806  0.644090      775\n",
       "positive   0.668217  0.743103  0.703673      580"
      ]
     },
     "execution_count": 108,
     "metadata": {},
     "output_type": "execute_result"
    }
   ],
   "source": [
    "from sklearn.metrics import precision_recall_fscore_support \n",
    "from sklearn.naive_bayes import MultinomialNB\n",
    "\n",
    "clf = MultinomialNB(fit_prior=False)\n",
    "clf.fit(x_train, y_train)\n",
    "y_test_pred = clf.predict(x_test)\n",
    "\n",
    "p, r, f, s = precision_recall_fscore_support(y_test, y_test_pred)\n",
    "\n",
    "pd.DataFrame(\n",
    "    {\n",
    "        'Precision': p,\n",
    "        'Recall': r,\n",
    "        'F': f,\n",
    "        'Support': s,\n",
    "    },\n",
    "    index =le.classes_.tolist()\n",
    ")"
   ]
  },
  {
   "cell_type": "code",
   "execution_count": 109,
   "metadata": {},
   "outputs": [
    {
     "data": {
      "text/plain": [
       "0.8002732240437158"
      ]
     },
     "execution_count": 109,
     "metadata": {},
     "output_type": "execute_result"
    }
   ],
   "source": [
    "precision_recall_fscore_support(y_test, y_test_pred, average='micro')[2]"
   ]
  },
  {
   "cell_type": "code",
   "execution_count": 130,
   "metadata": {},
   "outputs": [
    {
     "name": "stdout",
     "output_type": "stream",
     "text": [
      "Micro FScore = 0.7852459016393442 @ ngram_range = (1, 1)\n",
      "Micro FScore = 0.7314207650273225 @ ngram_range = (2, 2)\n",
      "Micro FScore = 0.6344262295081967 @ ngram_range = (3, 3)\n",
      "Micro FScore = 0.6418032786885246 @ ngram_range = (4, 4)\n",
      "Micro FScore = 0.6398907103825137 @ ngram_range = (5, 5)\n",
      "Micro FScore = 0.6377049180327868 @ ngram_range = (6, 6)\n",
      "Micro FScore = 0.6360655737704918 @ ngram_range = (7, 7)\n",
      "Micro FScore = 0.6352459016393442 @ ngram_range = (8, 8)\n"
     ]
    },
    {
     "name": "stderr",
     "output_type": "stream",
     "text": [
      "/Users/tarek/anaconda3/envs/scikitbook/lib/python3.6/site-packages/ipykernel_launcher.py:37: UserWarning: Matplotlib is currently using module://ipykernel.pylab.backend_inline, which is a non-GUI backend, so cannot show the figure.\n"
     ]
    },
    {
     "data": {
      "image/png": "[encoded data removed]",
      "text/plain": [
       "<Figure size 720x720 with 1 Axes>"
      ]
     },
     "metadata": {
      "needs_background": "light"
     },
     "output_type": "display_data"
    }
   ],
   "source": [
    "from sklearn.pipeline import make_pipeline\n",
    "from sklearn.feature_extraction.text import CountVectorizer\n",
    "from sklearn.naive_bayes import MultinomialNB\n",
    "\n",
    "micro_fscores = []\n",
    "\n",
    "for ngram_range in [(1, 1), (2, 2), (3, 3), (4, 4), (5, 5), (6, 6), (7, 7), (8, 8)]:\n",
    "\n",
    "    pipeline = make_pipeline(\n",
    "        CountVectorizer(ngram_range=ngram_range, min_df=3, max_df=0.2, strip_accents='ascii'),\n",
    "        MultinomialNB(fit_prior=False)\n",
    "    )\n",
    "\n",
    "    pipeline.fit(df_train['text'], y_train)\n",
    "    y_test_pred =  pipeline.predict(df_test['text'])\n",
    "\n",
    "    p, r, f, s = precision_recall_fscore_support(y_test, y_test_pred)\n",
    "\n",
    "    micro_fscore = precision_recall_fscore_support(y_test, y_test_pred, average='micro')[2]\n",
    "\n",
    "    print(f'Micro FScore = {micro_fscore} @ ngram_range = {ngram_range}')\n",
    "    \n",
    "    micro_fscores.append([ngram_range[-1], micro_fscore])\n",
    "    \n",
    "fig, ax = plt.subplots(1, 1, figsize=(10, 10))\n",
    "\n",
    "pd.DataFrame(\n",
    "    micro_fscores,\n",
    "    columns=['ngram', 'Micro FScore']\n",
    ").set_index('ngram')['Micro FScore'].plot(\n",
    "    title='Micro FScore vs ngram',\n",
    "    color='k',\n",
    "    kind='bar',\n",
    "    ax=ax,\n",
    ")\n",
    "\n",
    "fig.show()"
   ]
  },
  {
   "cell_type": "code",
   "execution_count": 163,
   "metadata": {
    "scrolled": false
   },
   "outputs": [
    {
     "name": "stderr",
     "output_type": "stream",
     "text": [
      "/Users/tarek/anaconda3/envs/scikitbook/lib/python3.6/site-packages/ipykernel_launcher.py:53: UserWarning: Matplotlib is currently using module://ipykernel.pylab.backend_inline, which is a non-GUI backend, so cannot show the figure.\n"
     ]
    },
    {
     "data": {
      "image/png": "[encoded data removed]",
      "text/plain": [
       "<Figure size 1008x576 with 2 Axes>"
      ]
     },
     "metadata": {
      "needs_background": "light"
     },
     "output_type": "display_data"
    }
   ],
   "source": [
    "from sklearn.pipeline import make_pipeline\n",
    "from sklearn.feature_extraction.text import CountVectorizer\n",
    "from sklearn.naive_bayes import MultinomialNB\n",
    "\n",
    "precision_scores = []\n",
    "recall_scores = []\n",
    "\n",
    "for max_df in [.01, .05, .1, .2, .4, .8]:\n",
    "\n",
    "    pipeline = make_pipeline(\n",
    "        CountVectorizer(ngram_range=(4,4), min_df=3, max_df=max_df, strip_accents='ascii'),\n",
    "        MultinomialNB(fit_prior=False, alpha=1)\n",
    "    )\n",
    "\n",
    "    pipeline.fit(df_train['text'], y_train)\n",
    "    y_test_pred =  pipeline.predict(df_test['text'])\n",
    "\n",
    "    p, r, f, s = precision_recall_fscore_support(y_test, y_test_pred)\n",
    "    \n",
    "    precision_score = [f'{max_df}']\n",
    "    precision_score.extend(p)\n",
    "    \n",
    "    recall_score = [f'{max_df}']\n",
    "    recall_score.extend(r)\n",
    "    \n",
    "    precision_scores.append(precision_score)\n",
    "    recall_scores.append(recall_score)\n",
    "    \n",
    "fig, axs = plt.subplots(1, 2, figsize=(14, 8))\n",
    "\n",
    "pd.DataFrame(\n",
    "    precision_scores,\n",
    "    columns=['alpha', 'Precision(negative)', 'Precision(neutral)', 'Precision(positive)']\n",
    ").set_index('alpha').plot(\n",
    "    title='Precision vs max_df',\n",
    "    # color='k',\n",
    "    kind='line',\n",
    "    ylim=(0,1),\n",
    "    ax=axs[0],\n",
    ")\n",
    "\n",
    "pd.DataFrame(\n",
    "    recall_scores,\n",
    "    columns=['alpha', 'Recall(negative)', 'Recall(neutral)', 'Recall(positive)']\n",
    ").set_index('alpha').plot(\n",
    "    title='Recall vs max_df',\n",
    "    # color='k',\n",
    "    kind='line',\n",
    "    ylim=(0,1),\n",
    "    ax=axs[1],\n",
    ")\n",
    "\n",
    "fig.show()"
   ]
  },
  {
   "cell_type": "code",
   "execution_count": 132,
   "metadata": {},
   "outputs": [],
   "source": [
    "from sklearn.feature_extraction.text import CountVectorizer\n",
    "\n",
    "vec = CountVectorizer(ngram_range=(1,3), min_df=3, max_df=0.2, binary=True, strip_accents='ascii')\n",
    "\n",
    "x_train = vec.fit_transform(df_train['text'])\n",
    "x_test = vec.transform(df_test['text'])"
   ]
  },
  {
   "cell_type": "code",
   "execution_count": 330,
   "metadata": {},
   "outputs": [
    {
     "data": {
      "text/html": [
       "<div>\n",
       "<style scoped>\n",
       "    .dataframe tbody tr th:only-of-type {\n",
       "        vertical-align: middle;\n",
       "    }\n",
       "\n",
       "    .dataframe tbody tr th {\n",
       "        vertical-align: top;\n",
       "    }\n",
       "\n",
       "    .dataframe thead th {\n",
       "        text-align: right;\n",
       "    }\n",
       "</style>\n",
       "<table border=\"1\" class=\"dataframe\">\n",
       "  <thead>\n",
       "    <tr style=\"text-align: right;\">\n",
       "      <th></th>\n",
       "      <th>Precision</th>\n",
       "      <th>Recall</th>\n",
       "      <th>F</th>\n",
       "      <th>Support</th>\n",
       "    </tr>\n",
       "  </thead>\n",
       "  <tbody>\n",
       "    <tr>\n",
       "      <th>negative</th>\n",
       "      <td>0.891244</td>\n",
       "      <td>0.851982</td>\n",
       "      <td>0.871171</td>\n",
       "      <td>2270</td>\n",
       "    </tr>\n",
       "    <tr>\n",
       "      <th>neutral</th>\n",
       "      <td>0.611857</td>\n",
       "      <td>0.688917</td>\n",
       "      <td>0.648104</td>\n",
       "      <td>794</td>\n",
       "    </tr>\n",
       "    <tr>\n",
       "      <th>positive</th>\n",
       "      <td>0.691275</td>\n",
       "      <td>0.691275</td>\n",
       "      <td>0.691275</td>\n",
       "      <td>596</td>\n",
       "    </tr>\n",
       "  </tbody>\n",
       "</table>\n",
       "</div>"
      ],
      "text/plain": [
       "          Precision    Recall         F  Support\n",
       "negative   0.891244  0.851982  0.871171     2270\n",
       "neutral    0.611857  0.688917  0.648104      794\n",
       "positive   0.691275  0.691275  0.691275      596"
      ]
     },
     "execution_count": 330,
     "metadata": {},
     "output_type": "execute_result"
    }
   ],
   "source": [
    "from sklearn.metrics import precision_recall_fscore_support \n",
    "from sklearn.naive_bayes import BernoulliNB\n",
    "\n",
    "clf = BernoulliNB(fit_prior=False)\n",
    "clf.fit(x_train, y_train)\n",
    "y_test_pred = clf.predict(x_test)\n",
    "\n",
    "p, r, f, s = precision_recall_fscore_support(y_test, y_test_pred)\n",
    "\n",
    "pd.DataFrame(\n",
    "    {\n",
    "        'Precision': p,\n",
    "        'Recall': r,\n",
    "        'F': f,\n",
    "        'Support': s,\n",
    "    },\n",
    "    index =le.classes_.tolist()\n",
    ")"
   ]
  },
  {
   "cell_type": "code",
   "execution_count": 331,
   "metadata": {},
   "outputs": [
    {
     "data": {
      "text/plain": [
       "0.7904371584699453"
      ]
     },
     "execution_count": 331,
     "metadata": {},
     "output_type": "execute_result"
    }
   ],
   "source": [
    "precision_recall_fscore_support(y_test, y_test_pred, average='micro')[2]"
   ]
  },
  {
   "cell_type": "code",
   "execution_count": 322,
   "metadata": {},
   "outputs": [],
   "source": [
    "df_vocab = pd.DataFrame(vec.vocabulary_.items(), columns=['token', 'id']).sort_values('id').set_index('id')\n",
    "\n",
    "c1, c2, c3 = clf.coef_\n",
    "\n",
    "df_vocab['negative_coef'] = c1\n",
    "df_vocab['neutral_coef'] = c2\n",
    "df_vocab['positive_coef'] = c3"
   ]
  },
  {
   "cell_type": "code",
   "execution_count": 323,
   "metadata": {},
   "outputs": [
    {
     "data": {
      "text/html": [
       "<div>\n",
       "<style scoped>\n",
       "    .dataframe tbody tr th:only-of-type {\n",
       "        vertical-align: middle;\n",
       "    }\n",
       "\n",
       "    .dataframe tbody tr th {\n",
       "        vertical-align: top;\n",
       "    }\n",
       "\n",
       "    .dataframe thead th {\n",
       "        text-align: right;\n",
       "    }\n",
       "</style>\n",
       "<table border=\"1\" class=\"dataframe\">\n",
       "  <thead>\n",
       "    <tr style=\"text-align: right;\">\n",
       "      <th></th>\n",
       "      <th>token</th>\n",
       "      <th>negative_coef</th>\n",
       "      <th>neutral_coef</th>\n",
       "      <th>positive_coef</th>\n",
       "    </tr>\n",
       "    <tr>\n",
       "      <th>id</th>\n",
       "      <th></th>\n",
       "      <th></th>\n",
       "      <th></th>\n",
       "      <th></th>\n",
       "    </tr>\n",
       "  </thead>\n",
       "  <tbody>\n",
       "    <tr>\n",
       "      <th>9710</th>\n",
       "      <td>my</td>\n",
       "      <td>-1.481894</td>\n",
       "      <td>-1.938568</td>\n",
       "      <td>-2.031432</td>\n",
       "    </tr>\n",
       "    <tr>\n",
       "      <th>7784</th>\n",
       "      <td>is</td>\n",
       "      <td>-1.597212</td>\n",
       "      <td>-1.897264</td>\n",
       "      <td>-2.378303</td>\n",
       "    </tr>\n",
       "    <tr>\n",
       "      <th>7481</th>\n",
       "      <td>in</td>\n",
       "      <td>-1.764071</td>\n",
       "      <td>-2.000700</td>\n",
       "      <td>-2.075492</td>\n",
       "    </tr>\n",
       "    <tr>\n",
       "      <th>10566</th>\n",
       "      <td>of</td>\n",
       "      <td>-1.869056</td>\n",
       "      <td>-2.246535</td>\n",
       "      <td>-2.330675</td>\n",
       "    </tr>\n",
       "    <tr>\n",
       "      <th>8034</th>\n",
       "      <td>it</td>\n",
       "      <td>-1.869056</td>\n",
       "      <td>-2.056728</td>\n",
       "      <td>-2.084542</td>\n",
       "    </tr>\n",
       "    <tr>\n",
       "      <th>10289</th>\n",
       "      <td>not</td>\n",
       "      <td>-1.994845</td>\n",
       "      <td>-3.070874</td>\n",
       "      <td>-3.452818</td>\n",
       "    </tr>\n",
       "    <tr>\n",
       "      <th>18425</th>\n",
       "      <td>your</td>\n",
       "      <td>-2.000178</td>\n",
       "      <td>-2.973019</td>\n",
       "      <td>-2.296386</td>\n",
       "    </tr>\n",
       "    <tr>\n",
       "      <th>9245</th>\n",
       "      <td>me</td>\n",
       "      <td>-2.006616</td>\n",
       "      <td>-2.288382</td>\n",
       "      <td>-2.279673</td>\n",
       "    </tr>\n",
       "    <tr>\n",
       "      <th>13176</th>\n",
       "      <td>southwestair</td>\n",
       "      <td>-2.030582</td>\n",
       "      <td>-1.525103</td>\n",
       "      <td>-1.430798</td>\n",
       "    </tr>\n",
       "    <tr>\n",
       "      <th>13941</th>\n",
       "      <td>that</td>\n",
       "      <td>-2.052880</td>\n",
       "      <td>-2.545206</td>\n",
       "      <td>-2.618357</td>\n",
       "    </tr>\n",
       "    <tr>\n",
       "      <th>10149</th>\n",
       "      <td>no</td>\n",
       "      <td>-2.057400</td>\n",
       "      <td>-3.312886</td>\n",
       "      <td>-3.586349</td>\n",
       "    </tr>\n",
       "    <tr>\n",
       "      <th>6684</th>\n",
       "      <td>have</td>\n",
       "      <td>-2.086121</td>\n",
       "      <td>-2.359208</td>\n",
       "      <td>-2.750782</td>\n",
       "    </tr>\n",
       "    <tr>\n",
       "      <th>17048</th>\n",
       "      <td>was</td>\n",
       "      <td>-2.149883</td>\n",
       "      <td>-3.070874</td>\n",
       "      <td>-2.467534</td>\n",
       "    </tr>\n",
       "    <tr>\n",
       "      <th>8239</th>\n",
       "      <td>jetblue</td>\n",
       "      <td>-2.211362</td>\n",
       "      <td>-1.476503</td>\n",
       "      <td>-1.489208</td>\n",
       "    </tr>\n",
       "    <tr>\n",
       "      <th>2873</th>\n",
       "      <td>can</td>\n",
       "      <td>-2.223322</td>\n",
       "      <td>-1.969152</td>\n",
       "      <td>-3.201504</td>\n",
       "    </tr>\n",
       "    <tr>\n",
       "      <th>17787</th>\n",
       "      <td>with</td>\n",
       "      <td>-2.228684</td>\n",
       "      <td>-2.539697</td>\n",
       "      <td>-2.494563</td>\n",
       "    </tr>\n",
       "    <tr>\n",
       "      <th>1807</th>\n",
       "      <td>at</td>\n",
       "      <td>-2.247680</td>\n",
       "      <td>-2.753271</td>\n",
       "      <td>-2.565515</td>\n",
       "    </tr>\n",
       "    <tr>\n",
       "      <th>14726</th>\n",
       "      <td>this</td>\n",
       "      <td>-2.257316</td>\n",
       "      <td>-2.681108</td>\n",
       "      <td>-2.633983</td>\n",
       "    </tr>\n",
       "    <tr>\n",
       "      <th>2675</th>\n",
       "      <td>but</td>\n",
       "      <td>-2.276869</td>\n",
       "      <td>-2.907421</td>\n",
       "      <td>-3.147436</td>\n",
       "    </tr>\n",
       "    <tr>\n",
       "      <th>6125</th>\n",
       "      <td>get</td>\n",
       "      <td>-2.282527</td>\n",
       "      <td>-2.578917</td>\n",
       "      <td>-2.967310</td>\n",
       "    </tr>\n",
       "  </tbody>\n",
       "</table>\n",
       "</div>"
      ],
      "text/plain": [
       "              token  negative_coef  neutral_coef  positive_coef\n",
       "id                                                             \n",
       "9710             my      -1.481894     -1.938568      -2.031432\n",
       "7784             is      -1.597212     -1.897264      -2.378303\n",
       "7481             in      -1.764071     -2.000700      -2.075492\n",
       "10566            of      -1.869056     -2.246535      -2.330675\n",
       "8034             it      -1.869056     -2.056728      -2.084542\n",
       "10289           not      -1.994845     -3.070874      -3.452818\n",
       "18425          your      -2.000178     -2.973019      -2.296386\n",
       "9245             me      -2.006616     -2.288382      -2.279673\n",
       "13176  southwestair      -2.030582     -1.525103      -1.430798\n",
       "13941          that      -2.052880     -2.545206      -2.618357\n",
       "10149            no      -2.057400     -3.312886      -3.586349\n",
       "6684           have      -2.086121     -2.359208      -2.750782\n",
       "17048           was      -2.149883     -3.070874      -2.467534\n",
       "8239        jetblue      -2.211362     -1.476503      -1.489208\n",
       "2873            can      -2.223322     -1.969152      -3.201504\n",
       "17787          with      -2.228684     -2.539697      -2.494563\n",
       "1807             at      -2.247680     -2.753271      -2.565515\n",
       "14726          this      -2.257316     -2.681108      -2.633983\n",
       "2675            but      -2.276869     -2.907421      -3.147436\n",
       "6125            get      -2.282527     -2.578917      -2.967310"
      ]
     },
     "execution_count": 323,
     "metadata": {},
     "output_type": "execute_result"
    }
   ],
   "source": [
    "df_vocab.sort_values('negative_coef', ascending=False).head(20)"
   ]
  },
  {
   "cell_type": "code",
   "execution_count": 324,
   "metadata": {},
   "outputs": [
    {
     "data": {
      "text/html": [
       "<div>\n",
       "<style scoped>\n",
       "    .dataframe tbody tr th:only-of-type {\n",
       "        vertical-align: middle;\n",
       "    }\n",
       "\n",
       "    .dataframe tbody tr th {\n",
       "        vertical-align: top;\n",
       "    }\n",
       "\n",
       "    .dataframe thead th {\n",
       "        text-align: right;\n",
       "    }\n",
       "</style>\n",
       "<table border=\"1\" class=\"dataframe\">\n",
       "  <thead>\n",
       "    <tr style=\"text-align: right;\">\n",
       "      <th></th>\n",
       "      <th>token</th>\n",
       "      <th>negative_coef</th>\n",
       "      <th>neutral_coef</th>\n",
       "      <th>positive_coef</th>\n",
       "    </tr>\n",
       "    <tr>\n",
       "      <th>id</th>\n",
       "      <th></th>\n",
       "      <th></th>\n",
       "      <th></th>\n",
       "      <th></th>\n",
       "    </tr>\n",
       "  </thead>\n",
       "  <tbody>\n",
       "    <tr>\n",
       "      <th>13892</th>\n",
       "      <td>thanks</td>\n",
       "      <td>-3.385404</td>\n",
       "      <td>-2.973019</td>\n",
       "      <td>-1.360072</td>\n",
       "    </tr>\n",
       "    <tr>\n",
       "      <th>13176</th>\n",
       "      <td>southwestair</td>\n",
       "      <td>-2.030582</td>\n",
       "      <td>-1.525103</td>\n",
       "      <td>-1.430798</td>\n",
       "    </tr>\n",
       "    <tr>\n",
       "      <th>8239</th>\n",
       "      <td>jetblue</td>\n",
       "      <td>-2.211362</td>\n",
       "      <td>-1.476503</td>\n",
       "      <td>-1.489208</td>\n",
       "    </tr>\n",
       "    <tr>\n",
       "      <th>13869</th>\n",
       "      <td>thank</td>\n",
       "      <td>-4.651070</td>\n",
       "      <td>-3.851883</td>\n",
       "      <td>-1.697426</td>\n",
       "    </tr>\n",
       "    <tr>\n",
       "      <th>13873</th>\n",
       "      <td>thank you</td>\n",
       "      <td>-4.763187</td>\n",
       "      <td>-3.915062</td>\n",
       "      <td>-1.748070</td>\n",
       "    </tr>\n",
       "    <tr>\n",
       "      <th>9710</th>\n",
       "      <td>my</td>\n",
       "      <td>-1.481894</td>\n",
       "      <td>-1.938568</td>\n",
       "      <td>-2.031432</td>\n",
       "    </tr>\n",
       "    <tr>\n",
       "      <th>7481</th>\n",
       "      <td>in</td>\n",
       "      <td>-1.764071</td>\n",
       "      <td>-2.000700</td>\n",
       "      <td>-2.075492</td>\n",
       "    </tr>\n",
       "    <tr>\n",
       "      <th>8034</th>\n",
       "      <td>it</td>\n",
       "      <td>-1.869056</td>\n",
       "      <td>-2.056728</td>\n",
       "      <td>-2.084542</td>\n",
       "    </tr>\n",
       "    <tr>\n",
       "      <th>9245</th>\n",
       "      <td>me</td>\n",
       "      <td>-2.006616</td>\n",
       "      <td>-2.288382</td>\n",
       "      <td>-2.279673</td>\n",
       "    </tr>\n",
       "    <tr>\n",
       "      <th>18425</th>\n",
       "      <td>your</td>\n",
       "      <td>-2.000178</td>\n",
       "      <td>-2.973019</td>\n",
       "      <td>-2.296386</td>\n",
       "    </tr>\n",
       "    <tr>\n",
       "      <th>10566</th>\n",
       "      <td>of</td>\n",
       "      <td>-1.869056</td>\n",
       "      <td>-2.246535</td>\n",
       "      <td>-2.330675</td>\n",
       "    </tr>\n",
       "    <tr>\n",
       "      <th>3388</th>\n",
       "      <td>co</td>\n",
       "      <td>-3.084983</td>\n",
       "      <td>-1.808809</td>\n",
       "      <td>-2.348271</td>\n",
       "    </tr>\n",
       "    <tr>\n",
       "      <th>13898</th>\n",
       "      <td>thanks for</td>\n",
       "      <td>-4.070040</td>\n",
       "      <td>-5.104646</td>\n",
       "      <td>-2.378303</td>\n",
       "    </tr>\n",
       "    <tr>\n",
       "      <th>7784</th>\n",
       "      <td>is</td>\n",
       "      <td>-1.597212</td>\n",
       "      <td>-1.897264</td>\n",
       "      <td>-2.378303</td>\n",
       "    </tr>\n",
       "    <tr>\n",
       "      <th>6458</th>\n",
       "      <td>great</td>\n",
       "      <td>-4.713591</td>\n",
       "      <td>-5.178754</td>\n",
       "      <td>-2.396765</td>\n",
       "    </tr>\n",
       "    <tr>\n",
       "      <th>7333</th>\n",
       "      <td>http</td>\n",
       "      <td>-3.120413</td>\n",
       "      <td>-1.849300</td>\n",
       "      <td>-2.409265</td>\n",
       "    </tr>\n",
       "    <tr>\n",
       "      <th>7334</th>\n",
       "      <td>http co</td>\n",
       "      <td>-3.120413</td>\n",
       "      <td>-1.849300</td>\n",
       "      <td>-2.409265</td>\n",
       "    </tr>\n",
       "    <tr>\n",
       "      <th>17048</th>\n",
       "      <td>was</td>\n",
       "      <td>-2.149883</td>\n",
       "      <td>-3.070874</td>\n",
       "      <td>-2.467534</td>\n",
       "    </tr>\n",
       "    <tr>\n",
       "      <th>17787</th>\n",
       "      <td>with</td>\n",
       "      <td>-2.228684</td>\n",
       "      <td>-2.539697</td>\n",
       "      <td>-2.494563</td>\n",
       "    </tr>\n",
       "    <tr>\n",
       "      <th>13005</th>\n",
       "      <td>so</td>\n",
       "      <td>-2.795720</td>\n",
       "      <td>-3.080264</td>\n",
       "      <td>-2.550916</td>\n",
       "    </tr>\n",
       "  </tbody>\n",
       "</table>\n",
       "</div>"
      ],
      "text/plain": [
       "              token  negative_coef  neutral_coef  positive_coef\n",
       "id                                                             \n",
       "13892        thanks      -3.385404     -2.973019      -1.360072\n",
       "13176  southwestair      -2.030582     -1.525103      -1.430798\n",
       "8239        jetblue      -2.211362     -1.476503      -1.489208\n",
       "13869         thank      -4.651070     -3.851883      -1.697426\n",
       "13873     thank you      -4.763187     -3.915062      -1.748070\n",
       "9710             my      -1.481894     -1.938568      -2.031432\n",
       "7481             in      -1.764071     -2.000700      -2.075492\n",
       "8034             it      -1.869056     -2.056728      -2.084542\n",
       "9245             me      -2.006616     -2.288382      -2.279673\n",
       "18425          your      -2.000178     -2.973019      -2.296386\n",
       "10566            of      -1.869056     -2.246535      -2.330675\n",
       "3388             co      -3.084983     -1.808809      -2.348271\n",
       "13898    thanks for      -4.070040     -5.104646      -2.378303\n",
       "7784             is      -1.597212     -1.897264      -2.378303\n",
       "6458          great      -4.713591     -5.178754      -2.396765\n",
       "7333           http      -3.120413     -1.849300      -2.409265\n",
       "7334        http co      -3.120413     -1.849300      -2.409265\n",
       "17048           was      -2.149883     -3.070874      -2.467534\n",
       "17787          with      -2.228684     -2.539697      -2.494563\n",
       "13005            so      -2.795720     -3.080264      -2.550916"
      ]
     },
     "execution_count": 324,
     "metadata": {},
     "output_type": "execute_result"
    }
   ],
   "source": [
    "df_vocab.sort_values('positive_coef', ascending=False).head(20)"
   ]
  },
  {
   "cell_type": "code",
   "execution_count": 325,
   "metadata": {},
   "outputs": [
    {
     "name": "stderr",
     "output_type": "stream",
     "text": [
      "/Users/tarek/anaconda3/envs/scikitbook/lib/python3.6/site-packages/sklearn/linear_model/_logistic.py:939: ConvergenceWarning: lbfgs failed to converge (status=1):\n",
      "STOP: TOTAL NO. of ITERATIONS REACHED LIMIT.\n",
      "\n",
      "Increase the number of iterations (max_iter) or scale the data as shown in:\n",
      "    https://scikit-learn.org/stable/modules/preprocessing.html.\n",
      "Please also refer to the documentation for alternative solver options:\n",
      "    https://scikit-learn.org/stable/modules/linear_model.html#logistic-regression\n",
      "  extra_warning_msg=_LOGISTIC_SOLVER_CONVERGENCE_MSG)\n"
     ]
    },
    {
     "data": {
      "text/html": [
       "<div>\n",
       "<style scoped>\n",
       "    .dataframe tbody tr th:only-of-type {\n",
       "        vertical-align: middle;\n",
       "    }\n",
       "\n",
       "    .dataframe tbody tr th {\n",
       "        vertical-align: top;\n",
       "    }\n",
       "\n",
       "    .dataframe thead th {\n",
       "        text-align: right;\n",
       "    }\n",
       "</style>\n",
       "<table border=\"1\" class=\"dataframe\">\n",
       "  <thead>\n",
       "    <tr style=\"text-align: right;\">\n",
       "      <th></th>\n",
       "      <th>Precision</th>\n",
       "      <th>Recall</th>\n",
       "      <th>F</th>\n",
       "      <th>Support</th>\n",
       "    </tr>\n",
       "  </thead>\n",
       "  <tbody>\n",
       "    <tr>\n",
       "      <th>negative</th>\n",
       "      <td>0.854202</td>\n",
       "      <td>0.895595</td>\n",
       "      <td>0.874409</td>\n",
       "      <td>2270</td>\n",
       "    </tr>\n",
       "    <tr>\n",
       "      <th>neutral</th>\n",
       "      <td>0.645638</td>\n",
       "      <td>0.605793</td>\n",
       "      <td>0.625081</td>\n",
       "      <td>794</td>\n",
       "    </tr>\n",
       "    <tr>\n",
       "      <th>positive</th>\n",
       "      <td>0.749533</td>\n",
       "      <td>0.672819</td>\n",
       "      <td>0.709107</td>\n",
       "      <td>596</td>\n",
       "    </tr>\n",
       "  </tbody>\n",
       "</table>\n",
       "</div>"
      ],
      "text/plain": [
       "          Precision    Recall         F  Support\n",
       "negative   0.854202  0.895595  0.874409     2270\n",
       "neutral    0.645638  0.605793  0.625081      794\n",
       "positive   0.749533  0.672819  0.709107      596"
      ]
     },
     "execution_count": 325,
     "metadata": {},
     "output_type": "execute_result"
    }
   ],
   "source": [
    "from sklearn.metrics import precision_recall_fscore_support \n",
    "from sklearn.linear_model import LogisticRegression\n",
    "\n",
    "clf = LogisticRegression()\n",
    "clf.fit(x_train, y_train)\n",
    "y_test_pred = clf.predict(x_test)\n",
    "\n",
    "p, r, f, s = precision_recall_fscore_support(y_test, y_test_pred)\n",
    "\n",
    "pd.DataFrame(\n",
    "    {\n",
    "        'Precision': p,\n",
    "        'Recall': r,\n",
    "        'F': f,\n",
    "        'Support': s,\n",
    "    },\n",
    "    index =le.classes_.tolist()\n",
    ")\n"
   ]
  },
  {
   "cell_type": "code",
   "execution_count": 326,
   "metadata": {},
   "outputs": [
    {
     "data": {
      "text/plain": [
       "0.7964480874316942"
      ]
     },
     "execution_count": 326,
     "metadata": {},
     "output_type": "execute_result"
    }
   ],
   "source": [
    "precision_recall_fscore_support(y_test, y_test_pred, average='micro')[2]"
   ]
  },
  {
   "cell_type": "code",
   "execution_count": null,
   "metadata": {},
   "outputs": [],
   "source": []
  },
  {
   "cell_type": "code",
   "execution_count": null,
   "metadata": {},
   "outputs": [],
   "source": []
  },
  {
   "cell_type": "code",
   "execution_count": 342,
   "metadata": {},
   "outputs": [],
   "source": [
    "from sklearn.feature_extraction.text import TfidfVectorizer\n",
    "\n",
    "vec = TfidfVectorizer(ngram_range=(1,3), sublinear_tf=True)\n",
    "\n",
    "x_train = vec.fit_transform(df_train['text'])\n",
    "x_test = vec.transform(df_test['text'])"
   ]
  },
  {
   "cell_type": "code",
   "execution_count": 343,
   "metadata": {},
   "outputs": [
    {
     "data": {
      "text/html": [
       "<div>\n",
       "<style scoped>\n",
       "    .dataframe tbody tr th:only-of-type {\n",
       "        vertical-align: middle;\n",
       "    }\n",
       "\n",
       "    .dataframe tbody tr th {\n",
       "        vertical-align: top;\n",
       "    }\n",
       "\n",
       "    .dataframe thead th {\n",
       "        text-align: right;\n",
       "    }\n",
       "</style>\n",
       "<table border=\"1\" class=\"dataframe\">\n",
       "  <thead>\n",
       "    <tr style=\"text-align: right;\">\n",
       "      <th></th>\n",
       "      <th>Precision</th>\n",
       "      <th>Recall</th>\n",
       "      <th>F</th>\n",
       "      <th>Support</th>\n",
       "    </tr>\n",
       "  </thead>\n",
       "  <tbody>\n",
       "    <tr>\n",
       "      <th>negative</th>\n",
       "      <td>0.804869</td>\n",
       "      <td>0.917621</td>\n",
       "      <td>0.857555</td>\n",
       "      <td>2270</td>\n",
       "    </tr>\n",
       "    <tr>\n",
       "      <th>neutral</th>\n",
       "      <td>0.648551</td>\n",
       "      <td>0.450882</td>\n",
       "      <td>0.531947</td>\n",
       "      <td>794</td>\n",
       "    </tr>\n",
       "    <tr>\n",
       "      <th>positive</th>\n",
       "      <td>0.694231</td>\n",
       "      <td>0.605705</td>\n",
       "      <td>0.646953</td>\n",
       "      <td>596</td>\n",
       "    </tr>\n",
       "  </tbody>\n",
       "</table>\n",
       "</div>"
      ],
      "text/plain": [
       "          Precision    Recall         F  Support\n",
       "negative   0.804869  0.917621  0.857555     2270\n",
       "neutral    0.648551  0.450882  0.531947      794\n",
       "positive   0.694231  0.605705  0.646953      596"
      ]
     },
     "execution_count": 343,
     "metadata": {},
     "output_type": "execute_result"
    }
   ],
   "source": [
    "from sklearn.metrics import precision_recall_fscore_support \n",
    "from sklearn.naive_bayes import MultinomialNB\n",
    "\n",
    "clf = MultinomialNB(fit_prior=False, alpha=0.001)\n",
    "clf.fit(x_train, y_train)\n",
    "y_test_pred = clf.predict(x_test)\n",
    "\n",
    "p, r, f, s = precision_recall_fscore_support(y_test, y_test_pred)\n",
    "\n",
    "pd.DataFrame(\n",
    "    {\n",
    "        'Precision': p,\n",
    "        'Recall': r,\n",
    "        'F': f,\n",
    "        'Support': s,\n",
    "    },\n",
    "    index =le.classes_.tolist()\n",
    ")"
   ]
  },
  {
   "cell_type": "code",
   "execution_count": 344,
   "metadata": {},
   "outputs": [
    {
     "data": {
      "text/plain": [
       "0.7655737704918033"
      ]
     },
     "execution_count": 344,
     "metadata": {},
     "output_type": "execute_result"
    }
   ],
   "source": [
    "precision_recall_fscore_support(y_test, y_test_pred, average='micro')[1]"
   ]
  },
  {
   "cell_type": "code",
   "execution_count": 345,
   "metadata": {},
   "outputs": [],
   "source": [
    "df_vocab = pd.DataFrame(vec.vocabulary_.items(), columns=['token', 'id']).sort_values('id').set_index('id')\n",
    "\n",
    "c1, c2, c3 = clf.coef_\n",
    "\n",
    "df_vocab['negative_coef'] = c1\n",
    "df_vocab['neutral_coef'] = c2\n",
    "df_vocab['positive_coef'] = c3"
   ]
  },
  {
   "cell_type": "code",
   "execution_count": 346,
   "metadata": {},
   "outputs": [
    {
     "data": {
      "text/html": [
       "<div>\n",
       "<style scoped>\n",
       "    .dataframe tbody tr th:only-of-type {\n",
       "        vertical-align: middle;\n",
       "    }\n",
       "\n",
       "    .dataframe tbody tr th {\n",
       "        vertical-align: top;\n",
       "    }\n",
       "\n",
       "    .dataframe thead th {\n",
       "        text-align: right;\n",
       "    }\n",
       "</style>\n",
       "<table border=\"1\" class=\"dataframe\">\n",
       "  <thead>\n",
       "    <tr style=\"text-align: right;\">\n",
       "      <th></th>\n",
       "      <th>token</th>\n",
       "      <th>negative_coef</th>\n",
       "      <th>neutral_coef</th>\n",
       "      <th>positive_coef</th>\n",
       "    </tr>\n",
       "    <tr>\n",
       "      <th>id</th>\n",
       "      <th></th>\n",
       "      <th></th>\n",
       "      <th></th>\n",
       "      <th></th>\n",
       "    </tr>\n",
       "  </thead>\n",
       "  <tbody>\n",
       "    <tr>\n",
       "      <th>191557</th>\n",
       "      <td>to</td>\n",
       "      <td>-5.915192</td>\n",
       "      <td>-5.828423</td>\n",
       "      <td>-6.100844</td>\n",
       "    </tr>\n",
       "    <tr>\n",
       "      <th>181012</th>\n",
       "      <td>the</td>\n",
       "      <td>-6.116753</td>\n",
       "      <td>-6.152994</td>\n",
       "      <td>-5.871366</td>\n",
       "    </tr>\n",
       "    <tr>\n",
       "      <th>202738</th>\n",
       "      <td>united</td>\n",
       "      <td>-6.232380</td>\n",
       "      <td>-6.088073</td>\n",
       "      <td>-6.012418</td>\n",
       "    </tr>\n",
       "    <tr>\n",
       "      <th>68961</th>\n",
       "      <td>flight</td>\n",
       "      <td>-6.257911</td>\n",
       "      <td>-6.453387</td>\n",
       "      <td>-6.662051</td>\n",
       "    </tr>\n",
       "    <tr>\n",
       "      <th>18665</th>\n",
       "      <td>and</td>\n",
       "      <td>-6.294188</td>\n",
       "      <td>-6.808669</td>\n",
       "      <td>-6.513998</td>\n",
       "    </tr>\n",
       "    <tr>\n",
       "      <th>138807</th>\n",
       "      <td>on</td>\n",
       "      <td>-6.297872</td>\n",
       "      <td>-6.328405</td>\n",
       "      <td>-6.743613</td>\n",
       "    </tr>\n",
       "    <tr>\n",
       "      <th>208293</th>\n",
       "      <td>usairways</td>\n",
       "      <td>-6.299983</td>\n",
       "      <td>-6.626311</td>\n",
       "      <td>-6.446595</td>\n",
       "    </tr>\n",
       "    <tr>\n",
       "      <th>226678</th>\n",
       "      <td>you</td>\n",
       "      <td>-6.341896</td>\n",
       "      <td>-6.138289</td>\n",
       "      <td>-5.509187</td>\n",
       "    </tr>\n",
       "    <tr>\n",
       "      <th>74982</th>\n",
       "      <td>for</td>\n",
       "      <td>-6.352966</td>\n",
       "      <td>-6.487227</td>\n",
       "      <td>-6.033189</td>\n",
       "    </tr>\n",
       "    <tr>\n",
       "      <th>126168</th>\n",
       "      <td>my</td>\n",
       "      <td>-6.383634</td>\n",
       "      <td>-6.593639</td>\n",
       "      <td>-6.672172</td>\n",
       "    </tr>\n",
       "    <tr>\n",
       "      <th>14771</th>\n",
       "      <td>americanair</td>\n",
       "      <td>-6.429247</td>\n",
       "      <td>-6.349866</td>\n",
       "      <td>-6.194243</td>\n",
       "    </tr>\n",
       "    <tr>\n",
       "      <th>101724</th>\n",
       "      <td>is</td>\n",
       "      <td>-6.456029</td>\n",
       "      <td>-6.510543</td>\n",
       "      <td>-7.027878</td>\n",
       "    </tr>\n",
       "    <tr>\n",
       "      <th>97922</th>\n",
       "      <td>in</td>\n",
       "      <td>-6.647387</td>\n",
       "      <td>-6.627039</td>\n",
       "      <td>-6.725352</td>\n",
       "    </tr>\n",
       "    <tr>\n",
       "      <th>104315</th>\n",
       "      <td>it</td>\n",
       "      <td>-6.663548</td>\n",
       "      <td>-6.587010</td>\n",
       "      <td>-6.556328</td>\n",
       "    </tr>\n",
       "    <tr>\n",
       "      <th>135855</th>\n",
       "      <td>of</td>\n",
       "      <td>-6.701393</td>\n",
       "      <td>-6.860115</td>\n",
       "      <td>-6.940360</td>\n",
       "    </tr>\n",
       "    <tr>\n",
       "      <th>132673</th>\n",
       "      <td>not</td>\n",
       "      <td>-6.706910</td>\n",
       "      <td>-7.565005</td>\n",
       "      <td>-8.038431</td>\n",
       "    </tr>\n",
       "    <tr>\n",
       "      <th>229345</th>\n",
       "      <td>your</td>\n",
       "      <td>-6.727950</td>\n",
       "      <td>-7.452219</td>\n",
       "      <td>-6.773576</td>\n",
       "    </tr>\n",
       "    <tr>\n",
       "      <th>131015</th>\n",
       "      <td>no</td>\n",
       "      <td>-6.732537</td>\n",
       "      <td>-7.610601</td>\n",
       "      <td>-8.034712</td>\n",
       "    </tr>\n",
       "    <tr>\n",
       "      <th>119930</th>\n",
       "      <td>me</td>\n",
       "      <td>-6.764400</td>\n",
       "      <td>-6.753629</td>\n",
       "      <td>-6.827512</td>\n",
       "    </tr>\n",
       "    <tr>\n",
       "      <th>179531</th>\n",
       "      <td>that</td>\n",
       "      <td>-6.814248</td>\n",
       "      <td>-7.051446</td>\n",
       "      <td>-7.083816</td>\n",
       "    </tr>\n",
       "  </tbody>\n",
       "</table>\n",
       "</div>"
      ],
      "text/plain": [
       "              token  negative_coef  neutral_coef  positive_coef\n",
       "id                                                             \n",
       "191557           to      -5.915192     -5.828423      -6.100844\n",
       "181012          the      -6.116753     -6.152994      -5.871366\n",
       "202738       united      -6.232380     -6.088073      -6.012418\n",
       "68961        flight      -6.257911     -6.453387      -6.662051\n",
       "18665           and      -6.294188     -6.808669      -6.513998\n",
       "138807           on      -6.297872     -6.328405      -6.743613\n",
       "208293    usairways      -6.299983     -6.626311      -6.446595\n",
       "226678          you      -6.341896     -6.138289      -5.509187\n",
       "74982           for      -6.352966     -6.487227      -6.033189\n",
       "126168           my      -6.383634     -6.593639      -6.672172\n",
       "14771   americanair      -6.429247     -6.349866      -6.194243\n",
       "101724           is      -6.456029     -6.510543      -7.027878\n",
       "97922            in      -6.647387     -6.627039      -6.725352\n",
       "104315           it      -6.663548     -6.587010      -6.556328\n",
       "135855           of      -6.701393     -6.860115      -6.940360\n",
       "132673          not      -6.706910     -7.565005      -8.038431\n",
       "229345         your      -6.727950     -7.452219      -6.773576\n",
       "131015           no      -6.732537     -7.610601      -8.034712\n",
       "119930           me      -6.764400     -6.753629      -6.827512\n",
       "179531         that      -6.814248     -7.051446      -7.083816"
      ]
     },
     "execution_count": 346,
     "metadata": {},
     "output_type": "execute_result"
    }
   ],
   "source": [
    "df_vocab.sort_values('negative_coef', ascending=False).head(20)"
   ]
  },
  {
   "cell_type": "code",
   "execution_count": null,
   "metadata": {},
   "outputs": [],
   "source": []
  },
  {
   "cell_type": "code",
   "execution_count": 348,
   "metadata": {},
   "outputs": [],
   "source": [
    "# pip install spacy\n",
    "# python -m spacy download en_core_web_lg"
   ]
  },
  {
   "cell_type": "code",
   "execution_count": 1,
   "metadata": {},
   "outputs": [
    {
     "name": "stderr",
     "output_type": "stream",
     "text": [
      "UsageError: Line magic function `%autoreload` not found.\n"
     ]
    }
   ],
   "source": [
    "%autoreload\n",
    "\n",
    "reload(spacy)"
   ]
  },
  {
   "cell_type": "code",
   "execution_count": 2,
   "metadata": {},
   "outputs": [],
   "source": [
    "import spacy\n",
    "\n",
    "nlp = spacy.load('en_core_web_md')"
   ]
  },
  {
   "cell_type": "code",
   "execution_count": 33,
   "metadata": {},
   "outputs": [],
   "source": [
    "from tqdm import tqdm\n",
    "tqdm.pandas()"
   ]
  },
  {
   "cell_type": "code",
   "execution_count": 91,
   "metadata": {},
   "outputs": [
    {
     "name": "stderr",
     "output_type": "stream",
     "text": [
      "100%|██████████| 10980/10980 [02:18<00:00, 79.53it/s]\n",
      "100%|██████████| 3660/3660 [00:50<00:00, 73.01it/s] \n"
     ]
    }
   ],
   "source": [
    "import spacy\n",
    "\n",
    "class WordEmbeddingVectorizer:\n",
    "    \n",
    "    def __init__(self, language_model='en_core_web_md'):\n",
    "        self.nlp = spacy.load(language_model)\n",
    "    \n",
    "    def fit(self):\n",
    "        pass\n",
    "    \n",
    "    def transform(self, x, y=None):\n",
    "        return pd.Series(x).progress_apply(\n",
    "            lambda doc: self.nlp(doc).vector.tolist()\n",
    "        ).values.tolist()\n",
    "    \n",
    "    def fit_transform(self, x, y=None):\n",
    "        return self.transform(x)\n",
    "    \n",
    "\n",
    "vec = WordEmbeddingVectorizer()\n",
    "x_train_w2v = vec.transform(df_train['text'])\n",
    "x_test_w2v = vec.transform(df_test['text'])"
   ]
  },
  {
   "cell_type": "code",
   "execution_count": 92,
   "metadata": {},
   "outputs": [
    {
     "data": {
      "text/html": [
       "<div>\n",
       "<style scoped>\n",
       "    .dataframe tbody tr th:only-of-type {\n",
       "        vertical-align: middle;\n",
       "    }\n",
       "\n",
       "    .dataframe tbody tr th {\n",
       "        vertical-align: top;\n",
       "    }\n",
       "\n",
       "    .dataframe thead th {\n",
       "        text-align: right;\n",
       "    }\n",
       "</style>\n",
       "<table border=\"1\" class=\"dataframe\">\n",
       "  <thead>\n",
       "    <tr style=\"text-align: right;\">\n",
       "      <th></th>\n",
       "      <th>Precision</th>\n",
       "      <th>Recall</th>\n",
       "      <th>F</th>\n",
       "      <th>Support</th>\n",
       "    </tr>\n",
       "  </thead>\n",
       "  <tbody>\n",
       "    <tr>\n",
       "      <th>negative</th>\n",
       "      <td>0.846433</td>\n",
       "      <td>0.911063</td>\n",
       "      <td>0.877560</td>\n",
       "      <td>2305</td>\n",
       "    </tr>\n",
       "    <tr>\n",
       "      <th>neutral</th>\n",
       "      <td>0.653614</td>\n",
       "      <td>0.560000</td>\n",
       "      <td>0.603197</td>\n",
       "      <td>775</td>\n",
       "    </tr>\n",
       "    <tr>\n",
       "      <th>positive</th>\n",
       "      <td>0.724272</td>\n",
       "      <td>0.643103</td>\n",
       "      <td>0.681279</td>\n",
       "      <td>580</td>\n",
       "    </tr>\n",
       "  </tbody>\n",
       "</table>\n",
       "</div>"
      ],
      "text/plain": [
       "          Precision    Recall         F  Support\n",
       "negative   0.846433  0.911063  0.877560     2305\n",
       "neutral    0.653614  0.560000  0.603197      775\n",
       "positive   0.724272  0.643103  0.681279      580"
      ]
     },
     "execution_count": 92,
     "metadata": {},
     "output_type": "execute_result"
    }
   ],
   "source": [
    "from sklearn.metrics import precision_recall_fscore_support \n",
    "from sklearn.preprocessing import StandardScaler\n",
    "from sklearn.linear_model import LogisticRegression\n",
    "from sklearn.linear_model import SGDClassifier\n",
    "\n",
    "scaler = StandardScaler()\n",
    "# clf = SGDClassifier(loss='log', max_iter=10000, class_weight='balanced')\n",
    "clf = LogisticRegression(max_iter=10000, class_weight=None)\n",
    "\n",
    "x_train_scaled = scaler.fit_transform(x_train_w2v)\n",
    "x_test_scaled = scaler.transform(x_test_w2v)\n",
    "\n",
    "clf.fit(x_train_scaled, y_train)\n",
    "y_test_pred = clf.predict(x_test_scaled)\n",
    "\n",
    "p, r, f, s = precision_recall_fscore_support(y_test, y_test_pred)\n",
    "\n",
    "pd.DataFrame(\n",
    "    {\n",
    "        'Precision': p,\n",
    "        'Recall': r,\n",
    "        'F': f,\n",
    "        'Support': s,\n",
    "    },\n",
    "    index =le.classes_.tolist()\n",
    ")\n"
   ]
  },
  {
   "cell_type": "code",
   "execution_count": 93,
   "metadata": {},
   "outputs": [
    {
     "data": {
      "text/plain": [
       "0.7942622950819672"
      ]
     },
     "execution_count": 93,
     "metadata": {},
     "output_type": "execute_result"
    }
   ],
   "source": [
    "precision_recall_fscore_support(y_test, y_test_pred, average='micro')[1]"
   ]
  },
  {
   "cell_type": "code",
   "execution_count": 94,
   "metadata": {},
   "outputs": [
    {
     "data": {
      "text/html": [
       "<div>\n",
       "<style scoped>\n",
       "    .dataframe tbody tr th:only-of-type {\n",
       "        vertical-align: middle;\n",
       "    }\n",
       "\n",
       "    .dataframe tbody tr th {\n",
       "        vertical-align: top;\n",
       "    }\n",
       "\n",
       "    .dataframe thead th {\n",
       "        text-align: right;\n",
       "    }\n",
       "</style>\n",
       "<table border=\"1\" class=\"dataframe\">\n",
       "  <thead>\n",
       "    <tr style=\"text-align: right;\">\n",
       "      <th></th>\n",
       "      <th>Precision</th>\n",
       "      <th>Recall</th>\n",
       "      <th>F</th>\n",
       "      <th>Support</th>\n",
       "    </tr>\n",
       "  </thead>\n",
       "  <tbody>\n",
       "    <tr>\n",
       "      <th>negative</th>\n",
       "      <td>0.744674</td>\n",
       "      <td>0.940130</td>\n",
       "      <td>0.831064</td>\n",
       "      <td>2305</td>\n",
       "    </tr>\n",
       "    <tr>\n",
       "      <th>neutral</th>\n",
       "      <td>0.671779</td>\n",
       "      <td>0.282581</td>\n",
       "      <td>0.397820</td>\n",
       "      <td>775</td>\n",
       "    </tr>\n",
       "    <tr>\n",
       "      <th>positive</th>\n",
       "      <td>0.667453</td>\n",
       "      <td>0.487931</td>\n",
       "      <td>0.563745</td>\n",
       "      <td>580</td>\n",
       "    </tr>\n",
       "  </tbody>\n",
       "</table>\n",
       "</div>"
      ],
      "text/plain": [
       "          Precision    Recall         F  Support\n",
       "negative   0.744674  0.940130  0.831064     2305\n",
       "neutral    0.671779  0.282581  0.397820      775\n",
       "positive   0.667453  0.487931  0.563745      580"
      ]
     },
     "execution_count": 94,
     "metadata": {},
     "output_type": "execute_result"
    }
   ],
   "source": [
    "from sklearn.neighbors import KNeighborsClassifier\n",
    "\n",
    "clf = KNeighborsClassifier(n_neighbors=3, metric='cosine')\n",
    "\n",
    "clf.fit(x_train_w2v, y_train)\n",
    "y_test_pred = clf.predict(x_test_w2v)\n",
    "\n",
    "p, r, f, s = precision_recall_fscore_support(y_test, y_test_pred)\n",
    "\n",
    "pd.DataFrame(\n",
    "    {\n",
    "        'Precision': p,\n",
    "        'Recall': r,\n",
    "        'F': f,\n",
    "        'Support': s,\n",
    "    },\n",
    "    index =le.classes_.tolist()\n",
    ")\n"
   ]
  },
  {
   "cell_type": "code",
   "execution_count": 95,
   "metadata": {},
   "outputs": [
    {
     "data": {
      "text/plain": [
       "0.7292349726775956"
      ]
     },
     "execution_count": 95,
     "metadata": {},
     "output_type": "execute_result"
    }
   ],
   "source": [
    "precision_recall_fscore_support(y_test, y_test_pred, average='micro')[1]"
   ]
  },
  {
   "cell_type": "code",
   "execution_count": 97,
   "metadata": {},
   "outputs": [],
   "source": [
    "# ELMo and BERT can generate different word embeddings for a word that captures the context of a word - \n",
    "# that is its position in a sentence.\n",
    "# https://www.quora.com/What-are-the-main-differences-between-the-word-embeddings-of-ELMo-BERT-Word2vec-and-GloVe"
   ]
  },
  {
   "cell_type": "code",
   "execution_count": null,
   "metadata": {},
   "outputs": [],
   "source": []
  },
  {
   "cell_type": "code",
   "execution_count": null,
   "metadata": {},
   "outputs": [],
   "source": []
  },
  {
   "cell_type": "code",
   "execution_count": null,
   "metadata": {},
   "outputs": [],
   "source": []
  },
  {
   "cell_type": "code",
   "execution_count": null,
   "metadata": {},
   "outputs": [],
   "source": []
  }
 ],
 "metadata": {
  "kernelspec": {
   "display_name": "Python 3",
   "language": "python",
   "name": "python3"
  },
  "language_info": {
   "codemirror_mode": {
    "name": "ipython",
    "version": 3
   },
   "file_extension": ".py",
   "mimetype": "text/x-python",
   "name": "python",
   "nbconvert_exporter": "python",
   "pygments_lexer": "ipython3",
   "version": "3.6.9"
  }
 },
 "nbformat": 4,
 "nbformat_minor": 2
}
