{
 "cells": [
  {
   "cell_type": "markdown",
   "metadata": {},
   "source": [
    "# Loading Data"
   ]
  },
  {
   "cell_type": "code",
   "execution_count": 3,
   "metadata": {},
   "outputs": [],
   "source": [
    "# https://www.figure-eight.com/data-for-everyone/"
   ]
  },
  {
   "cell_type": "code",
   "execution_count": 1,
   "metadata": {},
   "outputs": [],
   "source": [
    "# pip install requests\n",
    "import requests\n",
    "\n",
    "# url = 'https://d1p17r2m4rzlbo.cloudfront.net/wp-content/uploads/2016/03/Apple-Twitter-Sentiment-DFE.csv'\n",
    "url = 'https://d1p17r2m4rzlbo.cloudfront.net/wp-content/uploads/2016/03/Airline-Sentiment-2-w-AA.csv'\n",
    "data = requests.get(url)"
   ]
  },
  {
   "cell_type": "code",
   "execution_count": 3,
   "metadata": {},
   "outputs": [],
   "source": [
    "from io import StringIO\n",
    "\n",
    "df = pd.read_csv(StringIO(data.text), sep=\",\") "
   ]
  },
  {
   "cell_type": "code",
   "execution_count": 4,
   "metadata": {},
   "outputs": [
    {
     "data": {
      "text/plain": [
       "Index(['_unit_id', '_golden', '_unit_state', '_trusted_judgments',\n",
       "       '_last_judgment_at', 'airline_sentiment',\n",
       "       'airline_sentiment:confidence', 'negativereason',\n",
       "       'negativereason:confidence', 'airline', 'airline_sentiment_gold',\n",
       "       'name', 'negativereason_gold', 'retweet_count', 'text', 'tweet_coord',\n",
       "       'tweet_created', 'tweet_id', 'tweet_location', 'user_timezone'],\n",
       "      dtype='object')"
      ]
     },
     "execution_count": 4,
     "metadata": {},
     "output_type": "execute_result"
    }
   ],
   "source": [
    "df.columns"
   ]
  },
  {
   "cell_type": "code",
   "execution_count": 5,
   "metadata": {},
   "outputs": [
    {
     "data": {
      "text/plain": [
       "(14640, 20)"
      ]
     },
     "execution_count": 5,
     "metadata": {},
     "output_type": "execute_result"
    }
   ],
   "source": [
    "df.shape"
   ]
  },
  {
   "cell_type": "code",
   "execution_count": 32,
   "metadata": {},
   "outputs": [
    {
     "name": "stderr",
     "output_type": "stream",
     "text": [
      "/Users/tarek/anaconda3/envs/scikitbook/lib/python3.6/site-packages/ipykernel_launcher.py:7: UserWarning: Matplotlib is currently using module://ipykernel.pylab.backend_inline, which is a non-GUI backend, so cannot show the figure.\n",
      "  import sys\n"
     ]
    },
    {
     "data": {
      "image/png": "[encoded data removed]",
      "text/plain": [
       "<Figure size 576x432 with 1 Axes>"
      ]
     },
     "metadata": {},
     "output_type": "display_data"
    }
   ],
   "source": [
    "fig, ax = plt.subplots(1, 1, figsize=(8, 6))\n",
    "\n",
    "explode = (0.05, 0.05, 0.05)\n",
    "colors = ['#111111', '#444444', '#777777']\n",
    "df['airline_sentiment'].value_counts().plot(kind='pie', colors=colors, explode=explode, ax=ax)\n",
    "\n",
    "fig.show()"
   ]
  },
  {
   "cell_type": "code",
   "execution_count": 33,
   "metadata": {},
   "outputs": [
    {
     "data": {
      "text/plain": [
       "negative    0.626913\n",
       "neutral     0.211680\n",
       "positive    0.161407\n",
       "Name: airline_sentiment, dtype: float64"
      ]
     },
     "execution_count": 33,
     "metadata": {},
     "output_type": "execute_result"
    }
   ],
   "source": [
    "df['airline_sentiment'].value_counts() / df['airline_sentiment'].shape[0]"
   ]
  },
  {
   "cell_type": "code",
   "execution_count": 34,
   "metadata": {},
   "outputs": [
    {
     "data": {
      "text/plain": [
       "Customer Service Issue         0.198770\n",
       "Late Flight                    0.113730\n",
       "Can't Tell                     0.081284\n",
       "Cancelled Flight               0.057855\n",
       "Lost Luggage                   0.049454\n",
       "Bad Flight                     0.039617\n",
       "Flight Booking Problems        0.036134\n",
       "Flight Attendant Complaints    0.032855\n",
       "longlines                      0.012158\n",
       "Damaged Luggage                0.005055\n",
       "Name: negativereason, dtype: float64"
      ]
     },
     "execution_count": 34,
     "metadata": {},
     "output_type": "execute_result"
    }
   ],
   "source": [
    "df['negativereason'].value_counts() / df['airline_sentiment'].shape[0]"
   ]
  },
  {
   "cell_type": "code",
   "execution_count": 35,
   "metadata": {},
   "outputs": [],
   "source": [
    "pd.options.display.max_colwidth = 90"
   ]
  },
  {
   "cell_type": "code",
   "execution_count": 36,
   "metadata": {},
   "outputs": [
    {
     "data": {
      "text/html": [
       "<div>\n",
       "<style scoped>\n",
       "    .dataframe tbody tr th:only-of-type {\n",
       "        vertical-align: middle;\n",
       "    }\n",
       "\n",
       "    .dataframe tbody tr th {\n",
       "        vertical-align: top;\n",
       "    }\n",
       "\n",
       "    .dataframe thead th {\n",
       "        text-align: right;\n",
       "    }\n",
       "</style>\n",
       "<table border=\"1\" class=\"dataframe\">\n",
       "  <thead>\n",
       "    <tr style=\"text-align: right;\">\n",
       "      <th></th>\n",
       "      <th>text</th>\n",
       "      <th>airline</th>\n",
       "      <th>airline_sentiment:confidence</th>\n",
       "      <th>airline_sentiment</th>\n",
       "    </tr>\n",
       "  </thead>\n",
       "  <tbody>\n",
       "    <tr>\n",
       "      <th>12624</th>\n",
       "      <td>@AmericanAir my mom tried also. That wasn't the reason they wouldn't change it. Y'all ...</td>\n",
       "      <td>American</td>\n",
       "      <td>1.0</td>\n",
       "      <td>negative</td>\n",
       "    </tr>\n",
       "    <tr>\n",
       "      <th>9090</th>\n",
       "      <td>@USAirways OK we are on DAY 11 trying to  book a flight for 4.  Ur system STILL says \"...</td>\n",
       "      <td>US Airways</td>\n",
       "      <td>1.0</td>\n",
       "      <td>negative</td>\n",
       "    </tr>\n",
       "    <tr>\n",
       "      <th>33</th>\n",
       "      <td>@VirginAmerica awaiting my return phone call, just would prefer to use your online sel...</td>\n",
       "      <td>Virgin America</td>\n",
       "      <td>1.0</td>\n",
       "      <td>negative</td>\n",
       "    </tr>\n",
       "    <tr>\n",
       "      <th>2168</th>\n",
       "      <td>@united boarding was decent, 3 useless agents that don't speak English (after 2.5hrs o...</td>\n",
       "      <td>United</td>\n",
       "      <td>1.0</td>\n",
       "      <td>negative</td>\n",
       "    </tr>\n",
       "    <tr>\n",
       "      <th>194</th>\n",
       "      <td>@VirginAmerica Just DM'd. Same issue persisting.</td>\n",
       "      <td>Virgin America</td>\n",
       "      <td>1.0</td>\n",
       "      <td>negative</td>\n",
       "    </tr>\n",
       "  </tbody>\n",
       "</table>\n",
       "</div>"
      ],
      "text/plain": [
       "                                                                                            text  \\\n",
       "12624  @AmericanAir my mom tried also. That wasn't the reason they wouldn't change it. Y'all ...   \n",
       "9090   @USAirways OK we are on DAY 11 trying to  book a flight for 4.  Ur system STILL says \"...   \n",
       "33     @VirginAmerica awaiting my return phone call, just would prefer to use your online sel...   \n",
       "2168   @united boarding was decent, 3 useless agents that don't speak English (after 2.5hrs o...   \n",
       "194                                             @VirginAmerica Just DM'd. Same issue persisting.   \n",
       "\n",
       "              airline  airline_sentiment:confidence airline_sentiment  \n",
       "12624        American                           1.0          negative  \n",
       "9090       US Airways                           1.0          negative  \n",
       "33     Virgin America                           1.0          negative  \n",
       "2168           United                           1.0          negative  \n",
       "194    Virgin America                           1.0          negative  "
      ]
     },
     "execution_count": 36,
     "metadata": {},
     "output_type": "execute_result"
    }
   ],
   "source": [
    "df[['text', 'airline', 'airline_sentiment:confidence', 'airline_sentiment']].sample(5)"
   ]
  },
  {
   "cell_type": "code",
   "execution_count": 37,
   "metadata": {},
   "outputs": [],
   "source": [
    "from sklearn.model_selection import train_test_split\n",
    "\n",
    "df_train, df_test = train_test_split(df)"
   ]
  },
  {
   "cell_type": "code",
   "execution_count": 82,
   "metadata": {},
   "outputs": [],
   "source": [
    "from sklearn.preprocessing import LabelEncoder\n",
    "\n",
    "le = LabelEncoder()\n",
    "\n",
    "y_train = le.fit_transform(df_train['airline_sentiment'])\n",
    "y_test = le.transform(df_test['airline_sentiment'])\n",
    "\n",
    "# y_train = df_train['airline_sentiment']\n",
    "# y_test = df_test['airline_sentiment']"
   ]
  },
  {
   "cell_type": "code",
   "execution_count": 39,
   "metadata": {},
   "outputs": [
    {
     "data": {
      "text/plain": [
       "['negative', 'neutral', 'positive']"
      ]
     },
     "execution_count": 39,
     "metadata": {},
     "output_type": "execute_result"
    }
   ],
   "source": [
    "le.classes_.tolist()"
   ]
  },
  {
   "cell_type": "code",
   "execution_count": 40,
   "metadata": {},
   "outputs": [],
   "source": [
    "from sklearn.feature_extraction.text import CountVectorizer\n",
    "\n",
    "vec = CountVectorizer(ngram_range=(1,3), min_df=3, strip_accents='ascii')\n",
    "\n",
    "x_train = vec.fit_transform(df_train['text'])\n",
    "x_test = vec.transform(df_test['text'])"
   ]
  },
  {
   "cell_type": "code",
   "execution_count": 41,
   "metadata": {},
   "outputs": [
    {
     "data": {
      "text/html": [
       "<div>\n",
       "<style scoped>\n",
       "    .dataframe tbody tr th:only-of-type {\n",
       "        vertical-align: middle;\n",
       "    }\n",
       "\n",
       "    .dataframe tbody tr th {\n",
       "        vertical-align: top;\n",
       "    }\n",
       "\n",
       "    .dataframe thead th {\n",
       "        text-align: right;\n",
       "    }\n",
       "</style>\n",
       "<table border=\"1\" class=\"dataframe\">\n",
       "  <thead>\n",
       "    <tr style=\"text-align: right;\">\n",
       "      <th></th>\n",
       "      <th>token</th>\n",
       "    </tr>\n",
       "    <tr>\n",
       "      <th>id</th>\n",
       "      <th></th>\n",
       "    </tr>\n",
       "  </thead>\n",
       "  <tbody>\n",
       "    <tr>\n",
       "      <th>0</th>\n",
       "      <td>00</td>\n",
       "    </tr>\n",
       "    <tr>\n",
       "      <th>1</th>\n",
       "      <td>00 pm</td>\n",
       "    </tr>\n",
       "    <tr>\n",
       "      <th>2</th>\n",
       "      <td>000</td>\n",
       "    </tr>\n",
       "    <tr>\n",
       "      <th>3</th>\n",
       "      <td>000 feet</td>\n",
       "    </tr>\n",
       "    <tr>\n",
       "      <th>4</th>\n",
       "      <td>000 miles</td>\n",
       "    </tr>\n",
       "    <tr>\n",
       "      <th>...</th>\n",
       "      <td>...</td>\n",
       "    </tr>\n",
       "    <tr>\n",
       "      <th>18450</th>\n",
       "      <td>yvr</td>\n",
       "    </tr>\n",
       "    <tr>\n",
       "      <th>18451</th>\n",
       "      <td>yvr to</td>\n",
       "    </tr>\n",
       "    <tr>\n",
       "      <th>18452</th>\n",
       "      <td>yyz</td>\n",
       "    </tr>\n",
       "    <tr>\n",
       "      <th>18453</th>\n",
       "      <td>zero</td>\n",
       "    </tr>\n",
       "    <tr>\n",
       "      <th>18454</th>\n",
       "      <td>zone</td>\n",
       "    </tr>\n",
       "  </tbody>\n",
       "</table>\n",
       "<p>18455 rows × 1 columns</p>\n",
       "</div>"
      ],
      "text/plain": [
       "           token\n",
       "id              \n",
       "0             00\n",
       "1          00 pm\n",
       "2            000\n",
       "3       000 feet\n",
       "4      000 miles\n",
       "...          ...\n",
       "18450        yvr\n",
       "18451     yvr to\n",
       "18452        yyz\n",
       "18453       zero\n",
       "18454       zone\n",
       "\n",
       "[18455 rows x 1 columns]"
      ]
     },
     "execution_count": 41,
     "metadata": {},
     "output_type": "execute_result"
    }
   ],
   "source": [
    "pd.DataFrame(vec.vocabulary_.items(), columns=['token', 'id']).sort_values('id').set_index('id')"
   ]
  },
  {
   "cell_type": "code",
   "execution_count": 42,
   "metadata": {},
   "outputs": [
    {
     "data": {
      "text/plain": [
       "<10980x18455 sparse matrix of type '<class 'numpy.int64'>'\n",
       "\twith 283779 stored elements in Compressed Sparse Row format>"
      ]
     },
     "execution_count": 42,
     "metadata": {},
     "output_type": "execute_result"
    }
   ],
   "source": [
    "x_train"
   ]
  },
  {
   "cell_type": "code",
   "execution_count": 43,
   "metadata": {},
   "outputs": [
    {
     "data": {
      "text/plain": [
       "<3660x18455 sparse matrix of type '<class 'numpy.int64'>'\n",
       "\twith 88299 stored elements in Compressed Sparse Row format>"
      ]
     },
     "execution_count": 43,
     "metadata": {},
     "output_type": "execute_result"
    }
   ],
   "source": [
    "x_test"
   ]
  },
  {
   "cell_type": "code",
   "execution_count": 104,
   "metadata": {},
   "outputs": [
    {
     "data": {
      "text/html": [
       "<div>\n",
       "<style scoped>\n",
       "    .dataframe tbody tr th:only-of-type {\n",
       "        vertical-align: middle;\n",
       "    }\n",
       "\n",
       "    .dataframe tbody tr th {\n",
       "        vertical-align: top;\n",
       "    }\n",
       "\n",
       "    .dataframe thead th {\n",
       "        text-align: right;\n",
       "    }\n",
       "</style>\n",
       "<table border=\"1\" class=\"dataframe\">\n",
       "  <thead>\n",
       "    <tr style=\"text-align: right;\">\n",
       "      <th></th>\n",
       "      <th>Precision</th>\n",
       "      <th>Recall</th>\n",
       "      <th>F</th>\n",
       "      <th>Support</th>\n",
       "    </tr>\n",
       "  </thead>\n",
       "  <tbody>\n",
       "    <tr>\n",
       "      <th>negative</th>\n",
       "      <td>0.85</td>\n",
       "      <td>0.91</td>\n",
       "      <td>0.87</td>\n",
       "      <td>2269</td>\n",
       "    </tr>\n",
       "    <tr>\n",
       "      <th>neutral</th>\n",
       "      <td>0.65</td>\n",
       "      <td>0.55</td>\n",
       "      <td>0.60</td>\n",
       "      <td>786</td>\n",
       "    </tr>\n",
       "    <tr>\n",
       "      <th>positive</th>\n",
       "      <td>0.74</td>\n",
       "      <td>0.70</td>\n",
       "      <td>0.72</td>\n",
       "      <td>605</td>\n",
       "    </tr>\n",
       "  </tbody>\n",
       "</table>\n",
       "</div>"
      ],
      "text/plain": [
       "          Precision  Recall     F  Support\n",
       "negative       0.85    0.91  0.87     2269\n",
       "neutral        0.65    0.55  0.60      786\n",
       "positive       0.74    0.70  0.72      605"
      ]
     },
     "execution_count": 104,
     "metadata": {},
     "output_type": "execute_result"
    }
   ],
   "source": [
    "from sklearn.metrics import precision_recall_fscore_support \n",
    "from sklearn.naive_bayes import MultinomialNB\n",
    "\n",
    "clf = MultinomialNB(fit_prior=True)\n",
    "clf.fit(x_train, y_train)\n",
    "y_test_pred = clf.predict(x_test)\n",
    "\n",
    "p, r, f, s = precision_recall_fscore_support(y_test, y_test_pred)\n",
    "\n",
    "pd.DataFrame(\n",
    "    {\n",
    "        'Precision': p,\n",
    "        'Recall': r,\n",
    "        'F': f,\n",
    "        'Support': s,\n",
    "    },\n",
    "    index =le.classes_.tolist()\n",
    ").round(2)"
   ]
  },
  {
   "cell_type": "code",
   "execution_count": 105,
   "metadata": {},
   "outputs": [
    {
     "data": {
      "text/plain": [
       "0    0.85\n",
       "1    0.65\n",
       "2    0.74\n",
       "dtype: float64"
      ]
     },
     "execution_count": 105,
     "metadata": {},
     "output_type": "execute_result"
    }
   ],
   "source": [
    "pd.Series(p).round(2)"
   ]
  },
  {
   "cell_type": "code",
   "execution_count": 107,
   "metadata": {},
   "outputs": [
    {
     "data": {
      "text/plain": [
       "0.7466666666666667"
      ]
     },
     "execution_count": 107,
     "metadata": {},
     "output_type": "execute_result"
    }
   ],
   "source": [
    "pd.Series(p).round(2).mean()"
   ]
  },
  {
   "cell_type": "code",
   "execution_count": 97,
   "metadata": {},
   "outputs": [
    {
     "name": "stdout",
     "output_type": "stream",
     "text": [
      "Macro Precision = 74.76% & Recall=71.92%\n"
     ]
    }
   ],
   "source": [
    "y_test_pred = clf.predict(x_test)\n",
    "\n",
    "p, r, f, s = precision_recall_fscore_support(y_test, y_test_pred, average='macro')\n",
    "\n",
    "print(f'Macro Precision = {p:.2%} & Recall={r:.2%}')"
   ]
  },
  {
   "cell_type": "code",
   "execution_count": 45,
   "metadata": {},
   "outputs": [
    {
     "data": {
      "text/plain": [
       "0.7953551912568306"
      ]
     },
     "execution_count": 45,
     "metadata": {},
     "output_type": "execute_result"
    }
   ],
   "source": [
    "precision_recall_fscore_support(y_test, y_test_pred, average='micro')[2]"
   ]
  },
  {
   "cell_type": "code",
   "execution_count": 46,
   "metadata": {},
   "outputs": [
    {
     "data": {
      "text/html": [
       "<div>\n",
       "<style scoped>\n",
       "    .dataframe tbody tr th:only-of-type {\n",
       "        vertical-align: middle;\n",
       "    }\n",
       "\n",
       "    .dataframe tbody tr th {\n",
       "        vertical-align: top;\n",
       "    }\n",
       "\n",
       "    .dataframe thead th {\n",
       "        text-align: right;\n",
       "    }\n",
       "</style>\n",
       "<table border=\"1\" class=\"dataframe\">\n",
       "  <thead>\n",
       "    <tr style=\"text-align: right;\">\n",
       "      <th></th>\n",
       "      <th>Precision</th>\n",
       "      <th>Recall</th>\n",
       "      <th>F</th>\n",
       "      <th>Support</th>\n",
       "    </tr>\n",
       "  </thead>\n",
       "  <tbody>\n",
       "    <tr>\n",
       "      <th>negative</th>\n",
       "      <td>0.877615</td>\n",
       "      <td>0.869105</td>\n",
       "      <td>0.873339</td>\n",
       "      <td>2269</td>\n",
       "    </tr>\n",
       "    <tr>\n",
       "      <th>neutral</th>\n",
       "      <td>0.618799</td>\n",
       "      <td>0.603053</td>\n",
       "      <td>0.610825</td>\n",
       "      <td>786</td>\n",
       "    </tr>\n",
       "    <tr>\n",
       "      <th>positive</th>\n",
       "      <td>0.701700</td>\n",
       "      <td>0.750413</td>\n",
       "      <td>0.725240</td>\n",
       "      <td>605</td>\n",
       "    </tr>\n",
       "  </tbody>\n",
       "</table>\n",
       "</div>"
      ],
      "text/plain": [
       "          Precision    Recall         F  Support\n",
       "negative   0.877615  0.869105  0.873339     2269\n",
       "neutral    0.618799  0.603053  0.610825      786\n",
       "positive   0.701700  0.750413  0.725240      605"
      ]
     },
     "execution_count": 46,
     "metadata": {},
     "output_type": "execute_result"
    }
   ],
   "source": [
    "from sklearn.metrics import precision_recall_fscore_support \n",
    "from sklearn.naive_bayes import MultinomialNB\n",
    "\n",
    "clf = MultinomialNB(fit_prior=False)\n",
    "clf.fit(x_train, y_train)\n",
    "y_test_pred = clf.predict(x_test)\n",
    "\n",
    "p, r, f, s = precision_recall_fscore_support(y_test, y_test_pred)\n",
    "\n",
    "pd.DataFrame(\n",
    "    {\n",
    "        'Precision': p,\n",
    "        'Recall': r,\n",
    "        'F': f,\n",
    "        'Support': s,\n",
    "    },\n",
    "    index =le.classes_.tolist()\n",
    ")"
   ]
  },
  {
   "cell_type": "code",
   "execution_count": 47,
   "metadata": {},
   "outputs": [
    {
     "data": {
      "text/plain": [
       "0.7923497267759563"
      ]
     },
     "execution_count": 47,
     "metadata": {},
     "output_type": "execute_result"
    }
   ],
   "source": [
    "precision_recall_fscore_support(y_test, y_test_pred, average='micro')[2]"
   ]
  },
  {
   "cell_type": "code",
   "execution_count": 48,
   "metadata": {},
   "outputs": [
    {
     "name": "stdout",
     "output_type": "stream",
     "text": [
      "Micro FScore = 0.7775956284153005 @ ngram_range = (1, 1)\n",
      "Micro FScore = 0.7191256830601092 @ ngram_range = (2, 2)\n",
      "Micro FScore = 0.6144808743169399 @ ngram_range = (3, 3)\n",
      "Micro FScore = 0.6415300546448087 @ ngram_range = (4, 4)\n",
      "Micro FScore = 0.6319672131147541 @ ngram_range = (5, 5)\n",
      "Micro FScore = 0.6281420765027322 @ ngram_range = (6, 6)\n",
      "Micro FScore = 0.6281420765027322 @ ngram_range = (7, 7)\n",
      "Micro FScore = 0.6267759562841531 @ ngram_range = (8, 8)\n"
     ]
    },
    {
     "name": "stderr",
     "output_type": "stream",
     "text": [
      "/Users/tarek/anaconda3/envs/scikitbook/lib/python3.6/site-packages/ipykernel_launcher.py:37: UserWarning: Matplotlib is currently using module://ipykernel.pylab.backend_inline, which is a non-GUI backend, so cannot show the figure.\n"
     ]
    },
    {
     "data": {
      "image/png": "[encoded data removed]",
      "text/plain": [
       "<Figure size 720x720 with 1 Axes>"
      ]
     },
     "metadata": {
      "needs_background": "light"
     },
     "output_type": "display_data"
    }
   ],
   "source": [
    "from sklearn.pipeline import make_pipeline\n",
    "from sklearn.feature_extraction.text import CountVectorizer\n",
    "from sklearn.naive_bayes import MultinomialNB\n",
    "\n",
    "micro_fscores = []\n",
    "\n",
    "for ngram_range in [(1, 1), (2, 2), (3, 3), (4, 4), (5, 5), (6, 6), (7, 7), (8, 8)]:\n",
    "\n",
    "    pipeline = make_pipeline(\n",
    "        CountVectorizer(ngram_range=ngram_range, min_df=3, max_df=0.2, strip_accents='ascii'),\n",
    "        MultinomialNB(fit_prior=False)\n",
    "    )\n",
    "\n",
    "    pipeline.fit(df_train['text'], y_train)\n",
    "    y_test_pred =  pipeline.predict(df_test['text'])\n",
    "\n",
    "    p, r, f, s = precision_recall_fscore_support(y_test, y_test_pred)\n",
    "\n",
    "    micro_fscore = precision_recall_fscore_support(y_test, y_test_pred, average='micro')[2]\n",
    "\n",
    "    print(f'Micro FScore = {micro_fscore} @ ngram_range = {ngram_range}')\n",
    "    \n",
    "    micro_fscores.append([ngram_range[-1], micro_fscore])\n",
    "    \n",
    "fig, ax = plt.subplots(1, 1, figsize=(10, 10))\n",
    "\n",
    "pd.DataFrame(\n",
    "    micro_fscores,\n",
    "    columns=['ngram', 'Micro FScore']\n",
    ").set_index('ngram')['Micro FScore'].plot(\n",
    "    title='Micro FScore vs ngram',\n",
    "    color='k',\n",
    "    kind='bar',\n",
    "    ax=ax,\n",
    ")\n",
    "\n",
    "fig.show()"
   ]
  },
  {
   "cell_type": "code",
   "execution_count": 49,
   "metadata": {
    "scrolled": false
   },
   "outputs": [
    {
     "name": "stderr",
     "output_type": "stream",
     "text": [
      "/Users/tarek/anaconda3/envs/scikitbook/lib/python3.6/site-packages/ipykernel_launcher.py:53: UserWarning: Matplotlib is currently using module://ipykernel.pylab.backend_inline, which is a non-GUI backend, so cannot show the figure.\n"
     ]
    },
    {
     "data": {
      "image/png": "[encoded data removed]",
      "text/plain": [
       "<Figure size 1008x576 with 2 Axes>"
      ]
     },
     "metadata": {
      "needs_background": "light"
     },
     "output_type": "display_data"
    }
   ],
   "source": [
    "from sklearn.pipeline import make_pipeline\n",
    "from sklearn.feature_extraction.text import CountVectorizer\n",
    "from sklearn.naive_bayes import MultinomialNB\n",
    "\n",
    "precision_scores = []\n",
    "recall_scores = []\n",
    "\n",
    "for max_df in [.01, .05, .1, .2, .4, .8]:\n",
    "\n",
    "    pipeline = make_pipeline(\n",
    "        CountVectorizer(ngram_range=(4,4), min_df=3, max_df=max_df, strip_accents='ascii'),\n",
    "        MultinomialNB(fit_prior=False, alpha=1)\n",
    "    )\n",
    "\n",
    "    pipeline.fit(df_train['text'], y_train)\n",
    "    y_test_pred =  pipeline.predict(df_test['text'])\n",
    "\n",
    "    p, r, f, s = precision_recall_fscore_support(y_test, y_test_pred)\n",
    "    \n",
    "    precision_score = [f'{max_df}']\n",
    "    precision_score.extend(p)\n",
    "    \n",
    "    recall_score = [f'{max_df}']\n",
    "    recall_score.extend(r)\n",
    "    \n",
    "    precision_scores.append(precision_score)\n",
    "    recall_scores.append(recall_score)\n",
    "    \n",
    "fig, axs = plt.subplots(1, 2, figsize=(14, 8))\n",
    "\n",
    "pd.DataFrame(\n",
    "    precision_scores,\n",
    "    columns=['alpha', 'Precision(negative)', 'Precision(neutral)', 'Precision(positive)']\n",
    ").set_index('alpha').plot(\n",
    "    title='Precision vs max_df',\n",
    "    # color='k',\n",
    "    kind='line',\n",
    "    ylim=(0,1),\n",
    "    ax=axs[0],\n",
    ")\n",
    "\n",
    "pd.DataFrame(\n",
    "    recall_scores,\n",
    "    columns=['alpha', 'Recall(negative)', 'Recall(neutral)', 'Recall(positive)']\n",
    ").set_index('alpha').plot(\n",
    "    title='Recall vs max_df',\n",
    "    # color='k',\n",
    "    kind='line',\n",
    "    ylim=(0,1),\n",
    "    ax=axs[1],\n",
    ")\n",
    "\n",
    "fig.show()"
   ]
  },
  {
   "cell_type": "markdown",
   "metadata": {},
   "source": [
    "# GridSearch + Pipeline"
   ]
  },
  {
   "cell_type": "code",
   "execution_count": 83,
   "metadata": {},
   "outputs": [],
   "source": [
    "from sklearn.pipeline import Pipeline\n",
    "from sklearn.feature_extraction.text import CountVectorizer\n",
    "from sklearn.naive_bayes import MultinomialNB\n",
    "\n",
    "pipe = Pipeline(steps=[('CountVectorizer', CountVectorizer()), ('MultinomialNB', MultinomialNB())])"
   ]
  },
  {
   "cell_type": "code",
   "execution_count": 84,
   "metadata": {},
   "outputs": [],
   "source": [
    "param_grid = {\n",
    "    'CountVectorizer__ngram_range': [(1,1), (1,2), (1,3)],\n",
    "    'MultinomialNB__alpha': [0.1, 1],\n",
    "    'MultinomialNB__fit_prior': [True, False],\n",
    "}"
   ]
  },
  {
   "cell_type": "code",
   "execution_count": 85,
   "metadata": {
    "scrolled": false
   },
   "outputs": [
    {
     "name": "stdout",
     "output_type": "stream",
     "text": [
      "{'CountVectorizer__ngram_range': (1, 3), 'MultinomialNB__alpha': 1, 'MultinomialNB__fit_prior': True}\n"
     ]
    }
   ],
   "source": [
    "from sklearn.model_selection import GridSearchCV\n",
    "\n",
    "search = GridSearchCV(pipe, param_grid, scoring='precision_macro', n_jobs=-1)\n",
    "search.fit(df_train['text'], y_train)\n",
    "print(search.best_params_)"
   ]
  },
  {
   "cell_type": "code",
   "execution_count": 86,
   "metadata": {},
   "outputs": [
    {
     "name": "stdout",
     "output_type": "stream",
     "text": [
      "Macro Precision = 78.49% & Recall=51.18%\n"
     ]
    }
   ],
   "source": [
    "y_test_pred = search.predict(df_test['text'])\n",
    "\n",
    "p, r, f, s = precision_recall_fscore_support(y_test, y_test_pred, average='macro')\n",
    "\n",
    "print(f'Macro Precision = {p:.2%} & Recall={r:.2%}')"
   ]
  },
  {
   "cell_type": "code",
   "execution_count": 87,
   "metadata": {},
   "outputs": [
    {
     "name": "stdout",
     "output_type": "stream",
     "text": [
      "{'CountVectorizer__ngram_range': (1, 1), 'MultinomialNB__alpha': 0.1, 'MultinomialNB__fit_prior': False}\n"
     ]
    }
   ],
   "source": [
    "from sklearn.model_selection import GridSearchCV\n",
    "\n",
    "search = GridSearchCV(pipe, param_grid, scoring='recall_macro', n_jobs=-1)\n",
    "search.fit(df_train['text'], y_train)\n",
    "print(search.best_params_)"
   ]
  },
  {
   "cell_type": "code",
   "execution_count": 88,
   "metadata": {},
   "outputs": [
    {
     "name": "stdout",
     "output_type": "stream",
     "text": [
      "Macro Precision = 70.79% & Recall=72.01%\n"
     ]
    }
   ],
   "source": [
    "y_test_pred = search.predict(df_test['text'])\n",
    "\n",
    "p, r, f, s = precision_recall_fscore_support(y_test, y_test_pred, average='macro')\n",
    "\n",
    "print(f'Macro Precision = {p:.2%} & Recall={r:.2%}')"
   ]
  },
  {
   "cell_type": "code",
   "execution_count": null,
   "metadata": {},
   "outputs": [],
   "source": []
  },
  {
   "cell_type": "code",
   "execution_count": null,
   "metadata": {},
   "outputs": [],
   "source": [
    "from sklearn.feature_extraction.text import CountVectorizer\n",
    "\n",
    "vec = CountVectorizer(ngram_range=(1,3), min_df=3, max_df=0.2, binary=True, strip_accents='ascii')\n",
    "\n",
    "x_train = vec.fit_transform(df_train['text'])\n",
    "x_test = vec.transform(df_test['text'])"
   ]
  },
  {
   "cell_type": "code",
   "execution_count": null,
   "metadata": {},
   "outputs": [],
   "source": [
    "from sklearn.metrics import precision_recall_fscore_support \n",
    "from sklearn.naive_bayes import BernoulliNB\n",
    "\n",
    "clf = BernoulliNB(fit_prior=False)\n",
    "clf.fit(x_train, y_train)\n",
    "y_test_pred = clf.predict(x_test)\n",
    "\n",
    "p, r, f, s = precision_recall_fscore_support(y_test, y_test_pred)\n",
    "\n",
    "pd.DataFrame(\n",
    "    {\n",
    "        'Precision': p,\n",
    "        'Recall': r,\n",
    "        'F': f,\n",
    "        'Support': s,\n",
    "    },\n",
    "    index =le.classes_.tolist()\n",
    ")"
   ]
  },
  {
   "cell_type": "code",
   "execution_count": null,
   "metadata": {},
   "outputs": [],
   "source": [
    "precision_recall_fscore_support(y_test, y_test_pred, average='micro')[2]"
   ]
  },
  {
   "cell_type": "code",
   "execution_count": null,
   "metadata": {},
   "outputs": [],
   "source": [
    "df_vocab = pd.DataFrame(vec.vocabulary_.items(), columns=['token', 'id']).sort_values('id').set_index('id')\n",
    "\n",
    "c1, c2, c3 = clf.coef_\n",
    "\n",
    "df_vocab['negative_coef'] = c1\n",
    "df_vocab['neutral_coef'] = c2\n",
    "df_vocab['positive_coef'] = c3"
   ]
  },
  {
   "cell_type": "code",
   "execution_count": null,
   "metadata": {},
   "outputs": [],
   "source": [
    "df_vocab.sort_values('negative_coef', ascending=False).head(20)"
   ]
  },
  {
   "cell_type": "code",
   "execution_count": null,
   "metadata": {},
   "outputs": [],
   "source": [
    "df_vocab.sort_values('positive_coef', ascending=False).head(20)"
   ]
  },
  {
   "cell_type": "code",
   "execution_count": null,
   "metadata": {},
   "outputs": [],
   "source": [
    "from sklearn.metrics import precision_recall_fscore_support \n",
    "from sklearn.linear_model import LogisticRegression\n",
    "\n",
    "clf = LogisticRegression()\n",
    "clf.fit(x_train, y_train)\n",
    "y_test_pred = clf.predict(x_test)\n",
    "\n",
    "p, r, f, s = precision_recall_fscore_support(y_test, y_test_pred)\n",
    "\n",
    "pd.DataFrame(\n",
    "    {\n",
    "        'Precision': p,\n",
    "        'Recall': r,\n",
    "        'F': f,\n",
    "        'Support': s,\n",
    "    },\n",
    "    index =le.classes_.tolist()\n",
    ")\n"
   ]
  },
  {
   "cell_type": "code",
   "execution_count": null,
   "metadata": {},
   "outputs": [],
   "source": [
    "precision_recall_fscore_support(y_test, y_test_pred, average='micro')[2]"
   ]
  },
  {
   "cell_type": "code",
   "execution_count": null,
   "metadata": {},
   "outputs": [],
   "source": []
  },
  {
   "cell_type": "code",
   "execution_count": null,
   "metadata": {},
   "outputs": [],
   "source": []
  },
  {
   "cell_type": "code",
   "execution_count": 342,
   "metadata": {},
   "outputs": [],
   "source": [
    "from sklearn.feature_extraction.text import TfidfVectorizer\n",
    "\n",
    "vec = TfidfVectorizer(ngram_range=(1,3), sublinear_tf=True)\n",
    "\n",
    "x_train = vec.fit_transform(df_train['text'])\n",
    "x_test = vec.transform(df_test['text'])"
   ]
  },
  {
   "cell_type": "code",
   "execution_count": 343,
   "metadata": {},
   "outputs": [
    {
     "data": {
      "text/html": [
       "<div>\n",
       "<style scoped>\n",
       "    .dataframe tbody tr th:only-of-type {\n",
       "        vertical-align: middle;\n",
       "    }\n",
       "\n",
       "    .dataframe tbody tr th {\n",
       "        vertical-align: top;\n",
       "    }\n",
       "\n",
       "    .dataframe thead th {\n",
       "        text-align: right;\n",
       "    }\n",
       "</style>\n",
       "<table border=\"1\" class=\"dataframe\">\n",
       "  <thead>\n",
       "    <tr style=\"text-align: right;\">\n",
       "      <th></th>\n",
       "      <th>Precision</th>\n",
       "      <th>Recall</th>\n",
       "      <th>F</th>\n",
       "      <th>Support</th>\n",
       "    </tr>\n",
       "  </thead>\n",
       "  <tbody>\n",
       "    <tr>\n",
       "      <th>negative</th>\n",
       "      <td>0.804869</td>\n",
       "      <td>0.917621</td>\n",
       "      <td>0.857555</td>\n",
       "      <td>2270</td>\n",
       "    </tr>\n",
       "    <tr>\n",
       "      <th>neutral</th>\n",
       "      <td>0.648551</td>\n",
       "      <td>0.450882</td>\n",
       "      <td>0.531947</td>\n",
       "      <td>794</td>\n",
       "    </tr>\n",
       "    <tr>\n",
       "      <th>positive</th>\n",
       "      <td>0.694231</td>\n",
       "      <td>0.605705</td>\n",
       "      <td>0.646953</td>\n",
       "      <td>596</td>\n",
       "    </tr>\n",
       "  </tbody>\n",
       "</table>\n",
       "</div>"
      ],
      "text/plain": [
       "          Precision    Recall         F  Support\n",
       "negative   0.804869  0.917621  0.857555     2270\n",
       "neutral    0.648551  0.450882  0.531947      794\n",
       "positive   0.694231  0.605705  0.646953      596"
      ]
     },
     "execution_count": 343,
     "metadata": {},
     "output_type": "execute_result"
    }
   ],
   "source": [
    "from sklearn.metrics import precision_recall_fscore_support \n",
    "from sklearn.naive_bayes import MultinomialNB\n",
    "\n",
    "clf = MultinomialNB(fit_prior=False, alpha=0.001)\n",
    "clf.fit(x_train, y_train)\n",
    "y_test_pred = clf.predict(x_test)\n",
    "\n",
    "p, r, f, s = precision_recall_fscore_support(y_test, y_test_pred)\n",
    "\n",
    "pd.DataFrame(\n",
    "    {\n",
    "        'Precision': p,\n",
    "        'Recall': r,\n",
    "        'F': f,\n",
    "        'Support': s,\n",
    "    },\n",
    "    index =le.classes_.tolist()\n",
    ")"
   ]
  },
  {
   "cell_type": "code",
   "execution_count": 344,
   "metadata": {},
   "outputs": [
    {
     "data": {
      "text/plain": [
       "0.7655737704918033"
      ]
     },
     "execution_count": 344,
     "metadata": {},
     "output_type": "execute_result"
    }
   ],
   "source": [
    "precision_recall_fscore_support(y_test, y_test_pred, average='micro')[1]"
   ]
  },
  {
   "cell_type": "code",
   "execution_count": 345,
   "metadata": {},
   "outputs": [],
   "source": [
    "df_vocab = pd.DataFrame(vec.vocabulary_.items(), columns=['token', 'id']).sort_values('id').set_index('id')\n",
    "\n",
    "c1, c2, c3 = clf.coef_\n",
    "\n",
    "df_vocab['negative_coef'] = c1\n",
    "df_vocab['neutral_coef'] = c2\n",
    "df_vocab['positive_coef'] = c3"
   ]
  },
  {
   "cell_type": "code",
   "execution_count": 346,
   "metadata": {},
   "outputs": [
    {
     "data": {
      "text/html": [
       "<div>\n",
       "<style scoped>\n",
       "    .dataframe tbody tr th:only-of-type {\n",
       "        vertical-align: middle;\n",
       "    }\n",
       "\n",
       "    .dataframe tbody tr th {\n",
       "        vertical-align: top;\n",
       "    }\n",
       "\n",
       "    .dataframe thead th {\n",
       "        text-align: right;\n",
       "    }\n",
       "</style>\n",
       "<table border=\"1\" class=\"dataframe\">\n",
       "  <thead>\n",
       "    <tr style=\"text-align: right;\">\n",
       "      <th></th>\n",
       "      <th>token</th>\n",
       "      <th>negative_coef</th>\n",
       "      <th>neutral_coef</th>\n",
       "      <th>positive_coef</th>\n",
       "    </tr>\n",
       "    <tr>\n",
       "      <th>id</th>\n",
       "      <th></th>\n",
       "      <th></th>\n",
       "      <th></th>\n",
       "      <th></th>\n",
       "    </tr>\n",
       "  </thead>\n",
       "  <tbody>\n",
       "    <tr>\n",
       "      <th>191557</th>\n",
       "      <td>to</td>\n",
       "      <td>-5.915192</td>\n",
       "      <td>-5.828423</td>\n",
       "      <td>-6.100844</td>\n",
       "    </tr>\n",
       "    <tr>\n",
       "      <th>181012</th>\n",
       "      <td>the</td>\n",
       "      <td>-6.116753</td>\n",
       "      <td>-6.152994</td>\n",
       "      <td>-5.871366</td>\n",
       "    </tr>\n",
       "    <tr>\n",
       "      <th>202738</th>\n",
       "      <td>united</td>\n",
       "      <td>-6.232380</td>\n",
       "      <td>-6.088073</td>\n",
       "      <td>-6.012418</td>\n",
       "    </tr>\n",
       "    <tr>\n",
       "      <th>68961</th>\n",
       "      <td>flight</td>\n",
       "      <td>-6.257911</td>\n",
       "      <td>-6.453387</td>\n",
       "      <td>-6.662051</td>\n",
       "    </tr>\n",
       "    <tr>\n",
       "      <th>18665</th>\n",
       "      <td>and</td>\n",
       "      <td>-6.294188</td>\n",
       "      <td>-6.808669</td>\n",
       "      <td>-6.513998</td>\n",
       "    </tr>\n",
       "    <tr>\n",
       "      <th>138807</th>\n",
       "      <td>on</td>\n",
       "      <td>-6.297872</td>\n",
       "      <td>-6.328405</td>\n",
       "      <td>-6.743613</td>\n",
       "    </tr>\n",
       "    <tr>\n",
       "      <th>208293</th>\n",
       "      <td>usairways</td>\n",
       "      <td>-6.299983</td>\n",
       "      <td>-6.626311</td>\n",
       "      <td>-6.446595</td>\n",
       "    </tr>\n",
       "    <tr>\n",
       "      <th>226678</th>\n",
       "      <td>you</td>\n",
       "      <td>-6.341896</td>\n",
       "      <td>-6.138289</td>\n",
       "      <td>-5.509187</td>\n",
       "    </tr>\n",
       "    <tr>\n",
       "      <th>74982</th>\n",
       "      <td>for</td>\n",
       "      <td>-6.352966</td>\n",
       "      <td>-6.487227</td>\n",
       "      <td>-6.033189</td>\n",
       "    </tr>\n",
       "    <tr>\n",
       "      <th>126168</th>\n",
       "      <td>my</td>\n",
       "      <td>-6.383634</td>\n",
       "      <td>-6.593639</td>\n",
       "      <td>-6.672172</td>\n",
       "    </tr>\n",
       "    <tr>\n",
       "      <th>14771</th>\n",
       "      <td>americanair</td>\n",
       "      <td>-6.429247</td>\n",
       "      <td>-6.349866</td>\n",
       "      <td>-6.194243</td>\n",
       "    </tr>\n",
       "    <tr>\n",
       "      <th>101724</th>\n",
       "      <td>is</td>\n",
       "      <td>-6.456029</td>\n",
       "      <td>-6.510543</td>\n",
       "      <td>-7.027878</td>\n",
       "    </tr>\n",
       "    <tr>\n",
       "      <th>97922</th>\n",
       "      <td>in</td>\n",
       "      <td>-6.647387</td>\n",
       "      <td>-6.627039</td>\n",
       "      <td>-6.725352</td>\n",
       "    </tr>\n",
       "    <tr>\n",
       "      <th>104315</th>\n",
       "      <td>it</td>\n",
       "      <td>-6.663548</td>\n",
       "      <td>-6.587010</td>\n",
       "      <td>-6.556328</td>\n",
       "    </tr>\n",
       "    <tr>\n",
       "      <th>135855</th>\n",
       "      <td>of</td>\n",
       "      <td>-6.701393</td>\n",
       "      <td>-6.860115</td>\n",
       "      <td>-6.940360</td>\n",
       "    </tr>\n",
       "    <tr>\n",
       "      <th>132673</th>\n",
       "      <td>not</td>\n",
       "      <td>-6.706910</td>\n",
       "      <td>-7.565005</td>\n",
       "      <td>-8.038431</td>\n",
       "    </tr>\n",
       "    <tr>\n",
       "      <th>229345</th>\n",
       "      <td>your</td>\n",
       "      <td>-6.727950</td>\n",
       "      <td>-7.452219</td>\n",
       "      <td>-6.773576</td>\n",
       "    </tr>\n",
       "    <tr>\n",
       "      <th>131015</th>\n",
       "      <td>no</td>\n",
       "      <td>-6.732537</td>\n",
       "      <td>-7.610601</td>\n",
       "      <td>-8.034712</td>\n",
       "    </tr>\n",
       "    <tr>\n",
       "      <th>119930</th>\n",
       "      <td>me</td>\n",
       "      <td>-6.764400</td>\n",
       "      <td>-6.753629</td>\n",
       "      <td>-6.827512</td>\n",
       "    </tr>\n",
       "    <tr>\n",
       "      <th>179531</th>\n",
       "      <td>that</td>\n",
       "      <td>-6.814248</td>\n",
       "      <td>-7.051446</td>\n",
       "      <td>-7.083816</td>\n",
       "    </tr>\n",
       "  </tbody>\n",
       "</table>\n",
       "</div>"
      ],
      "text/plain": [
       "              token  negative_coef  neutral_coef  positive_coef\n",
       "id                                                             \n",
       "191557           to      -5.915192     -5.828423      -6.100844\n",
       "181012          the      -6.116753     -6.152994      -5.871366\n",
       "202738       united      -6.232380     -6.088073      -6.012418\n",
       "68961        flight      -6.257911     -6.453387      -6.662051\n",
       "18665           and      -6.294188     -6.808669      -6.513998\n",
       "138807           on      -6.297872     -6.328405      -6.743613\n",
       "208293    usairways      -6.299983     -6.626311      -6.446595\n",
       "226678          you      -6.341896     -6.138289      -5.509187\n",
       "74982           for      -6.352966     -6.487227      -6.033189\n",
       "126168           my      -6.383634     -6.593639      -6.672172\n",
       "14771   americanair      -6.429247     -6.349866      -6.194243\n",
       "101724           is      -6.456029     -6.510543      -7.027878\n",
       "97922            in      -6.647387     -6.627039      -6.725352\n",
       "104315           it      -6.663548     -6.587010      -6.556328\n",
       "135855           of      -6.701393     -6.860115      -6.940360\n",
       "132673          not      -6.706910     -7.565005      -8.038431\n",
       "229345         your      -6.727950     -7.452219      -6.773576\n",
       "131015           no      -6.732537     -7.610601      -8.034712\n",
       "119930           me      -6.764400     -6.753629      -6.827512\n",
       "179531         that      -6.814248     -7.051446      -7.083816"
      ]
     },
     "execution_count": 346,
     "metadata": {},
     "output_type": "execute_result"
    }
   ],
   "source": [
    "df_vocab.sort_values('negative_coef', ascending=False).head(20)"
   ]
  },
  {
   "cell_type": "code",
   "execution_count": null,
   "metadata": {},
   "outputs": [],
   "source": []
  },
  {
   "cell_type": "code",
   "execution_count": 348,
   "metadata": {},
   "outputs": [],
   "source": [
    "# pip install spacy\n",
    "# python -m spacy download en_core_web_lg"
   ]
  },
  {
   "cell_type": "code",
   "execution_count": 1,
   "metadata": {},
   "outputs": [
    {
     "name": "stderr",
     "output_type": "stream",
     "text": [
      "UsageError: Line magic function `%autoreload` not found.\n"
     ]
    }
   ],
   "source": [
    "%autoreload\n",
    "\n",
    "reload(spacy)"
   ]
  },
  {
   "cell_type": "code",
   "execution_count": 2,
   "metadata": {},
   "outputs": [],
   "source": [
    "import spacy\n",
    "\n",
    "nlp = spacy.load('en_core_web_md')"
   ]
  },
  {
   "cell_type": "code",
   "execution_count": 108,
   "metadata": {},
   "outputs": [],
   "source": [
    "# pip install tqdm\n",
    "from tqdm import tqdm\n",
    "tqdm.pandas()"
   ]
  },
  {
   "cell_type": "code",
   "execution_count": 91,
   "metadata": {},
   "outputs": [
    {
     "name": "stderr",
     "output_type": "stream",
     "text": [
      "100%|██████████| 10980/10980 [02:18<00:00, 79.53it/s]\n",
      "100%|██████████| 3660/3660 [00:50<00:00, 73.01it/s] \n"
     ]
    }
   ],
   "source": [
    "import spacy\n",
    "\n",
    "class WordEmbeddingVectorizer:\n",
    "    \n",
    "    def __init__(self, language_model='en_core_web_md'):\n",
    "        self.nlp = spacy.load(language_model)\n",
    "    \n",
    "    def fit(self):\n",
    "        pass\n",
    "    \n",
    "    def transform(self, x, y=None):\n",
    "        return pd.Series(x).progress_apply(\n",
    "            lambda doc: self.nlp(doc).vector.tolist()\n",
    "        ).values.tolist()\n",
    "    \n",
    "    def fit_transform(self, x, y=None):\n",
    "        return self.transform(x)\n",
    "    \n",
    "\n",
    "vec = WordEmbeddingVectorizer()\n",
    "x_train_w2v = vec.transform(df_train['text'])\n",
    "x_test_w2v = vec.transform(df_test['text'])"
   ]
  },
  {
   "cell_type": "code",
   "execution_count": 92,
   "metadata": {},
   "outputs": [
    {
     "data": {
      "text/html": [
       "<div>\n",
       "<style scoped>\n",
       "    .dataframe tbody tr th:only-of-type {\n",
       "        vertical-align: middle;\n",
       "    }\n",
       "\n",
       "    .dataframe tbody tr th {\n",
       "        vertical-align: top;\n",
       "    }\n",
       "\n",
       "    .dataframe thead th {\n",
       "        text-align: right;\n",
       "    }\n",
       "</style>\n",
       "<table border=\"1\" class=\"dataframe\">\n",
       "  <thead>\n",
       "    <tr style=\"text-align: right;\">\n",
       "      <th></th>\n",
       "      <th>Precision</th>\n",
       "      <th>Recall</th>\n",
       "      <th>F</th>\n",
       "      <th>Support</th>\n",
       "    </tr>\n",
       "  </thead>\n",
       "  <tbody>\n",
       "    <tr>\n",
       "      <th>negative</th>\n",
       "      <td>0.846433</td>\n",
       "      <td>0.911063</td>\n",
       "      <td>0.877560</td>\n",
       "      <td>2305</td>\n",
       "    </tr>\n",
       "    <tr>\n",
       "      <th>neutral</th>\n",
       "      <td>0.653614</td>\n",
       "      <td>0.560000</td>\n",
       "      <td>0.603197</td>\n",
       "      <td>775</td>\n",
       "    </tr>\n",
       "    <tr>\n",
       "      <th>positive</th>\n",
       "      <td>0.724272</td>\n",
       "      <td>0.643103</td>\n",
       "      <td>0.681279</td>\n",
       "      <td>580</td>\n",
       "    </tr>\n",
       "  </tbody>\n",
       "</table>\n",
       "</div>"
      ],
      "text/plain": [
       "          Precision    Recall         F  Support\n",
       "negative   0.846433  0.911063  0.877560     2305\n",
       "neutral    0.653614  0.560000  0.603197      775\n",
       "positive   0.724272  0.643103  0.681279      580"
      ]
     },
     "execution_count": 92,
     "metadata": {},
     "output_type": "execute_result"
    }
   ],
   "source": [
    "from sklearn.metrics import precision_recall_fscore_support \n",
    "from sklearn.preprocessing import StandardScaler\n",
    "from sklearn.linear_model import LogisticRegression\n",
    "from sklearn.linear_model import SGDClassifier\n",
    "\n",
    "scaler = StandardScaler()\n",
    "# clf = SGDClassifier(loss='log', max_iter=10000, class_weight='balanced')\n",
    "clf = LogisticRegression(max_iter=10000, class_weight=None)\n",
    "\n",
    "x_train_scaled = scaler.fit_transform(x_train_w2v)\n",
    "x_test_scaled = scaler.transform(x_test_w2v)\n",
    "\n",
    "clf.fit(x_train_scaled, y_train)\n",
    "y_test_pred = clf.predict(x_test_scaled)\n",
    "\n",
    "p, r, f, s = precision_recall_fscore_support(y_test, y_test_pred)\n",
    "\n",
    "pd.DataFrame(\n",
    "    {\n",
    "        'Precision': p,\n",
    "        'Recall': r,\n",
    "        'F': f,\n",
    "        'Support': s,\n",
    "    },\n",
    "    index =le.classes_.tolist()\n",
    ")\n"
   ]
  },
  {
   "cell_type": "code",
   "execution_count": 93,
   "metadata": {},
   "outputs": [
    {
     "data": {
      "text/plain": [
       "0.7942622950819672"
      ]
     },
     "execution_count": 93,
     "metadata": {},
     "output_type": "execute_result"
    }
   ],
   "source": [
    "precision_recall_fscore_support(y_test, y_test_pred, average='micro')[1]"
   ]
  },
  {
   "cell_type": "code",
   "execution_count": 94,
   "metadata": {},
   "outputs": [
    {
     "data": {
      "text/html": [
       "<div>\n",
       "<style scoped>\n",
       "    .dataframe tbody tr th:only-of-type {\n",
       "        vertical-align: middle;\n",
       "    }\n",
       "\n",
       "    .dataframe tbody tr th {\n",
       "        vertical-align: top;\n",
       "    }\n",
       "\n",
       "    .dataframe thead th {\n",
       "        text-align: right;\n",
       "    }\n",
       "</style>\n",
       "<table border=\"1\" class=\"dataframe\">\n",
       "  <thead>\n",
       "    <tr style=\"text-align: right;\">\n",
       "      <th></th>\n",
       "      <th>Precision</th>\n",
       "      <th>Recall</th>\n",
       "      <th>F</th>\n",
       "      <th>Support</th>\n",
       "    </tr>\n",
       "  </thead>\n",
       "  <tbody>\n",
       "    <tr>\n",
       "      <th>negative</th>\n",
       "      <td>0.744674</td>\n",
       "      <td>0.940130</td>\n",
       "      <td>0.831064</td>\n",
       "      <td>2305</td>\n",
       "    </tr>\n",
       "    <tr>\n",
       "      <th>neutral</th>\n",
       "      <td>0.671779</td>\n",
       "      <td>0.282581</td>\n",
       "      <td>0.397820</td>\n",
       "      <td>775</td>\n",
       "    </tr>\n",
       "    <tr>\n",
       "      <th>positive</th>\n",
       "      <td>0.667453</td>\n",
       "      <td>0.487931</td>\n",
       "      <td>0.563745</td>\n",
       "      <td>580</td>\n",
       "    </tr>\n",
       "  </tbody>\n",
       "</table>\n",
       "</div>"
      ],
      "text/plain": [
       "          Precision    Recall         F  Support\n",
       "negative   0.744674  0.940130  0.831064     2305\n",
       "neutral    0.671779  0.282581  0.397820      775\n",
       "positive   0.667453  0.487931  0.563745      580"
      ]
     },
     "execution_count": 94,
     "metadata": {},
     "output_type": "execute_result"
    }
   ],
   "source": [
    "from sklearn.neighbors import KNeighborsClassifier\n",
    "\n",
    "clf = KNeighborsClassifier(n_neighbors=3, metric='cosine')\n",
    "\n",
    "clf.fit(x_train_w2v, y_train)\n",
    "y_test_pred = clf.predict(x_test_w2v)\n",
    "\n",
    "p, r, f, s = precision_recall_fscore_support(y_test, y_test_pred)\n",
    "\n",
    "pd.DataFrame(\n",
    "    {\n",
    "        'Precision': p,\n",
    "        'Recall': r,\n",
    "        'F': f,\n",
    "        'Support': s,\n",
    "    },\n",
    "    index =le.classes_.tolist()\n",
    ")\n"
   ]
  },
  {
   "cell_type": "code",
   "execution_count": 95,
   "metadata": {},
   "outputs": [
    {
     "data": {
      "text/plain": [
       "0.7292349726775956"
      ]
     },
     "execution_count": 95,
     "metadata": {},
     "output_type": "execute_result"
    }
   ],
   "source": [
    "precision_recall_fscore_support(y_test, y_test_pred, average='micro')[1]"
   ]
  },
  {
   "cell_type": "code",
   "execution_count": null,
   "metadata": {},
   "outputs": [],
   "source": []
  },
  {
   "cell_type": "code",
   "execution_count": null,
   "metadata": {},
   "outputs": [],
   "source": []
  },
  {
   "cell_type": "code",
   "execution_count": null,
   "metadata": {},
   "outputs": [],
   "source": []
  },
  {
   "cell_type": "code",
   "execution_count": null,
   "metadata": {},
   "outputs": [],
   "source": []
  }
 ],
 "metadata": {
  "kernelspec": {
   "display_name": "Python 3",
   "language": "python",
   "name": "python3"
  },
  "language_info": {
   "codemirror_mode": {
    "name": "ipython",
    "version": 3
   },
   "file_extension": ".py",
   "mimetype": "text/x-python",
   "name": "python",
   "nbconvert_exporter": "python",
   "pygments_lexer": "ipython3",
   "version": "3.6.9"
  }
 },
 "nbformat": 4,
 "nbformat_minor": 2
}
