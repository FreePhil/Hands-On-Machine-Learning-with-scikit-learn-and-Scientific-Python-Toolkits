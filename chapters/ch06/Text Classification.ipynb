{
 "cells": [
  {
   "cell_type": "markdown",
   "metadata": {},
   "source": [
    "# Loading Data"
   ]
  },
  {
   "cell_type": "code",
   "execution_count": 4,
   "metadata": {},
   "outputs": [],
   "source": [
    "# https://www.figure-eight.com/data-for-everyone/"
   ]
  },
  {
   "cell_type": "code",
   "execution_count": 5,
   "metadata": {},
   "outputs": [],
   "source": [
    "# pip install requests\n",
    "import requests\n",
    "\n",
    "# Old URL for the dataset \n",
    "# url = 'https://d1p17r2m4rzlbo.cloudfront.net/wp-content/uploads/2016/03/Airline-Sentiment-2-w-AA.csv'\n",
    "\n",
    "# New version of the data here\n",
    "# https://github.com/ClimbsRocks/nlpSentiment\n",
    "\n",
    "url = 'https://raw.githubusercontent.com/ClimbsRocks/nlpSentiment/master/twitterCorpus/Airline-Sentiment-2-w-AA.csv'\n",
    "data = requests.get(url)"
   ]
  },
  {
   "cell_type": "code",
   "execution_count": 6,
   "metadata": {},
   "outputs": [],
   "source": [
    "from io import StringIO\n",
    "\n",
    "df = pd.read_csv(StringIO(data.text), sep=\",\") "
   ]
  },
  {
   "cell_type": "code",
   "execution_count": 7,
   "metadata": {},
   "outputs": [
    {
     "data": {
      "text/plain": [
       "Index(['_unit_id', '_golden', '_unit_state', '_trusted_judgments',\n",
       "       '_last_judgment_at', 'airline_sentiment',\n",
       "       'airline_sentiment:confidence', 'negativereason',\n",
       "       'negativereason:confidence', 'airline', 'airline_sentiment_gold',\n",
       "       'name', 'negativereason_gold', 'retweet_count', 'text', 'tweet_coord',\n",
       "       'tweet_created', 'tweet_id', 'tweet_location', 'user_timezone'],\n",
       "      dtype='object')"
      ]
     },
     "execution_count": 7,
     "metadata": {},
     "output_type": "execute_result"
    }
   ],
   "source": [
    "df.columns"
   ]
  },
  {
   "cell_type": "code",
   "execution_count": 8,
   "metadata": {},
   "outputs": [
    {
     "data": {
      "text/plain": [
       "(14640, 20)"
      ]
     },
     "execution_count": 8,
     "metadata": {},
     "output_type": "execute_result"
    }
   ],
   "source": [
    "df.shape"
   ]
  },
  {
   "cell_type": "code",
   "execution_count": 9,
   "metadata": {},
   "outputs": [
    {
     "name": "stderr",
     "output_type": "stream",
     "text": [
      "/Users/tarek/anaconda3/envs/scikitbook/lib/python3.6/site-packages/ipykernel_launcher.py:7: UserWarning: Matplotlib is currently using module://ipykernel.pylab.backend_inline, which is a non-GUI backend, so cannot show the figure.\n",
      "  import sys\n"
     ]
    },
    {
     "data": {
      "image/png": "[encoded data removed]",
      "text/plain": [
       "<Figure size 576x432 with 1 Axes>"
      ]
     },
     "metadata": {},
     "output_type": "display_data"
    }
   ],
   "source": [
    "fig, ax = plt.subplots(1, 1, figsize=(8, 6))\n",
    "\n",
    "explode = (0.05, 0.05, 0.05)\n",
    "colors = ['#111111', '#444444', '#777777']\n",
    "df['airline_sentiment'].value_counts().plot(kind='pie', colors=colors, explode=explode, ax=ax)\n",
    "\n",
    "fig.show()"
   ]
  },
  {
   "cell_type": "code",
   "execution_count": 10,
   "metadata": {},
   "outputs": [
    {
     "data": {
      "text/plain": [
       "negative    0.626913\n",
       "neutral     0.211680\n",
       "positive    0.161407\n",
       "Name: airline_sentiment, dtype: float64"
      ]
     },
     "execution_count": 10,
     "metadata": {},
     "output_type": "execute_result"
    }
   ],
   "source": [
    "df['airline_sentiment'].value_counts() / df['airline_sentiment'].shape[0]"
   ]
  },
  {
   "cell_type": "code",
   "execution_count": 11,
   "metadata": {},
   "outputs": [
    {
     "data": {
      "text/plain": [
       "Customer Service Issue         0.198770\n",
       "Late Flight                    0.113730\n",
       "Can't Tell                     0.081284\n",
       "Cancelled Flight               0.057855\n",
       "Lost Luggage                   0.049454\n",
       "Bad Flight                     0.039617\n",
       "Flight Booking Problems        0.036134\n",
       "Flight Attendant Complaints    0.032855\n",
       "longlines                      0.012158\n",
       "Damaged Luggage                0.005055\n",
       "Name: negativereason, dtype: float64"
      ]
     },
     "execution_count": 11,
     "metadata": {},
     "output_type": "execute_result"
    }
   ],
   "source": [
    "df['negativereason'].value_counts() / df['airline_sentiment'].shape[0]"
   ]
  },
  {
   "cell_type": "code",
   "execution_count": 12,
   "metadata": {},
   "outputs": [],
   "source": [
    "pd.options.display.max_colwidth = 90"
   ]
  },
  {
   "cell_type": "code",
   "execution_count": 13,
   "metadata": {},
   "outputs": [
    {
     "data": {
      "text/html": [
       "<div>\n",
       "<style scoped>\n",
       "    .dataframe tbody tr th:only-of-type {\n",
       "        vertical-align: middle;\n",
       "    }\n",
       "\n",
       "    .dataframe tbody tr th {\n",
       "        vertical-align: top;\n",
       "    }\n",
       "\n",
       "    .dataframe thead th {\n",
       "        text-align: right;\n",
       "    }\n",
       "</style>\n",
       "<table border=\"1\" class=\"dataframe\">\n",
       "  <thead>\n",
       "    <tr style=\"text-align: right;\">\n",
       "      <th></th>\n",
       "      <th>text</th>\n",
       "      <th>airline</th>\n",
       "      <th>airline_sentiment:confidence</th>\n",
       "      <th>airline_sentiment</th>\n",
       "    </tr>\n",
       "  </thead>\n",
       "  <tbody>\n",
       "    <tr>\n",
       "      <th>1328</th>\n",
       "      <td>@united Any news about the departure of the flight UA51?</td>\n",
       "      <td>United</td>\n",
       "      <td>0.6657</td>\n",
       "      <td>neutral</td>\n",
       "    </tr>\n",
       "    <tr>\n",
       "      <th>4530</th>\n",
       "      <td>@SouthwestAir in flight wifi + @TMobile wifi calling makes for the best combination. W...</td>\n",
       "      <td>Southwest</td>\n",
       "      <td>1.0000</td>\n",
       "      <td>positive</td>\n",
       "    </tr>\n",
       "    <tr>\n",
       "      <th>2191</th>\n",
       "      <td>@united what's the best way to get your tickets? Print off at home or go to check in d...</td>\n",
       "      <td>United</td>\n",
       "      <td>1.0000</td>\n",
       "      <td>neutral</td>\n",
       "    </tr>\n",
       "    <tr>\n",
       "      <th>13382</th>\n",
       "      <td>@AmericanAir @andyellwood @delk lol. I was sure I'd wake up to more of a response than...</td>\n",
       "      <td>American</td>\n",
       "      <td>1.0000</td>\n",
       "      <td>negative</td>\n",
       "    </tr>\n",
       "    <tr>\n",
       "      <th>9174</th>\n",
       "      <td>@USAirways  you took the miles out of my account and told me that I could restore by p...</td>\n",
       "      <td>US Airways</td>\n",
       "      <td>1.0000</td>\n",
       "      <td>negative</td>\n",
       "    </tr>\n",
       "  </tbody>\n",
       "</table>\n",
       "</div>"
      ],
      "text/plain": [
       "                                                                                            text  \\\n",
       "1328                                    @united Any news about the departure of the flight UA51?   \n",
       "4530   @SouthwestAir in flight wifi + @TMobile wifi calling makes for the best combination. W...   \n",
       "2191   @united what's the best way to get your tickets? Print off at home or go to check in d...   \n",
       "13382  @AmericanAir @andyellwood @delk lol. I was sure I'd wake up to more of a response than...   \n",
       "9174   @USAirways  you took the miles out of my account and told me that I could restore by p...   \n",
       "\n",
       "          airline  airline_sentiment:confidence airline_sentiment  \n",
       "1328       United                        0.6657           neutral  \n",
       "4530    Southwest                        1.0000          positive  \n",
       "2191       United                        1.0000           neutral  \n",
       "13382    American                        1.0000          negative  \n",
       "9174   US Airways                        1.0000          negative  "
      ]
     },
     "execution_count": 13,
     "metadata": {},
     "output_type": "execute_result"
    }
   ],
   "source": [
    "df[['text', 'airline', 'airline_sentiment:confidence', 'airline_sentiment']].sample(5)"
   ]
  },
  {
   "cell_type": "code",
   "execution_count": 14,
   "metadata": {},
   "outputs": [],
   "source": [
    "from sklearn.model_selection import train_test_split\n",
    "\n",
    "df_train, df_test = train_test_split(df)"
   ]
  },
  {
   "cell_type": "code",
   "execution_count": 15,
   "metadata": {},
   "outputs": [],
   "source": [
    "from sklearn.preprocessing import LabelEncoder\n",
    "\n",
    "le = LabelEncoder()\n",
    "\n",
    "y_train = le.fit_transform(df_train['airline_sentiment'])\n",
    "y_test = le.transform(df_test['airline_sentiment'])\n",
    "\n",
    "# y_train = df_train['airline_sentiment']\n",
    "# y_test = df_test['airline_sentiment']"
   ]
  },
  {
   "cell_type": "code",
   "execution_count": 16,
   "metadata": {},
   "outputs": [
    {
     "data": {
      "text/plain": [
       "['negative', 'neutral', 'positive']"
      ]
     },
     "execution_count": 16,
     "metadata": {},
     "output_type": "execute_result"
    }
   ],
   "source": [
    "le.classes_.tolist()"
   ]
  },
  {
   "cell_type": "code",
   "execution_count": 17,
   "metadata": {},
   "outputs": [],
   "source": [
    "from sklearn.feature_extraction.text import CountVectorizer\n",
    "\n",
    "vec = CountVectorizer(ngram_range=(1,3), min_df=3, strip_accents='ascii')\n",
    "\n",
    "x_train = vec.fit_transform(df_train['text'])\n",
    "x_test = vec.transform(df_test['text'])"
   ]
  },
  {
   "cell_type": "code",
   "execution_count": 18,
   "metadata": {},
   "outputs": [
    {
     "data": {
      "text/html": [
       "<div>\n",
       "<style scoped>\n",
       "    .dataframe tbody tr th:only-of-type {\n",
       "        vertical-align: middle;\n",
       "    }\n",
       "\n",
       "    .dataframe tbody tr th {\n",
       "        vertical-align: top;\n",
       "    }\n",
       "\n",
       "    .dataframe thead th {\n",
       "        text-align: right;\n",
       "    }\n",
       "</style>\n",
       "<table border=\"1\" class=\"dataframe\">\n",
       "  <thead>\n",
       "    <tr style=\"text-align: right;\">\n",
       "      <th></th>\n",
       "      <th>token</th>\n",
       "    </tr>\n",
       "    <tr>\n",
       "      <th>id</th>\n",
       "      <th></th>\n",
       "    </tr>\n",
       "  </thead>\n",
       "  <tbody>\n",
       "    <tr>\n",
       "      <th>0</th>\n",
       "      <td>00</td>\n",
       "    </tr>\n",
       "    <tr>\n",
       "      <th>1</th>\n",
       "      <td>00 pm</td>\n",
       "    </tr>\n",
       "    <tr>\n",
       "      <th>2</th>\n",
       "      <td>000</td>\n",
       "    </tr>\n",
       "    <tr>\n",
       "      <th>3</th>\n",
       "      <td>000 miles</td>\n",
       "    </tr>\n",
       "    <tr>\n",
       "      <th>4</th>\n",
       "      <td>00pm</td>\n",
       "    </tr>\n",
       "    <tr>\n",
       "      <th>...</th>\n",
       "      <td>...</td>\n",
       "    </tr>\n",
       "    <tr>\n",
       "      <th>18454</th>\n",
       "      <td>yup</td>\n",
       "    </tr>\n",
       "    <tr>\n",
       "      <th>18455</th>\n",
       "      <td>yvr</td>\n",
       "    </tr>\n",
       "    <tr>\n",
       "      <th>18456</th>\n",
       "      <td>yyz</td>\n",
       "    </tr>\n",
       "    <tr>\n",
       "      <th>18457</th>\n",
       "      <td>zero</td>\n",
       "    </tr>\n",
       "    <tr>\n",
       "      <th>18458</th>\n",
       "      <td>zone</td>\n",
       "    </tr>\n",
       "  </tbody>\n",
       "</table>\n",
       "<p>18459 rows × 1 columns</p>\n",
       "</div>"
      ],
      "text/plain": [
       "           token\n",
       "id              \n",
       "0             00\n",
       "1          00 pm\n",
       "2            000\n",
       "3      000 miles\n",
       "4           00pm\n",
       "...          ...\n",
       "18454        yup\n",
       "18455        yvr\n",
       "18456        yyz\n",
       "18457       zero\n",
       "18458       zone\n",
       "\n",
       "[18459 rows x 1 columns]"
      ]
     },
     "execution_count": 18,
     "metadata": {},
     "output_type": "execute_result"
    }
   ],
   "source": [
    "pd.DataFrame(vec.vocabulary_.items(), columns=['token', 'id']).sort_values('id').set_index('id')"
   ]
  },
  {
   "cell_type": "code",
   "execution_count": 19,
   "metadata": {},
   "outputs": [
    {
     "data": {
      "text/plain": [
       "<10980x18459 sparse matrix of type '<class 'numpy.int64'>'\n",
       "\twith 283426 stored elements in Compressed Sparse Row format>"
      ]
     },
     "execution_count": 19,
     "metadata": {},
     "output_type": "execute_result"
    }
   ],
   "source": [
    "x_train"
   ]
  },
  {
   "cell_type": "code",
   "execution_count": 20,
   "metadata": {},
   "outputs": [
    {
     "data": {
      "text/plain": [
       "<3660x18459 sparse matrix of type '<class 'numpy.int64'>'\n",
       "\twith 88468 stored elements in Compressed Sparse Row format>"
      ]
     },
     "execution_count": 20,
     "metadata": {},
     "output_type": "execute_result"
    }
   ],
   "source": [
    "x_test"
   ]
  },
  {
   "cell_type": "code",
   "execution_count": 21,
   "metadata": {},
   "outputs": [
    {
     "data": {
      "text/html": [
       "<div>\n",
       "<style scoped>\n",
       "    .dataframe tbody tr th:only-of-type {\n",
       "        vertical-align: middle;\n",
       "    }\n",
       "\n",
       "    .dataframe tbody tr th {\n",
       "        vertical-align: top;\n",
       "    }\n",
       "\n",
       "    .dataframe thead th {\n",
       "        text-align: right;\n",
       "    }\n",
       "</style>\n",
       "<table border=\"1\" class=\"dataframe\">\n",
       "  <thead>\n",
       "    <tr style=\"text-align: right;\">\n",
       "      <th></th>\n",
       "      <th>Precision</th>\n",
       "      <th>Recall</th>\n",
       "      <th>F</th>\n",
       "      <th>Support</th>\n",
       "    </tr>\n",
       "  </thead>\n",
       "  <tbody>\n",
       "    <tr>\n",
       "      <th>negative</th>\n",
       "      <td>0.85</td>\n",
       "      <td>0.90</td>\n",
       "      <td>0.88</td>\n",
       "      <td>2331</td>\n",
       "    </tr>\n",
       "    <tr>\n",
       "      <th>neutral</th>\n",
       "      <td>0.68</td>\n",
       "      <td>0.58</td>\n",
       "      <td>0.63</td>\n",
       "      <td>742</td>\n",
       "    </tr>\n",
       "    <tr>\n",
       "      <th>positive</th>\n",
       "      <td>0.74</td>\n",
       "      <td>0.71</td>\n",
       "      <td>0.72</td>\n",
       "      <td>587</td>\n",
       "    </tr>\n",
       "  </tbody>\n",
       "</table>\n",
       "</div>"
      ],
      "text/plain": [
       "          Precision  Recall     F  Support\n",
       "negative       0.85    0.90  0.88     2331\n",
       "neutral        0.68    0.58  0.63      742\n",
       "positive       0.74    0.71  0.72      587"
      ]
     },
     "execution_count": 21,
     "metadata": {},
     "output_type": "execute_result"
    }
   ],
   "source": [
    "from sklearn.metrics import precision_recall_fscore_support \n",
    "from sklearn.naive_bayes import MultinomialNB\n",
    "\n",
    "clf = MultinomialNB(fit_prior=True)\n",
    "clf.fit(x_train, y_train)\n",
    "y_test_pred = clf.predict(x_test)\n",
    "\n",
    "p, r, f, s = precision_recall_fscore_support(y_test, y_test_pred)\n",
    "\n",
    "pd.DataFrame(\n",
    "    {\n",
    "        'Precision': p,\n",
    "        'Recall': r,\n",
    "        'F': f,\n",
    "        'Support': s,\n",
    "    },\n",
    "    index =le.classes_.tolist()\n",
    ").round(2)"
   ]
  },
  {
   "cell_type": "code",
   "execution_count": 22,
   "metadata": {},
   "outputs": [
    {
     "data": {
      "text/plain": [
       "0    0.85\n",
       "1    0.68\n",
       "2    0.74\n",
       "dtype: float64"
      ]
     },
     "execution_count": 22,
     "metadata": {},
     "output_type": "execute_result"
    }
   ],
   "source": [
    "pd.Series(p).round(2)"
   ]
  },
  {
   "cell_type": "code",
   "execution_count": 23,
   "metadata": {},
   "outputs": [
    {
     "data": {
      "text/plain": [
       "0.7566666666666667"
      ]
     },
     "execution_count": 23,
     "metadata": {},
     "output_type": "execute_result"
    }
   ],
   "source": [
    "pd.Series(p).round(2).mean()"
   ]
  },
  {
   "cell_type": "code",
   "execution_count": 24,
   "metadata": {},
   "outputs": [
    {
     "name": "stdout",
     "output_type": "stream",
     "text": [
      "Macro Precision = 75.87% & Recall=73.09%\n"
     ]
    }
   ],
   "source": [
    "y_test_pred = clf.predict(x_test)\n",
    "\n",
    "p, r, f, s = precision_recall_fscore_support(y_test, y_test_pred, average='macro')\n",
    "\n",
    "print(f'Macro Precision = {p:.2%} & Recall={r:.2%}')"
   ]
  },
  {
   "cell_type": "code",
   "execution_count": 25,
   "metadata": {},
   "outputs": [
    {
     "data": {
      "text/plain": [
       "0.807103825136612"
      ]
     },
     "execution_count": 25,
     "metadata": {},
     "output_type": "execute_result"
    }
   ],
   "source": [
    "precision_recall_fscore_support(y_test, y_test_pred, average='micro')[2]"
   ]
  },
  {
   "cell_type": "code",
   "execution_count": 26,
   "metadata": {},
   "outputs": [
    {
     "data": {
      "text/html": [
       "<div>\n",
       "<style scoped>\n",
       "    .dataframe tbody tr th:only-of-type {\n",
       "        vertical-align: middle;\n",
       "    }\n",
       "\n",
       "    .dataframe tbody tr th {\n",
       "        vertical-align: top;\n",
       "    }\n",
       "\n",
       "    .dataframe thead th {\n",
       "        text-align: right;\n",
       "    }\n",
       "</style>\n",
       "<table border=\"1\" class=\"dataframe\">\n",
       "  <thead>\n",
       "    <tr style=\"text-align: right;\">\n",
       "      <th></th>\n",
       "      <th>Precision</th>\n",
       "      <th>Recall</th>\n",
       "      <th>F</th>\n",
       "      <th>Support</th>\n",
       "    </tr>\n",
       "  </thead>\n",
       "  <tbody>\n",
       "    <tr>\n",
       "      <th>negative</th>\n",
       "      <td>0.882713</td>\n",
       "      <td>0.865294</td>\n",
       "      <td>0.873917</td>\n",
       "      <td>2331</td>\n",
       "    </tr>\n",
       "    <tr>\n",
       "      <th>neutral</th>\n",
       "      <td>0.635374</td>\n",
       "      <td>0.629380</td>\n",
       "      <td>0.632363</td>\n",
       "      <td>742</td>\n",
       "    </tr>\n",
       "    <tr>\n",
       "      <th>positive</th>\n",
       "      <td>0.693750</td>\n",
       "      <td>0.756388</td>\n",
       "      <td>0.723716</td>\n",
       "      <td>587</td>\n",
       "    </tr>\n",
       "  </tbody>\n",
       "</table>\n",
       "</div>"
      ],
      "text/plain": [
       "          Precision    Recall         F  Support\n",
       "negative   0.882713  0.865294  0.873917     2331\n",
       "neutral    0.635374  0.629380  0.632363      742\n",
       "positive   0.693750  0.756388  0.723716      587"
      ]
     },
     "execution_count": 26,
     "metadata": {},
     "output_type": "execute_result"
    }
   ],
   "source": [
    "from sklearn.metrics import precision_recall_fscore_support \n",
    "from sklearn.naive_bayes import MultinomialNB\n",
    "\n",
    "clf = MultinomialNB(fit_prior=False)\n",
    "clf.fit(x_train, y_train)\n",
    "y_test_pred = clf.predict(x_test)\n",
    "\n",
    "p, r, f, s = precision_recall_fscore_support(y_test, y_test_pred)\n",
    "\n",
    "pd.DataFrame(\n",
    "    {\n",
    "        'Precision': p,\n",
    "        'Recall': r,\n",
    "        'F': f,\n",
    "        'Support': s,\n",
    "    },\n",
    "    index =le.classes_.tolist()\n",
    ")"
   ]
  },
  {
   "cell_type": "code",
   "execution_count": 27,
   "metadata": {},
   "outputs": [
    {
     "data": {
      "text/plain": [
       "0.8000000000000002"
      ]
     },
     "execution_count": 27,
     "metadata": {},
     "output_type": "execute_result"
    }
   ],
   "source": [
    "precision_recall_fscore_support(y_test, y_test_pred, average='micro')[2]"
   ]
  },
  {
   "cell_type": "code",
   "execution_count": 28,
   "metadata": {},
   "outputs": [
    {
     "name": "stdout",
     "output_type": "stream",
     "text": [
      "Micro FScore = 0.7795081967213114 @ ngram_range = (1, 1)\n",
      "Micro FScore = 0.7303278688524591 @ ngram_range = (2, 2)\n",
      "Micro FScore = 0.6346994535519126 @ ngram_range = (3, 3)\n",
      "Micro FScore = 0.659016393442623 @ ngram_range = (4, 4)\n",
      "Micro FScore = 0.6524590163934426 @ ngram_range = (5, 5)\n",
      "Micro FScore = 0.646448087431694 @ ngram_range = (6, 6)\n",
      "Micro FScore = 0.6456284153005465 @ ngram_range = (7, 7)\n",
      "Micro FScore = 0.6396174863387978 @ ngram_range = (8, 8)\n"
     ]
    },
    {
     "name": "stderr",
     "output_type": "stream",
     "text": [
      "/Users/tarek/anaconda3/envs/scikitbook/lib/python3.6/site-packages/ipykernel_launcher.py:37: UserWarning: Matplotlib is currently using module://ipykernel.pylab.backend_inline, which is a non-GUI backend, so cannot show the figure.\n"
     ]
    },
    {
     "data": {
      "image/png": "[encoded data removed]",
      "text/plain": [
       "<Figure size 720x720 with 1 Axes>"
      ]
     },
     "metadata": {
      "needs_background": "light"
     },
     "output_type": "display_data"
    }
   ],
   "source": [
    "from sklearn.pipeline import make_pipeline\n",
    "from sklearn.feature_extraction.text import CountVectorizer\n",
    "from sklearn.naive_bayes import MultinomialNB\n",
    "\n",
    "micro_fscores = []\n",
    "\n",
    "for ngram_range in [(1, 1), (2, 2), (3, 3), (4, 4), (5, 5), (6, 6), (7, 7), (8, 8)]:\n",
    "\n",
    "    pipeline = make_pipeline(\n",
    "        CountVectorizer(ngram_range=ngram_range, min_df=3, max_df=0.2, strip_accents='ascii'),\n",
    "        MultinomialNB(fit_prior=False)\n",
    "    )\n",
    "\n",
    "    pipeline.fit(df_train['text'], y_train)\n",
    "    y_test_pred =  pipeline.predict(df_test['text'])\n",
    "\n",
    "    p, r, f, s = precision_recall_fscore_support(y_test, y_test_pred)\n",
    "\n",
    "    micro_fscore = precision_recall_fscore_support(y_test, y_test_pred, average='micro')[2]\n",
    "\n",
    "    print(f'Micro FScore = {micro_fscore} @ ngram_range = {ngram_range}')\n",
    "    \n",
    "    micro_fscores.append([ngram_range[-1], micro_fscore])\n",
    "    \n",
    "fig, ax = plt.subplots(1, 1, figsize=(10, 10))\n",
    "\n",
    "pd.DataFrame(\n",
    "    micro_fscores,\n",
    "    columns=['ngram', 'Micro FScore']\n",
    ").set_index('ngram')['Micro FScore'].plot(\n",
    "    title='Micro FScore vs ngram',\n",
    "    color='k',\n",
    "    kind='bar',\n",
    "    ax=ax,\n",
    ")\n",
    "\n",
    "fig.show()"
   ]
  },
  {
   "cell_type": "code",
   "execution_count": 29,
   "metadata": {
    "scrolled": false
   },
   "outputs": [
    {
     "name": "stderr",
     "output_type": "stream",
     "text": [
      "/Users/tarek/anaconda3/envs/scikitbook/lib/python3.6/site-packages/ipykernel_launcher.py:53: UserWarning: Matplotlib is currently using module://ipykernel.pylab.backend_inline, which is a non-GUI backend, so cannot show the figure.\n"
     ]
    },
    {
     "data": {
      "image/png": "[encoded data removed]",
      "text/plain": [
       "<Figure size 1008x576 with 2 Axes>"
      ]
     },
     "metadata": {
      "needs_background": "light"
     },
     "output_type": "display_data"
    }
   ],
   "source": [
    "from sklearn.pipeline import make_pipeline\n",
    "from sklearn.feature_extraction.text import CountVectorizer\n",
    "from sklearn.naive_bayes import MultinomialNB\n",
    "\n",
    "precision_scores = []\n",
    "recall_scores = []\n",
    "\n",
    "for max_df in [.01, .05, .1, .2, .4, .8]:\n",
    "\n",
    "    pipeline = make_pipeline(\n",
    "        CountVectorizer(ngram_range=(4,4), min_df=3, max_df=max_df, strip_accents='ascii'),\n",
    "        MultinomialNB(fit_prior=False, alpha=1)\n",
    "    )\n",
    "\n",
    "    pipeline.fit(df_train['text'], y_train)\n",
    "    y_test_pred =  pipeline.predict(df_test['text'])\n",
    "\n",
    "    p, r, f, s = precision_recall_fscore_support(y_test, y_test_pred)\n",
    "    \n",
    "    precision_score = [f'{max_df}']\n",
    "    precision_score.extend(p)\n",
    "    \n",
    "    recall_score = [f'{max_df}']\n",
    "    recall_score.extend(r)\n",
    "    \n",
    "    precision_scores.append(precision_score)\n",
    "    recall_scores.append(recall_score)\n",
    "    \n",
    "fig, axs = plt.subplots(1, 2, figsize=(14, 8))\n",
    "\n",
    "pd.DataFrame(\n",
    "    precision_scores,\n",
    "    columns=['alpha', 'Precision(negative)', 'Precision(neutral)', 'Precision(positive)']\n",
    ").set_index('alpha').plot(\n",
    "    title='Precision vs max_df',\n",
    "    # color='k',\n",
    "    kind='line',\n",
    "    ylim=(0,1),\n",
    "    ax=axs[0],\n",
    ")\n",
    "\n",
    "pd.DataFrame(\n",
    "    recall_scores,\n",
    "    columns=['alpha', 'Recall(negative)', 'Recall(neutral)', 'Recall(positive)']\n",
    ").set_index('alpha').plot(\n",
    "    title='Recall vs max_df',\n",
    "    # color='k',\n",
    "    kind='line',\n",
    "    ylim=(0,1),\n",
    "    ax=axs[1],\n",
    ")\n",
    "\n",
    "fig.show()"
   ]
  },
  {
   "cell_type": "markdown",
   "metadata": {},
   "source": [
    "# GridSearch + Pipeline"
   ]
  },
  {
   "cell_type": "code",
   "execution_count": 30,
   "metadata": {},
   "outputs": [],
   "source": [
    "from sklearn.pipeline import Pipeline\n",
    "from sklearn.feature_extraction.text import CountVectorizer\n",
    "from sklearn.naive_bayes import MultinomialNB\n",
    "\n",
    "pipe = Pipeline(steps=[('CountVectorizer', CountVectorizer()), ('MultinomialNB', MultinomialNB())])"
   ]
  },
  {
   "cell_type": "code",
   "execution_count": 31,
   "metadata": {},
   "outputs": [],
   "source": [
    "param_grid = {\n",
    "    'CountVectorizer__ngram_range': [(1,1), (1,2), (1,3)],\n",
    "    'MultinomialNB__alpha': [0.1, 1],\n",
    "    'MultinomialNB__fit_prior': [True, False],\n",
    "}"
   ]
  },
  {
   "cell_type": "code",
   "execution_count": 32,
   "metadata": {
    "scrolled": false
   },
   "outputs": [
    {
     "name": "stdout",
     "output_type": "stream",
     "text": [
      "{'CountVectorizer__ngram_range': (1, 2), 'MultinomialNB__alpha': 1, 'MultinomialNB__fit_prior': True}\n"
     ]
    }
   ],
   "source": [
    "from sklearn.model_selection import GridSearchCV\n",
    "\n",
    "search = GridSearchCV(pipe, param_grid, scoring='precision_macro', n_jobs=-1)\n",
    "search.fit(df_train['text'], y_train)\n",
    "print(search.best_params_)"
   ]
  },
  {
   "cell_type": "code",
   "execution_count": 33,
   "metadata": {},
   "outputs": [
    {
     "name": "stdout",
     "output_type": "stream",
     "text": [
      "Macro Precision = 82.27% & Recall=56.37%\n"
     ]
    }
   ],
   "source": [
    "y_test_pred = search.predict(df_test['text'])\n",
    "\n",
    "p, r, f, s = precision_recall_fscore_support(y_test, y_test_pred, average='macro')\n",
    "\n",
    "print(f'Macro Precision = {p:.2%} & Recall={r:.2%}')"
   ]
  },
  {
   "cell_type": "code",
   "execution_count": 34,
   "metadata": {},
   "outputs": [
    {
     "name": "stdout",
     "output_type": "stream",
     "text": [
      "{'CountVectorizer__ngram_range': (1, 1), 'MultinomialNB__alpha': 0.1, 'MultinomialNB__fit_prior': False}\n"
     ]
    }
   ],
   "source": [
    "from sklearn.model_selection import GridSearchCV\n",
    "\n",
    "search = GridSearchCV(pipe, param_grid, scoring='recall_macro', n_jobs=-1)\n",
    "search.fit(df_train['text'], y_train)\n",
    "print(search.best_params_)"
   ]
  },
  {
   "cell_type": "code",
   "execution_count": 35,
   "metadata": {},
   "outputs": [
    {
     "name": "stdout",
     "output_type": "stream",
     "text": [
      "Macro Precision = 71.27% & Recall=72.55%\n"
     ]
    }
   ],
   "source": [
    "y_test_pred = search.predict(df_test['text'])\n",
    "\n",
    "p, r, f, s = precision_recall_fscore_support(y_test, y_test_pred, average='macro')\n",
    "\n",
    "print(f'Macro Precision = {p:.2%} & Recall={r:.2%}')"
   ]
  },
  {
   "cell_type": "code",
   "execution_count": null,
   "metadata": {},
   "outputs": [],
   "source": []
  },
  {
   "cell_type": "code",
   "execution_count": 36,
   "metadata": {},
   "outputs": [],
   "source": [
    "from sklearn.feature_extraction.text import CountVectorizer\n",
    "\n",
    "vec = CountVectorizer(ngram_range=(1,3), min_df=3, max_df=0.2, binary=True, strip_accents='ascii')\n",
    "\n",
    "x_train = vec.fit_transform(df_train['text'])\n",
    "x_test = vec.transform(df_test['text'])"
   ]
  },
  {
   "cell_type": "code",
   "execution_count": 37,
   "metadata": {},
   "outputs": [
    {
     "data": {
      "text/html": [
       "<div>\n",
       "<style scoped>\n",
       "    .dataframe tbody tr th:only-of-type {\n",
       "        vertical-align: middle;\n",
       "    }\n",
       "\n",
       "    .dataframe tbody tr th {\n",
       "        vertical-align: top;\n",
       "    }\n",
       "\n",
       "    .dataframe thead th {\n",
       "        text-align: right;\n",
       "    }\n",
       "</style>\n",
       "<table border=\"1\" class=\"dataframe\">\n",
       "  <thead>\n",
       "    <tr style=\"text-align: right;\">\n",
       "      <th></th>\n",
       "      <th>Precision</th>\n",
       "      <th>Recall</th>\n",
       "      <th>F</th>\n",
       "      <th>Support</th>\n",
       "    </tr>\n",
       "  </thead>\n",
       "  <tbody>\n",
       "    <tr>\n",
       "      <th>negative</th>\n",
       "      <td>0.898618</td>\n",
       "      <td>0.836551</td>\n",
       "      <td>0.866474</td>\n",
       "      <td>2331</td>\n",
       "    </tr>\n",
       "    <tr>\n",
       "      <th>neutral</th>\n",
       "      <td>0.586359</td>\n",
       "      <td>0.718329</td>\n",
       "      <td>0.645669</td>\n",
       "      <td>742</td>\n",
       "    </tr>\n",
       "    <tr>\n",
       "      <th>positive</th>\n",
       "      <td>0.721170</td>\n",
       "      <td>0.713799</td>\n",
       "      <td>0.717466</td>\n",
       "      <td>587</td>\n",
       "    </tr>\n",
       "  </tbody>\n",
       "</table>\n",
       "</div>"
      ],
      "text/plain": [
       "          Precision    Recall         F  Support\n",
       "negative   0.898618  0.836551  0.866474     2331\n",
       "neutral    0.586359  0.718329  0.645669      742\n",
       "positive   0.721170  0.713799  0.717466      587"
      ]
     },
     "execution_count": 37,
     "metadata": {},
     "output_type": "execute_result"
    }
   ],
   "source": [
    "from sklearn.metrics import precision_recall_fscore_support \n",
    "from sklearn.naive_bayes import BernoulliNB\n",
    "\n",
    "clf = BernoulliNB(fit_prior=False)\n",
    "clf.fit(x_train, y_train)\n",
    "y_test_pred = clf.predict(x_test)\n",
    "\n",
    "p, r, f, s = precision_recall_fscore_support(y_test, y_test_pred)\n",
    "\n",
    "pd.DataFrame(\n",
    "    {\n",
    "        'Precision': p,\n",
    "        'Recall': r,\n",
    "        'F': f,\n",
    "        'Support': s,\n",
    "    },\n",
    "    index =le.classes_.tolist()\n",
    ")"
   ]
  },
  {
   "cell_type": "code",
   "execution_count": 38,
   "metadata": {},
   "outputs": [
    {
     "data": {
      "text/plain": [
       "0.7928961748633879"
      ]
     },
     "execution_count": 38,
     "metadata": {},
     "output_type": "execute_result"
    }
   ],
   "source": [
    "precision_recall_fscore_support(y_test, y_test_pred, average='micro')[2]"
   ]
  },
  {
   "cell_type": "code",
   "execution_count": 39,
   "metadata": {},
   "outputs": [],
   "source": [
    "df_vocab = pd.DataFrame(vec.vocabulary_.items(), columns=['token', 'id']).sort_values('id').set_index('id')\n",
    "\n",
    "c1, c2, c3 = clf.coef_\n",
    "\n",
    "df_vocab['negative_coef'] = c1\n",
    "df_vocab['neutral_coef'] = c2\n",
    "df_vocab['positive_coef'] = c3"
   ]
  },
  {
   "cell_type": "code",
   "execution_count": 40,
   "metadata": {},
   "outputs": [
    {
     "data": {
      "text/html": [
       "<div>\n",
       "<style scoped>\n",
       "    .dataframe tbody tr th:only-of-type {\n",
       "        vertical-align: middle;\n",
       "    }\n",
       "\n",
       "    .dataframe tbody tr th {\n",
       "        vertical-align: top;\n",
       "    }\n",
       "\n",
       "    .dataframe thead th {\n",
       "        text-align: right;\n",
       "    }\n",
       "</style>\n",
       "<table border=\"1\" class=\"dataframe\">\n",
       "  <thead>\n",
       "    <tr style=\"text-align: right;\">\n",
       "      <th></th>\n",
       "      <th>token</th>\n",
       "      <th>negative_coef</th>\n",
       "      <th>neutral_coef</th>\n",
       "      <th>positive_coef</th>\n",
       "    </tr>\n",
       "    <tr>\n",
       "      <th>id</th>\n",
       "      <th></th>\n",
       "      <th></th>\n",
       "      <th></th>\n",
       "      <th></th>\n",
       "    </tr>\n",
       "  </thead>\n",
       "  <tbody>\n",
       "    <tr>\n",
       "      <th>9673</th>\n",
       "      <td>my</td>\n",
       "      <td>-1.475578</td>\n",
       "      <td>-1.922449</td>\n",
       "      <td>-1.994307</td>\n",
       "    </tr>\n",
       "    <tr>\n",
       "      <th>7755</th>\n",
       "      <td>is</td>\n",
       "      <td>-1.562241</td>\n",
       "      <td>-1.934111</td>\n",
       "      <td>-2.359280</td>\n",
       "    </tr>\n",
       "    <tr>\n",
       "      <th>7446</th>\n",
       "      <td>in</td>\n",
       "      <td>-1.738453</td>\n",
       "      <td>-1.937047</td>\n",
       "      <td>-2.045165</td>\n",
       "    </tr>\n",
       "    <tr>\n",
       "      <th>7999</th>\n",
       "      <td>it</td>\n",
       "      <td>-1.865834</td>\n",
       "      <td>-2.000802</td>\n",
       "      <td>-2.076073</td>\n",
       "    </tr>\n",
       "    <tr>\n",
       "      <th>10543</th>\n",
       "      <td>of</td>\n",
       "      <td>-1.877219</td>\n",
       "      <td>-2.277055</td>\n",
       "      <td>-2.335750</td>\n",
       "    </tr>\n",
       "    <tr>\n",
       "      <th>10266</th>\n",
       "      <td>not</td>\n",
       "      <td>-1.965967</td>\n",
       "      <td>-3.021061</td>\n",
       "      <td>-3.372371</td>\n",
       "    </tr>\n",
       "    <tr>\n",
       "      <th>13877</th>\n",
       "      <td>that</td>\n",
       "      <td>-1.999904</td>\n",
       "      <td>-2.589843</td>\n",
       "      <td>-2.570590</td>\n",
       "    </tr>\n",
       "    <tr>\n",
       "      <th>18305</th>\n",
       "      <td>your</td>\n",
       "      <td>-2.021715</td>\n",
       "      <td>-3.003819</td>\n",
       "      <td>-2.301461</td>\n",
       "    </tr>\n",
       "    <tr>\n",
       "      <th>13121</th>\n",
       "      <td>southwestair</td>\n",
       "      <td>-2.030575</td>\n",
       "      <td>-1.547393</td>\n",
       "      <td>-1.387420</td>\n",
       "    </tr>\n",
       "    <tr>\n",
       "      <th>10120</th>\n",
       "      <td>no</td>\n",
       "      <td>-2.036152</td>\n",
       "      <td>-3.311646</td>\n",
       "      <td>-3.745575</td>\n",
       "    </tr>\n",
       "    <tr>\n",
       "      <th>9215</th>\n",
       "      <td>me</td>\n",
       "      <td>-2.042886</td>\n",
       "      <td>-2.289530</td>\n",
       "      <td>-2.268309</td>\n",
       "    </tr>\n",
       "    <tr>\n",
       "      <th>6672</th>\n",
       "      <td>have</td>\n",
       "      <td>-2.066819</td>\n",
       "      <td>-2.400017</td>\n",
       "      <td>-2.868124</td>\n",
       "    </tr>\n",
       "    <tr>\n",
       "      <th>16938</th>\n",
       "      <td>was</td>\n",
       "      <td>-2.134824</td>\n",
       "      <td>-3.093164</td>\n",
       "      <td>-2.353346</td>\n",
       "    </tr>\n",
       "    <tr>\n",
       "      <th>2887</th>\n",
       "      <td>can</td>\n",
       "      <td>-2.201175</td>\n",
       "      <td>-2.000802</td>\n",
       "      <td>-3.220565</td>\n",
       "    </tr>\n",
       "    <tr>\n",
       "      <th>17684</th>\n",
       "      <td>with</td>\n",
       "      <td>-2.215793</td>\n",
       "      <td>-2.518969</td>\n",
       "      <td>-2.534485</td>\n",
       "    </tr>\n",
       "    <tr>\n",
       "      <th>14644</th>\n",
       "      <td>this</td>\n",
       "      <td>-2.244308</td>\n",
       "      <td>-2.716137</td>\n",
       "      <td>-2.646963</td>\n",
       "    </tr>\n",
       "    <tr>\n",
       "      <th>1818</th>\n",
       "      <td>at</td>\n",
       "      <td>-2.251219</td>\n",
       "      <td>-2.684589</td>\n",
       "      <td>-2.608047</td>\n",
       "    </tr>\n",
       "    <tr>\n",
       "      <th>8203</th>\n",
       "      <td>jetblue</td>\n",
       "      <td>-2.262377</td>\n",
       "      <td>-1.474424</td>\n",
       "      <td>-1.442990</td>\n",
       "    </tr>\n",
       "    <tr>\n",
       "      <th>2683</th>\n",
       "      <td>but</td>\n",
       "      <td>-2.290828</td>\n",
       "      <td>-2.890796</td>\n",
       "      <td>-3.101218</td>\n",
       "    </tr>\n",
       "    <tr>\n",
       "      <th>6097</th>\n",
       "      <td>get</td>\n",
       "      <td>-2.305363</td>\n",
       "      <td>-2.630195</td>\n",
       "      <td>-3.113797</td>\n",
       "    </tr>\n",
       "  </tbody>\n",
       "</table>\n",
       "</div>"
      ],
      "text/plain": [
       "              token  negative_coef  neutral_coef  positive_coef\n",
       "id                                                             \n",
       "9673             my      -1.475578     -1.922449      -1.994307\n",
       "7755             is      -1.562241     -1.934111      -2.359280\n",
       "7446             in      -1.738453     -1.937047      -2.045165\n",
       "7999             it      -1.865834     -2.000802      -2.076073\n",
       "10543            of      -1.877219     -2.277055      -2.335750\n",
       "10266           not      -1.965967     -3.021061      -3.372371\n",
       "13877          that      -1.999904     -2.589843      -2.570590\n",
       "18305          your      -2.021715     -3.003819      -2.301461\n",
       "13121  southwestair      -2.030575     -1.547393      -1.387420\n",
       "10120            no      -2.036152     -3.311646      -3.745575\n",
       "9215             me      -2.042886     -2.289530      -2.268309\n",
       "6672           have      -2.066819     -2.400017      -2.868124\n",
       "16938           was      -2.134824     -3.093164      -2.353346\n",
       "2887            can      -2.201175     -2.000802      -3.220565\n",
       "17684          with      -2.215793     -2.518969      -2.534485\n",
       "14644          this      -2.244308     -2.716137      -2.646963\n",
       "1818             at      -2.251219     -2.684589      -2.608047\n",
       "8203        jetblue      -2.262377     -1.474424      -1.442990\n",
       "2683            but      -2.290828     -2.890796      -3.101218\n",
       "6097            get      -2.305363     -2.630195      -3.113797"
      ]
     },
     "execution_count": 40,
     "metadata": {},
     "output_type": "execute_result"
    }
   ],
   "source": [
    "df_vocab.sort_values('negative_coef', ascending=False).head(20)"
   ]
  },
  {
   "cell_type": "code",
   "execution_count": 41,
   "metadata": {},
   "outputs": [
    {
     "data": {
      "text/html": [
       "<div>\n",
       "<style scoped>\n",
       "    .dataframe tbody tr th:only-of-type {\n",
       "        vertical-align: middle;\n",
       "    }\n",
       "\n",
       "    .dataframe tbody tr th {\n",
       "        vertical-align: top;\n",
       "    }\n",
       "\n",
       "    .dataframe thead th {\n",
       "        text-align: right;\n",
       "    }\n",
       "</style>\n",
       "<table border=\"1\" class=\"dataframe\">\n",
       "  <thead>\n",
       "    <tr style=\"text-align: right;\">\n",
       "      <th></th>\n",
       "      <th>token</th>\n",
       "      <th>negative_coef</th>\n",
       "      <th>neutral_coef</th>\n",
       "      <th>positive_coef</th>\n",
       "    </tr>\n",
       "    <tr>\n",
       "      <th>id</th>\n",
       "      <th></th>\n",
       "      <th></th>\n",
       "      <th></th>\n",
       "      <th></th>\n",
       "    </tr>\n",
       "  </thead>\n",
       "  <tbody>\n",
       "    <tr>\n",
       "      <th>13825</th>\n",
       "      <td>thanks</td>\n",
       "      <td>-3.363798</td>\n",
       "      <td>-2.986870</td>\n",
       "      <td>-1.380686</td>\n",
       "    </tr>\n",
       "    <tr>\n",
       "      <th>13121</th>\n",
       "      <td>southwestair</td>\n",
       "      <td>-2.030575</td>\n",
       "      <td>-1.547393</td>\n",
       "      <td>-1.387420</td>\n",
       "    </tr>\n",
       "    <tr>\n",
       "      <th>8203</th>\n",
       "      <td>jetblue</td>\n",
       "      <td>-2.262377</td>\n",
       "      <td>-1.474424</td>\n",
       "      <td>-1.442990</td>\n",
       "    </tr>\n",
       "    <tr>\n",
       "      <th>13801</th>\n",
       "      <td>thank</td>\n",
       "      <td>-4.704724</td>\n",
       "      <td>-3.795701</td>\n",
       "      <td>-1.696347</td>\n",
       "    </tr>\n",
       "    <tr>\n",
       "      <th>13805</th>\n",
       "      <td>thank you</td>\n",
       "      <td>-4.842874</td>\n",
       "      <td>-3.834167</td>\n",
       "      <td>-1.737041</td>\n",
       "    </tr>\n",
       "    <tr>\n",
       "      <th>9673</th>\n",
       "      <td>my</td>\n",
       "      <td>-1.475578</td>\n",
       "      <td>-1.922449</td>\n",
       "      <td>-1.994307</td>\n",
       "    </tr>\n",
       "    <tr>\n",
       "      <th>7446</th>\n",
       "      <td>in</td>\n",
       "      <td>-1.738453</td>\n",
       "      <td>-1.937047</td>\n",
       "      <td>-2.045165</td>\n",
       "    </tr>\n",
       "    <tr>\n",
       "      <th>7999</th>\n",
       "      <td>it</td>\n",
       "      <td>-1.865834</td>\n",
       "      <td>-2.000802</td>\n",
       "      <td>-2.076073</td>\n",
       "    </tr>\n",
       "    <tr>\n",
       "      <th>3385</th>\n",
       "      <td>co</td>\n",
       "      <td>-3.008812</td>\n",
       "      <td>-1.860631</td>\n",
       "      <td>-2.230971</td>\n",
       "    </tr>\n",
       "    <tr>\n",
       "      <th>9215</th>\n",
       "      <td>me</td>\n",
       "      <td>-2.042886</td>\n",
       "      <td>-2.289530</td>\n",
       "      <td>-2.268309</td>\n",
       "    </tr>\n",
       "    <tr>\n",
       "      <th>7310</th>\n",
       "      <td>http co</td>\n",
       "      <td>-3.048033</td>\n",
       "      <td>-1.899525</td>\n",
       "      <td>-2.301461</td>\n",
       "    </tr>\n",
       "    <tr>\n",
       "      <th>18305</th>\n",
       "      <td>your</td>\n",
       "      <td>-2.021715</td>\n",
       "      <td>-3.003819</td>\n",
       "      <td>-2.301461</td>\n",
       "    </tr>\n",
       "    <tr>\n",
       "      <th>7309</th>\n",
       "      <td>http</td>\n",
       "      <td>-3.048033</td>\n",
       "      <td>-1.899525</td>\n",
       "      <td>-2.301461</td>\n",
       "    </tr>\n",
       "    <tr>\n",
       "      <th>6443</th>\n",
       "      <td>great</td>\n",
       "      <td>-4.688723</td>\n",
       "      <td>-5.126936</td>\n",
       "      <td>-2.329953</td>\n",
       "    </tr>\n",
       "    <tr>\n",
       "      <th>10543</th>\n",
       "      <td>of</td>\n",
       "      <td>-1.877219</td>\n",
       "      <td>-2.277055</td>\n",
       "      <td>-2.335750</td>\n",
       "    </tr>\n",
       "    <tr>\n",
       "      <th>16938</th>\n",
       "      <td>was</td>\n",
       "      <td>-2.134824</td>\n",
       "      <td>-3.093164</td>\n",
       "      <td>-2.353346</td>\n",
       "    </tr>\n",
       "    <tr>\n",
       "      <th>7755</th>\n",
       "      <td>is</td>\n",
       "      <td>-1.562241</td>\n",
       "      <td>-1.934111</td>\n",
       "      <td>-2.359280</td>\n",
       "    </tr>\n",
       "    <tr>\n",
       "      <th>13831</th>\n",
       "      <td>thanks for</td>\n",
       "      <td>-4.086926</td>\n",
       "      <td>-4.932780</td>\n",
       "      <td>-2.401840</td>\n",
       "    </tr>\n",
       "    <tr>\n",
       "      <th>17684</th>\n",
       "      <td>with</td>\n",
       "      <td>-2.215793</td>\n",
       "      <td>-2.518969</td>\n",
       "      <td>-2.534485</td>\n",
       "    </tr>\n",
       "    <tr>\n",
       "      <th>13877</th>\n",
       "      <td>that</td>\n",
       "      <td>-1.999904</td>\n",
       "      <td>-2.589843</td>\n",
       "      <td>-2.570590</td>\n",
       "    </tr>\n",
       "  </tbody>\n",
       "</table>\n",
       "</div>"
      ],
      "text/plain": [
       "              token  negative_coef  neutral_coef  positive_coef\n",
       "id                                                             \n",
       "13825        thanks      -3.363798     -2.986870      -1.380686\n",
       "13121  southwestair      -2.030575     -1.547393      -1.387420\n",
       "8203        jetblue      -2.262377     -1.474424      -1.442990\n",
       "13801         thank      -4.704724     -3.795701      -1.696347\n",
       "13805     thank you      -4.842874     -3.834167      -1.737041\n",
       "9673             my      -1.475578     -1.922449      -1.994307\n",
       "7446             in      -1.738453     -1.937047      -2.045165\n",
       "7999             it      -1.865834     -2.000802      -2.076073\n",
       "3385             co      -3.008812     -1.860631      -2.230971\n",
       "9215             me      -2.042886     -2.289530      -2.268309\n",
       "7310        http co      -3.048033     -1.899525      -2.301461\n",
       "18305          your      -2.021715     -3.003819      -2.301461\n",
       "7309           http      -3.048033     -1.899525      -2.301461\n",
       "6443          great      -4.688723     -5.126936      -2.329953\n",
       "10543            of      -1.877219     -2.277055      -2.335750\n",
       "16938           was      -2.134824     -3.093164      -2.353346\n",
       "7755             is      -1.562241     -1.934111      -2.359280\n",
       "13831    thanks for      -4.086926     -4.932780      -2.401840\n",
       "17684          with      -2.215793     -2.518969      -2.534485\n",
       "13877          that      -1.999904     -2.589843      -2.570590"
      ]
     },
     "execution_count": 41,
     "metadata": {},
     "output_type": "execute_result"
    }
   ],
   "source": [
    "df_vocab.sort_values('positive_coef', ascending=False).head(20)"
   ]
  },
  {
   "cell_type": "code",
   "execution_count": 42,
   "metadata": {},
   "outputs": [
    {
     "name": "stderr",
     "output_type": "stream",
     "text": [
      "/Users/tarek/anaconda3/envs/scikitbook/lib/python3.6/site-packages/sklearn/linear_model/_logistic.py:939: ConvergenceWarning: lbfgs failed to converge (status=1):\n",
      "STOP: TOTAL NO. of ITERATIONS REACHED LIMIT.\n",
      "\n",
      "Increase the number of iterations (max_iter) or scale the data as shown in:\n",
      "    https://scikit-learn.org/stable/modules/preprocessing.html.\n",
      "Please also refer to the documentation for alternative solver options:\n",
      "    https://scikit-learn.org/stable/modules/linear_model.html#logistic-regression\n",
      "  extra_warning_msg=_LOGISTIC_SOLVER_CONVERGENCE_MSG)\n"
     ]
    },
    {
     "data": {
      "text/html": [
       "<div>\n",
       "<style scoped>\n",
       "    .dataframe tbody tr th:only-of-type {\n",
       "        vertical-align: middle;\n",
       "    }\n",
       "\n",
       "    .dataframe tbody tr th {\n",
       "        vertical-align: top;\n",
       "    }\n",
       "\n",
       "    .dataframe thead th {\n",
       "        text-align: right;\n",
       "    }\n",
       "</style>\n",
       "<table border=\"1\" class=\"dataframe\">\n",
       "  <thead>\n",
       "    <tr style=\"text-align: right;\">\n",
       "      <th></th>\n",
       "      <th>Precision</th>\n",
       "      <th>Recall</th>\n",
       "      <th>F</th>\n",
       "      <th>Support</th>\n",
       "    </tr>\n",
       "  </thead>\n",
       "  <tbody>\n",
       "    <tr>\n",
       "      <th>negative</th>\n",
       "      <td>0.864820</td>\n",
       "      <td>0.897469</td>\n",
       "      <td>0.880842</td>\n",
       "      <td>2331</td>\n",
       "    </tr>\n",
       "    <tr>\n",
       "      <th>neutral</th>\n",
       "      <td>0.633472</td>\n",
       "      <td>0.617251</td>\n",
       "      <td>0.625256</td>\n",
       "      <td>742</td>\n",
       "    </tr>\n",
       "    <tr>\n",
       "      <th>positive</th>\n",
       "      <td>0.776062</td>\n",
       "      <td>0.684838</td>\n",
       "      <td>0.727602</td>\n",
       "      <td>587</td>\n",
       "    </tr>\n",
       "  </tbody>\n",
       "</table>\n",
       "</div>"
      ],
      "text/plain": [
       "          Precision    Recall         F  Support\n",
       "negative   0.864820  0.897469  0.880842     2331\n",
       "neutral    0.633472  0.617251  0.625256      742\n",
       "positive   0.776062  0.684838  0.727602      587"
      ]
     },
     "execution_count": 42,
     "metadata": {},
     "output_type": "execute_result"
    }
   ],
   "source": [
    "from sklearn.metrics import precision_recall_fscore_support \n",
    "from sklearn.linear_model import LogisticRegression\n",
    "\n",
    "clf = LogisticRegression()\n",
    "clf.fit(x_train, y_train)\n",
    "y_test_pred = clf.predict(x_test)\n",
    "\n",
    "p, r, f, s = precision_recall_fscore_support(y_test, y_test_pred)\n",
    "\n",
    "pd.DataFrame(\n",
    "    {\n",
    "        'Precision': p,\n",
    "        'Recall': r,\n",
    "        'F': f,\n",
    "        'Support': s,\n",
    "    },\n",
    "    index =le.classes_.tolist()\n",
    ")\n"
   ]
  },
  {
   "cell_type": "code",
   "execution_count": 43,
   "metadata": {},
   "outputs": [
    {
     "data": {
      "text/plain": [
       "0.8065573770491803"
      ]
     },
     "execution_count": 43,
     "metadata": {},
     "output_type": "execute_result"
    }
   ],
   "source": [
    "precision_recall_fscore_support(y_test, y_test_pred, average='micro')[2]"
   ]
  },
  {
   "cell_type": "code",
   "execution_count": null,
   "metadata": {},
   "outputs": [],
   "source": []
  },
  {
   "cell_type": "code",
   "execution_count": null,
   "metadata": {},
   "outputs": [],
   "source": []
  },
  {
   "cell_type": "code",
   "execution_count": 44,
   "metadata": {},
   "outputs": [],
   "source": [
    "from sklearn.feature_extraction.text import TfidfVectorizer\n",
    "\n",
    "vec = TfidfVectorizer(ngram_range=(1,3), sublinear_tf=True)\n",
    "\n",
    "x_train = vec.fit_transform(df_train['text'])\n",
    "x_test = vec.transform(df_test['text'])"
   ]
  },
  {
   "cell_type": "code",
   "execution_count": 45,
   "metadata": {},
   "outputs": [
    {
     "data": {
      "text/html": [
       "<div>\n",
       "<style scoped>\n",
       "    .dataframe tbody tr th:only-of-type {\n",
       "        vertical-align: middle;\n",
       "    }\n",
       "\n",
       "    .dataframe tbody tr th {\n",
       "        vertical-align: top;\n",
       "    }\n",
       "\n",
       "    .dataframe thead th {\n",
       "        text-align: right;\n",
       "    }\n",
       "</style>\n",
       "<table border=\"1\" class=\"dataframe\">\n",
       "  <thead>\n",
       "    <tr style=\"text-align: right;\">\n",
       "      <th></th>\n",
       "      <th>Precision</th>\n",
       "      <th>Recall</th>\n",
       "      <th>F</th>\n",
       "      <th>Support</th>\n",
       "    </tr>\n",
       "  </thead>\n",
       "  <tbody>\n",
       "    <tr>\n",
       "      <th>negative</th>\n",
       "      <td>0.814216</td>\n",
       "      <td>0.928786</td>\n",
       "      <td>0.867735</td>\n",
       "      <td>2331</td>\n",
       "    </tr>\n",
       "    <tr>\n",
       "      <th>neutral</th>\n",
       "      <td>0.660985</td>\n",
       "      <td>0.470350</td>\n",
       "      <td>0.549606</td>\n",
       "      <td>742</td>\n",
       "    </tr>\n",
       "    <tr>\n",
       "      <th>positive</th>\n",
       "      <td>0.750529</td>\n",
       "      <td>0.604770</td>\n",
       "      <td>0.669811</td>\n",
       "      <td>587</td>\n",
       "    </tr>\n",
       "  </tbody>\n",
       "</table>\n",
       "</div>"
      ],
      "text/plain": [
       "          Precision    Recall         F  Support\n",
       "negative   0.814216  0.928786  0.867735     2331\n",
       "neutral    0.660985  0.470350  0.549606      742\n",
       "positive   0.750529  0.604770  0.669811      587"
      ]
     },
     "execution_count": 45,
     "metadata": {},
     "output_type": "execute_result"
    }
   ],
   "source": [
    "from sklearn.metrics import precision_recall_fscore_support \n",
    "from sklearn.naive_bayes import MultinomialNB\n",
    "\n",
    "clf = MultinomialNB(fit_prior=False, alpha=0.001)\n",
    "clf.fit(x_train, y_train)\n",
    "y_test_pred = clf.predict(x_test)\n",
    "\n",
    "p, r, f, s = precision_recall_fscore_support(y_test, y_test_pred)\n",
    "\n",
    "pd.DataFrame(\n",
    "    {\n",
    "        'Precision': p,\n",
    "        'Recall': r,\n",
    "        'F': f,\n",
    "        'Support': s,\n",
    "    },\n",
    "    index =le.classes_.tolist()\n",
    ")"
   ]
  },
  {
   "cell_type": "code",
   "execution_count": 46,
   "metadata": {},
   "outputs": [
    {
     "data": {
      "text/plain": [
       "0.783879781420765"
      ]
     },
     "execution_count": 46,
     "metadata": {},
     "output_type": "execute_result"
    }
   ],
   "source": [
    "precision_recall_fscore_support(y_test, y_test_pred, average='micro')[1]"
   ]
  },
  {
   "cell_type": "code",
   "execution_count": 47,
   "metadata": {},
   "outputs": [],
   "source": [
    "df_vocab = pd.DataFrame(vec.vocabulary_.items(), columns=['token', 'id']).sort_values('id').set_index('id')\n",
    "\n",
    "c1, c2, c3 = clf.coef_\n",
    "\n",
    "df_vocab['negative_coef'] = c1\n",
    "df_vocab['neutral_coef'] = c2\n",
    "df_vocab['positive_coef'] = c3"
   ]
  },
  {
   "cell_type": "code",
   "execution_count": 48,
   "metadata": {},
   "outputs": [
    {
     "data": {
      "text/html": [
       "<div>\n",
       "<style scoped>\n",
       "    .dataframe tbody tr th:only-of-type {\n",
       "        vertical-align: middle;\n",
       "    }\n",
       "\n",
       "    .dataframe tbody tr th {\n",
       "        vertical-align: top;\n",
       "    }\n",
       "\n",
       "    .dataframe thead th {\n",
       "        text-align: right;\n",
       "    }\n",
       "</style>\n",
       "<table border=\"1\" class=\"dataframe\">\n",
       "  <thead>\n",
       "    <tr style=\"text-align: right;\">\n",
       "      <th></th>\n",
       "      <th>token</th>\n",
       "      <th>negative_coef</th>\n",
       "      <th>neutral_coef</th>\n",
       "      <th>positive_coef</th>\n",
       "    </tr>\n",
       "    <tr>\n",
       "      <th>id</th>\n",
       "      <th></th>\n",
       "      <th></th>\n",
       "      <th></th>\n",
       "      <th></th>\n",
       "    </tr>\n",
       "  </thead>\n",
       "  <tbody>\n",
       "    <tr>\n",
       "      <th>191514</th>\n",
       "      <td>to</td>\n",
       "      <td>-5.914482</td>\n",
       "      <td>-5.809718</td>\n",
       "      <td>-6.135164</td>\n",
       "    </tr>\n",
       "    <tr>\n",
       "      <th>180904</th>\n",
       "      <td>the</td>\n",
       "      <td>-6.117228</td>\n",
       "      <td>-6.144270</td>\n",
       "      <td>-5.853165</td>\n",
       "    </tr>\n",
       "    <tr>\n",
       "      <th>202590</th>\n",
       "      <td>united</td>\n",
       "      <td>-6.232553</td>\n",
       "      <td>-6.026925</td>\n",
       "      <td>-5.998619</td>\n",
       "    </tr>\n",
       "    <tr>\n",
       "      <th>68870</th>\n",
       "      <td>flight</td>\n",
       "      <td>-6.254987</td>\n",
       "      <td>-6.400372</td>\n",
       "      <td>-6.687584</td>\n",
       "    </tr>\n",
       "    <tr>\n",
       "      <th>18473</th>\n",
       "      <td>and</td>\n",
       "      <td>-6.287433</td>\n",
       "      <td>-6.774241</td>\n",
       "      <td>-6.553128</td>\n",
       "    </tr>\n",
       "    <tr>\n",
       "      <th>138710</th>\n",
       "      <td>on</td>\n",
       "      <td>-6.288903</td>\n",
       "      <td>-6.319510</td>\n",
       "      <td>-6.751148</td>\n",
       "    </tr>\n",
       "    <tr>\n",
       "      <th>208140</th>\n",
       "      <td>usairways</td>\n",
       "      <td>-6.296831</td>\n",
       "      <td>-6.592275</td>\n",
       "      <td>-6.497351</td>\n",
       "    </tr>\n",
       "    <tr>\n",
       "      <th>74924</th>\n",
       "      <td>for</td>\n",
       "      <td>-6.343101</td>\n",
       "      <td>-6.463597</td>\n",
       "      <td>-6.036182</td>\n",
       "    </tr>\n",
       "    <tr>\n",
       "      <th>226477</th>\n",
       "      <td>you</td>\n",
       "      <td>-6.349298</td>\n",
       "      <td>-6.107879</td>\n",
       "      <td>-5.466791</td>\n",
       "    </tr>\n",
       "    <tr>\n",
       "      <th>126033</th>\n",
       "      <td>my</td>\n",
       "      <td>-6.371228</td>\n",
       "      <td>-6.565104</td>\n",
       "      <td>-6.631012</td>\n",
       "    </tr>\n",
       "    <tr>\n",
       "      <th>14584</th>\n",
       "      <td>americanair</td>\n",
       "      <td>-6.420279</td>\n",
       "      <td>-6.288074</td>\n",
       "      <td>-6.167896</td>\n",
       "    </tr>\n",
       "    <tr>\n",
       "      <th>101694</th>\n",
       "      <td>is</td>\n",
       "      <td>-6.432089</td>\n",
       "      <td>-6.528265</td>\n",
       "      <td>-6.972510</td>\n",
       "    </tr>\n",
       "    <tr>\n",
       "      <th>97893</th>\n",
       "      <td>in</td>\n",
       "      <td>-6.636149</td>\n",
       "      <td>-6.568599</td>\n",
       "      <td>-6.695304</td>\n",
       "    </tr>\n",
       "    <tr>\n",
       "      <th>104250</th>\n",
       "      <td>it</td>\n",
       "      <td>-6.666865</td>\n",
       "      <td>-6.535936</td>\n",
       "      <td>-6.538891</td>\n",
       "    </tr>\n",
       "    <tr>\n",
       "      <th>132566</th>\n",
       "      <td>not</td>\n",
       "      <td>-6.692909</td>\n",
       "      <td>-7.511873</td>\n",
       "      <td>-7.972291</td>\n",
       "    </tr>\n",
       "    <tr>\n",
       "      <th>135812</th>\n",
       "      <td>of</td>\n",
       "      <td>-6.703380</td>\n",
       "      <td>-6.862603</td>\n",
       "      <td>-6.937859</td>\n",
       "    </tr>\n",
       "    <tr>\n",
       "      <th>130920</th>\n",
       "      <td>no</td>\n",
       "      <td>-6.709047</td>\n",
       "      <td>-7.608209</td>\n",
       "      <td>-8.219467</td>\n",
       "    </tr>\n",
       "    <tr>\n",
       "      <th>229143</th>\n",
       "      <td>your</td>\n",
       "      <td>-6.743410</td>\n",
       "      <td>-7.466780</td>\n",
       "      <td>-6.765331</td>\n",
       "    </tr>\n",
       "    <tr>\n",
       "      <th>179383</th>\n",
       "      <td>that</td>\n",
       "      <td>-6.764971</td>\n",
       "      <td>-7.066481</td>\n",
       "      <td>-6.990869</td>\n",
       "    </tr>\n",
       "    <tr>\n",
       "      <th>119888</th>\n",
       "      <td>me</td>\n",
       "      <td>-6.803331</td>\n",
       "      <td>-6.740821</td>\n",
       "      <td>-6.760778</td>\n",
       "    </tr>\n",
       "  </tbody>\n",
       "</table>\n",
       "</div>"
      ],
      "text/plain": [
       "              token  negative_coef  neutral_coef  positive_coef\n",
       "id                                                             \n",
       "191514           to      -5.914482     -5.809718      -6.135164\n",
       "180904          the      -6.117228     -6.144270      -5.853165\n",
       "202590       united      -6.232553     -6.026925      -5.998619\n",
       "68870        flight      -6.254987     -6.400372      -6.687584\n",
       "18473           and      -6.287433     -6.774241      -6.553128\n",
       "138710           on      -6.288903     -6.319510      -6.751148\n",
       "208140    usairways      -6.296831     -6.592275      -6.497351\n",
       "74924           for      -6.343101     -6.463597      -6.036182\n",
       "226477          you      -6.349298     -6.107879      -5.466791\n",
       "126033           my      -6.371228     -6.565104      -6.631012\n",
       "14584   americanair      -6.420279     -6.288074      -6.167896\n",
       "101694           is      -6.432089     -6.528265      -6.972510\n",
       "97893            in      -6.636149     -6.568599      -6.695304\n",
       "104250           it      -6.666865     -6.535936      -6.538891\n",
       "132566          not      -6.692909     -7.511873      -7.972291\n",
       "135812           of      -6.703380     -6.862603      -6.937859\n",
       "130920           no      -6.709047     -7.608209      -8.219467\n",
       "229143         your      -6.743410     -7.466780      -6.765331\n",
       "179383         that      -6.764971     -7.066481      -6.990869\n",
       "119888           me      -6.803331     -6.740821      -6.760778"
      ]
     },
     "execution_count": 48,
     "metadata": {},
     "output_type": "execute_result"
    }
   ],
   "source": [
    "df_vocab.sort_values('negative_coef', ascending=False).head(20)"
   ]
  },
  {
   "cell_type": "markdown",
   "metadata": {},
   "source": [
    "# SpaCy"
   ]
  },
  {
   "cell_type": "code",
   "execution_count": 49,
   "metadata": {},
   "outputs": [],
   "source": [
    "# pip install spacy\n",
    "# python -m spacy download en_core_web_lg"
   ]
  },
  {
   "cell_type": "code",
   "execution_count": 51,
   "metadata": {},
   "outputs": [],
   "source": [
    "import spacy\n",
    "\n",
    "nlp = spacy.load('en_core_web_md')"
   ]
  },
  {
   "cell_type": "code",
   "execution_count": 52,
   "metadata": {},
   "outputs": [],
   "source": [
    "# pip install tqdm\n",
    "from tqdm import tqdm\n",
    "tqdm.pandas()"
   ]
  },
  {
   "cell_type": "code",
   "execution_count": 53,
   "metadata": {},
   "outputs": [
    {
     "name": "stderr",
     "output_type": "stream",
     "text": [
      "100%|██████████| 10980/10980 [08:33<00:00, 21.39it/s]\n",
      "100%|██████████| 3660/3660 [02:57<00:00, 20.59it/s]\n"
     ]
    }
   ],
   "source": [
    "import spacy\n",
    "\n",
    "class WordEmbeddingVectorizer:\n",
    "    \n",
    "    def __init__(self, language_model='en_core_web_md'):\n",
    "        self.nlp = spacy.load(language_model)\n",
    "    \n",
    "    def fit(self):\n",
    "        pass\n",
    "    \n",
    "    def transform(self, x, y=None):\n",
    "        return pd.Series(x).progress_apply(\n",
    "            lambda doc: self.nlp(doc).vector.tolist()\n",
    "        ).values.tolist()\n",
    "    \n",
    "    def fit_transform(self, x, y=None):\n",
    "        return self.transform(x)\n",
    "    \n",
    "\n",
    "vec = WordEmbeddingVectorizer()\n",
    "x_train_w2v = vec.transform(df_train['text'])\n",
    "x_test_w2v = vec.transform(df_test['text'])"
   ]
  },
  {
   "cell_type": "code",
   "execution_count": 54,
   "metadata": {},
   "outputs": [
    {
     "data": {
      "text/html": [
       "<div>\n",
       "<style scoped>\n",
       "    .dataframe tbody tr th:only-of-type {\n",
       "        vertical-align: middle;\n",
       "    }\n",
       "\n",
       "    .dataframe tbody tr th {\n",
       "        vertical-align: top;\n",
       "    }\n",
       "\n",
       "    .dataframe thead th {\n",
       "        text-align: right;\n",
       "    }\n",
       "</style>\n",
       "<table border=\"1\" class=\"dataframe\">\n",
       "  <thead>\n",
       "    <tr style=\"text-align: right;\">\n",
       "      <th></th>\n",
       "      <th>Precision</th>\n",
       "      <th>Recall</th>\n",
       "      <th>F</th>\n",
       "      <th>Support</th>\n",
       "    </tr>\n",
       "  </thead>\n",
       "  <tbody>\n",
       "    <tr>\n",
       "      <th>negative</th>\n",
       "      <td>0.850520</td>\n",
       "      <td>0.912913</td>\n",
       "      <td>0.880612</td>\n",
       "      <td>2331</td>\n",
       "    </tr>\n",
       "    <tr>\n",
       "      <th>neutral</th>\n",
       "      <td>0.659271</td>\n",
       "      <td>0.560647</td>\n",
       "      <td>0.605972</td>\n",
       "      <td>742</td>\n",
       "    </tr>\n",
       "    <tr>\n",
       "      <th>positive</th>\n",
       "      <td>0.777989</td>\n",
       "      <td>0.698467</td>\n",
       "      <td>0.736086</td>\n",
       "      <td>587</td>\n",
       "    </tr>\n",
       "  </tbody>\n",
       "</table>\n",
       "</div>"
      ],
      "text/plain": [
       "          Precision    Recall         F  Support\n",
       "negative   0.850520  0.912913  0.880612     2331\n",
       "neutral    0.659271  0.560647  0.605972      742\n",
       "positive   0.777989  0.698467  0.736086      587"
      ]
     },
     "execution_count": 54,
     "metadata": {},
     "output_type": "execute_result"
    }
   ],
   "source": [
    "from sklearn.metrics import precision_recall_fscore_support \n",
    "from sklearn.preprocessing import StandardScaler\n",
    "from sklearn.linear_model import LogisticRegression\n",
    "from sklearn.linear_model import SGDClassifier\n",
    "\n",
    "scaler = StandardScaler()\n",
    "# clf = SGDClassifier(loss='log', max_iter=10000, class_weight='balanced')\n",
    "clf = LogisticRegression(max_iter=10000, class_weight=None)\n",
    "\n",
    "x_train_scaled = scaler.fit_transform(x_train_w2v)\n",
    "x_test_scaled = scaler.transform(x_test_w2v)\n",
    "\n",
    "clf.fit(x_train_scaled, y_train)\n",
    "y_test_pred = clf.predict(x_test_scaled)\n",
    "\n",
    "p, r, f, s = precision_recall_fscore_support(y_test, y_test_pred)\n",
    "\n",
    "pd.DataFrame(\n",
    "    {\n",
    "        'Precision': p,\n",
    "        'Recall': r,\n",
    "        'F': f,\n",
    "        'Support': s,\n",
    "    },\n",
    "    index =le.classes_.tolist()\n",
    ")\n"
   ]
  },
  {
   "cell_type": "code",
   "execution_count": 55,
   "metadata": {},
   "outputs": [
    {
     "data": {
      "text/plain": [
       "0.807103825136612"
      ]
     },
     "execution_count": 55,
     "metadata": {},
     "output_type": "execute_result"
    }
   ],
   "source": [
    "precision_recall_fscore_support(y_test, y_test_pred, average='micro')[1]"
   ]
  },
  {
   "cell_type": "code",
   "execution_count": 56,
   "metadata": {},
   "outputs": [
    {
     "data": {
      "text/html": [
       "<div>\n",
       "<style scoped>\n",
       "    .dataframe tbody tr th:only-of-type {\n",
       "        vertical-align: middle;\n",
       "    }\n",
       "\n",
       "    .dataframe tbody tr th {\n",
       "        vertical-align: top;\n",
       "    }\n",
       "\n",
       "    .dataframe thead th {\n",
       "        text-align: right;\n",
       "    }\n",
       "</style>\n",
       "<table border=\"1\" class=\"dataframe\">\n",
       "  <thead>\n",
       "    <tr style=\"text-align: right;\">\n",
       "      <th></th>\n",
       "      <th>Precision</th>\n",
       "      <th>Recall</th>\n",
       "      <th>F</th>\n",
       "      <th>Support</th>\n",
       "    </tr>\n",
       "  </thead>\n",
       "  <tbody>\n",
       "    <tr>\n",
       "      <th>negative</th>\n",
       "      <td>0.751465</td>\n",
       "      <td>0.935221</td>\n",
       "      <td>0.833333</td>\n",
       "      <td>2331</td>\n",
       "    </tr>\n",
       "    <tr>\n",
       "      <th>neutral</th>\n",
       "      <td>0.612994</td>\n",
       "      <td>0.292453</td>\n",
       "      <td>0.395985</td>\n",
       "      <td>742</td>\n",
       "    </tr>\n",
       "    <tr>\n",
       "      <th>positive</th>\n",
       "      <td>0.713580</td>\n",
       "      <td>0.492334</td>\n",
       "      <td>0.582661</td>\n",
       "      <td>587</td>\n",
       "    </tr>\n",
       "  </tbody>\n",
       "</table>\n",
       "</div>"
      ],
      "text/plain": [
       "          Precision    Recall         F  Support\n",
       "negative   0.751465  0.935221  0.833333     2331\n",
       "neutral    0.612994  0.292453  0.395985      742\n",
       "positive   0.713580  0.492334  0.582661      587"
      ]
     },
     "execution_count": 56,
     "metadata": {},
     "output_type": "execute_result"
    }
   ],
   "source": [
    "from sklearn.neighbors import KNeighborsClassifier\n",
    "\n",
    "clf = KNeighborsClassifier(n_neighbors=3, metric='cosine')\n",
    "\n",
    "clf.fit(x_train_w2v, y_train)\n",
    "y_test_pred = clf.predict(x_test_w2v)\n",
    "\n",
    "p, r, f, s = precision_recall_fscore_support(y_test, y_test_pred)\n",
    "\n",
    "pd.DataFrame(\n",
    "    {\n",
    "        'Precision': p,\n",
    "        'Recall': r,\n",
    "        'F': f,\n",
    "        'Support': s,\n",
    "    },\n",
    "    index =le.classes_.tolist()\n",
    ")\n"
   ]
  },
  {
   "cell_type": "code",
   "execution_count": 57,
   "metadata": {},
   "outputs": [
    {
     "data": {
      "text/plain": [
       "0.733879781420765"
      ]
     },
     "execution_count": 57,
     "metadata": {},
     "output_type": "execute_result"
    }
   ],
   "source": [
    "precision_recall_fscore_support(y_test, y_test_pred, average='micro')[1]"
   ]
  },
  {
   "cell_type": "code",
   "execution_count": null,
   "metadata": {},
   "outputs": [],
   "source": []
  },
  {
   "cell_type": "code",
   "execution_count": null,
   "metadata": {},
   "outputs": [],
   "source": []
  },
  {
   "cell_type": "code",
   "execution_count": null,
   "metadata": {},
   "outputs": [],
   "source": []
  },
  {
   "cell_type": "code",
   "execution_count": null,
   "metadata": {},
   "outputs": [],
   "source": []
  }
 ],
 "metadata": {
  "kernelspec": {
   "display_name": "Python 3",
   "language": "python",
   "name": "python3"
  },
  "language_info": {
   "codemirror_mode": {
    "name": "ipython",
    "version": 3
   },
   "file_extension": ".py",
   "mimetype": "text/x-python",
   "name": "python",
   "nbconvert_exporter": "python",
   "pygments_lexer": "ipython3",
   "version": "3.6.9"
  }
 },
 "nbformat": 4,
 "nbformat_minor": 2
}
