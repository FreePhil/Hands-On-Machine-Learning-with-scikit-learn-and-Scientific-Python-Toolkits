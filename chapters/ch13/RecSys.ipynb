{
 "cells": [
  {
   "cell_type": "code",
   "execution_count": 2,
   "metadata": {},
   "outputs": [],
   "source": [
    "# Data from chapter, Imbalanced Learn - Not even 1% win the lottery\n",
    "from sklearn.datasets import fetch_openml\n",
    "data = fetch_openml(data_id=1220)\n",
    "\n",
    "df = pd.DataFrame(\n",
    "    data['data'],\n",
    "    columns=data['feature_names']\n",
    ")[\n",
    "    [\n",
    "        'user_id',\n",
    "        'ad_id'\n",
    "    ]\n",
    "].astype(int)\n",
    "\n",
    "\n",
    "df['clicked'] = pd.Series(data['target']).astype(int) "
   ]
  },
  {
   "cell_type": "code",
   "execution_count": 3,
   "metadata": {},
   "outputs": [
    {
     "data": {
      "text/plain": [
       "0.16841894462801643"
      ]
     },
     "execution_count": 3,
     "metadata": {},
     "output_type": "execute_result"
    }
   ],
   "source": [
    "df['clicked'].mean()"
   ]
  },
  {
   "cell_type": "code",
   "execution_count": 4,
   "metadata": {},
   "outputs": [
    {
     "data": {
      "text/html": [
       "<div>\n",
       "<style scoped>\n",
       "    .dataframe tbody tr th:only-of-type {\n",
       "        vertical-align: middle;\n",
       "    }\n",
       "\n",
       "    .dataframe tbody tr th {\n",
       "        vertical-align: top;\n",
       "    }\n",
       "\n",
       "    .dataframe thead th {\n",
       "        text-align: right;\n",
       "    }\n",
       "</style>\n",
       "<table border=\"1\" class=\"dataframe\">\n",
       "  <thead>\n",
       "    <tr style=\"text-align: right;\">\n",
       "      <th></th>\n",
       "      <th>user_id</th>\n",
       "      <th>ad_id</th>\n",
       "      <th>clicked</th>\n",
       "    </tr>\n",
       "  </thead>\n",
       "  <tbody>\n",
       "    <tr>\n",
       "      <th>0</th>\n",
       "      <td>0</td>\n",
       "      <td>8343295</td>\n",
       "      <td>0</td>\n",
       "    </tr>\n",
       "    <tr>\n",
       "      <th>1</th>\n",
       "      <td>562934</td>\n",
       "      <td>20017077</td>\n",
       "      <td>1</td>\n",
       "    </tr>\n",
       "    <tr>\n",
       "      <th>2</th>\n",
       "      <td>11621116</td>\n",
       "      <td>21348354</td>\n",
       "      <td>0</td>\n",
       "    </tr>\n",
       "    <tr>\n",
       "      <th>3</th>\n",
       "      <td>8778348</td>\n",
       "      <td>20366086</td>\n",
       "      <td>0</td>\n",
       "    </tr>\n",
       "  </tbody>\n",
       "</table>\n",
       "</div>"
      ],
      "text/plain": [
       "    user_id     ad_id  clicked\n",
       "0         0   8343295        0\n",
       "1    562934  20017077        1\n",
       "2  11621116  21348354        0\n",
       "3   8778348  20366086        0"
      ]
     },
     "execution_count": 4,
     "metadata": {},
     "output_type": "execute_result"
    }
   ],
   "source": [
    "df.head(4)"
   ]
  },
  {
   "cell_type": "code",
   "execution_count": 5,
   "metadata": {},
   "outputs": [
    {
     "data": {
      "text/html": [
       "<div>\n",
       "<style scoped>\n",
       "    .dataframe tbody tr th:only-of-type {\n",
       "        vertical-align: middle;\n",
       "    }\n",
       "\n",
       "    .dataframe tbody tr th {\n",
       "        vertical-align: top;\n",
       "    }\n",
       "\n",
       "    .dataframe thead th {\n",
       "        text-align: right;\n",
       "    }\n",
       "</style>\n",
       "<table border=\"1\" class=\"dataframe\">\n",
       "  <thead>\n",
       "    <tr style=\"text-align: right;\">\n",
       "      <th>ad_id</th>\n",
       "      <th>1192697</th>\n",
       "      <th>1211044</th>\n",
       "      <th>1211676</th>\n",
       "      <th>1355299</th>\n",
       "      <th>1544201</th>\n",
       "      <th>1918047</th>\n",
       "      <th>2376704</th>\n",
       "      <th>2511991</th>\n",
       "      <th>2635400</th>\n",
       "      <th>2710813</th>\n",
       "      <th>...</th>\n",
       "      <th>21968587</th>\n",
       "      <th>22002401</th>\n",
       "      <th>22039139</th>\n",
       "      <th>22072959</th>\n",
       "      <th>22073320</th>\n",
       "      <th>22073611</th>\n",
       "      <th>22096779</th>\n",
       "      <th>22102490</th>\n",
       "      <th>22129963</th>\n",
       "      <th>22161302</th>\n",
       "    </tr>\n",
       "    <tr>\n",
       "      <th>user_id</th>\n",
       "      <th></th>\n",
       "      <th></th>\n",
       "      <th></th>\n",
       "      <th></th>\n",
       "      <th></th>\n",
       "      <th></th>\n",
       "      <th></th>\n",
       "      <th></th>\n",
       "      <th></th>\n",
       "      <th></th>\n",
       "      <th></th>\n",
       "      <th></th>\n",
       "      <th></th>\n",
       "      <th></th>\n",
       "      <th></th>\n",
       "      <th></th>\n",
       "      <th></th>\n",
       "      <th></th>\n",
       "      <th></th>\n",
       "      <th></th>\n",
       "      <th></th>\n",
       "    </tr>\n",
       "  </thead>\n",
       "  <tbody>\n",
       "    <tr>\n",
       "      <th>0</th>\n",
       "      <td>0.0</td>\n",
       "      <td>0.0</td>\n",
       "      <td>0.0</td>\n",
       "      <td>0.0</td>\n",
       "      <td>0.0</td>\n",
       "      <td>0.0</td>\n",
       "      <td>0.0</td>\n",
       "      <td>0.0</td>\n",
       "      <td>0.0</td>\n",
       "      <td>0.0</td>\n",
       "      <td>...</td>\n",
       "      <td>0.0</td>\n",
       "      <td>0.0</td>\n",
       "      <td>0.0</td>\n",
       "      <td>0.0</td>\n",
       "      <td>0.0</td>\n",
       "      <td>0.0</td>\n",
       "      <td>0.0</td>\n",
       "      <td>0.0</td>\n",
       "      <td>0.0</td>\n",
       "      <td>0.0</td>\n",
       "    </tr>\n",
       "    <tr>\n",
       "      <th>186</th>\n",
       "      <td>0.0</td>\n",
       "      <td>0.0</td>\n",
       "      <td>0.0</td>\n",
       "      <td>0.0</td>\n",
       "      <td>0.0</td>\n",
       "      <td>0.0</td>\n",
       "      <td>0.0</td>\n",
       "      <td>0.0</td>\n",
       "      <td>0.0</td>\n",
       "      <td>0.0</td>\n",
       "      <td>...</td>\n",
       "      <td>0.0</td>\n",
       "      <td>0.0</td>\n",
       "      <td>0.0</td>\n",
       "      <td>0.0</td>\n",
       "      <td>0.0</td>\n",
       "      <td>0.0</td>\n",
       "      <td>0.0</td>\n",
       "      <td>0.0</td>\n",
       "      <td>0.0</td>\n",
       "      <td>0.0</td>\n",
       "    </tr>\n",
       "    <tr>\n",
       "      <th>275</th>\n",
       "      <td>0.0</td>\n",
       "      <td>0.0</td>\n",
       "      <td>0.0</td>\n",
       "      <td>0.0</td>\n",
       "      <td>0.0</td>\n",
       "      <td>0.0</td>\n",
       "      <td>0.0</td>\n",
       "      <td>0.0</td>\n",
       "      <td>0.0</td>\n",
       "      <td>0.0</td>\n",
       "      <td>...</td>\n",
       "      <td>0.0</td>\n",
       "      <td>0.0</td>\n",
       "      <td>0.0</td>\n",
       "      <td>0.0</td>\n",
       "      <td>0.0</td>\n",
       "      <td>0.0</td>\n",
       "      <td>0.0</td>\n",
       "      <td>0.0</td>\n",
       "      <td>0.0</td>\n",
       "      <td>0.0</td>\n",
       "    </tr>\n",
       "    <tr>\n",
       "      <th>747</th>\n",
       "      <td>0.0</td>\n",
       "      <td>0.0</td>\n",
       "      <td>0.0</td>\n",
       "      <td>0.0</td>\n",
       "      <td>0.0</td>\n",
       "      <td>0.0</td>\n",
       "      <td>0.0</td>\n",
       "      <td>0.0</td>\n",
       "      <td>0.0</td>\n",
       "      <td>0.0</td>\n",
       "      <td>...</td>\n",
       "      <td>0.0</td>\n",
       "      <td>0.0</td>\n",
       "      <td>0.0</td>\n",
       "      <td>0.0</td>\n",
       "      <td>0.0</td>\n",
       "      <td>0.0</td>\n",
       "      <td>0.0</td>\n",
       "      <td>0.0</td>\n",
       "      <td>0.0</td>\n",
       "      <td>0.0</td>\n",
       "    </tr>\n",
       "    <tr>\n",
       "      <th>982</th>\n",
       "      <td>0.0</td>\n",
       "      <td>0.0</td>\n",
       "      <td>0.0</td>\n",
       "      <td>0.0</td>\n",
       "      <td>0.0</td>\n",
       "      <td>0.0</td>\n",
       "      <td>0.0</td>\n",
       "      <td>0.0</td>\n",
       "      <td>0.0</td>\n",
       "      <td>0.0</td>\n",
       "      <td>...</td>\n",
       "      <td>0.0</td>\n",
       "      <td>0.0</td>\n",
       "      <td>0.0</td>\n",
       "      <td>0.0</td>\n",
       "      <td>0.0</td>\n",
       "      <td>0.0</td>\n",
       "      <td>0.0</td>\n",
       "      <td>0.0</td>\n",
       "      <td>0.0</td>\n",
       "      <td>0.0</td>\n",
       "    </tr>\n",
       "    <tr>\n",
       "      <th>...</th>\n",
       "      <td>...</td>\n",
       "      <td>...</td>\n",
       "      <td>...</td>\n",
       "      <td>...</td>\n",
       "      <td>...</td>\n",
       "      <td>...</td>\n",
       "      <td>...</td>\n",
       "      <td>...</td>\n",
       "      <td>...</td>\n",
       "      <td>...</td>\n",
       "      <td>...</td>\n",
       "      <td>...</td>\n",
       "      <td>...</td>\n",
       "      <td>...</td>\n",
       "      <td>...</td>\n",
       "      <td>...</td>\n",
       "      <td>...</td>\n",
       "      <td>...</td>\n",
       "      <td>...</td>\n",
       "      <td>...</td>\n",
       "      <td>...</td>\n",
       "    </tr>\n",
       "    <tr>\n",
       "      <th>23400971</th>\n",
       "      <td>0.0</td>\n",
       "      <td>0.0</td>\n",
       "      <td>0.0</td>\n",
       "      <td>0.0</td>\n",
       "      <td>0.0</td>\n",
       "      <td>0.0</td>\n",
       "      <td>0.0</td>\n",
       "      <td>0.0</td>\n",
       "      <td>0.0</td>\n",
       "      <td>0.0</td>\n",
       "      <td>...</td>\n",
       "      <td>0.0</td>\n",
       "      <td>0.0</td>\n",
       "      <td>0.0</td>\n",
       "      <td>0.0</td>\n",
       "      <td>0.0</td>\n",
       "      <td>0.0</td>\n",
       "      <td>0.0</td>\n",
       "      <td>0.0</td>\n",
       "      <td>0.0</td>\n",
       "      <td>0.0</td>\n",
       "    </tr>\n",
       "    <tr>\n",
       "      <th>23552582</th>\n",
       "      <td>0.0</td>\n",
       "      <td>0.0</td>\n",
       "      <td>0.0</td>\n",
       "      <td>0.0</td>\n",
       "      <td>0.0</td>\n",
       "      <td>0.0</td>\n",
       "      <td>0.0</td>\n",
       "      <td>0.0</td>\n",
       "      <td>0.0</td>\n",
       "      <td>0.0</td>\n",
       "      <td>...</td>\n",
       "      <td>0.0</td>\n",
       "      <td>0.0</td>\n",
       "      <td>0.0</td>\n",
       "      <td>0.0</td>\n",
       "      <td>0.0</td>\n",
       "      <td>0.0</td>\n",
       "      <td>0.0</td>\n",
       "      <td>0.0</td>\n",
       "      <td>0.0</td>\n",
       "      <td>0.0</td>\n",
       "    </tr>\n",
       "    <tr>\n",
       "      <th>23562382</th>\n",
       "      <td>0.0</td>\n",
       "      <td>0.0</td>\n",
       "      <td>0.0</td>\n",
       "      <td>0.0</td>\n",
       "      <td>0.0</td>\n",
       "      <td>0.0</td>\n",
       "      <td>0.0</td>\n",
       "      <td>0.0</td>\n",
       "      <td>0.0</td>\n",
       "      <td>0.0</td>\n",
       "      <td>...</td>\n",
       "      <td>0.0</td>\n",
       "      <td>0.0</td>\n",
       "      <td>0.0</td>\n",
       "      <td>0.0</td>\n",
       "      <td>0.0</td>\n",
       "      <td>0.0</td>\n",
       "      <td>0.0</td>\n",
       "      <td>0.0</td>\n",
       "      <td>0.0</td>\n",
       "      <td>0.0</td>\n",
       "    </tr>\n",
       "    <tr>\n",
       "      <th>23643649</th>\n",
       "      <td>0.0</td>\n",
       "      <td>0.0</td>\n",
       "      <td>0.0</td>\n",
       "      <td>0.0</td>\n",
       "      <td>0.0</td>\n",
       "      <td>0.0</td>\n",
       "      <td>0.0</td>\n",
       "      <td>0.0</td>\n",
       "      <td>0.0</td>\n",
       "      <td>0.0</td>\n",
       "      <td>...</td>\n",
       "      <td>0.0</td>\n",
       "      <td>0.0</td>\n",
       "      <td>0.0</td>\n",
       "      <td>0.0</td>\n",
       "      <td>0.0</td>\n",
       "      <td>0.0</td>\n",
       "      <td>0.0</td>\n",
       "      <td>0.0</td>\n",
       "      <td>0.0</td>\n",
       "      <td>0.0</td>\n",
       "    </tr>\n",
       "    <tr>\n",
       "      <th>23856778</th>\n",
       "      <td>0.0</td>\n",
       "      <td>0.0</td>\n",
       "      <td>0.0</td>\n",
       "      <td>0.0</td>\n",
       "      <td>0.0</td>\n",
       "      <td>0.0</td>\n",
       "      <td>0.0</td>\n",
       "      <td>0.0</td>\n",
       "      <td>0.0</td>\n",
       "      <td>0.0</td>\n",
       "      <td>...</td>\n",
       "      <td>0.0</td>\n",
       "      <td>0.0</td>\n",
       "      <td>0.0</td>\n",
       "      <td>0.0</td>\n",
       "      <td>0.0</td>\n",
       "      <td>0.0</td>\n",
       "      <td>0.0</td>\n",
       "      <td>0.0</td>\n",
       "      <td>0.0</td>\n",
       "      <td>0.0</td>\n",
       "    </tr>\n",
       "  </tbody>\n",
       "</table>\n",
       "<p>376 rows × 465 columns</p>\n",
       "</div>"
      ],
      "text/plain": [
       "ad_id     1192697   1211044   1211676   1355299   1544201   1918047   \\\n",
       "user_id                                                                \n",
       "0              0.0       0.0       0.0       0.0       0.0       0.0   \n",
       "186            0.0       0.0       0.0       0.0       0.0       0.0   \n",
       "275            0.0       0.0       0.0       0.0       0.0       0.0   \n",
       "747            0.0       0.0       0.0       0.0       0.0       0.0   \n",
       "982            0.0       0.0       0.0       0.0       0.0       0.0   \n",
       "...            ...       ...       ...       ...       ...       ...   \n",
       "23400971       0.0       0.0       0.0       0.0       0.0       0.0   \n",
       "23552582       0.0       0.0       0.0       0.0       0.0       0.0   \n",
       "23562382       0.0       0.0       0.0       0.0       0.0       0.0   \n",
       "23643649       0.0       0.0       0.0       0.0       0.0       0.0   \n",
       "23856778       0.0       0.0       0.0       0.0       0.0       0.0   \n",
       "\n",
       "ad_id     2376704   2511991   2635400   2710813   ...  21968587  22002401  \\\n",
       "user_id                                           ...                       \n",
       "0              0.0       0.0       0.0       0.0  ...       0.0       0.0   \n",
       "186            0.0       0.0       0.0       0.0  ...       0.0       0.0   \n",
       "275            0.0       0.0       0.0       0.0  ...       0.0       0.0   \n",
       "747            0.0       0.0       0.0       0.0  ...       0.0       0.0   \n",
       "982            0.0       0.0       0.0       0.0  ...       0.0       0.0   \n",
       "...            ...       ...       ...       ...  ...       ...       ...   \n",
       "23400971       0.0       0.0       0.0       0.0  ...       0.0       0.0   \n",
       "23552582       0.0       0.0       0.0       0.0  ...       0.0       0.0   \n",
       "23562382       0.0       0.0       0.0       0.0  ...       0.0       0.0   \n",
       "23643649       0.0       0.0       0.0       0.0  ...       0.0       0.0   \n",
       "23856778       0.0       0.0       0.0       0.0  ...       0.0       0.0   \n",
       "\n",
       "ad_id     22039139  22072959  22073320  22073611  22096779  22102490  \\\n",
       "user_id                                                                \n",
       "0              0.0       0.0       0.0       0.0       0.0       0.0   \n",
       "186            0.0       0.0       0.0       0.0       0.0       0.0   \n",
       "275            0.0       0.0       0.0       0.0       0.0       0.0   \n",
       "747            0.0       0.0       0.0       0.0       0.0       0.0   \n",
       "982            0.0       0.0       0.0       0.0       0.0       0.0   \n",
       "...            ...       ...       ...       ...       ...       ...   \n",
       "23400971       0.0       0.0       0.0       0.0       0.0       0.0   \n",
       "23552582       0.0       0.0       0.0       0.0       0.0       0.0   \n",
       "23562382       0.0       0.0       0.0       0.0       0.0       0.0   \n",
       "23643649       0.0       0.0       0.0       0.0       0.0       0.0   \n",
       "23856778       0.0       0.0       0.0       0.0       0.0       0.0   \n",
       "\n",
       "ad_id     22129963  22161302  \n",
       "user_id                       \n",
       "0              0.0       0.0  \n",
       "186            0.0       0.0  \n",
       "275            0.0       0.0  \n",
       "747            0.0       0.0  \n",
       "982            0.0       0.0  \n",
       "...            ...       ...  \n",
       "23400971       0.0       0.0  \n",
       "23552582       0.0       0.0  \n",
       "23562382       0.0       0.0  \n",
       "23643649       0.0       0.0  \n",
       "23856778       0.0       0.0  \n",
       "\n",
       "[376 rows x 465 columns]"
      ]
     },
     "execution_count": 5,
     "metadata": {},
     "output_type": "execute_result"
    }
   ],
   "source": [
    "df.sample(n=500).groupby(['user_id', 'ad_id']).max().reset_index().pivot('user_id', 'ad_id', 'clicked').fillna(0)"
   ]
  },
  {
   "cell_type": "markdown",
   "metadata": {},
   "source": [
    "# Loading Data"
   ]
  },
  {
   "cell_type": "code",
   "execution_count": 14,
   "metadata": {},
   "outputs": [],
   "source": [
    "from surprise.dataset import Dataset\n",
    "from surprise import Reader\n",
    "\n",
    "reader = Reader(rating_scale=(0, 1))\n",
    "dataset = Dataset.load_from_df(df, reader)"
   ]
  },
  {
   "cell_type": "markdown",
   "metadata": {},
   "source": [
    "# Train/Test Split"
   ]
  },
  {
   "cell_type": "code",
   "execution_count": 17,
   "metadata": {},
   "outputs": [],
   "source": [
    "from surprise.model_selection import train_test_split\n",
    "\n",
    "trainset, testset = train_test_split(dataset, test_size=0.25)"
   ]
  },
  {
   "cell_type": "markdown",
   "metadata": {},
   "source": [
    "# K-Fold Cross Validation "
   ]
  },
  {
   "cell_type": "code",
   "execution_count": 110,
   "metadata": {},
   "outputs": [],
   "source": [
    "from surprise.model_selection import cross_validate\n",
    "\n",
    "def predict_evaluate(recsys, dataset, name='Algorithm'):\n",
    "    scores = cross_validate(recsys, dataset, measures=['RMSE', 'MAE'], cv=4, verbose=False)\n",
    "    print(\n",
    "        'Testset Avg. MAE: {:.2f} & Avg. RMSE: {:.2f} [{}]'.format(\n",
    "            scores['test_mae'].mean(),\n",
    "            scores['test_rmse'].mean(),\n",
    "            name\n",
    "        )\n",
    "    )"
   ]
  },
  {
   "cell_type": "markdown",
   "metadata": {},
   "source": [
    "# Random Recommender"
   ]
  },
  {
   "cell_type": "code",
   "execution_count": 111,
   "metadata": {},
   "outputs": [
    {
     "name": "stdout",
     "output_type": "stream",
     "text": [
      "Testset Avg. MAE: 0.28 & Avg. RMSE: 0.53 [RandomRating]\n"
     ]
    }
   ],
   "source": [
    "from surprise import AlgoBase\n",
    "\n",
    "class RandomRating(AlgoBase):\n",
    "\n",
    "    def __init__(self, p=0.5):\n",
    "        self.p = p\n",
    "        AlgoBase.__init__(self)\n",
    "\n",
    "    def estimate(self, u, i):\n",
    "        return np.random.binomial(n=1, p=self.p, size=1)[0]\n",
    "\n",
    "\n",
    "recsys = RandomRating(p=0.16)\n",
    "predict_evaluate(recsys, dataset, 'RandomRating')"
   ]
  },
  {
   "cell_type": "code",
   "execution_count": 112,
   "metadata": {},
   "outputs": [
    {
     "name": "stdout",
     "output_type": "stream",
     "text": [
      "Testset Avg. MAE: 0.33 & Avg. RMSE: 0.47 [NormalPredictor]\n"
     ]
    }
   ],
   "source": [
    "from surprise.prediction_algorithms.random_pred import NormalPredictor\n",
    "\n",
    "recsys = NormalPredictor()\n",
    "predict_evaluate(recsys, dataset, 'NormalPredictor')"
   ]
  },
  {
   "cell_type": "code",
   "execution_count": 113,
   "metadata": {},
   "outputs": [
    {
     "name": "stdout",
     "output_type": "stream",
     "text": [
      "Testset Avg. MAE: 0.28 & Avg. RMSE: 0.38 [KNNBasic]\n"
     ]
    }
   ],
   "source": [
    "from surprise.prediction_algorithms.knns import KNNBasic\n",
    "\n",
    "recsys = KNNBasic(verbose=False)\n",
    "predict_evaluate(recsys, dataset, 'KNNBasic')"
   ]
  },
  {
   "cell_type": "code",
   "execution_count": 131,
   "metadata": {},
   "outputs": [
    {
     "name": "stdout",
     "output_type": "stream",
     "text": [
      "Testset Avg. MAE: 0.27 & Avg. RMSE: 0.37 [BaselineOnly]\n"
     ]
    }
   ],
   "source": [
    "from surprise.prediction_algorithms.baseline_only import BaselineOnly\n",
    "\n",
    "recsys = BaselineOnly(verbose=False)\n",
    "predict_evaluate(recsys, dataset, 'BaselineOnly')"
   ]
  },
  {
   "cell_type": "code",
   "execution_count": 115,
   "metadata": {},
   "outputs": [
    {
     "name": "stdout",
     "output_type": "stream",
     "text": [
      "Testset Avg. MAE: 0.27 & Avg. RMSE: 0.37 [SVD]\n"
     ]
    }
   ],
   "source": [
    "from surprise.prediction_algorithms.matrix_factorization import SVD\n",
    "\n",
    "recsys = SVD(verbose=False)\n",
    "predict_evaluate(recsys, dataset, 'SVD')"
   ]
  },
  {
   "cell_type": "code",
   "execution_count": null,
   "metadata": {},
   "outputs": [],
   "source": []
  },
  {
   "cell_type": "markdown",
   "metadata": {},
   "source": [
    "# Grid Search Cross Validation"
   ]
  },
  {
   "cell_type": "code",
   "execution_count": 163,
   "metadata": {},
   "outputs": [
    {
     "name": "stdout",
     "output_type": "stream",
     "text": [
      "Best MAE: 0.18\n",
      "Best RMSE: 0.42\n",
      "Best Params {'p': 0.01}\n"
     ]
    }
   ],
   "source": [
    "from surprise.model_selection import GridSearchCV\n",
    "from surprise.prediction_algorithms.baseline_only import BaselineOnly\n",
    "\n",
    "param_grid = {\n",
    "    'p': [0.01, 0.05, 0.1, 0.15, 0.2, 0.25]\n",
    "}\n",
    "\n",
    "gscv = GridSearchCV(RandomRating, param_grid, measures=['rmse', 'mae'], cv=4, n_jobs=-1)\n",
    "gscv.fit(dataset)\n",
    "\n",
    "print('Best MAE:', gscv.best_score['mae'].round(2))\n",
    "print('Best RMSE:', gscv.best_score['rmse'].round(2))\n",
    "print('Best Params', gscv.best_params['rmse'])"
   ]
  },
  {
   "cell_type": "code",
   "execution_count": 164,
   "metadata": {},
   "outputs": [
    {
     "name": "stdout",
     "output_type": "stream",
     "text": [
      "Best MAE: 0.27\n",
      "Best RMSE: 0.37\n",
      "Best Params {'bsl_options': {'method': 'als', 'n_epochs': 50, 'reg_u': 25, 'reg_i': 10}, 'verbose': False}\n"
     ]
    }
   ],
   "source": [
    "from surprise.model_selection import GridSearchCV\n",
    "from surprise.prediction_algorithms.baseline_only import BaselineOnly\n",
    "\n",
    "param_grid = {\n",
    "    'bsl_options': {\n",
    "        'method':['als'],\n",
    "        'n_epochs': [10, 50, 100],\n",
    "        'reg_u': [5, 15, 25],\n",
    "        'reg_i': [5, 10, 20],\n",
    "        \n",
    "    },\n",
    "    'verbose': [False]\n",
    "}\n",
    "\n",
    "gscv = GridSearchCV(BaselineOnly, param_grid, measures=['rmse', 'mae'], cv=4, n_jobs=-1)\n",
    "gscv.fit(dataset)\n",
    "\n",
    "print('Best MAE:', gscv.best_score['mae'].round(2))\n",
    "print('Best RMSE:', gscv.best_score['rmse'].round(2))\n",
    "print('Best Params', gscv.best_params['rmse'])"
   ]
  },
  {
   "cell_type": "code",
   "execution_count": null,
   "metadata": {},
   "outputs": [],
   "source": []
  },
  {
   "cell_type": "code",
   "execution_count": null,
   "metadata": {},
   "outputs": [],
   "source": []
  },
  {
   "cell_type": "code",
   "execution_count": 85,
   "metadata": {},
   "outputs": [
    {
     "name": "stdout",
     "output_type": "stream",
     "text": [
      "Estimating biases using als...\n",
      "RMSE: 0.3688\n"
     ]
    },
    {
     "data": {
      "text/plain": [
       "0.3688410769535897"
      ]
     },
     "execution_count": 85,
     "metadata": {},
     "output_type": "execute_result"
    }
   ],
   "source": [
    "from surprise.prediction_algorithms.baseline_only import BaselineOnly\n",
    "from surprise import accuracy\n",
    "\n",
    "recsys = BaselineOnly()\n",
    "recsys.fit(trainset)\n",
    "predictions = recsys.test(testset)\n",
    "\n",
    "# Then compute RMSE\n",
    "accuracy.rmse(predictions)"
   ]
  },
  {
   "cell_type": "code",
   "execution_count": 89,
   "metadata": {},
   "outputs": [
    {
     "name": "stdout",
     "output_type": "stream",
     "text": [
      "RMSE: 0.3749\n"
     ]
    },
    {
     "data": {
      "text/plain": [
       "0.3748614956923788"
      ]
     },
     "execution_count": 89,
     "metadata": {},
     "output_type": "execute_result"
    }
   ],
   "source": [
    "from surprise.prediction_algorithms.matrix_factorization import SVD\n",
    "from surprise import accuracy\n",
    "\n",
    "recsys = SVD(\n",
    "    n_factors=20,\n",
    "    n_epochs=100,\n",
    "    verbose=False,\n",
    ")\n",
    "recsys.fit(trainset)\n",
    "predictions = recsys.test(testset)\n",
    "\n",
    "# Then compute RMSE\n",
    "accuracy.rmse(predictions)"
   ]
  },
  {
   "cell_type": "code",
   "execution_count": 51,
   "metadata": {},
   "outputs": [
    {
     "name": "stdout",
     "output_type": "stream",
     "text": [
      "Computing the msd similarity matrix...\n",
      "Done computing similarity matrix.\n",
      "RMSE: 0.3792\n"
     ]
    },
    {
     "data": {
      "text/plain": [
       "0.37920859429757436"
      ]
     },
     "execution_count": 51,
     "metadata": {},
     "output_type": "execute_result"
    }
   ],
   "source": [
    "from surprise.prediction_algorithms.knns import KNNBasic\n",
    "from surprise import accuracy\n",
    "\n",
    "recsys = KNNBasic()\n",
    "recsys.fit(trainset)\n",
    "predictions = recsys.test(testset)\n",
    "\n",
    "# Then compute RMSE\n",
    "accuracy.rmse(predictions)"
   ]
  },
  {
   "cell_type": "code",
   "execution_count": 52,
   "metadata": {},
   "outputs": [
    {
     "name": "stdout",
     "output_type": "stream",
     "text": [
      "Computing the msd similarity matrix...\n",
      "Done computing similarity matrix.\n",
      "RMSE: 0.3785\n"
     ]
    },
    {
     "data": {
      "text/plain": [
       "0.3785244871388106"
      ]
     },
     "execution_count": 52,
     "metadata": {},
     "output_type": "execute_result"
    }
   ],
   "source": [
    "from surprise.prediction_algorithms.knns import KNNWithMeans\n",
    "from surprise import accuracy\n",
    "\n",
    "recsys = KNNWithMeans()\n",
    "recsys.fit(trainset)\n",
    "predictions = recsys.test(testset)\n",
    "\n",
    "# Then compute RMSE\n",
    "accuracy.rmse(predictions)"
   ]
  },
  {
   "cell_type": "code",
   "execution_count": 53,
   "metadata": {},
   "outputs": [
    {
     "name": "stdout",
     "output_type": "stream",
     "text": [
      "Estimating biases using als...\n",
      "Computing the msd similarity matrix...\n",
      "Done computing similarity matrix.\n",
      "RMSE: 0.3727\n"
     ]
    },
    {
     "data": {
      "text/plain": [
       "0.3726847981061818"
      ]
     },
     "execution_count": 53,
     "metadata": {},
     "output_type": "execute_result"
    }
   ],
   "source": [
    "from surprise.prediction_algorithms.knns import KNNBaseline\n",
    "from surprise import accuracy\n",
    "\n",
    "recsys = KNNBaseline()\n",
    "recsys.fit(trainset)\n",
    "predictions = recsys.test(testset)\n",
    "\n",
    "# Then compute RMSE\n",
    "accuracy.rmse(predictions)"
   ]
  },
  {
   "cell_type": "code",
   "execution_count": null,
   "metadata": {},
   "outputs": [],
   "source": []
  }
 ],
 "metadata": {
  "kernelspec": {
   "display_name": "Python 3",
   "language": "python",
   "name": "python3"
  },
  "language_info": {
   "codemirror_mode": {
    "name": "ipython",
    "version": 3
   },
   "file_extension": ".py",
   "mimetype": "text/x-python",
   "name": "python",
   "nbconvert_exporter": "python",
   "pygments_lexer": "ipython3",
   "version": "3.6.9"
  }
 },
 "nbformat": 4,
 "nbformat_minor": 2
}
