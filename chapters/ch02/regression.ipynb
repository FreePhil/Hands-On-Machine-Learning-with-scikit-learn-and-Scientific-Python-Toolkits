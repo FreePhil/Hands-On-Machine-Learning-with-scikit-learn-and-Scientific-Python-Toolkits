{
 "cells": [
  {
   "cell_type": "code",
   "execution_count": 1,
   "metadata": {},
   "outputs": [],
   "source": [
    "import numpy as np\n",
    "import pandas as pd\n",
    "\n"
   ]
  },
  {
   "cell_type": "code",
   "execution_count": 2,
   "metadata": {},
   "outputs": [
    {
     "data": {
      "text/plain": [
       "10.0"
      ]
     },
     "execution_count": 2,
     "metadata": {},
     "output_type": "execute_result"
    }
   ],
   "source": [
    "sum([10, 12, 10, 8]) / 4"
   ]
  },
  {
   "cell_type": "code",
   "execution_count": 3,
   "metadata": {},
   "outputs": [
    {
     "data": {
      "text/plain": [
       "mean      6.0\n",
       "median    5.0\n",
       "dtype: float64"
      ]
     },
     "execution_count": 3,
     "metadata": {},
     "output_type": "execute_result"
    }
   ],
   "source": [
    "pd.Series([5, 5, 8]).apply([np.mean, np.median])"
   ]
  },
  {
   "cell_type": "code",
   "execution_count": 4,
   "metadata": {},
   "outputs": [
    {
     "data": {
      "text/plain": [
       "(2.0, 1.0)"
      ]
     },
     "execution_count": 4,
     "metadata": {},
     "output_type": "execute_result"
    }
   ],
   "source": [
    "from sklearn.metrics import mean_squared_error, mean_absolute_error\n",
    "\n",
    "mean_squared_error([5, 5, 8], [6, 6, 6]), mean_absolute_error([5, 5, 8], [5, 5, 5])"
   ]
  },
  {
   "cell_type": "code",
   "execution_count": 9,
   "metadata": {},
   "outputs": [],
   "source": [
    "import numpy as np\n",
    "import pandas as pd\n",
    "\n",
    "n = 200\n",
    "\n",
    "height_pop1_f = np.random.normal(loc=155, scale=4, size=n)\n",
    "height_pop1_m = np.random.normal(loc=175, scale=5, size=n)\n",
    "height_pop2_f = np.random.normal(loc=165, scale=15, size=n)\n",
    "height_pop2_m = np.random.normal(loc=185, scale=12, size=n)\n",
    "\n",
    "height_f = np.concatenate([height_pop1_f, height_pop2_f])\n",
    "height_m = np.concatenate([height_pop1_m, height_pop2_m])\n",
    "\n",
    "df_height = pd.DataFrame(\n",
    "    {\n",
    "        'Gender': [1 for i in range(height_f.size)] + [2 for i in range(height_m.size)],\n",
    "        'Height': np.concatenate((height_f, height_m))\n",
    "    }\n",
    ")\n",
    "\n",
    "# df_height['Gender (text)'] = df_height['Gender'].apply(lambda g: {1: 'F', 2: 'M'}.get(g, 'N/A'))"
   ]
  },
  {
   "cell_type": "code",
   "execution_count": 10,
   "metadata": {},
   "outputs": [
    {
     "data": {
      "text/html": [
       "<div>\n",
       "<style scoped>\n",
       "    .dataframe tbody tr th:only-of-type {\n",
       "        vertical-align: middle;\n",
       "    }\n",
       "\n",
       "    .dataframe tbody tr th {\n",
       "        vertical-align: top;\n",
       "    }\n",
       "\n",
       "    .dataframe thead th {\n",
       "        text-align: right;\n",
       "    }\n",
       "</style>\n",
       "<table border=\"1\" class=\"dataframe\">\n",
       "  <thead>\n",
       "    <tr style=\"text-align: right;\">\n",
       "      <th></th>\n",
       "      <th>Gender</th>\n",
       "      <th>Height</th>\n",
       "    </tr>\n",
       "  </thead>\n",
       "  <tbody>\n",
       "    <tr>\n",
       "      <th>582</th>\n",
       "      <td>2</td>\n",
       "      <td>177.386328</td>\n",
       "    </tr>\n",
       "    <tr>\n",
       "      <th>291</th>\n",
       "      <td>1</td>\n",
       "      <td>129.261256</td>\n",
       "    </tr>\n",
       "    <tr>\n",
       "      <th>385</th>\n",
       "      <td>1</td>\n",
       "      <td>160.945017</td>\n",
       "    </tr>\n",
       "  </tbody>\n",
       "</table>\n",
       "</div>"
      ],
      "text/plain": [
       "     Gender      Height\n",
       "582       2  177.386328\n",
       "291       1  129.261256\n",
       "385       1  160.945017"
      ]
     },
     "execution_count": 10,
     "metadata": {},
     "output_type": "execute_result"
    }
   ],
   "source": [
    "df_height.sample(3)"
   ]
  },
  {
   "cell_type": "code",
   "execution_count": 11,
   "metadata": {},
   "outputs": [
    {
     "name": "stderr",
     "output_type": "stream",
     "text": [
      "/Users/tarek/anaconda3/envs/scikitbook/lib/python3.6/site-packages/ipykernel_launcher.py:17: UserWarning: Matplotlib is currently using module://ipykernel.pylab.backend_inline, which is a non-GUI backend, so cannot show the figure.\n"
     ]
    },
    {
     "data": {
      "image/png": "[encoded data removed]",
      "text/plain": [
       "<Figure size 720x360 with 1 Axes>"
      ]
     },
     "metadata": {
      "needs_background": "light"
     },
     "output_type": "display_data"
    }
   ],
   "source": [
    "fig, ax = plt.subplots(1, 1, figsize=(10, 5))\n",
    "\n",
    "df_height[df_height['Gender'] == 1]['Height'].plot(\n",
    "    label='Female', kind='hist', \n",
    "    bins=10, alpha=0.7, ax=ax\n",
    ")\n",
    "df_height[df_height['Gender'] == 2]['Height'].plot(\n",
    "    label='Male', kind='hist', \n",
    "    bins=10, alpha=0.7, ax=ax\n",
    ")\n",
    "\n",
    "# ax.set_xlim(140, 200)\n",
    "ax.legend()\n",
    "ax.set_title('Height Distribution')\n",
    "ax.set_xlabel('Height (in centimeters)')\n",
    "\n",
    "fig.show()"
   ]
  },
  {
   "cell_type": "code",
   "execution_count": 12,
   "metadata": {},
   "outputs": [
    {
     "data": {
      "text/html": [
       "<div>\n",
       "<style scoped>\n",
       "    .dataframe tbody tr th:only-of-type {\n",
       "        vertical-align: middle;\n",
       "    }\n",
       "\n",
       "    .dataframe tbody tr th {\n",
       "        vertical-align: top;\n",
       "    }\n",
       "\n",
       "    .dataframe thead tr th {\n",
       "        text-align: left;\n",
       "    }\n",
       "\n",
       "    .dataframe thead tr:last-of-type th {\n",
       "        text-align: right;\n",
       "    }\n",
       "</style>\n",
       "<table border=\"1\" class=\"dataframe\">\n",
       "  <thead>\n",
       "    <tr>\n",
       "      <th></th>\n",
       "      <th colspan=\"2\" halign=\"left\">Height</th>\n",
       "    </tr>\n",
       "    <tr>\n",
       "      <th></th>\n",
       "      <th>mean</th>\n",
       "      <th>median</th>\n",
       "    </tr>\n",
       "    <tr>\n",
       "      <th>Gender</th>\n",
       "      <th></th>\n",
       "      <th></th>\n",
       "    </tr>\n",
       "  </thead>\n",
       "  <tbody>\n",
       "    <tr>\n",
       "      <th>1</th>\n",
       "      <td>160.0</td>\n",
       "      <td>157.7</td>\n",
       "    </tr>\n",
       "    <tr>\n",
       "      <th>2</th>\n",
       "      <td>179.6</td>\n",
       "      <td>177.7</td>\n",
       "    </tr>\n",
       "  </tbody>\n",
       "</table>\n",
       "</div>"
      ],
      "text/plain": [
       "       Height       \n",
       "         mean median\n",
       "Gender              \n",
       "1       160.0  157.7\n",
       "2       179.6  177.7"
      ]
     },
     "execution_count": 12,
     "metadata": {},
     "output_type": "execute_result"
    }
   ],
   "source": [
    "# df_height['Gender (text)'] = df_height['Gender'].apply(lambda g: {1: 'F', 2: 'M'}.get(g, 'N/A'))\n",
    "\n",
    "df_height.groupby('Gender')[['Height']].agg([np.mean, np.median]).round(1)"
   ]
  },
  {
   "cell_type": "code",
   "execution_count": 13,
   "metadata": {},
   "outputs": [
    {
     "data": {
      "text/plain": [
       "DecisionTreeRegressor(ccp_alpha=0.0, criterion='mse', max_depth=None,\n",
       "                      max_features=None, max_leaf_nodes=None,\n",
       "                      min_impurity_decrease=0.0, min_impurity_split=None,\n",
       "                      min_samples_leaf=1, min_samples_split=2,\n",
       "                      min_weight_fraction_leaf=0.0, presort='deprecated',\n",
       "                      random_state=None, splitter='best')"
      ]
     },
     "execution_count": 13,
     "metadata": {},
     "output_type": "execute_result"
    }
   ],
   "source": [
    "from sklearn.model_selection import train_test_split\n",
    "\n",
    "df_train, df_test = train_test_split(df_height, test_size=0.3, random_state=22)\n",
    "\n",
    "x_train = df_train[['Gender']]\n",
    "x_test  = df_test[['Gender']]\n",
    "\n",
    "y_train = df_train['Height']\n",
    "y_test  = df_test['Height']\n",
    "\n",
    "from sklearn.tree import DecisionTreeRegressor\n",
    "\n",
    "clf = DecisionTreeRegressor()\n",
    "\n",
    "clf.fit(x_train, y_train)\n",
    "\n"
   ]
  },
  {
   "cell_type": "code",
   "execution_count": 14,
   "metadata": {},
   "outputs": [
    {
     "name": "stdout",
     "output_type": "stream",
     "text": [
      "\n",
      "criterion=mse:\n",
      "\n",
      "|--- Gender <= 1.5\n",
      "|   |--- value: [159.9]\n",
      "|--- Gender >  1.5\n",
      "|   |--- value: [180.1]\n",
      "\n",
      "MSE: 104.8\n",
      "MAE: 7.6\n",
      "\n",
      "criterion=mae:\n",
      "\n",
      "|--- Gender <= 1.5\n",
      "|   |--- value: [157.2]\n",
      "|--- Gender >  1.5\n",
      "|   |--- value: [178.2]\n",
      "\n",
      "MSE: 108.0\n",
      "MAE: 7.3\n"
     ]
    }
   ],
   "source": [
    "from sklearn.tree import export_text\n",
    "from sklearn.metrics import mean_squared_error, mean_absolute_error\n",
    "\n",
    "\n",
    "for criterion in ['mse', 'mae']:\n",
    "    rgrsr = DecisionTreeRegressor(criterion=criterion)\n",
    "    rgrsr.fit(x_train, y_train)\n",
    "\n",
    "    print(f'\\ncriterion={criterion}:\\n')\n",
    "    print(export_text(rgrsr, feature_names=['Gender'], spacing=3, decimals=1))\n",
    "    \n",
    "    y_test_pred = rgrsr.predict(x_test)\n",
    "    \n",
    "    print('MSE:', round(mean_squared_error(y_test, y_test_pred), 1))\n",
    "    print('MAE:', round(mean_absolute_error(y_test, y_test_pred), 1))"
   ]
  },
  {
   "cell_type": "code",
   "execution_count": 23,
   "metadata": {},
   "outputs": [
    {
     "data": {
      "text/plain": [
       "230    155.961080\n",
       "140    154.345208\n",
       "172    157.072710\n",
       "782    184.896070\n",
       "406    174.086297\n",
       "          ...    \n",
       "491    177.307216\n",
       "502    177.204965\n",
       "358    155.091978\n",
       "356    161.639892\n",
       "132    146.085358\n",
       "Name: Height, Length: 560, dtype: float64"
      ]
     },
     "execution_count": 23,
     "metadata": {},
     "output_type": "execute_result"
    }
   ],
   "source": [
    "y_train"
   ]
  },
  {
   "cell_type": "code",
   "execution_count": 28,
   "metadata": {},
   "outputs": [
    {
     "name": "stdout",
     "output_type": "stream",
     "text": [
      "\n",
      "Emphasis on below 150:\n",
      "\n",
      "|--- Gender <= 1.5\n",
      "|   |--- value: [150.7]\n",
      "|--- Gender >  1.5\n",
      "|   |--- value: [179.2]\n",
      "\n",
      "MSE: 151.8\n",
      "MAE: 8.8\n",
      "\n",
      "Emphasis on above 150:\n",
      "\n",
      "|--- Gender <= 1.5\n",
      "|   |--- value: [162.4]\n",
      "|--- Gender >  1.5\n",
      "|   |--- value: [180.2]\n",
      "\n",
      "MSE: 107.5\n",
      "MAE: 8.1\n"
     ]
    }
   ],
   "source": [
    "from sklearn.tree import export_text\n",
    "from sklearn.metrics import mean_squared_error, mean_absolute_error\n",
    "\n",
    "\n",
    "for who_gets_more_weight in ['below 150', 'above 150']:\n",
    "    rgrsr = DecisionTreeRegressor(criterion='mse')\n",
    "    if who_gets_more_weight == 'below 150':\n",
    "        sample_weight = y_train.apply(lambda h: 10 if h <= 150 else 1)\n",
    "    else:\n",
    "        sample_weight = y_train.apply(lambda h: 10 if h > 150 else 1)\n",
    "    rgrsr.fit(x_train, y_train, sample_weight=sample_weight)\n",
    "\n",
    "    print(f'\\nEmphasis on {who_gets_more_weight}:\\n')\n",
    "    print(export_text(rgrsr, feature_names=['Gender'], spacing=3, decimals=1))\n",
    "    \n",
    "    y_test_pred = rgrsr.predict(x_test)\n",
    "    \n",
    "    print('MSE:', round(mean_squared_error(y_test, y_test_pred), 1))\n",
    "    print('MAE:', round(mean_absolute_error(y_test, y_test_pred), 1))"
   ]
  },
  {
   "cell_type": "code",
   "execution_count": null,
   "metadata": {},
   "outputs": [],
   "source": []
  },
  {
   "cell_type": "code",
   "execution_count": 138,
   "metadata": {},
   "outputs": [],
   "source": [
    "from sklearn.datasets import fetch_openml"
   ]
  },
  {
   "cell_type": "code",
   "execution_count": 12,
   "metadata": {},
   "outputs": [],
   "source": [
    "# https://www.openml.org/d/40601\n",
    "ram = fetch_openml(name='RAM_price')"
   ]
  },
  {
   "cell_type": "code",
   "execution_count": 13,
   "metadata": {},
   "outputs": [],
   "source": [
    "df = pd.DataFrame(\n",
    "    ram.data,\n",
    "    columns=ram['feature_names']\n",
    ")\n",
    "\n",
    "df['target'] = ram['target']"
   ]
  },
  {
   "cell_type": "code",
   "execution_count": 14,
   "metadata": {},
   "outputs": [
    {
     "data": {
      "text/html": [
       "<div>\n",
       "<style scoped>\n",
       "    .dataframe tbody tr th:only-of-type {\n",
       "        vertical-align: middle;\n",
       "    }\n",
       "\n",
       "    .dataframe tbody tr th {\n",
       "        vertical-align: top;\n",
       "    }\n",
       "\n",
       "    .dataframe thead th {\n",
       "        text-align: right;\n",
       "    }\n",
       "</style>\n",
       "<table border=\"1\" class=\"dataframe\">\n",
       "  <thead>\n",
       "    <tr style=\"text-align: right;\">\n",
       "      <th></th>\n",
       "      <th>date</th>\n",
       "      <th>target</th>\n",
       "    </tr>\n",
       "  </thead>\n",
       "  <tbody>\n",
       "    <tr>\n",
       "      <th>113</th>\n",
       "      <td>1992.33</td>\n",
       "      <td>30.0000</td>\n",
       "    </tr>\n",
       "    <tr>\n",
       "      <th>89</th>\n",
       "      <td>1990.33</td>\n",
       "      <td>98.3000</td>\n",
       "    </tr>\n",
       "    <tr>\n",
       "      <th>283</th>\n",
       "      <td>2009.75</td>\n",
       "      <td>0.0183</td>\n",
       "    </tr>\n",
       "    <tr>\n",
       "      <th>228</th>\n",
       "      <td>2002.25</td>\n",
       "      <td>0.1930</td>\n",
       "    </tr>\n",
       "    <tr>\n",
       "      <th>50</th>\n",
       "      <td>1986.67</td>\n",
       "      <td>190.0000</td>\n",
       "    </tr>\n",
       "    <tr>\n",
       "      <th>78</th>\n",
       "      <td>1989.17</td>\n",
       "      <td>505.0000</td>\n",
       "    </tr>\n",
       "    <tr>\n",
       "      <th>305</th>\n",
       "      <td>2012.67</td>\n",
       "      <td>0.0040</td>\n",
       "    </tr>\n",
       "    <tr>\n",
       "      <th>44</th>\n",
       "      <td>1986.17</td>\n",
       "      <td>300.0000</td>\n",
       "    </tr>\n",
       "    <tr>\n",
       "      <th>105</th>\n",
       "      <td>1991.67</td>\n",
       "      <td>46.3000</td>\n",
       "    </tr>\n",
       "    <tr>\n",
       "      <th>53</th>\n",
       "      <td>1987.00</td>\n",
       "      <td>176.0000</td>\n",
       "    </tr>\n",
       "  </tbody>\n",
       "</table>\n",
       "</div>"
      ],
      "text/plain": [
       "        date    target\n",
       "113  1992.33   30.0000\n",
       "89   1990.33   98.3000\n",
       "283  2009.75    0.0183\n",
       "228  2002.25    0.1930\n",
       "50   1986.67  190.0000\n",
       "78   1989.17  505.0000\n",
       "305  2012.67    0.0040\n",
       "44   1986.17  300.0000\n",
       "105  1991.67   46.3000\n",
       "53   1987.00  176.0000"
      ]
     },
     "execution_count": 14,
     "metadata": {},
     "output_type": "execute_result"
    }
   ],
   "source": [
    "df.sample(10)"
   ]
  },
  {
   "cell_type": "code",
   "execution_count": 16,
   "metadata": {},
   "outputs": [
    {
     "data": {
      "text/plain": [
       "<matplotlib.axes._subplots.AxesSubplot at 0x1a206d6278>"
      ]
     },
     "execution_count": 16,
     "metadata": {},
     "output_type": "execute_result"
    },
    {
     "data": {
      "image/png": "[encoded data removed]",
      "text/plain": [
       "<Figure size 432x288 with 1 Axes>"
      ]
     },
     "metadata": {
      "needs_background": "light"
     },
     "output_type": "display_data"
    }
   ],
   "source": [
    "df.sample(n=200).plot(\n",
    "    kind='scatter',\n",
    "    x='date',\n",
    "    y='target'\n",
    ")"
   ]
  },
  {
   "cell_type": "code",
   "execution_count": null,
   "metadata": {},
   "outputs": [],
   "source": []
  }
 ],
 "metadata": {
  "kernelspec": {
   "display_name": "Python 3",
   "language": "python",
   "name": "python3"
  },
  "language_info": {
   "codemirror_mode": {
    "name": "ipython",
    "version": 3
   },
   "file_extension": ".py",
   "mimetype": "text/x-python",
   "name": "python",
   "nbconvert_exporter": "python",
   "pygments_lexer": "ipython3",
   "version": "3.6.9"
  }
 },
 "nbformat": 4,
 "nbformat_minor": 2
}
