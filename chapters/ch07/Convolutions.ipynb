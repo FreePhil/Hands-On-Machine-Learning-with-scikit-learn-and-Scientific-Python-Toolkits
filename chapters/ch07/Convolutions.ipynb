{
 "cells": [
  {
   "cell_type": "code",
   "execution_count": 3,
   "metadata": {},
   "outputs": [],
   "source": [
    "from sklearn.datasets import fetch_openml\n",
    "fashion_mnist = fetch_openml(data_id=40996)"
   ]
  },
  {
   "cell_type": "code",
   "execution_count": 4,
   "metadata": {},
   "outputs": [
    {
     "data": {
      "text/plain": [
       "(70000, 784)"
      ]
     },
     "execution_count": 4,
     "metadata": {},
     "output_type": "execute_result"
    }
   ],
   "source": [
    "fashion_mnist['data'].shape"
   ]
  },
  {
   "cell_type": "code",
   "execution_count": 5,
   "metadata": {},
   "outputs": [
    {
     "data": {
      "text/plain": [
       "\"**Author**: Han Xiao, Kashif Rasul, Roland Vollgraf  \\n**Source**: [Zalando Research](https://github.com/zalandoresearch/fashion-mnist)  \\n**Please cite**: Han Xiao and Kashif Rasul and Roland Vollgraf, Fashion-MNIST: a Novel Image Dataset for Benchmarking Machine Learning Algorithms, arXiv, cs.LG/1708.07747  \\n\\nFashion-MNIST is a dataset of Zalando's article images, consisting of a training set of 60,000 examples and a test set of 10,000 examples. Each example is a 28x28 grayscale image, associated with a label from 10 classes. Fashion-MNIST is intended to serve as a direct drop-in replacement for the original MNIST dataset for benchmarking machine learning algorithms. It shares the same image size and structure of training and testing splits. \\n\\nRaw data available at: https://github.com/zalandoresearch/fashion-mnist\\n\\n### Target classes\\nEach training and test example is assigned to one of the following labels:\\nLabel  Description  \\n0  T-shirt/top  \\n1  Trouser  \\n2  Pullover  \\n3  Dress  \\n4  Coat  \\n5  Sandal  \\n6  Shirt  \\n7  Sneaker  \\n8  Bag  \\n9  Ankle boot\\n\\nDownloaded from openml.org.\""
      ]
     },
     "execution_count": 5,
     "metadata": {},
     "output_type": "execute_result"
    }
   ],
   "source": [
    "fashion_mnist['DESCR']"
   ]
  },
  {
   "cell_type": "code",
   "execution_count": 6,
   "metadata": {},
   "outputs": [
    {
     "name": "stdout",
     "output_type": "stream",
     "text": [
      "Help on built-in function rsplit:\n",
      "\n",
      "rsplit(...) method of builtins.str instance\n",
      "    S.rsplit(sep=None, maxsplit=-1) -> list of strings\n",
      "    \n",
      "    Return a list of the words in S, using sep as the\n",
      "    delimiter string, starting at the end of the string and\n",
      "    working to the front.  If maxsplit is given, at most maxsplit\n",
      "    splits are done. If sep is not specified, any whitespace string\n",
      "    is a separator.\n",
      "\n"
     ]
    }
   ],
   "source": [
    "help(''.rsplit)"
   ]
  },
  {
   "cell_type": "code",
   "execution_count": 7,
   "metadata": {},
   "outputs": [
    {
     "data": {
      "text/plain": [
       "{0: 'T-shirt/top  ',\n",
       " 1: 'Trouser  ',\n",
       " 2: 'Pullover  ',\n",
       " 3: 'Dress  ',\n",
       " 4: 'Coat  ',\n",
       " 5: 'Sandal  ',\n",
       " 6: 'Shirt  ',\n",
       " 7: 'Sneaker  ',\n",
       " 8: 'Bag  ',\n",
       " 9: 'Ankle boot'}"
      ]
     },
     "execution_count": 7,
     "metadata": {},
     "output_type": "execute_result"
    }
   ],
   "source": [
    "c = '0  T-shirt/top  \\n1  Trouser  \\n2  Pullover  \\n3  Dress  \\n4  Coat  \\n5  Sandal  \\n6  Shirt  \\n7  Sneaker  \\n8  Bag  \\n9  Ankle boot'\n",
    "\n",
    "fashion_label_translation = {\n",
    "    int(k): v for k, v in [\n",
    "        item.split(maxsplit=1) for item in c.split('\\n')\n",
    "    ]\n",
    "}\n",
    "\n",
    "fashion_label_translation\n"
   ]
  },
  {
   "cell_type": "code",
   "execution_count": 8,
   "metadata": {},
   "outputs": [],
   "source": [
    "fashion_label_high_lebel_translation = {\n",
    "    0: 'Apparel',\n",
    "    1: 'Apparel',\n",
    "    2: 'Apparel',\n",
    "    3: 'Apparel',\n",
    "    4: 'Apparel',\n",
    "    5: 'Footwear',\n",
    "    6: 'Apparel',\n",
    "    7: 'Footwear',\n",
    "    8: 'Accessory',\n",
    "    9: 'Footwear',\n",
    "}"
   ]
  },
  {
   "cell_type": "code",
   "execution_count": 9,
   "metadata": {},
   "outputs": [],
   "source": [
    "def translate_label(y, translation=fashion_label_translation):\n",
    "    return pd.Series(y).apply(\n",
    "        lambda y: translation[int(y)]\n",
    "    ).values"
   ]
  },
  {
   "cell_type": "code",
   "execution_count": null,
   "metadata": {},
   "outputs": [],
   "source": []
  },
  {
   "cell_type": "code",
   "execution_count": 11,
   "metadata": {},
   "outputs": [
    {
     "data": {
      "text/plain": [
       "28.0"
      ]
     },
     "execution_count": 11,
     "metadata": {},
     "output_type": "execute_result"
    }
   ],
   "source": [
    "np.sqrt(fashion_mnist['data'].shape[1])"
   ]
  },
  {
   "cell_type": "code",
   "execution_count": 12,
   "metadata": {},
   "outputs": [
    {
     "data": {
      "text/plain": [
       "(784,)"
      ]
     },
     "execution_count": 12,
     "metadata": {},
     "output_type": "execute_result"
    }
   ],
   "source": [
    "fashion_mnist['data'][0].shape"
   ]
  },
  {
   "cell_type": "code",
   "execution_count": 13,
   "metadata": {},
   "outputs": [],
   "source": [
    "from matplotlib.colors import ListedColormap\n",
    "\n",
    "def display_fashion(img, target, ax):\n",
    "    \n",
    "    if len(img.shape) < 2:\n",
    "        w = np.sqrt(img.shape[0]).astype(int)\n",
    "        img = img.reshape((w, w))\n",
    "    \n",
    "    ax.imshow(img, cmap='Greys')\n",
    "    ax.set_title(f'{target}')\n",
    "    ax.grid(False)"
   ]
  },
  {
   "cell_type": "code",
   "execution_count": 14,
   "metadata": {},
   "outputs": [],
   "source": [
    "from sklearn.model_selection import train_test_split\n",
    "\n",
    "fashion_mnist_sample = {}\n",
    "\n",
    "fashion_mnist_sample['data'], _, fashion_mnist_sample['target'], _ = train_test_split(\n",
    "    fashion_mnist['data'], fashion_mnist['target'], train_size=10000\n",
    ")\n",
    "\n",
    "x, y = fashion_mnist_sample['data'], fashion_mnist_sample['target']\n",
    "\n",
    "x_train, x_test, y_train, y_test = train_test_split(x, y, test_size=0.2)"
   ]
  },
  {
   "cell_type": "code",
   "execution_count": 15,
   "metadata": {},
   "outputs": [],
   "source": [
    "from sklearn.preprocessing import MinMaxScaler\n",
    "\n",
    "scaler = MinMaxScaler()\n",
    "\n",
    "x_train = scaler.fit_transform(x_train)\n",
    "x_test = scaler.transform(x_test)"
   ]
  },
  {
   "cell_type": "code",
   "execution_count": 16,
   "metadata": {},
   "outputs": [],
   "source": [
    "# translation = fashion_label_high_lebel_translation\n",
    "translation = fashion_label_translation\n",
    "\n",
    "y_train_translated = translate_label(y_train, translation=translation)\n",
    "y_test_translated = translate_label(y_test, translation=translation)"
   ]
  },
  {
   "cell_type": "code",
   "execution_count": 17,
   "metadata": {},
   "outputs": [],
   "source": [
    "from sklearn.preprocessing import LabelEncoder\n",
    "\n",
    "le = LabelEncoder()\n",
    "\n",
    "y_train_encoded = le.fit_transform(y_train_translated)\n",
    "y_test_encoded = le.transform(y_test_translated)"
   ]
  },
  {
   "cell_type": "code",
   "execution_count": 18,
   "metadata": {},
   "outputs": [
    {
     "name": "stderr",
     "output_type": "stream",
     "text": [
      "/Users/tarek/anaconda3/envs/scikitbook/lib/python3.6/site-packages/ipykernel_launcher.py:9: UserWarning: Matplotlib is currently using module://ipykernel.pylab.backend_inline, which is a non-GUI backend, so cannot show the figure.\n",
      "  if __name__ == '__main__':\n"
     ]
    },
    {
     "data": {
      "image/png": "[encoded data removed]",
      "text/plain": [
       "<Figure size 1152x864 with 10 Axes>"
      ]
     },
     "metadata": {
      "needs_background": "light"
     },
     "output_type": "display_data"
    }
   ],
   "source": [
    "fig, axs = plt.subplots(1, 10, figsize=(16, 12))\n",
    "\n",
    "import random \n",
    "\n",
    "for i in range(10):\n",
    "    rand = random.choice(range(x_train.shape[0]))\n",
    "    display_fashion(x_train[rand], y_train_translated[rand], axs[i])\n",
    "\n",
    "fig.show()"
   ]
  },
  {
   "cell_type": "code",
   "execution_count": 21,
   "metadata": {},
   "outputs": [
    {
     "data": {
      "image/png": "[encoded data removed]",
      "text/plain": [
       "<Figure size 1152x648 with 2 Axes>"
      ]
     },
     "metadata": {
      "needs_background": "light"
     },
     "output_type": "display_data"
    }
   ],
   "source": [
    "from scipy import ndimage\n",
    "\n",
    "x_example = [\n",
    "    [0,0,0,0,0], [0,0,0,0,0], [0,0,1,1,0], [0,0,1,1,0], [0,0,0,0,0],\n",
    "]\n",
    "x_example = np.array(x_example)\n",
    "\n",
    "fig, axs = plt.subplots(1, 2, figsize=(16, 9))\n",
    "\n",
    "axs[0].imshow(x_example.reshape((5, 5)), cmap='Greys')\n",
    "axs[0].set_title('Original')\n",
    "axs[0].set_yticks(range(5))\n",
    "axs[0].set_xticks(range(5))\n",
    "axs[0].grid(False)\n",
    "\n",
    "kernel = [[1,1,1],[1,1,1],[1,1,1]] \n",
    "x_example_convolve =  ndimage.convolve(x_example, kernel, mode='constant', cval=0)\n",
    "x_example_convolve = x_example_convolve / 9\n",
    "\n",
    "axs[1].imshow(x_example_convolve.reshape((5, 5)), cmap='Greys')\n",
    "axs[1].set_title('Convolve')\n",
    "axs[1].set_yticks(range(5))\n",
    "axs[1].set_xticks(range(5))\n",
    "axs[1].grid(False)"
   ]
  },
  {
   "cell_type": "code",
   "execution_count": 22,
   "metadata": {},
   "outputs": [
    {
     "data": {
      "text/plain": [
       "array([[0, 0, 0, 0, 0],\n",
       "       [0, 0, 0, 0, 0],\n",
       "       [0, 0, 1, 1, 0],\n",
       "       [0, 0, 1, 1, 0],\n",
       "       [0, 0, 0, 0, 0]])"
      ]
     },
     "execution_count": 22,
     "metadata": {},
     "output_type": "execute_result"
    }
   ],
   "source": [
    "x_example"
   ]
  },
  {
   "cell_type": "code",
   "execution_count": 23,
   "metadata": {},
   "outputs": [
    {
     "data": {
      "text/plain": [
       "array([[0.  , 0.  , 0.  , 0.  , 0.  ],\n",
       "       [0.  , 0.11, 0.22, 0.22, 0.11],\n",
       "       [0.  , 0.22, 0.44, 0.44, 0.22],\n",
       "       [0.  , 0.22, 0.44, 0.44, 0.22],\n",
       "       [0.  , 0.11, 0.22, 0.22, 0.11]])"
      ]
     },
     "execution_count": 23,
     "metadata": {},
     "output_type": "execute_result"
    }
   ],
   "source": [
    "x_example_convolve.round(2)"
   ]
  },
  {
   "cell_type": "code",
   "execution_count": 24,
   "metadata": {},
   "outputs": [
    {
     "data": {
      "text/plain": [
       "28"
      ]
     },
     "execution_count": 24,
     "metadata": {},
     "output_type": "execute_result"
    }
   ],
   "source": [
    "int(np.sqrt(x_train.shape[1])) # ** 2"
   ]
  },
  {
   "cell_type": "code",
   "execution_count": 25,
   "metadata": {},
   "outputs": [],
   "source": [
    "from scipy import ndimage\n",
    "from sklearn.preprocessing import MinMaxScaler\n",
    "\n",
    "def convolve(x, kernel=[[0,-1,0], [-1,5,-1], [0,-1,0]]):\n",
    "    w = int(np.sqrt(x.shape[1]))\n",
    "    x = ndimage.convolve(x.reshape((x.shape[0], w, w)), [kernel], mode='constant', cval=0.0) \n",
    "    x = x.reshape(x.shape[0], x.shape[1]*x.shape[2]) \n",
    "    x = MinMaxScaler().fit_transform(x)\n",
    "\n",
    "    return x"
   ]
  },
  {
   "cell_type": "code",
   "execution_count": 26,
   "metadata": {},
   "outputs": [],
   "source": [
    "kernels = [\n",
    "    ('Sharpen', [[0,-1,0], [-1,5,-1], [0,-1,0]]),\n",
    "    ('V-Edge', [[-1,0,1], [-2,0,2], [-1,0,1]]),\n",
    "    ('H-Edge', [[-1,-2,-1], [0,0,0], [1,2,1]]),\n",
    "]"
   ]
  },
  {
   "cell_type": "code",
   "execution_count": 27,
   "metadata": {},
   "outputs": [
    {
     "data": {
      "text/plain": [
       "([-1, -1, 0], [-1, 0, 1], [0, 1, 1])"
      ]
     },
     "execution_count": 27,
     "metadata": {},
     "output_type": "execute_result"
    }
   ],
   "source": [
    "[-1, -1, 0], [-1,0,1], [0,1,1]"
   ]
  },
  {
   "cell_type": "code",
   "execution_count": 28,
   "metadata": {},
   "outputs": [],
   "source": [
    "kernels = [\n",
    "    ['Sharpen', [[0,-1,0], [-1,5,-1], [0,-1,0]], None, None],\n",
    "    ['V-Edge', [[-1,0,1], [-2,0,2], [-1,0,1]], None, None],\n",
    "    ['H-Edge', [[-1,-2,-1], [0,0,0], [1,2,1]], None, None],\n",
    "]\n",
    "\n",
    "for i, kernel in enumerate(kernels):\n",
    "    kernels[i][-2] = convolve(x_train, kernel[1])\n",
    "    kernels[i][-1] = convolve(x_test, kernel[1]) \n",
    "    \n",
    "    \n",
    "x_train_conv = convolve(x_train, kernels[-1][1])\n",
    "x_test_conv = convolve(x_test, kernels[-1][1])"
   ]
  },
  {
   "cell_type": "code",
   "execution_count": 29,
   "metadata": {},
   "outputs": [
    {
     "name": "stderr",
     "output_type": "stream",
     "text": [
      "/Users/tarek/anaconda3/envs/scikitbook/lib/python3.6/site-packages/ipykernel_launcher.py:12: UserWarning: Matplotlib is currently using module://ipykernel.pylab.backend_inline, which is a non-GUI backend, so cannot show the figure.\n",
      "  if sys.path[0] == '':\n"
     ]
    },
    {
     "data": {
      "image/png": "[encoded data removed]",
      "text/plain": [
       "<Figure size 1152x720 with 40 Axes>"
      ]
     },
     "metadata": {
      "needs_background": "light"
     },
     "output_type": "display_data"
    }
   ],
   "source": [
    "fig, axs = plt.subplots(4, 10, figsize=(16, 10))\n",
    "\n",
    "import random \n",
    "\n",
    "for i in range(10):\n",
    "    rand = random.choice(range(x_train.shape[0]))\n",
    "    display_fashion(x_train[rand], y_train_translated[rand], axs[0][i])\n",
    "    display_fashion(kernels[0][2][rand], kernels[0][0], axs[1][i])\n",
    "    display_fashion(kernels[1][2][rand], kernels[1][0], axs[2][i])\n",
    "    display_fashion(kernels[2][2][rand], kernels[2][0], axs[3][i])\n",
    "\n",
    "fig.show()"
   ]
  },
  {
   "cell_type": "code",
   "execution_count": 30,
   "metadata": {},
   "outputs": [
    {
     "data": {
      "text/plain": [
       "2352"
      ]
     },
     "execution_count": 30,
     "metadata": {},
     "output_type": "execute_result"
    }
   ],
   "source": [
    "3 * (28 ** 2)\n"
   ]
  },
  {
   "cell_type": "code",
   "execution_count": null,
   "metadata": {},
   "outputs": [],
   "source": []
  },
  {
   "cell_type": "code",
   "execution_count": 31,
   "metadata": {},
   "outputs": [],
   "source": [
    "from scipy import ndimage\n",
    "from sklearn.preprocessing import MinMaxScaler\n",
    "from skimage.measure import block_reduce\n",
    "\n",
    "def maxpool(x, size=(2,2)):\n",
    "    w = int(np.sqrt(x.shape[1]))\n",
    "    # x = ndimage.maximum_filter(x.reshape((x.shape[0], w, w)), size=(x.shape[0], size[0], size[1])) \n",
    "    x = np.array([block_reduce(img.reshape((w, w)), block_size=(size[0], size[1]), func=np.max) for img in x])\n",
    "    x = x.reshape(x.shape[0], x.shape[1]*x.shape[2]) \n",
    "    x = MinMaxScaler().fit_transform(x)\n",
    "\n",
    "    return x"
   ]
  },
  {
   "cell_type": "code",
   "execution_count": 32,
   "metadata": {},
   "outputs": [
    {
     "name": "stdout",
     "output_type": "stream",
     "text": [
      "28.0 6.0\n"
     ]
    }
   ],
   "source": [
    "x_train_maxpool = maxpool(x_train_conv, size=(5,5))\n",
    "x_test_maxpool = maxpool(x_test_conv, size=(5,5)) \n",
    "\n",
    "print(np.sqrt(x_test_conv.shape[1]), np.sqrt(x_test_maxpool.shape[1]))"
   ]
  },
  {
   "cell_type": "code",
   "execution_count": 33,
   "metadata": {},
   "outputs": [
    {
     "data": {
      "text/plain": [
       "0.04591836734693878"
      ]
     },
     "execution_count": 33,
     "metadata": {},
     "output_type": "execute_result"
    }
   ],
   "source": [
    "6**2 / 28**2"
   ]
  },
  {
   "cell_type": "code",
   "execution_count": 381,
   "metadata": {},
   "outputs": [
    {
     "name": "stderr",
     "output_type": "stream",
     "text": [
      "/Users/tarek/anaconda3/envs/scikitbook/lib/python3.6/site-packages/ipykernel_launcher.py:10: UserWarning: Matplotlib is currently using module://ipykernel.pylab.backend_inline, which is a non-GUI backend, so cannot show the figure.\n",
      "  # Remove the CWD from sys.path while we load stuff.\n"
     ]
    },
    {
     "data": {
      "image/png": "[encoded data removed]",
      "text/plain": [
       "<Figure size 1152x432 with 20 Axes>"
      ]
     },
     "metadata": {
      "needs_background": "light"
     },
     "output_type": "display_data"
    }
   ],
   "source": [
    "fig, axs = plt.subplots(2, 10, figsize=(16, 6))\n",
    "\n",
    "import random \n",
    "\n",
    "for i in range(10):\n",
    "    rand = random.choice(range(x_train.shape[0]))\n",
    "    display_fashion(x_train[rand], y_train_translated[rand], axs[0][i])\n",
    "    display_fashion(x_train_maxpool[rand], y_train_translated[rand], axs[1][i])\n",
    "\n",
    "fig.show()"
   ]
  },
  {
   "cell_type": "code",
   "execution_count": 382,
   "metadata": {},
   "outputs": [],
   "source": [
    "class ConvolutionTransformer:\n",
    "    \n",
    "    def __init__(self, kernel=[], max_pool=False, max_pool_size=(2,2)):\n",
    "        self.kernel = kernel\n",
    "        self.max_pool = max_pool\n",
    "        self.max_pool_size = max_pool_size\n",
    "        \n",
    "    def fit(self, x):\n",
    "        return x\n",
    "    \n",
    "    def transform(self, x, y=None):\n",
    "        x = convolve(x, self.kernel)\n",
    "        if self.max_pool:\n",
    "            x = maxpool(x, self.max_pool_size)\n",
    "        return x\n",
    "    \n",
    "    def fit_transform(self, x, y=None):\n",
    "        x = self.fit(x)\n",
    "        return self.transform(x)"
   ]
  },
  {
   "cell_type": "code",
   "execution_count": 383,
   "metadata": {
    "scrolled": false
   },
   "outputs": [
    {
     "name": "stdout",
     "output_type": "stream",
     "text": [
      "Shape 784 => 2352\n"
     ]
    }
   ],
   "source": [
    "from sklearn.pipeline import FeatureUnion\n",
    "\n",
    "funion = FeatureUnion(\n",
    "    [\n",
    "        (kernel[0], ConvolutionTransformer(kernel=kernel[1], max_pool=False))\n",
    "        for kernel in kernels\n",
    "    ]\n",
    ")\n",
    "\n",
    "x_train_convs = funion.fit_transform(x_train)\n",
    "x_test_convs = funion.fit_transform(x_test)\n",
    "\n",
    "print(f'Shape {x_train.shape[-1]} => {x_train_convs.shape[-1]}')"
   ]
  },
  {
   "cell_type": "code",
   "execution_count": 384,
   "metadata": {},
   "outputs": [
    {
     "data": {
      "text/plain": [
       "MLPClassifier(activation='relu', alpha=0.0001, batch_size=50, beta_1=0.9,\n",
       "              beta_2=0.999, early_stopping=True, epsilon=1e-08,\n",
       "              hidden_layer_sizes=(1000, 500, 100), learning_rate='constant',\n",
       "              learning_rate_init=0.01, max_fun=15000, max_iter=80, momentum=0.9,\n",
       "              n_iter_no_change=10, nesterovs_momentum=True, power_t=0.5,\n",
       "              random_state=None, shuffle=True, solver='adam', tol=0.0001,\n",
       "              validation_fraction=0.1, verbose=False, warm_start=False)"
      ]
     },
     "execution_count": 384,
     "metadata": {},
     "output_type": "execute_result"
    }
   ],
   "source": [
    "from sklearn.neural_network import MLPClassifier\n",
    "\n",
    "mlp = MLPClassifier(\n",
    "    hidden_layer_sizes=(1000, 500, 100),\n",
    "    activation='relu',\n",
    "    learning_rate_init=0.01,\n",
    "    solver='adam',\n",
    "    max_iter=80,\n",
    "    batch_size=50,\n",
    "    early_stopping=True,\n",
    ")\n",
    "\n",
    "mlp.fit(x_train_convs, y_train)"
   ]
  },
  {
   "cell_type": "code",
   "execution_count": 385,
   "metadata": {},
   "outputs": [],
   "source": [
    "y_test_predict = mlp.predict(x_test_convs)"
   ]
  },
  {
   "cell_type": "code",
   "execution_count": 386,
   "metadata": {},
   "outputs": [
    {
     "name": "stdout",
     "output_type": "stream",
     "text": [
      "Micro FScore = 0.099\n"
     ]
    },
    {
     "name": "stderr",
     "output_type": "stream",
     "text": [
      "/Users/tarek/anaconda3/envs/scikitbook/lib/python3.6/site-packages/sklearn/metrics/_classification.py:1268: UndefinedMetricWarning: Precision and F-score are ill-defined and being set to 0.0 in labels with no predicted samples. Use `zero_division` parameter to control this behavior.\n",
      "  _warn_prf(average, modifier, msg_start, len(result))\n"
     ]
    },
    {
     "data": {
      "text/html": [
       "<style  type=\"text/css\" >\n",
       "    #T_5b90d3e2_4b35_11ea_af54_784f43517922row0_col0 {\n",
       "            width:  10em;\n",
       "             height:  80%;\n",
       "        }    #T_5b90d3e2_4b35_11ea_af54_784f43517922row0_col1 {\n",
       "            width:  10em;\n",
       "             height:  80%;\n",
       "        }    #T_5b90d3e2_4b35_11ea_af54_784f43517922row0_col2 {\n",
       "            width:  10em;\n",
       "             height:  80%;\n",
       "        }    #T_5b90d3e2_4b35_11ea_af54_784f43517922row1_col0 {\n",
       "            width:  10em;\n",
       "             height:  80%;\n",
       "        }    #T_5b90d3e2_4b35_11ea_af54_784f43517922row1_col1 {\n",
       "            width:  10em;\n",
       "             height:  80%;\n",
       "        }    #T_5b90d3e2_4b35_11ea_af54_784f43517922row1_col2 {\n",
       "            width:  10em;\n",
       "             height:  80%;\n",
       "        }    #T_5b90d3e2_4b35_11ea_af54_784f43517922row2_col0 {\n",
       "            width:  10em;\n",
       "             height:  80%;\n",
       "        }    #T_5b90d3e2_4b35_11ea_af54_784f43517922row2_col1 {\n",
       "            width:  10em;\n",
       "             height:  80%;\n",
       "        }    #T_5b90d3e2_4b35_11ea_af54_784f43517922row2_col2 {\n",
       "            width:  10em;\n",
       "             height:  80%;\n",
       "        }    #T_5b90d3e2_4b35_11ea_af54_784f43517922row3_col0 {\n",
       "            width:  10em;\n",
       "             height:  80%;\n",
       "        }    #T_5b90d3e2_4b35_11ea_af54_784f43517922row3_col1 {\n",
       "            width:  10em;\n",
       "             height:  80%;\n",
       "        }    #T_5b90d3e2_4b35_11ea_af54_784f43517922row3_col2 {\n",
       "            width:  10em;\n",
       "             height:  80%;\n",
       "        }    #T_5b90d3e2_4b35_11ea_af54_784f43517922row4_col0 {\n",
       "            width:  10em;\n",
       "             height:  80%;\n",
       "        }    #T_5b90d3e2_4b35_11ea_af54_784f43517922row4_col1 {\n",
       "            width:  10em;\n",
       "             height:  80%;\n",
       "        }    #T_5b90d3e2_4b35_11ea_af54_784f43517922row4_col2 {\n",
       "            width:  10em;\n",
       "             height:  80%;\n",
       "        }    #T_5b90d3e2_4b35_11ea_af54_784f43517922row5_col0 {\n",
       "            width:  10em;\n",
       "             height:  80%;\n",
       "        }    #T_5b90d3e2_4b35_11ea_af54_784f43517922row5_col1 {\n",
       "            width:  10em;\n",
       "             height:  80%;\n",
       "        }    #T_5b90d3e2_4b35_11ea_af54_784f43517922row5_col2 {\n",
       "            width:  10em;\n",
       "             height:  80%;\n",
       "        }    #T_5b90d3e2_4b35_11ea_af54_784f43517922row6_col0 {\n",
       "            width:  10em;\n",
       "             height:  80%;\n",
       "        }    #T_5b90d3e2_4b35_11ea_af54_784f43517922row6_col1 {\n",
       "            width:  10em;\n",
       "             height:  80%;\n",
       "        }    #T_5b90d3e2_4b35_11ea_af54_784f43517922row6_col2 {\n",
       "            width:  10em;\n",
       "             height:  80%;\n",
       "        }    #T_5b90d3e2_4b35_11ea_af54_784f43517922row7_col0 {\n",
       "            width:  10em;\n",
       "             height:  80%;\n",
       "            background:  linear-gradient(90deg,#CCCCCC 100.0%, transparent 100.0%);\n",
       "        }    #T_5b90d3e2_4b35_11ea_af54_784f43517922row7_col1 {\n",
       "            width:  10em;\n",
       "             height:  80%;\n",
       "            background:  linear-gradient(90deg,#CCCCCC 100.0%, transparent 100.0%);\n",
       "        }    #T_5b90d3e2_4b35_11ea_af54_784f43517922row7_col2 {\n",
       "            width:  10em;\n",
       "             height:  80%;\n",
       "            background:  linear-gradient(90deg,#CCCCCC 100.0%, transparent 100.0%);\n",
       "        }    #T_5b90d3e2_4b35_11ea_af54_784f43517922row8_col0 {\n",
       "            width:  10em;\n",
       "             height:  80%;\n",
       "        }    #T_5b90d3e2_4b35_11ea_af54_784f43517922row8_col1 {\n",
       "            width:  10em;\n",
       "             height:  80%;\n",
       "        }    #T_5b90d3e2_4b35_11ea_af54_784f43517922row8_col2 {\n",
       "            width:  10em;\n",
       "             height:  80%;\n",
       "        }    #T_5b90d3e2_4b35_11ea_af54_784f43517922row9_col0 {\n",
       "            width:  10em;\n",
       "             height:  80%;\n",
       "        }    #T_5b90d3e2_4b35_11ea_af54_784f43517922row9_col1 {\n",
       "            width:  10em;\n",
       "             height:  80%;\n",
       "        }    #T_5b90d3e2_4b35_11ea_af54_784f43517922row9_col2 {\n",
       "            width:  10em;\n",
       "             height:  80%;\n",
       "        }</style><table id=\"T_5b90d3e2_4b35_11ea_af54_784f43517922\" ><thead>    <tr>        <th class=\"blank level0\" ></th>        <th class=\"col_heading level0 col0\" >Precision</th>        <th class=\"col_heading level0 col1\" >Recall</th>        <th class=\"col_heading level0 col2\" >F</th>        <th class=\"col_heading level0 col3\" >Support</th>    </tr></thead><tbody>\n",
       "                <tr>\n",
       "                        <th id=\"T_5b90d3e2_4b35_11ea_af54_784f43517922level0_row0\" class=\"row_heading level0 row0\" >Ankle boot</th>\n",
       "                        <td id=\"T_5b90d3e2_4b35_11ea_af54_784f43517922row0_col0\" class=\"data row0 col0\" >0</td>\n",
       "                        <td id=\"T_5b90d3e2_4b35_11ea_af54_784f43517922row0_col1\" class=\"data row0 col1\" >0</td>\n",
       "                        <td id=\"T_5b90d3e2_4b35_11ea_af54_784f43517922row0_col2\" class=\"data row0 col2\" >0</td>\n",
       "                        <td id=\"T_5b90d3e2_4b35_11ea_af54_784f43517922row0_col3\" class=\"data row0 col3\" >209</td>\n",
       "            </tr>\n",
       "            <tr>\n",
       "                        <th id=\"T_5b90d3e2_4b35_11ea_af54_784f43517922level0_row1\" class=\"row_heading level0 row1\" >Bag  </th>\n",
       "                        <td id=\"T_5b90d3e2_4b35_11ea_af54_784f43517922row1_col0\" class=\"data row1 col0\" >0</td>\n",
       "                        <td id=\"T_5b90d3e2_4b35_11ea_af54_784f43517922row1_col1\" class=\"data row1 col1\" >0</td>\n",
       "                        <td id=\"T_5b90d3e2_4b35_11ea_af54_784f43517922row1_col2\" class=\"data row1 col2\" >0</td>\n",
       "                        <td id=\"T_5b90d3e2_4b35_11ea_af54_784f43517922row1_col3\" class=\"data row1 col3\" >213</td>\n",
       "            </tr>\n",
       "            <tr>\n",
       "                        <th id=\"T_5b90d3e2_4b35_11ea_af54_784f43517922level0_row2\" class=\"row_heading level0 row2\" >Coat  </th>\n",
       "                        <td id=\"T_5b90d3e2_4b35_11ea_af54_784f43517922row2_col0\" class=\"data row2 col0\" >0</td>\n",
       "                        <td id=\"T_5b90d3e2_4b35_11ea_af54_784f43517922row2_col1\" class=\"data row2 col1\" >0</td>\n",
       "                        <td id=\"T_5b90d3e2_4b35_11ea_af54_784f43517922row2_col2\" class=\"data row2 col2\" >0</td>\n",
       "                        <td id=\"T_5b90d3e2_4b35_11ea_af54_784f43517922row2_col3\" class=\"data row2 col3\" >207</td>\n",
       "            </tr>\n",
       "            <tr>\n",
       "                        <th id=\"T_5b90d3e2_4b35_11ea_af54_784f43517922level0_row3\" class=\"row_heading level0 row3\" >Dress  </th>\n",
       "                        <td id=\"T_5b90d3e2_4b35_11ea_af54_784f43517922row3_col0\" class=\"data row3 col0\" >0</td>\n",
       "                        <td id=\"T_5b90d3e2_4b35_11ea_af54_784f43517922row3_col1\" class=\"data row3 col1\" >0</td>\n",
       "                        <td id=\"T_5b90d3e2_4b35_11ea_af54_784f43517922row3_col2\" class=\"data row3 col2\" >0</td>\n",
       "                        <td id=\"T_5b90d3e2_4b35_11ea_af54_784f43517922row3_col3\" class=\"data row3 col3\" >209</td>\n",
       "            </tr>\n",
       "            <tr>\n",
       "                        <th id=\"T_5b90d3e2_4b35_11ea_af54_784f43517922level0_row4\" class=\"row_heading level0 row4\" >Pullover  </th>\n",
       "                        <td id=\"T_5b90d3e2_4b35_11ea_af54_784f43517922row4_col0\" class=\"data row4 col0\" >0</td>\n",
       "                        <td id=\"T_5b90d3e2_4b35_11ea_af54_784f43517922row4_col1\" class=\"data row4 col1\" >0</td>\n",
       "                        <td id=\"T_5b90d3e2_4b35_11ea_af54_784f43517922row4_col2\" class=\"data row4 col2\" >0</td>\n",
       "                        <td id=\"T_5b90d3e2_4b35_11ea_af54_784f43517922row4_col3\" class=\"data row4 col3\" >186</td>\n",
       "            </tr>\n",
       "            <tr>\n",
       "                        <th id=\"T_5b90d3e2_4b35_11ea_af54_784f43517922level0_row5\" class=\"row_heading level0 row5\" >Sandal  </th>\n",
       "                        <td id=\"T_5b90d3e2_4b35_11ea_af54_784f43517922row5_col0\" class=\"data row5 col0\" >0</td>\n",
       "                        <td id=\"T_5b90d3e2_4b35_11ea_af54_784f43517922row5_col1\" class=\"data row5 col1\" >0</td>\n",
       "                        <td id=\"T_5b90d3e2_4b35_11ea_af54_784f43517922row5_col2\" class=\"data row5 col2\" >0</td>\n",
       "                        <td id=\"T_5b90d3e2_4b35_11ea_af54_784f43517922row5_col3\" class=\"data row5 col3\" >204</td>\n",
       "            </tr>\n",
       "            <tr>\n",
       "                        <th id=\"T_5b90d3e2_4b35_11ea_af54_784f43517922level0_row6\" class=\"row_heading level0 row6\" >Shirt  </th>\n",
       "                        <td id=\"T_5b90d3e2_4b35_11ea_af54_784f43517922row6_col0\" class=\"data row6 col0\" >0</td>\n",
       "                        <td id=\"T_5b90d3e2_4b35_11ea_af54_784f43517922row6_col1\" class=\"data row6 col1\" >0</td>\n",
       "                        <td id=\"T_5b90d3e2_4b35_11ea_af54_784f43517922row6_col2\" class=\"data row6 col2\" >0</td>\n",
       "                        <td id=\"T_5b90d3e2_4b35_11ea_af54_784f43517922row6_col3\" class=\"data row6 col3\" >175</td>\n",
       "            </tr>\n",
       "            <tr>\n",
       "                        <th id=\"T_5b90d3e2_4b35_11ea_af54_784f43517922level0_row7\" class=\"row_heading level0 row7\" >Sneaker  </th>\n",
       "                        <td id=\"T_5b90d3e2_4b35_11ea_af54_784f43517922row7_col0\" class=\"data row7 col0\" >0.1</td>\n",
       "                        <td id=\"T_5b90d3e2_4b35_11ea_af54_784f43517922row7_col1\" class=\"data row7 col1\" >1</td>\n",
       "                        <td id=\"T_5b90d3e2_4b35_11ea_af54_784f43517922row7_col2\" class=\"data row7 col2\" >0.18</td>\n",
       "                        <td id=\"T_5b90d3e2_4b35_11ea_af54_784f43517922row7_col3\" class=\"data row7 col3\" >198</td>\n",
       "            </tr>\n",
       "            <tr>\n",
       "                        <th id=\"T_5b90d3e2_4b35_11ea_af54_784f43517922level0_row8\" class=\"row_heading level0 row8\" >T-shirt/top  </th>\n",
       "                        <td id=\"T_5b90d3e2_4b35_11ea_af54_784f43517922row8_col0\" class=\"data row8 col0\" >0</td>\n",
       "                        <td id=\"T_5b90d3e2_4b35_11ea_af54_784f43517922row8_col1\" class=\"data row8 col1\" >0</td>\n",
       "                        <td id=\"T_5b90d3e2_4b35_11ea_af54_784f43517922row8_col2\" class=\"data row8 col2\" >0</td>\n",
       "                        <td id=\"T_5b90d3e2_4b35_11ea_af54_784f43517922row8_col3\" class=\"data row8 col3\" >189</td>\n",
       "            </tr>\n",
       "            <tr>\n",
       "                        <th id=\"T_5b90d3e2_4b35_11ea_af54_784f43517922level0_row9\" class=\"row_heading level0 row9\" >Trouser  </th>\n",
       "                        <td id=\"T_5b90d3e2_4b35_11ea_af54_784f43517922row9_col0\" class=\"data row9 col0\" >0</td>\n",
       "                        <td id=\"T_5b90d3e2_4b35_11ea_af54_784f43517922row9_col1\" class=\"data row9 col1\" >0</td>\n",
       "                        <td id=\"T_5b90d3e2_4b35_11ea_af54_784f43517922row9_col2\" class=\"data row9 col2\" >0</td>\n",
       "                        <td id=\"T_5b90d3e2_4b35_11ea_af54_784f43517922row9_col3\" class=\"data row9 col3\" >210</td>\n",
       "            </tr>\n",
       "    </tbody></table>"
      ],
      "text/plain": [
       "<pandas.io.formats.style.Styler at 0x1c5d813518>"
      ]
     },
     "execution_count": 386,
     "metadata": {},
     "output_type": "execute_result"
    }
   ],
   "source": [
    "from sklearn.metrics import precision_recall_fscore_support\n",
    "\n",
    "micro_fscore = precision_recall_fscore_support(y_test, y_test_predict, average='micro')[2]\n",
    "print(f'Micro FScore = {micro_fscore}')\n",
    "\n",
    "p, r, f, s = precision_recall_fscore_support(y_test, y_test_predict)\n",
    "\n",
    "pd.DataFrame(\n",
    "    {\n",
    "        'Precision': p,\n",
    "        'Recall': r,\n",
    "        'F': f,\n",
    "        'Support': s,\n",
    "    },\n",
    "    index=le.classes_.tolist()\n",
    ").round(2).style.bar(subset=['Precision', 'Recall', 'F'], align='mid', color='#CCCCCC')"
   ]
  },
  {
   "cell_type": "code",
   "execution_count": 387,
   "metadata": {},
   "outputs": [
    {
     "name": "stdout",
     "output_type": "stream",
     "text": [
      "Shape 784 => 147\n"
     ]
    }
   ],
   "source": [
    "from sklearn.pipeline import FeatureUnion\n",
    "\n",
    "funion = FeatureUnion(\n",
    "    [\n",
    "        (kernel[0], ConvolutionTransformer(kernel=kernel[1], max_pool=True, max_pool_size=(4,4)))\n",
    "        for kernel in kernels\n",
    "    ]\n",
    ")\n",
    "\n",
    "x_train_convs = funion.fit_transform(x_train)\n",
    "x_test_convs = funion.fit_transform(x_test)\n",
    "\n",
    "print(f'Shape {x_train.shape[-1]} => {x_train_convs.shape[-1]}')"
   ]
  },
  {
   "cell_type": "code",
   "execution_count": 388,
   "metadata": {},
   "outputs": [
    {
     "data": {
      "text/plain": [
       "MLPClassifier(activation='relu', alpha=0.0001, batch_size=50, beta_1=0.9,\n",
       "              beta_2=0.999, early_stopping=True, epsilon=1e-08,\n",
       "              hidden_layer_sizes=(500, 300), learning_rate='constant',\n",
       "              learning_rate_init=0.01, max_fun=15000, max_iter=80, momentum=0.9,\n",
       "              n_iter_no_change=10, nesterovs_momentum=True, power_t=0.5,\n",
       "              random_state=None, shuffle=True, solver='adam', tol=0.0001,\n",
       "              validation_fraction=0.1, verbose=False, warm_start=False)"
      ]
     },
     "execution_count": 388,
     "metadata": {},
     "output_type": "execute_result"
    }
   ],
   "source": [
    "from sklearn.neural_network import MLPClassifier\n",
    "\n",
    "mlp = MLPClassifier(\n",
    "    hidden_layer_sizes=(500, 300),\n",
    "    activation='relu',\n",
    "    learning_rate_init=0.01,\n",
    "    solver='adam',\n",
    "    max_iter=80,\n",
    "    batch_size=50,\n",
    "    early_stopping=True,\n",
    ")\n",
    "\n",
    "mlp.fit(x_train_convs, y_train)"
   ]
  },
  {
   "cell_type": "code",
   "execution_count": 389,
   "metadata": {},
   "outputs": [],
   "source": [
    "y_test_predict = mlp.predict(x_test_convs)"
   ]
  },
  {
   "cell_type": "code",
   "execution_count": 390,
   "metadata": {},
   "outputs": [
    {
     "name": "stdout",
     "output_type": "stream",
     "text": [
      "Micro FScore = 0.792\n"
     ]
    },
    {
     "data": {
      "text/html": [
       "<style  type=\"text/css\" >\n",
       "    #T_68c04f34_4b35_11ea_9efd_784f43517922row0_col0 {\n",
       "            width:  10em;\n",
       "             height:  80%;\n",
       "            background:  linear-gradient(90deg,#CCCCCC 74.7%, transparent 74.7%);\n",
       "        }    #T_68c04f34_4b35_11ea_9efd_784f43517922row0_col1 {\n",
       "            width:  10em;\n",
       "             height:  80%;\n",
       "            background:  linear-gradient(90deg,#CCCCCC 79.8%, transparent 79.8%);\n",
       "        }    #T_68c04f34_4b35_11ea_9efd_784f43517922row0_col2 {\n",
       "            width:  10em;\n",
       "             height:  80%;\n",
       "            background:  linear-gradient(90deg,#CCCCCC 80.2%, transparent 80.2%);\n",
       "        }    #T_68c04f34_4b35_11ea_9efd_784f43517922row1_col0 {\n",
       "            width:  10em;\n",
       "             height:  80%;\n",
       "            background:  linear-gradient(90deg,#CCCCCC 100.0%, transparent 100.0%);\n",
       "        }    #T_68c04f34_4b35_11ea_9efd_784f43517922row1_col1 {\n",
       "            width:  10em;\n",
       "             height:  80%;\n",
       "            background:  linear-gradient(90deg,#CCCCCC 93.9%, transparent 93.9%);\n",
       "        }    #T_68c04f34_4b35_11ea_9efd_784f43517922row1_col2 {\n",
       "            width:  10em;\n",
       "             height:  80%;\n",
       "            background:  linear-gradient(90deg,#CCCCCC 100.0%, transparent 100.0%);\n",
       "        }    #T_68c04f34_4b35_11ea_9efd_784f43517922row2_col0 {\n",
       "            width:  10em;\n",
       "             height:  80%;\n",
       "            background:  linear-gradient(90deg,#CCCCCC 94.9%, transparent 94.9%);\n",
       "        }    #T_68c04f34_4b35_11ea_9efd_784f43517922row2_col1 {\n",
       "            width:  10em;\n",
       "             height:  80%;\n",
       "            background:  linear-gradient(90deg,#CCCCCC 53.5%, transparent 53.5%);\n",
       "        }    #T_68c04f34_4b35_11ea_9efd_784f43517922row2_col2 {\n",
       "            width:  10em;\n",
       "             height:  80%;\n",
       "            background:  linear-gradient(90deg,#CCCCCC 70.8%, transparent 70.8%);\n",
       "        }    #T_68c04f34_4b35_11ea_9efd_784f43517922row3_col0 {\n",
       "            width:  10em;\n",
       "             height:  80%;\n",
       "            background:  linear-gradient(90deg,#CCCCCC 93.9%, transparent 93.9%);\n",
       "        }    #T_68c04f34_4b35_11ea_9efd_784f43517922row3_col1 {\n",
       "            width:  10em;\n",
       "             height:  80%;\n",
       "            background:  linear-gradient(90deg,#CCCCCC 65.7%, transparent 65.7%);\n",
       "        }    #T_68c04f34_4b35_11ea_9efd_784f43517922row3_col2 {\n",
       "            width:  10em;\n",
       "             height:  80%;\n",
       "            background:  linear-gradient(90deg,#CCCCCC 79.2%, transparent 79.2%);\n",
       "        }    #T_68c04f34_4b35_11ea_9efd_784f43517922row4_col0 {\n",
       "            width:  10em;\n",
       "             height:  80%;\n",
       "            background:  linear-gradient(90deg,#CCCCCC 62.6%, transparent 62.6%);\n",
       "        }    #T_68c04f34_4b35_11ea_9efd_784f43517922row4_col1 {\n",
       "            width:  10em;\n",
       "             height:  80%;\n",
       "            background:  linear-gradient(90deg,#CCCCCC 85.9%, transparent 85.9%);\n",
       "        }    #T_68c04f34_4b35_11ea_9efd_784f43517922row4_col2 {\n",
       "            width:  10em;\n",
       "             height:  80%;\n",
       "            background:  linear-gradient(90deg,#CCCCCC 75.0%, transparent 75.0%);\n",
       "        }    #T_68c04f34_4b35_11ea_9efd_784f43517922row5_col0 {\n",
       "            width:  10em;\n",
       "             height:  80%;\n",
       "            background:  linear-gradient(90deg,#CCCCCC 100.0%, transparent 100.0%);\n",
       "        }    #T_68c04f34_4b35_11ea_9efd_784f43517922row5_col1 {\n",
       "            width:  10em;\n",
       "             height:  80%;\n",
       "            background:  linear-gradient(90deg,#CCCCCC 69.7%, transparent 69.7%);\n",
       "        }    #T_68c04f34_4b35_11ea_9efd_784f43517922row5_col2 {\n",
       "            width:  10em;\n",
       "             height:  80%;\n",
       "            background:  linear-gradient(90deg,#CCCCCC 84.4%, transparent 84.4%);\n",
       "        }    #T_68c04f34_4b35_11ea_9efd_784f43517922row6_col0 {\n",
       "            width:  10em;\n",
       "             height:  80%;\n",
       "            background:  linear-gradient(90deg,#CCCCCC 44.4%, transparent 44.4%);\n",
       "        }    #T_68c04f34_4b35_11ea_9efd_784f43517922row6_col1 {\n",
       "            width:  10em;\n",
       "             height:  80%;\n",
       "            background:  linear-gradient(90deg,#CCCCCC 65.7%, transparent 65.7%);\n",
       "        }    #T_68c04f34_4b35_11ea_9efd_784f43517922row6_col2 {\n",
       "            width:  10em;\n",
       "             height:  80%;\n",
       "            background:  linear-gradient(90deg,#CCCCCC 55.2%, transparent 55.2%);\n",
       "        }    #T_68c04f34_4b35_11ea_9efd_784f43517922row7_col0 {\n",
       "            width:  10em;\n",
       "             height:  80%;\n",
       "            background:  linear-gradient(90deg,#CCCCCC 77.8%, transparent 77.8%);\n",
       "        }    #T_68c04f34_4b35_11ea_9efd_784f43517922row7_col1 {\n",
       "            width:  10em;\n",
       "             height:  80%;\n",
       "            background:  linear-gradient(90deg,#CCCCCC 100.0%, transparent 100.0%);\n",
       "        }    #T_68c04f34_4b35_11ea_9efd_784f43517922row7_col2 {\n",
       "            width:  10em;\n",
       "             height:  80%;\n",
       "            background:  linear-gradient(90deg,#CCCCCC 90.6%, transparent 90.6%);\n",
       "        }    #T_68c04f34_4b35_11ea_9efd_784f43517922row8_col0 {\n",
       "            width:  10em;\n",
       "             height:  80%;\n",
       "            background:  linear-gradient(90deg,#CCCCCC 86.9%, transparent 86.9%);\n",
       "        }    #T_68c04f34_4b35_11ea_9efd_784f43517922row8_col1 {\n",
       "            width:  10em;\n",
       "             height:  80%;\n",
       "            background:  linear-gradient(90deg,#CCCCCC 96.0%, transparent 96.0%);\n",
       "        }    #T_68c04f34_4b35_11ea_9efd_784f43517922row8_col2 {\n",
       "            width:  10em;\n",
       "             height:  80%;\n",
       "            background:  linear-gradient(90deg,#CCCCCC 93.7%, transparent 93.7%);\n",
       "        }    #T_68c04f34_4b35_11ea_9efd_784f43517922row9_col0 {\n",
       "            width:  10em;\n",
       "             height:  80%;\n",
       "            background:  linear-gradient(90deg,#CCCCCC 96.0%, transparent 96.0%);\n",
       "        }    #T_68c04f34_4b35_11ea_9efd_784f43517922row9_col1 {\n",
       "            width:  10em;\n",
       "             height:  80%;\n",
       "            background:  linear-gradient(90deg,#CCCCCC 89.9%, transparent 89.9%);\n",
       "        }    #T_68c04f34_4b35_11ea_9efd_784f43517922row9_col2 {\n",
       "            width:  10em;\n",
       "             height:  80%;\n",
       "            background:  linear-gradient(90deg,#CCCCCC 95.8%, transparent 95.8%);\n",
       "        }</style><table id=\"T_68c04f34_4b35_11ea_9efd_784f43517922\" ><thead>    <tr>        <th class=\"blank level0\" ></th>        <th class=\"col_heading level0 col0\" >Precision</th>        <th class=\"col_heading level0 col1\" >Recall</th>        <th class=\"col_heading level0 col2\" >F</th>        <th class=\"col_heading level0 col3\" >Support</th>    </tr></thead><tbody>\n",
       "                <tr>\n",
       "                        <th id=\"T_68c04f34_4b35_11ea_9efd_784f43517922level0_row0\" class=\"row_heading level0 row0\" >Ankle boot</th>\n",
       "                        <td id=\"T_68c04f34_4b35_11ea_9efd_784f43517922row0_col0\" class=\"data row0 col0\" >0.74</td>\n",
       "                        <td id=\"T_68c04f34_4b35_11ea_9efd_784f43517922row0_col1\" class=\"data row0 col1\" >0.79</td>\n",
       "                        <td id=\"T_68c04f34_4b35_11ea_9efd_784f43517922row0_col2\" class=\"data row0 col2\" >0.77</td>\n",
       "                        <td id=\"T_68c04f34_4b35_11ea_9efd_784f43517922row0_col3\" class=\"data row0 col3\" >209</td>\n",
       "            </tr>\n",
       "            <tr>\n",
       "                        <th id=\"T_68c04f34_4b35_11ea_9efd_784f43517922level0_row1\" class=\"row_heading level0 row1\" >Bag  </th>\n",
       "                        <td id=\"T_68c04f34_4b35_11ea_9efd_784f43517922row1_col0\" class=\"data row1 col0\" >0.99</td>\n",
       "                        <td id=\"T_68c04f34_4b35_11ea_9efd_784f43517922row1_col1\" class=\"data row1 col1\" >0.93</td>\n",
       "                        <td id=\"T_68c04f34_4b35_11ea_9efd_784f43517922row1_col2\" class=\"data row1 col2\" >0.96</td>\n",
       "                        <td id=\"T_68c04f34_4b35_11ea_9efd_784f43517922row1_col3\" class=\"data row1 col3\" >213</td>\n",
       "            </tr>\n",
       "            <tr>\n",
       "                        <th id=\"T_68c04f34_4b35_11ea_9efd_784f43517922level0_row2\" class=\"row_heading level0 row2\" >Coat  </th>\n",
       "                        <td id=\"T_68c04f34_4b35_11ea_9efd_784f43517922row2_col0\" class=\"data row2 col0\" >0.94</td>\n",
       "                        <td id=\"T_68c04f34_4b35_11ea_9efd_784f43517922row2_col1\" class=\"data row2 col1\" >0.53</td>\n",
       "                        <td id=\"T_68c04f34_4b35_11ea_9efd_784f43517922row2_col2\" class=\"data row2 col2\" >0.68</td>\n",
       "                        <td id=\"T_68c04f34_4b35_11ea_9efd_784f43517922row2_col3\" class=\"data row2 col3\" >207</td>\n",
       "            </tr>\n",
       "            <tr>\n",
       "                        <th id=\"T_68c04f34_4b35_11ea_9efd_784f43517922level0_row3\" class=\"row_heading level0 row3\" >Dress  </th>\n",
       "                        <td id=\"T_68c04f34_4b35_11ea_9efd_784f43517922row3_col0\" class=\"data row3 col0\" >0.93</td>\n",
       "                        <td id=\"T_68c04f34_4b35_11ea_9efd_784f43517922row3_col1\" class=\"data row3 col1\" >0.65</td>\n",
       "                        <td id=\"T_68c04f34_4b35_11ea_9efd_784f43517922row3_col2\" class=\"data row3 col2\" >0.76</td>\n",
       "                        <td id=\"T_68c04f34_4b35_11ea_9efd_784f43517922row3_col3\" class=\"data row3 col3\" >209</td>\n",
       "            </tr>\n",
       "            <tr>\n",
       "                        <th id=\"T_68c04f34_4b35_11ea_9efd_784f43517922level0_row4\" class=\"row_heading level0 row4\" >Pullover  </th>\n",
       "                        <td id=\"T_68c04f34_4b35_11ea_9efd_784f43517922row4_col0\" class=\"data row4 col0\" >0.62</td>\n",
       "                        <td id=\"T_68c04f34_4b35_11ea_9efd_784f43517922row4_col1\" class=\"data row4 col1\" >0.85</td>\n",
       "                        <td id=\"T_68c04f34_4b35_11ea_9efd_784f43517922row4_col2\" class=\"data row4 col2\" >0.72</td>\n",
       "                        <td id=\"T_68c04f34_4b35_11ea_9efd_784f43517922row4_col3\" class=\"data row4 col3\" >186</td>\n",
       "            </tr>\n",
       "            <tr>\n",
       "                        <th id=\"T_68c04f34_4b35_11ea_9efd_784f43517922level0_row5\" class=\"row_heading level0 row5\" >Sandal  </th>\n",
       "                        <td id=\"T_68c04f34_4b35_11ea_9efd_784f43517922row5_col0\" class=\"data row5 col0\" >0.99</td>\n",
       "                        <td id=\"T_68c04f34_4b35_11ea_9efd_784f43517922row5_col1\" class=\"data row5 col1\" >0.69</td>\n",
       "                        <td id=\"T_68c04f34_4b35_11ea_9efd_784f43517922row5_col2\" class=\"data row5 col2\" >0.81</td>\n",
       "                        <td id=\"T_68c04f34_4b35_11ea_9efd_784f43517922row5_col3\" class=\"data row5 col3\" >204</td>\n",
       "            </tr>\n",
       "            <tr>\n",
       "                        <th id=\"T_68c04f34_4b35_11ea_9efd_784f43517922level0_row6\" class=\"row_heading level0 row6\" >Shirt  </th>\n",
       "                        <td id=\"T_68c04f34_4b35_11ea_9efd_784f43517922row6_col0\" class=\"data row6 col0\" >0.44</td>\n",
       "                        <td id=\"T_68c04f34_4b35_11ea_9efd_784f43517922row6_col1\" class=\"data row6 col1\" >0.65</td>\n",
       "                        <td id=\"T_68c04f34_4b35_11ea_9efd_784f43517922row6_col2\" class=\"data row6 col2\" >0.53</td>\n",
       "                        <td id=\"T_68c04f34_4b35_11ea_9efd_784f43517922row6_col3\" class=\"data row6 col3\" >175</td>\n",
       "            </tr>\n",
       "            <tr>\n",
       "                        <th id=\"T_68c04f34_4b35_11ea_9efd_784f43517922level0_row7\" class=\"row_heading level0 row7\" >Sneaker  </th>\n",
       "                        <td id=\"T_68c04f34_4b35_11ea_9efd_784f43517922row7_col0\" class=\"data row7 col0\" >0.77</td>\n",
       "                        <td id=\"T_68c04f34_4b35_11ea_9efd_784f43517922row7_col1\" class=\"data row7 col1\" >0.99</td>\n",
       "                        <td id=\"T_68c04f34_4b35_11ea_9efd_784f43517922row7_col2\" class=\"data row7 col2\" >0.87</td>\n",
       "                        <td id=\"T_68c04f34_4b35_11ea_9efd_784f43517922row7_col3\" class=\"data row7 col3\" >198</td>\n",
       "            </tr>\n",
       "            <tr>\n",
       "                        <th id=\"T_68c04f34_4b35_11ea_9efd_784f43517922level0_row8\" class=\"row_heading level0 row8\" >T-shirt/top  </th>\n",
       "                        <td id=\"T_68c04f34_4b35_11ea_9efd_784f43517922row8_col0\" class=\"data row8 col0\" >0.86</td>\n",
       "                        <td id=\"T_68c04f34_4b35_11ea_9efd_784f43517922row8_col1\" class=\"data row8 col1\" >0.95</td>\n",
       "                        <td id=\"T_68c04f34_4b35_11ea_9efd_784f43517922row8_col2\" class=\"data row8 col2\" >0.9</td>\n",
       "                        <td id=\"T_68c04f34_4b35_11ea_9efd_784f43517922row8_col3\" class=\"data row8 col3\" >189</td>\n",
       "            </tr>\n",
       "            <tr>\n",
       "                        <th id=\"T_68c04f34_4b35_11ea_9efd_784f43517922level0_row9\" class=\"row_heading level0 row9\" >Trouser  </th>\n",
       "                        <td id=\"T_68c04f34_4b35_11ea_9efd_784f43517922row9_col0\" class=\"data row9 col0\" >0.95</td>\n",
       "                        <td id=\"T_68c04f34_4b35_11ea_9efd_784f43517922row9_col1\" class=\"data row9 col1\" >0.89</td>\n",
       "                        <td id=\"T_68c04f34_4b35_11ea_9efd_784f43517922row9_col2\" class=\"data row9 col2\" >0.92</td>\n",
       "                        <td id=\"T_68c04f34_4b35_11ea_9efd_784f43517922row9_col3\" class=\"data row9 col3\" >210</td>\n",
       "            </tr>\n",
       "    </tbody></table>"
      ],
      "text/plain": [
       "<pandas.io.formats.style.Styler at 0x1c5d8134e0>"
      ]
     },
     "execution_count": 390,
     "metadata": {},
     "output_type": "execute_result"
    }
   ],
   "source": [
    "from sklearn.metrics import precision_recall_fscore_support\n",
    "\n",
    "micro_fscore = precision_recall_fscore_support(y_test, y_test_predict, average='micro')[2]\n",
    "print(f'Micro FScore = {micro_fscore}')\n",
    "\n",
    "p, r, f, s = precision_recall_fscore_support(y_test, y_test_predict)\n",
    "\n",
    "pd.DataFrame(\n",
    "    {\n",
    "        'Precision': p,\n",
    "        'Recall': r,\n",
    "        'F': f,\n",
    "        'Support': s,\n",
    "    },\n",
    "    index=le.classes_.tolist()\n",
    ").round(2).style.bar(subset=['Precision', 'Recall', 'F'], align='mid', color='#CCCCCC')"
   ]
  },
  {
   "cell_type": "code",
   "execution_count": 391,
   "metadata": {},
   "outputs": [
    {
     "name": "stdout",
     "output_type": "stream",
     "text": [
      "Fitting 4 folds for each of 72 candidates, totalling 288 fits\n"
     ]
    },
    {
     "name": "stderr",
     "output_type": "stream",
     "text": [
      "[Parallel(n_jobs=-1)]: Using backend LokyBackend with 4 concurrent workers.\n",
      "[Parallel(n_jobs=-1)]: Done  33 tasks      | elapsed:   41.7s\n",
      "[Parallel(n_jobs=-1)]: Done 154 tasks      | elapsed:  6.1min\n",
      "[Parallel(n_jobs=-1)]: Done 288 out of 288 | elapsed: 13.6min finished\n"
     ]
    },
    {
     "data": {
      "text/plain": [
       "GridSearchCV(cv=4, error_score=nan,\n",
       "             estimator=MLPClassifier(activation='relu', alpha=0.0001,\n",
       "                                     batch_size=50, beta_1=0.9, beta_2=0.999,\n",
       "                                     early_stopping=True, epsilon=1e-08,\n",
       "                                     hidden_layer_sizes=(100,),\n",
       "                                     learning_rate='constant',\n",
       "                                     learning_rate_init=0.001, max_fun=15000,\n",
       "                                     max_iter=50, momentum=0.9,\n",
       "                                     n_iter_no_change=10,\n",
       "                                     nesterovs_momentum=True, power_t=0.5,\n",
       "                                     random_state=None,...\n",
       "                                     validation_fraction=0.1, verbose=False,\n",
       "                                     warm_start=False),\n",
       "             iid='deprecated', n_jobs=-1,\n",
       "             param_grid={'activation': ['logistic', 'tanh', 'relu'],\n",
       "                         'hidden_layer_sizes': [(50,), (50, 50), (100, 50),\n",
       "                                                (100, 100), (500, 100),\n",
       "                                                (500, 100, 100)],\n",
       "                         'learning_rate_init': [0.01, 0.001],\n",
       "                         'solver': ['sgd', 'adam']},\n",
       "             pre_dispatch='2*n_jobs', refit=True, return_train_score=False,\n",
       "             scoring=None, verbose=2)"
      ]
     },
     "execution_count": 391,
     "metadata": {},
     "output_type": "execute_result"
    }
   ],
   "source": [
    "from sklearn.model_selection import GridSearchCV\n",
    "\n",
    "param_grid = {\n",
    "    'hidden_layer_sizes': [(50,), (50, 50), (100, 50), (100, 100), (500, 100), (500, 100, 100)],\n",
    "    'activation': ['logistic', 'tanh', 'relu'],\n",
    "    'learning_rate_init': [0.01, 0.001],\n",
    "    'solver': ['sgd', 'adam'],\n",
    "}\n",
    "\n",
    "gs = GridSearchCV(\n",
    "    estimator=MLPClassifier(\n",
    "        max_iter=50,\n",
    "        batch_size=50,\n",
    "        early_stopping=True,\n",
    "    ), \n",
    "    param_grid=param_grid,\n",
    "    cv=4,\n",
    "    verbose=2,\n",
    "    n_jobs=-1\n",
    ")\n",
    " \n",
    "gs.fit(x_train_convs, y_train)\n"
   ]
  },
  {
   "cell_type": "code",
   "execution_count": 392,
   "metadata": {},
   "outputs": [
    {
     "data": {
      "text/plain": [
       "{'activation': 'relu',\n",
       " 'hidden_layer_sizes': (500, 100),\n",
       " 'learning_rate_init': 0.001,\n",
       " 'solver': 'adam'}"
      ]
     },
     "execution_count": 392,
     "metadata": {},
     "output_type": "execute_result"
    }
   ],
   "source": [
    "gs.best_params_"
   ]
  },
  {
   "cell_type": "code",
   "execution_count": 393,
   "metadata": {},
   "outputs": [],
   "source": [
    "y_test_predict = gs.predict(x_test_convs)"
   ]
  },
  {
   "cell_type": "code",
   "execution_count": 394,
   "metadata": {},
   "outputs": [
    {
     "name": "stdout",
     "output_type": "stream",
     "text": [
      "Micro FScore = 0.7505\n"
     ]
    },
    {
     "data": {
      "text/html": [
       "<style  type=\"text/css\" >\n",
       "    #T_55e38c80_4b37_11ea_b110_784f43517922row0_col0 {\n",
       "            width:  10em;\n",
       "             height:  80%;\n",
       "            background:  linear-gradient(90deg,#CCCCCC 92.9%, transparent 92.9%);\n",
       "        }    #T_55e38c80_4b37_11ea_b110_784f43517922row0_col1 {\n",
       "            width:  10em;\n",
       "             height:  80%;\n",
       "            background:  linear-gradient(90deg,#CCCCCC 45.9%, transparent 45.9%);\n",
       "        }    #T_55e38c80_4b37_11ea_b110_784f43517922row0_col2 {\n",
       "            width:  10em;\n",
       "             height:  80%;\n",
       "            background:  linear-gradient(90deg,#CCCCCC 62.5%, transparent 62.5%);\n",
       "        }    #T_55e38c80_4b37_11ea_b110_784f43517922row1_col0 {\n",
       "            width:  10em;\n",
       "             height:  80%;\n",
       "            background:  linear-gradient(90deg,#CCCCCC 99.0%, transparent 99.0%);\n",
       "        }    #T_55e38c80_4b37_11ea_b110_784f43517922row1_col1 {\n",
       "            width:  10em;\n",
       "             height:  80%;\n",
       "            background:  linear-gradient(90deg,#CCCCCC 96.9%, transparent 96.9%);\n",
       "        }    #T_55e38c80_4b37_11ea_b110_784f43517922row1_col2 {\n",
       "            width:  10em;\n",
       "             height:  80%;\n",
       "            background:  linear-gradient(90deg,#CCCCCC 100.0%, transparent 100.0%);\n",
       "        }    #T_55e38c80_4b37_11ea_b110_784f43517922row2_col0 {\n",
       "            width:  10em;\n",
       "             height:  80%;\n",
       "            background:  linear-gradient(90deg,#CCCCCC 91.9%, transparent 91.9%);\n",
       "        }    #T_55e38c80_4b37_11ea_b110_784f43517922row2_col1 {\n",
       "            width:  10em;\n",
       "             height:  80%;\n",
       "            background:  linear-gradient(90deg,#CCCCCC 44.9%, transparent 44.9%);\n",
       "        }    #T_55e38c80_4b37_11ea_b110_784f43517922row2_col2 {\n",
       "            width:  10em;\n",
       "             height:  80%;\n",
       "            background:  linear-gradient(90deg,#CCCCCC 61.5%, transparent 61.5%);\n",
       "        }    #T_55e38c80_4b37_11ea_b110_784f43517922row3_col0 {\n",
       "            width:  10em;\n",
       "             height:  80%;\n",
       "            background:  linear-gradient(90deg,#CCCCCC 94.9%, transparent 94.9%);\n",
       "        }    #T_55e38c80_4b37_11ea_b110_784f43517922row3_col1 {\n",
       "            width:  10em;\n",
       "             height:  80%;\n",
       "            background:  linear-gradient(90deg,#CCCCCC 72.4%, transparent 72.4%);\n",
       "        }    #T_55e38c80_4b37_11ea_b110_784f43517922row3_col2 {\n",
       "            width:  10em;\n",
       "             height:  80%;\n",
       "            background:  linear-gradient(90deg,#CCCCCC 84.4%, transparent 84.4%);\n",
       "        }    #T_55e38c80_4b37_11ea_b110_784f43517922row4_col0 {\n",
       "            width:  10em;\n",
       "             height:  80%;\n",
       "            background:  linear-gradient(90deg,#CCCCCC 83.8%, transparent 83.8%);\n",
       "        }    #T_55e38c80_4b37_11ea_b110_784f43517922row4_col1 {\n",
       "            width:  10em;\n",
       "             height:  80%;\n",
       "            background:  linear-gradient(90deg,#CCCCCC 50.0%, transparent 50.0%);\n",
       "        }    #T_55e38c80_4b37_11ea_b110_784f43517922row4_col2 {\n",
       "            width:  10em;\n",
       "             height:  80%;\n",
       "            background:  linear-gradient(90deg,#CCCCCC 64.6%, transparent 64.6%);\n",
       "        }    #T_55e38c80_4b37_11ea_b110_784f43517922row5_col0 {\n",
       "            width:  10em;\n",
       "             height:  80%;\n",
       "            background:  linear-gradient(90deg,#CCCCCC 100.0%, transparent 100.0%);\n",
       "        }    #T_55e38c80_4b37_11ea_b110_784f43517922row5_col1 {\n",
       "            width:  10em;\n",
       "             height:  80%;\n",
       "            background:  linear-gradient(90deg,#CCCCCC 76.5%, transparent 76.5%);\n",
       "        }    #T_55e38c80_4b37_11ea_b110_784f43517922row5_col2 {\n",
       "            width:  10em;\n",
       "             height:  80%;\n",
       "            background:  linear-gradient(90deg,#CCCCCC 89.6%, transparent 89.6%);\n",
       "        }    #T_55e38c80_4b37_11ea_b110_784f43517922row6_col0 {\n",
       "            width:  10em;\n",
       "             height:  80%;\n",
       "            background:  linear-gradient(90deg,#CCCCCC 33.3%, transparent 33.3%);\n",
       "        }    #T_55e38c80_4b37_11ea_b110_784f43517922row6_col1 {\n",
       "            width:  10em;\n",
       "             height:  80%;\n",
       "            background:  linear-gradient(90deg,#CCCCCC 92.9%, transparent 92.9%);\n",
       "        }    #T_55e38c80_4b37_11ea_b110_784f43517922row6_col2 {\n",
       "            width:  10em;\n",
       "             height:  80%;\n",
       "            background:  linear-gradient(90deg,#CCCCCC 50.0%, transparent 50.0%);\n",
       "        }    #T_55e38c80_4b37_11ea_b110_784f43517922row7_col0 {\n",
       "            width:  10em;\n",
       "             height:  80%;\n",
       "            background:  linear-gradient(90deg,#CCCCCC 83.8%, transparent 83.8%);\n",
       "        }    #T_55e38c80_4b37_11ea_b110_784f43517922row7_col1 {\n",
       "            width:  10em;\n",
       "             height:  80%;\n",
       "            background:  linear-gradient(90deg,#CCCCCC 93.9%, transparent 93.9%);\n",
       "        }    #T_55e38c80_4b37_11ea_b110_784f43517922row7_col2 {\n",
       "            width:  10em;\n",
       "             height:  80%;\n",
       "            background:  linear-gradient(90deg,#CCCCCC 90.6%, transparent 90.6%);\n",
       "        }    #T_55e38c80_4b37_11ea_b110_784f43517922row8_col0 {\n",
       "            width:  10em;\n",
       "             height:  80%;\n",
       "            background:  linear-gradient(90deg,#CCCCCC 73.7%, transparent 73.7%);\n",
       "        }    #T_55e38c80_4b37_11ea_b110_784f43517922row8_col1 {\n",
       "            width:  10em;\n",
       "             height:  80%;\n",
       "            background:  linear-gradient(90deg,#CCCCCC 100.0%, transparent 100.0%);\n",
       "        }    #T_55e38c80_4b37_11ea_b110_784f43517922row8_col2 {\n",
       "            width:  10em;\n",
       "             height:  80%;\n",
       "            background:  linear-gradient(90deg,#CCCCCC 87.5%, transparent 87.5%);\n",
       "        }    #T_55e38c80_4b37_11ea_b110_784f43517922row9_col0 {\n",
       "            width:  10em;\n",
       "             height:  80%;\n",
       "            background:  linear-gradient(90deg,#CCCCCC 96.0%, transparent 96.0%);\n",
       "        }    #T_55e38c80_4b37_11ea_b110_784f43517922row9_col1 {\n",
       "            width:  10em;\n",
       "             height:  80%;\n",
       "            background:  linear-gradient(90deg,#CCCCCC 93.9%, transparent 93.9%);\n",
       "        }    #T_55e38c80_4b37_11ea_b110_784f43517922row9_col2 {\n",
       "            width:  10em;\n",
       "             height:  80%;\n",
       "            background:  linear-gradient(90deg,#CCCCCC 96.9%, transparent 96.9%);\n",
       "        }</style><table id=\"T_55e38c80_4b37_11ea_b110_784f43517922\" ><thead>    <tr>        <th class=\"blank level0\" ></th>        <th class=\"col_heading level0 col0\" >Precision</th>        <th class=\"col_heading level0 col1\" >Recall</th>        <th class=\"col_heading level0 col2\" >F</th>        <th class=\"col_heading level0 col3\" >Support</th>    </tr></thead><tbody>\n",
       "                <tr>\n",
       "                        <th id=\"T_55e38c80_4b37_11ea_b110_784f43517922level0_row0\" class=\"row_heading level0 row0\" >Ankle boot</th>\n",
       "                        <td id=\"T_55e38c80_4b37_11ea_b110_784f43517922row0_col0\" class=\"data row0 col0\" >0.92</td>\n",
       "                        <td id=\"T_55e38c80_4b37_11ea_b110_784f43517922row0_col1\" class=\"data row0 col1\" >0.45</td>\n",
       "                        <td id=\"T_55e38c80_4b37_11ea_b110_784f43517922row0_col2\" class=\"data row0 col2\" >0.6</td>\n",
       "                        <td id=\"T_55e38c80_4b37_11ea_b110_784f43517922row0_col3\" class=\"data row0 col3\" >209</td>\n",
       "            </tr>\n",
       "            <tr>\n",
       "                        <th id=\"T_55e38c80_4b37_11ea_b110_784f43517922level0_row1\" class=\"row_heading level0 row1\" >Bag  </th>\n",
       "                        <td id=\"T_55e38c80_4b37_11ea_b110_784f43517922row1_col0\" class=\"data row1 col0\" >0.98</td>\n",
       "                        <td id=\"T_55e38c80_4b37_11ea_b110_784f43517922row1_col1\" class=\"data row1 col1\" >0.95</td>\n",
       "                        <td id=\"T_55e38c80_4b37_11ea_b110_784f43517922row1_col2\" class=\"data row1 col2\" >0.96</td>\n",
       "                        <td id=\"T_55e38c80_4b37_11ea_b110_784f43517922row1_col3\" class=\"data row1 col3\" >213</td>\n",
       "            </tr>\n",
       "            <tr>\n",
       "                        <th id=\"T_55e38c80_4b37_11ea_b110_784f43517922level0_row2\" class=\"row_heading level0 row2\" >Coat  </th>\n",
       "                        <td id=\"T_55e38c80_4b37_11ea_b110_784f43517922row2_col0\" class=\"data row2 col0\" >0.91</td>\n",
       "                        <td id=\"T_55e38c80_4b37_11ea_b110_784f43517922row2_col1\" class=\"data row2 col1\" >0.44</td>\n",
       "                        <td id=\"T_55e38c80_4b37_11ea_b110_784f43517922row2_col2\" class=\"data row2 col2\" >0.59</td>\n",
       "                        <td id=\"T_55e38c80_4b37_11ea_b110_784f43517922row2_col3\" class=\"data row2 col3\" >207</td>\n",
       "            </tr>\n",
       "            <tr>\n",
       "                        <th id=\"T_55e38c80_4b37_11ea_b110_784f43517922level0_row3\" class=\"row_heading level0 row3\" >Dress  </th>\n",
       "                        <td id=\"T_55e38c80_4b37_11ea_b110_784f43517922row3_col0\" class=\"data row3 col0\" >0.94</td>\n",
       "                        <td id=\"T_55e38c80_4b37_11ea_b110_784f43517922row3_col1\" class=\"data row3 col1\" >0.71</td>\n",
       "                        <td id=\"T_55e38c80_4b37_11ea_b110_784f43517922row3_col2\" class=\"data row3 col2\" >0.81</td>\n",
       "                        <td id=\"T_55e38c80_4b37_11ea_b110_784f43517922row3_col3\" class=\"data row3 col3\" >209</td>\n",
       "            </tr>\n",
       "            <tr>\n",
       "                        <th id=\"T_55e38c80_4b37_11ea_b110_784f43517922level0_row4\" class=\"row_heading level0 row4\" >Pullover  </th>\n",
       "                        <td id=\"T_55e38c80_4b37_11ea_b110_784f43517922row4_col0\" class=\"data row4 col0\" >0.83</td>\n",
       "                        <td id=\"T_55e38c80_4b37_11ea_b110_784f43517922row4_col1\" class=\"data row4 col1\" >0.49</td>\n",
       "                        <td id=\"T_55e38c80_4b37_11ea_b110_784f43517922row4_col2\" class=\"data row4 col2\" >0.62</td>\n",
       "                        <td id=\"T_55e38c80_4b37_11ea_b110_784f43517922row4_col3\" class=\"data row4 col3\" >186</td>\n",
       "            </tr>\n",
       "            <tr>\n",
       "                        <th id=\"T_55e38c80_4b37_11ea_b110_784f43517922level0_row5\" class=\"row_heading level0 row5\" >Sandal  </th>\n",
       "                        <td id=\"T_55e38c80_4b37_11ea_b110_784f43517922row5_col0\" class=\"data row5 col0\" >0.99</td>\n",
       "                        <td id=\"T_55e38c80_4b37_11ea_b110_784f43517922row5_col1\" class=\"data row5 col1\" >0.75</td>\n",
       "                        <td id=\"T_55e38c80_4b37_11ea_b110_784f43517922row5_col2\" class=\"data row5 col2\" >0.86</td>\n",
       "                        <td id=\"T_55e38c80_4b37_11ea_b110_784f43517922row5_col3\" class=\"data row5 col3\" >204</td>\n",
       "            </tr>\n",
       "            <tr>\n",
       "                        <th id=\"T_55e38c80_4b37_11ea_b110_784f43517922level0_row6\" class=\"row_heading level0 row6\" >Shirt  </th>\n",
       "                        <td id=\"T_55e38c80_4b37_11ea_b110_784f43517922row6_col0\" class=\"data row6 col0\" >0.33</td>\n",
       "                        <td id=\"T_55e38c80_4b37_11ea_b110_784f43517922row6_col1\" class=\"data row6 col1\" >0.91</td>\n",
       "                        <td id=\"T_55e38c80_4b37_11ea_b110_784f43517922row6_col2\" class=\"data row6 col2\" >0.48</td>\n",
       "                        <td id=\"T_55e38c80_4b37_11ea_b110_784f43517922row6_col3\" class=\"data row6 col3\" >175</td>\n",
       "            </tr>\n",
       "            <tr>\n",
       "                        <th id=\"T_55e38c80_4b37_11ea_b110_784f43517922level0_row7\" class=\"row_heading level0 row7\" >Sneaker  </th>\n",
       "                        <td id=\"T_55e38c80_4b37_11ea_b110_784f43517922row7_col0\" class=\"data row7 col0\" >0.83</td>\n",
       "                        <td id=\"T_55e38c80_4b37_11ea_b110_784f43517922row7_col1\" class=\"data row7 col1\" >0.92</td>\n",
       "                        <td id=\"T_55e38c80_4b37_11ea_b110_784f43517922row7_col2\" class=\"data row7 col2\" >0.87</td>\n",
       "                        <td id=\"T_55e38c80_4b37_11ea_b110_784f43517922row7_col3\" class=\"data row7 col3\" >198</td>\n",
       "            </tr>\n",
       "            <tr>\n",
       "                        <th id=\"T_55e38c80_4b37_11ea_b110_784f43517922level0_row8\" class=\"row_heading level0 row8\" >T-shirt/top  </th>\n",
       "                        <td id=\"T_55e38c80_4b37_11ea_b110_784f43517922row8_col0\" class=\"data row8 col0\" >0.73</td>\n",
       "                        <td id=\"T_55e38c80_4b37_11ea_b110_784f43517922row8_col1\" class=\"data row8 col1\" >0.98</td>\n",
       "                        <td id=\"T_55e38c80_4b37_11ea_b110_784f43517922row8_col2\" class=\"data row8 col2\" >0.84</td>\n",
       "                        <td id=\"T_55e38c80_4b37_11ea_b110_784f43517922row8_col3\" class=\"data row8 col3\" >189</td>\n",
       "            </tr>\n",
       "            <tr>\n",
       "                        <th id=\"T_55e38c80_4b37_11ea_b110_784f43517922level0_row9\" class=\"row_heading level0 row9\" >Trouser  </th>\n",
       "                        <td id=\"T_55e38c80_4b37_11ea_b110_784f43517922row9_col0\" class=\"data row9 col0\" >0.95</td>\n",
       "                        <td id=\"T_55e38c80_4b37_11ea_b110_784f43517922row9_col1\" class=\"data row9 col1\" >0.92</td>\n",
       "                        <td id=\"T_55e38c80_4b37_11ea_b110_784f43517922row9_col2\" class=\"data row9 col2\" >0.93</td>\n",
       "                        <td id=\"T_55e38c80_4b37_11ea_b110_784f43517922row9_col3\" class=\"data row9 col3\" >210</td>\n",
       "            </tr>\n",
       "    </tbody></table>"
      ],
      "text/plain": [
       "<pandas.io.formats.style.Styler at 0x1a21885320>"
      ]
     },
     "execution_count": 394,
     "metadata": {},
     "output_type": "execute_result"
    }
   ],
   "source": [
    "from sklearn.metrics import precision_recall_fscore_support\n",
    "\n",
    "micro_fscore = precision_recall_fscore_support(y_test, y_test_predict, average='micro')[2]\n",
    "print(f'Micro FScore = {micro_fscore}')\n",
    "\n",
    "p, r, f, s = precision_recall_fscore_support(y_test, y_test_predict)\n",
    "\n",
    "pd.DataFrame(\n",
    "    {\n",
    "        'Precision': p,\n",
    "        'Recall': r,\n",
    "        'F': f,\n",
    "        'Support': s,\n",
    "    },\n",
    "    index =le.classes_.tolist()\n",
    ").round(2).style.bar(subset=['Precision', 'Recall', 'F'], align='mid', color='#CCCCCC')"
   ]
  },
  {
   "cell_type": "code",
   "execution_count": null,
   "metadata": {},
   "outputs": [],
   "source": []
  },
  {
   "cell_type": "code",
   "execution_count": null,
   "metadata": {},
   "outputs": [],
   "source": []
  },
  {
   "cell_type": "code",
   "execution_count": 430,
   "metadata": {},
   "outputs": [],
   "source": []
  },
  {
   "cell_type": "code",
   "execution_count": null,
   "metadata": {},
   "outputs": [],
   "source": []
  }
 ],
 "metadata": {
  "kernelspec": {
   "display_name": "Python 3",
   "language": "python",
   "name": "python3"
  },
  "language_info": {
   "codemirror_mode": {
    "name": "ipython",
    "version": 3
   },
   "file_extension": ".py",
   "mimetype": "text/x-python",
   "name": "python",
   "nbconvert_exporter": "python",
   "pygments_lexer": "ipython3",
   "version": "3.6.9"
  }
 },
 "nbformat": 4,
 "nbformat_minor": 2
}
