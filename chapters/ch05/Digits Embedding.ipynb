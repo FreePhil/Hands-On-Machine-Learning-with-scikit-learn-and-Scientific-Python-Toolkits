{
 "cells": [
  {
   "cell_type": "code",
   "execution_count": 1,
   "metadata": {},
   "outputs": [],
   "source": [
    "import sys\n",
    "import pickle"
   ]
  },
  {
   "cell_type": "markdown",
   "metadata": {},
   "source": [
    "# PCA Explained "
   ]
  },
  {
   "cell_type": "code",
   "execution_count": 2,
   "metadata": {},
   "outputs": [],
   "source": [
    "df = pd.DataFrame(\n",
    "    {\n",
    "        'x1': np.random.normal(loc=10.0, scale=5.0, size=8),\n",
    "        'noise': np.random.normal(loc=0.0, scale=1.0, size=8),\n",
    "    }\n",
    ")\n",
    "\n",
    "df['x2'] = 3 * df['x1'] + df['noise'] "
   ]
  },
  {
   "cell_type": "code",
   "execution_count": 3,
   "metadata": {},
   "outputs": [
    {
     "data": {
      "text/html": [
       "<div>\n",
       "<style scoped>\n",
       "    .dataframe tbody tr th:only-of-type {\n",
       "        vertical-align: middle;\n",
       "    }\n",
       "\n",
       "    .dataframe tbody tr th {\n",
       "        vertical-align: top;\n",
       "    }\n",
       "\n",
       "    .dataframe thead th {\n",
       "        text-align: right;\n",
       "    }\n",
       "</style>\n",
       "<table border=\"1\" class=\"dataframe\">\n",
       "  <thead>\n",
       "    <tr style=\"text-align: right;\">\n",
       "      <th></th>\n",
       "      <th>x1</th>\n",
       "      <th>x2</th>\n",
       "    </tr>\n",
       "  </thead>\n",
       "  <tbody>\n",
       "    <tr>\n",
       "      <th>0</th>\n",
       "      <td>13.115255</td>\n",
       "      <td>38.457954</td>\n",
       "    </tr>\n",
       "    <tr>\n",
       "      <th>1</th>\n",
       "      <td>7.381083</td>\n",
       "      <td>24.217306</td>\n",
       "    </tr>\n",
       "    <tr>\n",
       "      <th>2</th>\n",
       "      <td>2.818271</td>\n",
       "      <td>8.367341</td>\n",
       "    </tr>\n",
       "    <tr>\n",
       "      <th>3</th>\n",
       "      <td>11.428985</td>\n",
       "      <td>34.702797</td>\n",
       "    </tr>\n",
       "    <tr>\n",
       "      <th>4</th>\n",
       "      <td>11.188034</td>\n",
       "      <td>35.210076</td>\n",
       "    </tr>\n",
       "    <tr>\n",
       "      <th>5</th>\n",
       "      <td>8.858400</td>\n",
       "      <td>26.199398</td>\n",
       "    </tr>\n",
       "    <tr>\n",
       "      <th>6</th>\n",
       "      <td>12.925758</td>\n",
       "      <td>38.532168</td>\n",
       "    </tr>\n",
       "    <tr>\n",
       "      <th>7</th>\n",
       "      <td>11.084551</td>\n",
       "      <td>33.493152</td>\n",
       "    </tr>\n",
       "  </tbody>\n",
       "</table>\n",
       "</div>"
      ],
      "text/plain": [
       "          x1         x2\n",
       "0  13.115255  38.457954\n",
       "1   7.381083  24.217306\n",
       "2   2.818271   8.367341\n",
       "3  11.428985  34.702797\n",
       "4  11.188034  35.210076\n",
       "5   8.858400  26.199398\n",
       "6  12.925758  38.532168\n",
       "7  11.084551  33.493152"
      ]
     },
     "execution_count": 3,
     "metadata": {},
     "output_type": "execute_result"
    }
   ],
   "source": [
    "df[['x1', 'x2']]"
   ]
  },
  {
   "cell_type": "code",
   "execution_count": 4,
   "metadata": {},
   "outputs": [
    {
     "name": "stderr",
     "output_type": "stream",
     "text": [
      "/Users/tarek/anaconda3/envs/scikitbook/lib/python3.6/site-packages/ipykernel_launcher.py:8: UserWarning: Matplotlib is currently using module://ipykernel.pylab.backend_inline, which is a non-GUI backend, so cannot show the figure.\n",
      "  \n"
     ]
    },
    {
     "data": {
      "image/png": "[encoded data removed]",
      "text/plain": [
       "<Figure size 576x360 with 1 Axes>"
      ]
     },
     "metadata": {
      "needs_background": "light"
     },
     "output_type": "display_data"
    }
   ],
   "source": [
    "fig, ax = plt.subplots(1, 1, figsize=(8, 5))\n",
    "\n",
    "df.plot(\n",
    "    title='2-D Data [x2 ~= 3 * x1]',\n",
    "    kind='scatter', x='x1', y='x2', ax=ax, color='k', s=50\n",
    ")\n",
    "\n",
    "fig.show()"
   ]
  },
  {
   "cell_type": "code",
   "execution_count": 5,
   "metadata": {
    "scrolled": true
   },
   "outputs": [
    {
     "data": {
      "text/plain": [
       "array([[-9.15483734],\n",
       "       [ 6.17111915],\n",
       "       [22.64844107],\n",
       "       [-5.05789838],\n",
       "       [-5.46176066],\n",
       "       [ 3.8212195 ],\n",
       "       [-9.16469832],\n",
       "       [-3.80158501]])"
      ]
     },
     "execution_count": 5,
     "metadata": {},
     "output_type": "execute_result"
    }
   ],
   "source": [
    "from sklearn.preprocessing import StandardScaler\n",
    "from sklearn.decomposition import PCA\n",
    "\n",
    "scaler = StandardScaler(with_std=False)\n",
    "\n",
    "x = scaler.fit_transform(df[['x1', 'x2']])\n",
    "# x = df[['x1', 'x2']]\n",
    "\n",
    "pca = PCA(n_components=1)\n",
    "\n",
    "pca.fit_transform(x)"
   ]
  },
  {
   "cell_type": "code",
   "execution_count": 6,
   "metadata": {},
   "outputs": [
    {
     "data": {
      "text/plain": [
       "array([114.75775274])"
      ]
     },
     "execution_count": 6,
     "metadata": {},
     "output_type": "execute_result"
    }
   ],
   "source": [
    "pca.explained_variance_"
   ]
  },
  {
   "cell_type": "code",
   "execution_count": 7,
   "metadata": {},
   "outputs": [
    {
     "data": {
      "text/plain": [
       "array([[-0.31912153, -0.9477138 ]])"
      ]
     },
     "execution_count": 7,
     "metadata": {},
     "output_type": "execute_result"
    }
   ],
   "source": [
    "pca.components_"
   ]
  },
  {
   "cell_type": "code",
   "execution_count": 9,
   "metadata": {},
   "outputs": [
    {
     "name": "stderr",
     "output_type": "stream",
     "text": [
      "/Users/tarek/anaconda3/envs/scikitbook/lib/python3.6/site-packages/ipykernel_launcher.py:17: UserWarning: Matplotlib is currently using module://ipykernel.pylab.backend_inline, which is a non-GUI backend, so cannot show the figure.\n"
     ]
    },
    {
     "data": {
      "image/png": "[encoded data removed]",
      "text/plain": [
       "<Figure size 576x360 with 1 Axes>"
      ]
     },
     "metadata": {
      "needs_background": "light"
     },
     "output_type": "display_data"
    }
   ],
   "source": [
    "fig, ax = plt.subplots(1, 1, figsize=(8, 5))\n",
    "\n",
    "df.plot(\n",
    "    title='2-D Data [x2 ~= 3 * x1]',\n",
    "    kind='scatter', x='x1', y='x2', ax=ax, color='k', s=50\n",
    ")\n",
    "\n",
    "c1_slope = pca.components_[0][1] / pca.components_[0][0]\n",
    "c1 = np.array([\n",
    "    [x1, x1 * c1_slope]\n",
    "    for x1 in df['x1'].values\n",
    "])\n",
    "ax.plot(c1[:,0], c1[:,1], '-k', alpha=0.25, label='Principal Component 1')\n",
    "\n",
    "ax.legend()\n",
    "\n",
    "fig.show()"
   ]
  },
  {
   "cell_type": "code",
   "execution_count": 11,
   "metadata": {},
   "outputs": [],
   "source": [
    "from sklearn.datasets import load_digits\n",
    "\n",
    "digits = load_digits()"
   ]
  },
  {
   "cell_type": "code",
   "execution_count": 12,
   "metadata": {},
   "outputs": [
    {
     "data": {
      "text/plain": [
       "(0.0, 16.0)"
      ]
     },
     "execution_count": 12,
     "metadata": {},
     "output_type": "execute_result"
    }
   ],
   "source": [
    "digits['data'].min(), digits['data'].max()"
   ]
  },
  {
   "cell_type": "code",
   "execution_count": 13,
   "metadata": {},
   "outputs": [],
   "source": [
    "def display_img(img, target, ax):\n",
    "    img = img.reshape((8, 8))\n",
    "    \n",
    "    ax.imshow(img, cmap='gray',)\n",
    "    ax.set_title(f'Digit: {str(target)}')\n",
    "    ax.grid(False)"
   ]
  },
  {
   "cell_type": "code",
   "execution_count": 14,
   "metadata": {},
   "outputs": [],
   "source": [
    "from sklearn.model_selection import train_test_split\n",
    "\n",
    "x, y = digits['data'], digits['target']\n",
    "\n",
    "x_train, x_test, y_train, y_test = train_test_split(x, y)"
   ]
  },
  {
   "cell_type": "code",
   "execution_count": 15,
   "metadata": {},
   "outputs": [
    {
     "data": {
      "text/plain": [
       "((1347, 64), (450, 64), (1347,), (450,))"
      ]
     },
     "execution_count": 15,
     "metadata": {},
     "output_type": "execute_result"
    }
   ],
   "source": [
    "x_train.shape, x_test.shape, y_train.shape, y_test.shape"
   ]
  },
  {
   "cell_type": "code",
   "execution_count": 16,
   "metadata": {
    "scrolled": false
   },
   "outputs": [
    {
     "name": "stderr",
     "output_type": "stream",
     "text": [
      "/Users/tarek/anaconda3/envs/scikitbook/lib/python3.6/site-packages/ipykernel_launcher.py:52: UserWarning: Matplotlib is currently using module://ipykernel.pylab.backend_inline, which is a non-GUI backend, so cannot show the figure.\n"
     ]
    },
    {
     "data": {
      "image/png": "[encoded data removed]",
      "text/plain": [
       "<Figure size 1080x360 with 2 Axes>"
      ]
     },
     "metadata": {
      "needs_background": "light"
     },
     "output_type": "display_data"
    }
   ],
   "source": [
    "import sys\n",
    "import pickle\n",
    "import warnings\n",
    "\n",
    "from sklearn.linear_model import LogisticRegression\n",
    "\n",
    "sizes = []\n",
    "\n",
    "fig, axs = plt.subplots(1, 2, figsize=(15, 5))\n",
    "\n",
    "for i in [2, 4, 8, 16, 32, 64]:\n",
    "    \n",
    "    clf = LogisticRegression()\n",
    "    with warnings.catch_warnings(record=True) as w:\n",
    "        clf.fit(x_train[:,:i], y_train)\n",
    "    sizes.append(\n",
    "        [i, sys.getsizeof(pickle.dumps(clf))]\n",
    "    )\n",
    "    \n",
    "pd.DataFrame(\n",
    "    sizes,\n",
    "    columns=['# Features', 'Memory Footprint']\n",
    ").set_index('# Features')['Memory Footprint'].plot(\n",
    "    title='LogisticRegression: Memory Footprint vs # Features',\n",
    "    kind='bar',\n",
    "    color='k',\n",
    "    ax=axs[0]\n",
    ")\n",
    "\n",
    "\n",
    "sizes = []\n",
    "\n",
    "for i in [25, 75, 150, 300, 600, 1200]:\n",
    "    \n",
    "    clf = LogisticRegression()\n",
    "    with warnings.catch_warnings(record=True) as w:\n",
    "        clf.fit(x_train[:i,:], y_train[:i])\n",
    "    sizes.append(\n",
    "        [i, sys.getsizeof(pickle.dumps(clf))]\n",
    "    )\n",
    "    \n",
    "pd.DataFrame(\n",
    "    sizes,\n",
    "    columns=['# Samples', 'Memory Footprint']\n",
    ").set_index('# Samples')['Memory Footprint'].plot(\n",
    "    title='LogisticRegression: Memory Footprint vs # Samples',\n",
    "    kind='bar',\n",
    "    color='k',\n",
    "    ax=axs[1]\n",
    ")\n",
    "\n",
    "fig.show()"
   ]
  },
  {
   "cell_type": "code",
   "execution_count": 17,
   "metadata": {},
   "outputs": [
    {
     "name": "stderr",
     "output_type": "stream",
     "text": [
      "/Users/tarek/anaconda3/envs/scikitbook/lib/python3.6/site-packages/ipykernel_launcher.py:49: UserWarning: Matplotlib is currently using module://ipykernel.pylab.backend_inline, which is a non-GUI backend, so cannot show the figure.\n"
     ]
    },
    {
     "data": {
      "image/png": "[encoded data removed]",
      "text/plain": [
       "<Figure size 1080x360 with 2 Axes>"
      ]
     },
     "metadata": {
      "needs_background": "light"
     },
     "output_type": "display_data"
    }
   ],
   "source": [
    "import sys\n",
    "import pickle\n",
    "\n",
    "from sklearn.neighbors import KNeighborsClassifier\n",
    "\n",
    "sizes = []\n",
    "\n",
    "fig, axs = plt.subplots(1, 2, figsize=(15, 5))\n",
    "\n",
    "for i in [2, 4, 8, 16, 32, 64]:\n",
    "    \n",
    "    clf = KNeighborsClassifier()\n",
    "    clf.fit(x_train[:,:i], y_train)\n",
    "    sizes.append(\n",
    "        [i, sys.getsizeof(pickle.dumps(clf))]\n",
    "    )\n",
    "    \n",
    "pd.DataFrame(\n",
    "    sizes,\n",
    "    columns=['# Features', 'Memory Footprint']\n",
    ").set_index('# Features')['Memory Footprint'].plot(\n",
    "    title='KNeighborsClassifier: Memory Footprint vs # Features',\n",
    "    kind='bar',\n",
    "    color='k',\n",
    "    ax=axs[0]\n",
    ")\n",
    "\n",
    "\n",
    "sizes = []\n",
    "\n",
    "for i in [25, 75, 150, 300, 600, 1200]:\n",
    "    \n",
    "    clf = KNeighborsClassifier()\n",
    "    clf.fit(x_train[:i,:], y_train[:i])\n",
    "    sizes.append(\n",
    "        [i, sys.getsizeof(pickle.dumps(clf))]\n",
    "    )\n",
    "    \n",
    "pd.DataFrame(\n",
    "    sizes,\n",
    "    columns=['# Samples', 'Memory Footprint']\n",
    ").set_index('# Samples')['Memory Footprint'].plot(\n",
    "    title='KNeighborsClassifier: Memory Footprint vs # Samples',\n",
    "    kind='bar',\n",
    "    color='k',\n",
    "    ax=axs[1]\n",
    ")\n",
    "\n",
    "fig.show()"
   ]
  },
  {
   "cell_type": "code",
   "execution_count": 19,
   "metadata": {},
   "outputs": [
    {
     "ename": "NameError",
     "evalue": "name 'accuracy_score' is not defined",
     "output_type": "error",
     "traceback": [
      "\u001b[0;31m---------------------------------------------------------------------------\u001b[0m",
      "\u001b[0;31mNameError\u001b[0m                                 Traceback (most recent call last)",
      "\u001b[0;32m<ipython-input-19-7d39db23878f>\u001b[0m in \u001b[0;36m<module>\u001b[0;34m\u001b[0m\n\u001b[1;32m     12\u001b[0m print(\n\u001b[1;32m     13\u001b[0m     'MNIST test accuracy score: {:.1%} [k={}, metric={}, memory footprint={}]'.format(\n\u001b[0;32m---> 14\u001b[0;31m         \u001b[0maccuracy_score\u001b[0m\u001b[0;34m(\u001b[0m\u001b[0my_test\u001b[0m\u001b[0;34m,\u001b[0m \u001b[0my_test_pred\u001b[0m\u001b[0;34m)\u001b[0m\u001b[0;34m,\u001b[0m\u001b[0;34m\u001b[0m\u001b[0;34m\u001b[0m\u001b[0m\n\u001b[0m\u001b[1;32m     15\u001b[0m         \u001b[0mclf\u001b[0m\u001b[0;34m.\u001b[0m\u001b[0mbest_params_\u001b[0m\u001b[0;34m[\u001b[0m\u001b[0;34m'n_neighbors'\u001b[0m\u001b[0;34m]\u001b[0m\u001b[0;34m,\u001b[0m\u001b[0;34m\u001b[0m\u001b[0;34m\u001b[0m\u001b[0m\n\u001b[1;32m     16\u001b[0m         \u001b[0mclf\u001b[0m\u001b[0;34m.\u001b[0m\u001b[0mbest_params_\u001b[0m\u001b[0;34m[\u001b[0m\u001b[0;34m'metric'\u001b[0m\u001b[0;34m]\u001b[0m\u001b[0;34m,\u001b[0m\u001b[0;34m\u001b[0m\u001b[0;34m\u001b[0m\u001b[0m\n",
      "\u001b[0;31mNameError\u001b[0m: name 'accuracy_score' is not defined"
     ]
    }
   ],
   "source": [
    "from sklearn.metrics import accuracy_score\n",
    "from sklearn.model_selection import GridSearchCV\n",
    "\n",
    "parameters = {'metric':('manhattan','euclidean', 'cosine'), 'n_neighbors': range(3, 15)}\n",
    "\n",
    "knn = KNeighborsClassifier()\n",
    "clf = GridSearchCV(knn, param_grid=parameters, scoring='accuracy', cv=5)\n",
    "\n",
    "clf.fit(x_train, y_train)\n",
    "\n",
    "y_test_pred = clf.predict(x_test)\n",
    "\n",
    "print(\n",
    "    'MNIST test accuracy score: {:.1%} [k={}, metric={}, memory footprint={}]'.format(\n",
    "        accuracy_score(y_test, y_test_pred), \n",
    "        clf.best_params_['n_neighbors'], \n",
    "        clf.best_params_['metric'], \n",
    "        sys.getsizeof(pickle.dumps(clf))\n",
    "    )\n",
    "\n",
    ")"
   ]
  },
  {
   "cell_type": "code",
   "execution_count": 24,
   "metadata": {},
   "outputs": [
    {
     "name": "stderr",
     "output_type": "stream",
     "text": [
      "/Users/tarek/anaconda3/envs/scikitbook/lib/python3.6/site-packages/ipykernel_launcher.py:34: UserWarning: Matplotlib is currently using module://ipykernel.pylab.backend_inline, which is a non-GUI backend, so cannot show the figure.\n"
     ]
    },
    {
     "data": {
      "image/png": "[encoded data removed]",
      "text/plain": [
       "<Figure size 1080x360 with 3 Axes>"
      ]
     },
     "metadata": {
      "needs_background": "light"
     },
     "output_type": "display_data"
    }
   ],
   "source": [
    "from sklearn.preprocessing import StandardScaler\n",
    "from sklearn.random_projection import SparseRandomProjection\n",
    "from sklearn.decomposition import PCA\n",
    "from sklearn.neighbors import NeighborhoodComponentsAnalysis\n",
    "\n",
    "fig, axs = plt.subplots(1, 3, figsize=(15, 5))\n",
    "\n",
    "methods = {\n",
    "    'Rand': SparseRandomProjection(n_components=2),\n",
    "    'PCA': PCA(n_components=2),\n",
    "    'NCA': NeighborhoodComponentsAnalysis(n_components=2, init='random'),\n",
    "\n",
    "}\n",
    "\n",
    "for i, (method_name, method_obj) in enumerate(methods.items()):\n",
    " \n",
    "    scaler = StandardScaler(with_std=False)\n",
    "    x_train_scaled = scaler.fit_transform(x_train)\n",
    " \n",
    "    method_obj.fit(x_train_scaled, y_train)\n",
    "    x_train_2d = method_obj.transform(x_train_scaled)\n",
    " \n",
    "    for target in set(y_train):\n",
    "        pd.DataFrame(\n",
    "            x_train_2d[\n",
    "                y_train == target\n",
    "            ], columns=['y', 'x']\n",
    "        ).sample(n=20).plot(\n",
    "            kind='scatter', x='x', y='y', \n",
    "            marker=f'${target}$', s=64, ax=axs[i]\n",
    "        )\n",
    "        axs[i].set_title(f'{method_name} MNIST')\n",
    "\n",
    "fig.show()"
   ]
  },
  {
   "cell_type": "code",
   "execution_count": null,
   "metadata": {},
   "outputs": [],
   "source": [
    "from sklearn.preprocessing import StandardScaler\n",
    "\n",
    "from sklearn.random_projection import SparseRandomProjection\n",
    "from sklearn.decomposition import PCA\n",
    "from sklearn.neighbors import NeighborhoodComponentsAnalysis\n",
    "\n",
    "methods = {\n",
    "    'Rand': SparseRandomProjection(n_components=2),\n",
    "    'PCA': PCA(n_components=2),\n",
    "    'NCA': NeighborhoodComponentsAnalysis(n_components=2, init='random'),\n",
    "\n",
    "}\n",
    "\n",
    "fig, axs = plt.subplots(1, 3, figsize=(15, 5))\n",
    "\n",
    "for i, (method_name, method_obj) in enumerate(methods.items()):\n",
    "    \n",
    "    scaler = StandardScaler(with_std=False)\n",
    "    x_train_scaled = scaler.fit_transform(x_train)\n",
    "    \n",
    "    method_obj.fit(x_train_scaled, y_train)\n",
    "    x_train_2d = method_obj.transform(x_train_scaled)\n",
    "    \n",
    "    # print(f'Calculating {method_name} ..')\n",
    "    \n",
    "    for target in set(y_train):\n",
    "        pd.DataFrame(\n",
    "            x_train_2d[\n",
    "                y_train == target\n",
    "            ],\n",
    "            columns=['y', 'x']\n",
    "        ).sample(n=20).plot(\n",
    "            kind='scatter',\n",
    "            x='x',\n",
    "            y='y',\n",
    "            marker=f'${target}$',\n",
    "            s=64,\n",
    "            color='k',\n",
    "            alpha='0.75',\n",
    "            ax=axs[i],\n",
    "        )\n",
    "        axs[i].set_title(f'{method_name} MNIST')\n",
    "\n",
    "fig.show()"
   ]
  },
  {
   "cell_type": "code",
   "execution_count": 25,
   "metadata": {},
   "outputs": [
    {
     "name": "stdout",
     "output_type": "stream",
     "text": [
      "MNIST test accuracy score: 68.4% [k=5, metric=euclidean, memory footprint=163671 - Rand]\n",
      "MNIST test accuracy score: 92.4% [k=3, metric=euclidean, memory footprint=98957 - PCA]\n",
      "MNIST test accuracy score: 92.7% [k=3, metric=euclidean, memory footprint=98957 - NCA]\n"
     ]
    }
   ],
   "source": [
    "from sklearn.preprocessing import StandardScaler\n",
    "from sklearn.preprocessing import MinMaxScaler\n",
    "\n",
    "from sklearn.model_selection import GridSearchCV\n",
    "from sklearn.neighbors import KNeighborsClassifier\n",
    "from sklearn.linear_model import SGDClassifier\n",
    "from sklearn.tree import DecisionTreeClassifier\n",
    "from sklearn.metrics import accuracy_score\n",
    "\n",
    "from sklearn.random_projection import SparseRandomProjection\n",
    "from sklearn.decomposition import PCA\n",
    "from sklearn.decomposition import KernelPCA\n",
    "from sklearn.discriminant_analysis import LinearDiscriminantAnalysis\n",
    "from sklearn.neighbors import NeighborhoodComponentsAnalysis\n",
    "from sklearn.manifold import LocallyLinearEmbedding\n",
    "\n",
    "from sklearn.manifold import MDS\n",
    "\n",
    "n_components = 6\n",
    "\n",
    "methods = {\n",
    "    'Rand': SparseRandomProjection(n_components=n_components),\n",
    "    'PCA': PCA(n_components=n_components),\n",
    "    'NCA': NeighborhoodComponentsAnalysis(n_components=n_components, init='pca',),\n",
    "}\n",
    "\n",
    "for i, (method_name, method_obj) in enumerate(methods.items()):\n",
    "    \n",
    "    scaler = StandardScaler(with_std=False)\n",
    "\n",
    "    x_train_scaled = scaler.fit_transform(x_train)\n",
    "    x_test_scaled = scaler.fit_transform(x_test)\n",
    "    \n",
    "    method_obj.fit(x_train_scaled, y_train)\n",
    "    x_train_2d = method_obj.transform(x_train_scaled)\n",
    "    x_test_2d = method_obj.transform(x_test_scaled)\n",
    "\n",
    "    scaler = MinMaxScaler()\n",
    "\n",
    "    x_train_scaled = scaler.fit_transform(x_train_2d)\n",
    "    x_test_scaled = scaler.transform(x_test_2d)\n",
    "\n",
    "    parameters = {'metric':('manhattan','euclidean'), 'n_neighbors': range(3, 9)}\n",
    "\n",
    "    knn = KNeighborsClassifier()\n",
    "    clf = GridSearchCV(knn, param_grid=parameters, scoring='accuracy', cv=5)\n",
    "\n",
    "    clf.fit(x_train_scaled, y_train)\n",
    "\n",
    "    y_test_pred = clf.predict(x_test_scaled)\n",
    "    \n",
    "    print(\n",
    "        'MNIST test accuracy score: {:.1%} [k={}, metric={}, memory footprint={} - {}]'.format(\n",
    "            accuracy_score(y_test, y_test_pred), \n",
    "            clf.best_params_['n_neighbors'], \n",
    "            clf.best_params_['metric'], \n",
    "            sys.getsizeof(pickle.dumps(clf)),\n",
    "            method_name\n",
    "        )\n",
    "\n",
    "    )"
   ]
  },
  {
   "cell_type": "markdown",
   "metadata": {},
   "source": [
    "## Nearest Centroid"
   ]
  },
  {
   "cell_type": "code",
   "execution_count": 26,
   "metadata": {},
   "outputs": [
    {
     "name": "stdout",
     "output_type": "stream",
     "text": [
      "MNIST test accuracy score: 89.1%\n"
     ]
    }
   ],
   "source": [
    "from sklearn.neighbors import NearestCentroid\n",
    "\n",
    "clf = NearestCentroid()\n",
    "\n",
    "clf.fit(x_train, y_train)\n",
    "\n",
    "y_test_pred = clf.predict(x_test)\n",
    "\n",
    "print(\n",
    "    'MNIST test accuracy score: {:.1%}'.format(\n",
    "        accuracy_score(y_test, y_test_pred), \n",
    "    )\n",
    "\n",
    ")"
   ]
  },
  {
   "cell_type": "code",
   "execution_count": 27,
   "metadata": {},
   "outputs": [
    {
     "name": "stderr",
     "output_type": "stream",
     "text": [
      "/Users/tarek/anaconda3/envs/scikitbook/lib/python3.6/site-packages/ipykernel_launcher.py:6: UserWarning: Matplotlib is currently using module://ipykernel.pylab.backend_inline, which is a non-GUI backend, so cannot show the figure.\n",
      "  \n"
     ]
    },
    {
     "data": {
      "image/png": "[encoded data removed]",
      "text/plain": [
       "<Figure size 1080x360 with 10 Axes>"
      ]
     },
     "metadata": {
      "needs_background": "light"
     },
     "output_type": "display_data"
    }
   ],
   "source": [
    "fig, axs = plt.subplots(1, len(clf.classes_), figsize=(15, 5))\n",
    "\n",
    "for i, (centroid, label) in enumerate(zip(clf.centroids_, clf.classes_)):\n",
    "    display_img(centroid, label, axs[i])\n",
    "    \n",
    "fig.show()"
   ]
  },
  {
   "cell_type": "code",
   "execution_count": 28,
   "metadata": {},
   "outputs": [
    {
     "name": "stderr",
     "output_type": "stream",
     "text": [
      "/Users/tarek/anaconda3/envs/scikitbook/lib/python3.6/site-packages/ipykernel_launcher.py:40: UserWarning: Matplotlib is currently using module://ipykernel.pylab.backend_inline, which is a non-GUI backend, so cannot show the figure.\n"
     ]
    },
    {
     "data": {
      "image/png": "[encoded data removed]",
      "text/plain": [
       "<Figure size 1080x360 with 1 Axes>"
      ]
     },
     "metadata": {
      "needs_background": "light"
     },
     "output_type": "display_data"
    }
   ],
   "source": [
    "from sklearn.neighbors import NearestCentroid\n",
    "\n",
    "scores = []\n",
    "\n",
    "for n_components in range(1, 33, 1):\n",
    "    \n",
    "    scaler = StandardScaler(with_std=False)\n",
    "    embedder = PCA(n_components=n_components)\n",
    "    \n",
    "    x_train_scaled = scaler.fit_transform(x_train)\n",
    "    x_test_scaled = scaler.transform(x_test)\n",
    "    \n",
    "    clf = NearestCentroid(shrink_threshold=0.01)\n",
    "\n",
    "    embedder.fit(x_train_scaled, y_train)\n",
    "    x_train_embed = embedder.transform(x_train_scaled)\n",
    "    x_test_embed = embedder.transform(x_test_scaled)\n",
    "\n",
    "    clf.fit(x_train_embed, y_train)\n",
    "\n",
    "    y_test_pred = clf.predict(x_test_embed)\n",
    "\n",
    "    scores.append([n_components, accuracy_score(y_test, y_test_pred)])\n",
    "    \n",
    "\n",
    "fig, ax = plt.subplots(1, 1, figsize=(15, 5))\n",
    "\n",
    "pd.DataFrame(\n",
    "    scores,\n",
    "    columns=['# Components', 'Accuracy']\n",
    ").set_index(\n",
    "    '# Components'\n",
    ")['Accuracy'].plot(\n",
    "    title='{}: Accuracy vs # Components'.format(str(embedder).split('(')[0]),\n",
    "    kind='bar',\n",
    "    color='k',\n",
    "    ax=ax\n",
    ")\n",
    "\n",
    "fig.show()"
   ]
  },
  {
   "cell_type": "code",
   "execution_count": 29,
   "metadata": {},
   "outputs": [],
   "source": [
    "from sklearn.preprocessing import StandardScaler\n",
    "from sklearn.decomposition import PCA\n",
    "\n",
    "scaler = StandardScaler(with_std=False)\n",
    "\n",
    "pca = PCA()\n",
    "\n",
    "x_train_scaled = scaler.fit_transform(x_train)\n",
    "pca.fit(x_train_scaled)\n",
    "\n",
    "df_explained_variance_ratio = pd.DataFrame(\n",
    "    [\n",
    "        (component, explained_variance_ratio) \n",
    "        for component, explained_variance_ratio in enumerate(pca.explained_variance_ratio_[:32], 1)\n",
    "    ],\n",
    "    columns=['component', 'explained_variance_ratio']\n",
    ")"
   ]
  },
  {
   "cell_type": "code",
   "execution_count": 30,
   "metadata": {},
   "outputs": [
    {
     "name": "stderr",
     "output_type": "stream",
     "text": [
      "/Users/tarek/anaconda3/envs/scikitbook/lib/python3.6/site-packages/ipykernel_launcher.py:10: UserWarning: Matplotlib is currently using module://ipykernel.pylab.backend_inline, which is a non-GUI backend, so cannot show the figure.\n",
      "  # Remove the CWD from sys.path while we load stuff.\n"
     ]
    },
    {
     "data": {
      "image/png": "[encoded data removed]",
      "text/plain": [
       "<Figure size 1008x360 with 1 Axes>"
      ]
     },
     "metadata": {
      "needs_background": "light"
     },
     "output_type": "display_data"
    }
   ],
   "source": [
    "fig, ax = plt.subplots(1, 1, figsize=(14, 5))\n",
    "\n",
    "df_explained_variance_ratio.set_index('component')['explained_variance_ratio'].plot(\n",
    "    title='Explained Variance Ratio',\n",
    "    kind='bar',\n",
    "    color='k',\n",
    "    ax=ax\n",
    ")\n",
    "\n",
    "fig.show()"
   ]
  },
  {
   "cell_type": "code",
   "execution_count": 31,
   "metadata": {},
   "outputs": [],
   "source": [
    "embedder = PCA(n_components=50)\n",
    "embedder.fit(x_train, y_train)\n",
    "\n",
    "x_train_embed = embedder.transform(x_train_scaled)\n",
    "x_test_embed = embedder.transform(x_test_scaled)\n",
    "\n",
    "# from sklearn.preprocessing import MinMaxScaler\n",
    "\n",
    "iscaler = MinMaxScaler((x_train.min(), x_train.max()))\n",
    "\n",
    "x_train_restored = embedder.inverse_transform(x_train_embed) \n",
    "x_test_restored = embedder.inverse_transform(x_test_embed)\n",
    "\n",
    "x_train_restored = iscaler.fit_transform(x_train_restored) \n",
    "x_test_restored = iscaler.fit_transform(x_test_restored)"
   ]
  },
  {
   "cell_type": "code",
   "execution_count": 32,
   "metadata": {},
   "outputs": [
    {
     "data": {
      "text/plain": [
       "array([[ 0.,  1., 13., ...,  5.,  0.,  0.],\n",
       "       [ 0.,  0.,  0., ...,  0.,  0.,  0.],\n",
       "       [ 0.,  0.,  0., ..., 12.,  0.,  0.],\n",
       "       ...,\n",
       "       [ 0.,  0.,  7., ...,  2.,  0.,  0.],\n",
       "       [ 0.,  0.,  4., ...,  9.,  0.,  0.],\n",
       "       [ 0.,  1.,  7., ...,  3.,  0.,  0.]])"
      ]
     },
     "execution_count": 32,
     "metadata": {},
     "output_type": "execute_result"
    }
   ],
   "source": [
    "x_train"
   ]
  },
  {
   "cell_type": "code",
   "execution_count": 33,
   "metadata": {},
   "outputs": [
    {
     "data": {
      "text/plain": [
       "array([[8.72282564e+00, 1.76399009e+00, 1.29983626e+01, ...,\n",
       "        5.00306187e+00, 1.29392877e-02, 2.21324522e-01],\n",
       "       [9.27858051e+00, 5.89108625e-01, 1.14862699e-02, ...,\n",
       "        5.87655611e-03, 1.30954973e-02, 2.16133860e-01],\n",
       "       [6.84358876e+00, 6.44021321e-01, 1.12601173e-02, ...,\n",
       "        1.19997748e+01, 1.35637343e-02, 2.12525019e-01],\n",
       "       ...,\n",
       "       [4.92206681e+00, 8.41789422e-01, 7.00526401e+00, ...,\n",
       "        2.00494433e+00, 1.23921062e-02, 2.17555966e-01],\n",
       "       [7.03660042e+00, 6.74431113e-01, 4.00760313e+00, ...,\n",
       "        9.00148925e+00, 1.25894891e-02, 2.13557860e-01],\n",
       "       [6.94326855e+00, 1.67827771e+00, 7.00354149e+00, ...,\n",
       "        3.00465426e+00, 1.40217792e-02, 2.10507459e-01]])"
      ]
     },
     "execution_count": 33,
     "metadata": {},
     "output_type": "execute_result"
    }
   ],
   "source": [
    "x_train_restored"
   ]
  },
  {
   "cell_type": "code",
   "execution_count": 34,
   "metadata": {},
   "outputs": [
    {
     "name": "stderr",
     "output_type": "stream",
     "text": [
      "/Users/tarek/anaconda3/envs/scikitbook/lib/python3.6/site-packages/ipykernel_launcher.py:16: UserWarning: Matplotlib is currently using module://ipykernel.pylab.backend_inline, which is a non-GUI backend, so cannot show the figure.\n",
      "  app.launch_new_instance()\n"
     ]
    },
    {
     "data": {
      "image/png": "[encoded data removed]",
      "text/plain": [
       "<Figure size 1008x360 with 16 Axes>"
      ]
     },
     "metadata": {
      "needs_background": "light"
     },
     "output_type": "display_data"
    }
   ],
   "source": [
    "import random \n",
    "\n",
    "fig, axs = plt.subplots(2, 8, figsize=(14, 5))\n",
    "\n",
    "for i in range(8):\n",
    "    \n",
    "    rand = random.choice(range(y_train.shape[0]))\n",
    "\n",
    "    img_orig = x_train[rand]\n",
    "    img_comp = x_train_restored[rand]\n",
    "    \n",
    "    display_img(img_orig, y_train[rand], axs[0][i])\n",
    "    display_img(img_comp, y_train[rand], axs[1][i])\n",
    "\n",
    "\n",
    "fig.show()"
   ]
  },
  {
   "cell_type": "code",
   "execution_count": 35,
   "metadata": {},
   "outputs": [
    {
     "name": "stdout",
     "output_type": "stream",
     "text": [
      "MNIST test accuracy score: 98.4%\n",
      "{'metric': 'euclidean', 'n_neighbors': 5}\n"
     ]
    }
   ],
   "source": [
    "parameters = {'metric':('manhattan','euclidean'), 'n_neighbors': range(2, 22)}\n",
    "\n",
    "knn = KNeighborsClassifier()\n",
    "clf = GridSearchCV(knn, param_grid=parameters, scoring='accuracy', cv=5)\n",
    "\n",
    "clf.fit(x_train, y_train)\n",
    "\n",
    "y_test_pred = clf.predict(x_test)\n",
    "\n",
    "print(\n",
    "    'MNIST test accuracy score: {:.1%}'.format(\n",
    "        accuracy_score(y_test, y_test_pred), \n",
    "    )\n",
    "\n",
    ")\n",
    "print(clf.best_params_)"
   ]
  },
  {
   "cell_type": "code",
   "execution_count": 36,
   "metadata": {},
   "outputs": [
    {
     "name": "stdout",
     "output_type": "stream",
     "text": [
      "MNIST test accuracy score: 97.8%\n",
      "{'metric': 'euclidean', 'n_neighbors': 6}\n"
     ]
    }
   ],
   "source": [
    "parameters = {'metric':('manhattan','euclidean'), 'n_neighbors': range(5, 22)}\n",
    "\n",
    "knn = KNeighborsClassifier()\n",
    "clf = GridSearchCV(knn, param_grid=parameters, scoring='accuracy', cv=5)\n",
    "\n",
    "clf.fit(x_train_restored, y_train)\n",
    "\n",
    "y_test_pred = clf.predict(x_test_restored)\n",
    "\n",
    "print(\n",
    "    'MNIST test accuracy score: {:.1%}'.format(\n",
    "        accuracy_score(y_test, y_test_pred), \n",
    "    )\n",
    ")\n",
    "print(clf.best_params_)"
   ]
  },
  {
   "cell_type": "code",
   "execution_count": 37,
   "metadata": {},
   "outputs": [
    {
     "name": "stdout",
     "output_type": "stream",
     "text": [
      "MNIST test accuracy score: 98.4%\n",
      "{'metric': 'euclidean', 'n_neighbors': 5}\n"
     ]
    }
   ],
   "source": [
    "x_train_expanded = np.concatenate([x_train, x_train_restored])\n",
    "y_train_expanded = np.concatenate([y_train, y_train])\n",
    "\n",
    "parameters = {'metric':('manhattan','euclidean'), 'n_neighbors': range(5, 22)}\n",
    "\n",
    "knn = KNeighborsClassifier()\n",
    "clf = GridSearchCV(knn, param_grid=parameters, scoring='accuracy', cv=5)\n",
    "\n",
    "clf.fit(x_train_expanded, y_train_expanded)\n",
    "\n",
    "y_test_pred = clf.predict(x_test)\n",
    "\n",
    "print(\n",
    "    'MNIST test accuracy score: {:.1%}'.format(\n",
    "        accuracy_score(y_test, y_test_pred), \n",
    "    )\n",
    ")\n",
    "print(clf.best_params_)"
   ]
  },
  {
   "cell_type": "code",
   "execution_count": 38,
   "metadata": {},
   "outputs": [
    {
     "name": "stdout",
     "output_type": "stream",
     "text": [
      "MNIST test accuracy score: 92.7% @ n_components=5\n",
      "MNIST test accuracy score: 97.6% @ n_components=10\n",
      "MNIST test accuracy score: 97.6% @ n_components=15\n",
      "MNIST test accuracy score: 97.8% @ n_components=20\n",
      "MNIST test accuracy score: 97.8% @ n_components=25\n",
      "MNIST test accuracy score: 98.4% @ n_components=30\n",
      "MNIST test accuracy score: 98.7% @ n_components=35\n",
      "MNIST test accuracy score: 98.7% @ n_components=40\n"
     ]
    }
   ],
   "source": [
    "from sklearn.preprocessing import MinMaxScaler\n",
    "from sklearn.linear_model import LogisticRegression\n",
    "\n",
    "accuracies = []\n",
    "\n",
    "for n_components in range(1, 45, 1):\n",
    "    \n",
    "    embedder = PCA(n_components=n_components)\n",
    "    embedder.fit(x_train, y_train)\n",
    "\n",
    "    x_train_embed = embedder.transform(x_train_scaled)\n",
    "    x_test_embed = embedder.transform(x_test_scaled)\n",
    "\n",
    "    knn = KNeighborsClassifier(metric='euclidean', n_neighbors=5)\n",
    "    \n",
    "#     scaler = MinMaxScaler()\n",
    "#     clf = LogisticRegression(max_iter=1000)\n",
    "\n",
    "#     x_train_scaled2 = scaler.fit_transform(x_train_embed)\n",
    "#     x_test_scaled2 = scaler.transform(x_test_embed)\n",
    "    \n",
    "    knn.fit(x_train_embed, y_train)\n",
    "    y_test_pred = knn.predict(x_test_embed)\n",
    "\n",
    "    accuracies.append([n_components, accuracy_score(y_test, y_test_pred)])\n",
    "    if n_components % 5 != 0:\n",
    "        continue\n",
    "    print(\n",
    "        'MNIST test accuracy score: {:.1%} @ n_components={}'.format(\n",
    "            accuracy_score(y_test, y_test_pred), \n",
    "            n_components,\n",
    "    )\n",
    ")\n",
    "    \n"
   ]
  },
  {
   "cell_type": "code",
   "execution_count": 39,
   "metadata": {},
   "outputs": [],
   "source": [
    "df_accuracies = pd.DataFrame(\n",
    "    accuracies,\n",
    "    columns=['n_components', 'accuracy_score']\n",
    ")"
   ]
  },
  {
   "cell_type": "code",
   "execution_count": 40,
   "metadata": {},
   "outputs": [],
   "source": [
    "df_accuracies = df_accuracies.sort_values(\n",
    "    'accuracy_score', ascending=False\n",
    ")\n",
    "\n",
    "df_accuracies['top_score'] = 1\n",
    "df_accuracies['top_score'] = df_accuracies['top_score'].cumsum()"
   ]
  },
  {
   "cell_type": "code",
   "execution_count": 41,
   "metadata": {},
   "outputs": [
    {
     "data": {
      "text/html": [
       "<div>\n",
       "<style scoped>\n",
       "    .dataframe tbody tr th:only-of-type {\n",
       "        vertical-align: middle;\n",
       "    }\n",
       "\n",
       "    .dataframe tbody tr th {\n",
       "        vertical-align: top;\n",
       "    }\n",
       "\n",
       "    .dataframe thead th {\n",
       "        text-align: right;\n",
       "    }\n",
       "</style>\n",
       "<table border=\"1\" class=\"dataframe\">\n",
       "  <thead>\n",
       "    <tr style=\"text-align: right;\">\n",
       "      <th></th>\n",
       "      <th>n_components</th>\n",
       "      <th>accuracy_score</th>\n",
       "      <th>top_score</th>\n",
       "    </tr>\n",
       "  </thead>\n",
       "  <tbody>\n",
       "    <tr>\n",
       "      <th>34</th>\n",
       "      <td>35</td>\n",
       "      <td>0.986667</td>\n",
       "      <td>1</td>\n",
       "    </tr>\n",
       "    <tr>\n",
       "      <th>41</th>\n",
       "      <td>42</td>\n",
       "      <td>0.986667</td>\n",
       "      <td>2</td>\n",
       "    </tr>\n",
       "    <tr>\n",
       "      <th>39</th>\n",
       "      <td>40</td>\n",
       "      <td>0.986667</td>\n",
       "      <td>3</td>\n",
       "    </tr>\n",
       "    <tr>\n",
       "      <th>38</th>\n",
       "      <td>39</td>\n",
       "      <td>0.986667</td>\n",
       "      <td>4</td>\n",
       "    </tr>\n",
       "  </tbody>\n",
       "</table>\n",
       "</div>"
      ],
      "text/plain": [
       "    n_components  accuracy_score  top_score\n",
       "34            35        0.986667          1\n",
       "41            42        0.986667          2\n",
       "39            40        0.986667          3\n",
       "38            39        0.986667          4"
      ]
     },
     "execution_count": 41,
     "metadata": {},
     "output_type": "execute_result"
    }
   ],
   "source": [
    "df_accuracies.sort_values(\n",
    "    'top_score', ascending=True\n",
    ").head(4)"
   ]
  },
  {
   "cell_type": "code",
   "execution_count": 42,
   "metadata": {},
   "outputs": [],
   "source": [
    "df_accuracies = df_accuracies.sort_values(\n",
    "    'n_components', ascending=True\n",
    ")"
   ]
  },
  {
   "cell_type": "code",
   "execution_count": 43,
   "metadata": {},
   "outputs": [
    {
     "name": "stderr",
     "output_type": "stream",
     "text": [
      "/Users/tarek/anaconda3/envs/scikitbook/lib/python3.6/site-packages/ipykernel_launcher.py:19: UserWarning: Matplotlib is currently using module://ipykernel.pylab.backend_inline, which is a non-GUI backend, so cannot show the figure.\n"
     ]
    },
    {
     "data": {
      "image/png": "[encoded data removed]",
      "text/plain": [
       "<Figure size 1008x360 with 1 Axes>"
      ]
     },
     "metadata": {
      "needs_background": "light"
     },
     "output_type": "display_data"
    }
   ],
   "source": [
    "fig, ax = plt.subplots(1, 1, figsize=(14, 5))\n",
    "\n",
    "df_accuracies.set_index('n_components')['accuracy_score'].plot(\n",
    "    title='Accuracy vs # PCA Components used',\n",
    "    kind='bar',\n",
    "    alpha=0.45,\n",
    "    color='k',\n",
    "    ax=ax\n",
    ")\n",
    "\n",
    "for bar in [\n",
    "        shape for shape, score in zip(\n",
    "            [child for child in ax.get_children() if isinstance(child, matplotlib.patches.Rectangle)],\n",
    "            [ts <= 10 for ts in df_accuracies['top_score'].tolist()]\n",
    "        ) if score\n",
    "    ]:\n",
    "        bar.set_alpha(0.99)\n",
    "        \n",
    "fig.show()"
   ]
  },
  {
   "cell_type": "code",
   "execution_count": null,
   "metadata": {},
   "outputs": [],
   "source": []
  },
  {
   "cell_type": "code",
   "execution_count": null,
   "metadata": {},
   "outputs": [],
   "source": []
  },
  {
   "cell_type": "code",
   "execution_count": null,
   "metadata": {},
   "outputs": [],
   "source": []
  },
  {
   "cell_type": "code",
   "execution_count": 44,
   "metadata": {},
   "outputs": [],
   "source": [
    "from sklearn.preprocessing import StandardScaler\n",
    "scaler = StandardScaler(with_std=False)\n",
    "x_train_scaled = scaler.fit_transform(x_train)\n",
    "x_test_scaled = scaler.transform(x_test)"
   ]
  },
  {
   "cell_type": "code",
   "execution_count": 45,
   "metadata": {},
   "outputs": [],
   "source": [
    "embedder = PCA(n_components=32)\n",
    "embedder.fit(x_train, y_train)\n",
    "\n",
    "x_train_embed = embedder.transform(x_train_scaled)\n",
    "x_test_embed = embedder.transform(x_test_scaled)\n",
    "\n",
    "x_train_restored = embedder.inverse_transform(x_train_embed) \n",
    "x_test_restored = embedder.inverse_transform(x_test_embed)"
   ]
  },
  {
   "cell_type": "code",
   "execution_count": null,
   "metadata": {},
   "outputs": [],
   "source": []
  }
 ],
 "metadata": {
  "kernelspec": {
   "display_name": "Python 3",
   "language": "python",
   "name": "python3"
  },
  "language_info": {
   "codemirror_mode": {
    "name": "ipython",
    "version": 3
   },
   "file_extension": ".py",
   "mimetype": "text/x-python",
   "name": "python",
   "nbconvert_exporter": "python",
   "pygments_lexer": "ipython3",
   "version": "3.6.9"
  }
 },
 "nbformat": 4,
 "nbformat_minor": 2
}
