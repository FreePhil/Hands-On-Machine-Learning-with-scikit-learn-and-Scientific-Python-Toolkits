{
 "cells": [
  {
   "cell_type": "markdown",
   "metadata": {},
   "source": [
    "# Load Digits Data"
   ]
  },
  {
   "cell_type": "code",
   "execution_count": 1,
   "metadata": {},
   "outputs": [],
   "source": [
    "from sklearn.datasets import load_digits\n",
    "\n",
    "digits = load_digits()"
   ]
  },
  {
   "cell_type": "code",
   "execution_count": 2,
   "metadata": {},
   "outputs": [
    {
     "data": {
      "text/plain": [
       "array([0, 1, 2, ..., 8, 9, 8])"
      ]
     },
     "execution_count": 2,
     "metadata": {},
     "output_type": "execute_result"
    }
   ],
   "source": [
    "digits['target']"
   ]
  },
  {
   "cell_type": "code",
   "execution_count": 3,
   "metadata": {},
   "outputs": [
    {
     "data": {
      "text/plain": [
       "array([[ 0.,  0.,  5., ...,  0.,  0.,  0.],\n",
       "       [ 0.,  0.,  0., ..., 10.,  0.,  0.],\n",
       "       [ 0.,  0.,  0., ..., 16.,  9.,  0.],\n",
       "       ...,\n",
       "       [ 0.,  0.,  1., ...,  6.,  0.,  0.],\n",
       "       [ 0.,  0.,  2., ..., 12.,  0.,  0.],\n",
       "       [ 0.,  0., 10., ..., 12.,  1.,  0.]])"
      ]
     },
     "execution_count": 3,
     "metadata": {},
     "output_type": "execute_result"
    }
   ],
   "source": [
    "digits['data']"
   ]
  },
  {
   "cell_type": "code",
   "execution_count": 4,
   "metadata": {},
   "outputs": [
    {
     "data": {
      "text/plain": [
       "(0.0, 16.0)"
      ]
     },
     "execution_count": 4,
     "metadata": {},
     "output_type": "execute_result"
    }
   ],
   "source": [
    "digits['data'].min(), digits['data'].max()"
   ]
  },
  {
   "cell_type": "code",
   "execution_count": 5,
   "metadata": {},
   "outputs": [
    {
     "data": {
      "text/plain": [
       "(1797, 64)"
      ]
     },
     "execution_count": 5,
     "metadata": {},
     "output_type": "execute_result"
    }
   ],
   "source": [
    "digits['data'].shape"
   ]
  },
  {
   "cell_type": "code",
   "execution_count": 6,
   "metadata": {},
   "outputs": [
    {
     "data": {
      "text/plain": [
       "(1797,)"
      ]
     },
     "execution_count": 6,
     "metadata": {},
     "output_type": "execute_result"
    }
   ],
   "source": [
    "digits['target'].shape"
   ]
  },
  {
   "cell_type": "markdown",
   "metadata": {},
   "source": [
    "## Displaying Digits"
   ]
  },
  {
   "cell_type": "code",
   "execution_count": 7,
   "metadata": {},
   "outputs": [],
   "source": [
    "def display_img(img, target, ax, vmin=0, vmax=16):\n",
    "    img = img.reshape((8, 8))\n",
    "    \n",
    "    ax.imshow(img, cmap='gray', vmin=vmin, vmax=vmax)\n",
    "    ax.set_title(f'Digit: {str(target)}')\n",
    "    ax.grid(False)"
   ]
  },
  {
   "cell_type": "code",
   "execution_count": 8,
   "metadata": {},
   "outputs": [
    {
     "name": "stderr",
     "output_type": "stream",
     "text": [
      "/Users/tarek/anaconda3/envs/scikitbook/lib/python3.6/site-packages/ipykernel_launcher.py:6: UserWarning: Matplotlib is currently using module://ipykernel.pylab.backend_inline, which is a non-GUI backend, so cannot show the figure.\n",
      "  \n"
     ]
    },
    {
     "data": {
      "image/png": "[encoded data removed]",
      "text/plain": [
       "<Figure size 1080x720 with 8 Axes>"
      ]
     },
     "metadata": {
      "needs_background": "light"
     },
     "output_type": "display_data"
    }
   ],
   "source": [
    "fig, axs = plt.subplots(1, 8, figsize=(15, 10))\n",
    "\n",
    "for i in range(8):\n",
    "    display_img(digits['data'][i], digits['target'][i], axs[i])\n",
    "\n",
    "fig.show()"
   ]
  },
  {
   "cell_type": "code",
   "execution_count": 9,
   "metadata": {},
   "outputs": [
    {
     "name": "stderr",
     "output_type": "stream",
     "text": [
      "/Users/tarek/anaconda3/envs/scikitbook/lib/python3.6/site-packages/ipykernel_launcher.py:7: UserWarning: Matplotlib is currently using module://ipykernel.pylab.backend_inline, which is a non-GUI backend, so cannot show the figure.\n",
      "  import sys\n"
     ]
    },
    {
     "data": {
      "image/png": "[encoded data removed]",
      "text/plain": [
       "<Figure size 720x720 with 12 Axes>"
      ]
     },
     "metadata": {
      "needs_background": "light"
     },
     "output_type": "display_data"
    }
   ],
   "source": [
    "fig, axs = plt.subplots(3, 4, figsize=(10, 10))\n",
    "\n",
    "for i in range(3):\n",
    "    for j in range(4):\n",
    "        display_img(digits['data'][i+j], digits['target'][i+j], axs[i][j])\n",
    "\n",
    "fig.show()"
   ]
  },
  {
   "cell_type": "markdown",
   "metadata": {},
   "source": [
    "## Digits Train/Test Split"
   ]
  },
  {
   "cell_type": "code",
   "execution_count": 10,
   "metadata": {},
   "outputs": [],
   "source": [
    "from sklearn.model_selection import train_test_split\n",
    "\n",
    "x, y = digits['data'], digits['target']\n",
    "\n",
    "x_train, x_test, y_train, y_test = train_test_split(x, y)"
   ]
  },
  {
   "cell_type": "code",
   "execution_count": 11,
   "metadata": {},
   "outputs": [
    {
     "data": {
      "text/plain": [
       "((1347, 64), (450, 64), (1347,), (450,))"
      ]
     },
     "execution_count": 11,
     "metadata": {},
     "output_type": "execute_result"
    }
   ],
   "source": [
    "x_train.shape, x_test.shape, y_train.shape, y_test.shape"
   ]
  },
  {
   "cell_type": "code",
   "execution_count": 12,
   "metadata": {},
   "outputs": [
    {
     "name": "stdout",
     "output_type": "stream",
     "text": [
      "Digits test accuracy score: 96.9% [train score: 99.9%]\n"
     ]
    }
   ],
   "source": [
    "from sklearn.preprocessing import StandardScaler\n",
    "from sklearn.linear_model import LogisticRegression\n",
    "\n",
    "scaler = StandardScaler()\n",
    "clf = LogisticRegression()\n",
    "\n",
    "x_train_scaled = scaler.fit_transform(x_train)\n",
    "x_test_scaled = scaler.transform(x_test)\n",
    "\n",
    "clf.fit(x_train_scaled, y_train)\n",
    "\n",
    "y_train_pred = clf.predict(x_train_scaled)\n",
    "y_test_pred = clf.predict(x_test_scaled)\n",
    "\n",
    "\n",
    "from sklearn.metrics import accuracy_score\n",
    "\n",
    "from sklearn.metrics import accuracy_score\n",
    "\n",
    "print(\n",
    "    'Digits test accuracy score: {:.1%} [train score: {:.1%}]'.format(\n",
    "        accuracy_score(y_test, y_test_pred),\n",
    "        accuracy_score(y_train, y_train_pred)\n",
    "    )\n",
    "    \n",
    ")"
   ]
  },
  {
   "cell_type": "markdown",
   "metadata": {},
   "source": [
    "## Digits KNN"
   ]
  },
  {
   "cell_type": "code",
   "execution_count": 13,
   "metadata": {},
   "outputs": [],
   "source": [
    "import time\n",
    "\n",
    "def apply_and_time(fn, *args):\n",
    "    t1 = time.time()\n",
    "    fn_return = fn(*args)\n",
    "    t2 = time.time()\n",
    "    print(f'Time taken to fit {t2 - t1:.2f}s')\n",
    "    return fn_return"
   ]
  },
  {
   "cell_type": "code",
   "execution_count": 14,
   "metadata": {},
   "outputs": [
    {
     "name": "stdout",
     "output_type": "stream",
     "text": [
      "Time taken to fit 0.02s\n",
      "Time taken to fit 0.12s\n"
     ]
    }
   ],
   "source": [
    "from sklearn.neighbors import KNeighborsClassifier\n",
    "\n",
    "clf = KNeighborsClassifier(n_neighbors=3, metric='euclidean')\n",
    "\n",
    "apply_and_time(clf.fit, x_train, y_train)\n",
    "\n",
    "y_test_pred = apply_and_time(clf.predict, x_test)"
   ]
  },
  {
   "cell_type": "code",
   "execution_count": 15,
   "metadata": {},
   "outputs": [],
   "source": [
    "from sklearn.neighbors import KNeighborsClassifier\n",
    "\n",
    "clf = KNeighborsClassifier(n_neighbors=11, metric='manhattan')\n",
    "\n",
    "clf.fit(x_train, y_train)\n",
    "\n",
    "y_train_pred = clf.predict(x_train)\n",
    "y_test_pred = clf.predict(x_test)"
   ]
  },
  {
   "cell_type": "code",
   "execution_count": 16,
   "metadata": {},
   "outputs": [
    {
     "name": "stdout",
     "output_type": "stream",
     "text": [
      "Digits test accuracy score: 97.8% [train score: 98.1%]\n"
     ]
    }
   ],
   "source": [
    "from sklearn.metrics import accuracy_score\n",
    "\n",
    "print(\n",
    "    'Digits test accuracy score: {:.1%} [train score: {:.1%}]'.format(\n",
    "        accuracy_score(y_test, y_test_pred),\n",
    "        accuracy_score(y_train, y_train_pred)\n",
    "    )\n",
    "    \n",
    ")"
   ]
  },
  {
   "cell_type": "code",
   "execution_count": 17,
   "metadata": {},
   "outputs": [
    {
     "name": "stderr",
     "output_type": "stream",
     "text": [
      "/Users/tarek/anaconda3/envs/scikitbook/lib/python3.6/site-packages/ipykernel_launcher.py:9: UserWarning: Matplotlib is currently using module://ipykernel.pylab.backend_inline, which is a non-GUI backend, so cannot show the figure.\n",
      "  if __name__ == '__main__':\n"
     ]
    },
    {
     "data": {
      "image/png": "[encoded data removed]",
      "text/plain": [
       "<Figure size 576x576 with 2 Axes>"
      ]
     },
     "metadata": {
      "needs_background": "light"
     },
     "output_type": "display_data"
    }
   ],
   "source": [
    "from sklearn.metrics import plot_confusion_matrix\n",
    "\n",
    "fig, ax = plt.subplots(1, 1, figsize=(8, 8))\n",
    "\n",
    "plot_confusion_matrix(clf, x_test, y_test, cmap='Greys', ax=ax)\n",
    "ax.grid(False)\n",
    "ax.set_label('MNIST Confusion Matrix')\n",
    "\n",
    "fig.show()"
   ]
  },
  {
   "cell_type": "markdown",
   "metadata": {},
   "source": [
    "## K "
   ]
  },
  {
   "cell_type": "code",
   "execution_count": 18,
   "metadata": {},
   "outputs": [
    {
     "data": {
      "text/plain": [
       "1347"
      ]
     },
     "execution_count": 18,
     "metadata": {},
     "output_type": "execute_result"
    }
   ],
   "source": [
    "x_train.shape[0]"
   ]
  },
  {
   "cell_type": "code",
   "execution_count": 19,
   "metadata": {},
   "outputs": [],
   "source": [
    "from sklearn.preprocessing import Binarizer\n",
    "from sklearn.neighbors import KNeighborsClassifier\n",
    "\n",
    "scaler = Binarizer()\n",
    "\n",
    "x_train_high_contrast = scaler.fit_transform(x_train)\n",
    "x_test_high_contrast = scaler.transform(x_test)"
   ]
  },
  {
   "cell_type": "code",
   "execution_count": 20,
   "metadata": {},
   "outputs": [
    {
     "name": "stderr",
     "output_type": "stream",
     "text": [
      "/Users/tarek/anaconda3/envs/scikitbook/lib/python3.6/site-packages/ipykernel_launcher.py:16: UserWarning: Matplotlib is currently using module://ipykernel.pylab.backend_inline, which is a non-GUI backend, so cannot show the figure.\n",
      "  app.launch_new_instance()\n"
     ]
    },
    {
     "data": {
      "image/png": "[encoded data removed]",
      "text/plain": [
       "<Figure size 1008x360 with 16 Axes>"
      ]
     },
     "metadata": {
      "needs_background": "light"
     },
     "output_type": "display_data"
    }
   ],
   "source": [
    "import random \n",
    "\n",
    "fig, axs = plt.subplots(2, 8, figsize=(14, 5))\n",
    "\n",
    "for i in range(8):\n",
    "    \n",
    "    rand = random.choice(range(y_train.shape[0]))\n",
    "\n",
    "    img_orig = x_train[rand]\n",
    "    img_comp = x_train_high_contrast[rand]\n",
    "    \n",
    "    display_img(img_orig, y_train[rand], axs[0][i], vmin=None, vmax=None)\n",
    "    display_img(img_comp, y_train[rand], axs[1][i], vmin=None, vmax=None)\n",
    "\n",
    "\n",
    "fig.show()"
   ]
  },
  {
   "cell_type": "code",
   "execution_count": 21,
   "metadata": {},
   "outputs": [],
   "source": [
    "scores = {}\n",
    "\n",
    "for k in range(1, 1301, 25):\n",
    "    \n",
    "    clf = KNeighborsClassifier(n_neighbors=k, metric='cosine', p=3)\n",
    "    clf.fit(x_train_high_contrast, y_train)\n",
    "    y_test_pred = clf.predict(x_test_high_contrast)\n",
    "    scores[k] = accuracy_score(y_test, y_test_pred)"
   ]
  },
  {
   "cell_type": "code",
   "execution_count": 22,
   "metadata": {},
   "outputs": [
    {
     "name": "stderr",
     "output_type": "stream",
     "text": [
      "/Users/tarek/anaconda3/envs/scikitbook/lib/python3.6/site-packages/ipykernel_launcher.py:10: UserWarning: Matplotlib is currently using module://ipykernel.pylab.backend_inline, which is a non-GUI backend, so cannot show the figure.\n",
      "  # Remove the CWD from sys.path while we load stuff.\n"
     ]
    },
    {
     "data": {
      "image/png": "[encoded data removed]",
      "text/plain": [
       "<Figure size 1008x360 with 1 Axes>"
      ]
     },
     "metadata": {
      "needs_background": "light"
     },
     "output_type": "display_data"
    }
   ],
   "source": [
    "fig, ax = plt.subplots(1, 1, figsize=(14, 5))\n",
    "\n",
    "pd.Series(scores).plot(\n",
    "    title='Accuracy vs k',\n",
    "    kind='bar',\n",
    "    color='k',\n",
    "    ax=ax\n",
    ")\n",
    "\n",
    "fig.show()"
   ]
  },
  {
   "cell_type": "code",
   "execution_count": 23,
   "metadata": {},
   "outputs": [
    {
     "name": "stdout",
     "output_type": "stream",
     "text": [
      "best_params: {'metric': 'euclidean', 'n_neighbors': 1}\n",
      "best_score: 0.9873798705768966\n"
     ]
    }
   ],
   "source": [
    "# https://scikit-learn.org/stable/modules/generated/sklearn.model_selection.GridSearchCV.html\n",
    "\n",
    "from sklearn.model_selection import GridSearchCV\n",
    "from sklearn.neighbors import KNeighborsClassifier\n",
    "\n",
    "parameters = {'metric':('manhattan','euclidean', 'cosine'), 'n_neighbors': range(1, 21)}\n",
    "\n",
    "knn = KNeighborsClassifier()\n",
    "clf = GridSearchCV(knn, param_grid=parameters, scoring='accuracy', cv=5)\n",
    "\n",
    "clf.fit(x_train, y_train)\n",
    "\n",
    "print('best_params:', clf.best_params_)\n",
    "print('best_score:', clf.best_score_)"
   ]
  },
  {
   "cell_type": "code",
   "execution_count": 24,
   "metadata": {},
   "outputs": [
    {
     "data": {
      "text/plain": [
       "0.9888888888888889"
      ]
     },
     "execution_count": 24,
     "metadata": {},
     "output_type": "execute_result"
    }
   ],
   "source": [
    "y_test_pred = clf.predict(x_test)\n",
    "accuracy_score(y_test, y_test_pred)"
   ]
  },
  {
   "cell_type": "code",
   "execution_count": 25,
   "metadata": {},
   "outputs": [
    {
     "name": "stdout",
     "output_type": "stream",
     "text": [
      "Digits test accuracy score: 88.7% [train score: 95.0%]\n"
     ]
    }
   ],
   "source": [
    "from sklearn.preprocessing import MinMaxScaler\n",
    "from sklearn.preprocessing import Binarizer\n",
    "from sklearn.neighbors import KNeighborsClassifier\n",
    "\n",
    "scaler = Binarizer()\n",
    "clf = KNeighborsClassifier(n_neighbors=3, metric='euclidean')\n",
    "\n",
    "x_train_scaled = scaler.fit_transform(x_train)\n",
    "x_test_scaled = scaler.transform(x_test)\n",
    "\n",
    "clf.fit(x_train_scaled, y_train)\n",
    "\n",
    "y_train_pred = clf.predict(x_train_scaled)\n",
    "y_test_pred = clf.predict(x_test_scaled)\n",
    "\n",
    "from sklearn.metrics import accuracy_score\n",
    "\n",
    "print(\n",
    "    'Digits test accuracy score: {:.1%} [train score: {:.1%}]'.format(\n",
    "        accuracy_score(y_test, y_test_pred),\n",
    "        accuracy_score(y_train, y_train_pred)\n",
    "    )\n",
    "    \n",
    ")\n"
   ]
  },
  {
   "cell_type": "code",
   "execution_count": 26,
   "metadata": {},
   "outputs": [
    {
     "name": "stderr",
     "output_type": "stream",
     "text": [
      "/Users/tarek/anaconda3/envs/scikitbook/lib/python3.6/site-packages/ipykernel_launcher.py:16: UserWarning: Matplotlib is currently using module://ipykernel.pylab.backend_inline, which is a non-GUI backend, so cannot show the figure.\n",
      "  app.launch_new_instance()\n"
     ]
    },
    {
     "data": {
      "image/png": "[encoded data removed]",
      "text/plain": [
       "<Figure size 1008x360 with 16 Axes>"
      ]
     },
     "metadata": {
      "needs_background": "light"
     },
     "output_type": "display_data"
    }
   ],
   "source": [
    "import random \n",
    "\n",
    "fig, axs = plt.subplots(2, 8, figsize=(14, 5))\n",
    "\n",
    "for i in range(8):\n",
    "    \n",
    "    rand = random.choice(range(y_train.shape[0]))\n",
    "\n",
    "    img_orig = x_train[rand]\n",
    "    img_comp = x_train_scaled[rand]\n",
    "    \n",
    "    display_img(img_orig, y_train[rand], axs[0][i], vmin=None, vmax=None)\n",
    "    display_img(img_comp, y_train[rand], axs[1][i], vmin=None, vmax=None)\n",
    "\n",
    "\n",
    "fig.show()"
   ]
  },
  {
   "cell_type": "code",
   "execution_count": 27,
   "metadata": {},
   "outputs": [],
   "source": [
    "from scipy import ndimage\n",
    "\n",
    "k_sharpen = [[0,-1,0], [-1,5,-1], [0,-1,0]]\n",
    "k_smooth = [[0.1,0.1,0.1],[0.1,0.2,0.1],[0.1,0.1,0.1]]\n",
    "k_wtf = [[1,-1],[-1,0]]\n",
    "k = k_wtf\n",
    "\n",
    "x_train_conv = ndimage.convolve(x_train.reshape((x_train.shape[0], 8, 8)), [k], mode='reflect', cval=0.0) \n",
    "x_test_conv = ndimage.convolve(x_test.reshape((x_test.shape[0], 8, 8)), [k], mode='reflect', cval=0.0)\n",
    "\n",
    "x_train_conv = x_train_conv.reshape(x_train_conv.shape[0], x_train_conv.shape[1]*x_train_conv.shape[2]) \n",
    "x_test_conv = x_test_conv.reshape(x_test_conv.shape[0], x_test_conv.shape[1]*x_test_conv.shape[2]) "
   ]
  },
  {
   "cell_type": "code",
   "execution_count": 28,
   "metadata": {},
   "outputs": [
    {
     "name": "stderr",
     "output_type": "stream",
     "text": [
      "/Users/tarek/anaconda3/envs/scikitbook/lib/python3.6/site-packages/ipykernel_launcher.py:16: UserWarning: Matplotlib is currently using module://ipykernel.pylab.backend_inline, which is a non-GUI backend, so cannot show the figure.\n",
      "  app.launch_new_instance()\n"
     ]
    },
    {
     "data": {
      "image/png": "[encoded data removed]",
      "text/plain": [
       "<Figure size 1008x360 with 16 Axes>"
      ]
     },
     "metadata": {
      "needs_background": "light"
     },
     "output_type": "display_data"
    }
   ],
   "source": [
    "import random \n",
    "\n",
    "fig, axs = plt.subplots(2, 8, figsize=(14, 5))\n",
    "\n",
    "for i in range(8):\n",
    "    \n",
    "    rand = random.choice(range(y_train.shape[0]))\n",
    "\n",
    "    img_orig = x_train[rand]\n",
    "    img_conv = x_train_conv[rand]\n",
    "    \n",
    "    display_img(img_orig, y_train[rand], axs[0][i], vmin=None, vmax=None)\n",
    "    display_img(img_conv, y_train[rand], axs[1][i], vmin=None, vmax=None)\n",
    "\n",
    "\n",
    "fig.show()"
   ]
  },
  {
   "cell_type": "code",
   "execution_count": 29,
   "metadata": {},
   "outputs": [
    {
     "name": "stdout",
     "output_type": "stream",
     "text": [
      "Digits test accuracy score: 97.6% [train score: 99.1%]\n"
     ]
    }
   ],
   "source": [
    "from sklearn.neighbors import KNeighborsClassifier\n",
    "\n",
    "clf = KNeighborsClassifier(n_neighbors=3, metric='euclidean')\n",
    "\n",
    "clf.fit(x_train_conv, y_train)\n",
    "y_train_pred = clf.predict(x_train_conv)\n",
    "y_test_pred = clf.predict(x_test_conv)\n",
    "\n",
    "\n",
    "from sklearn.metrics import accuracy_score\n",
    "\n",
    "print(\n",
    "    'Digits test accuracy score: {:.1%} [train score: {:.1%}]'.format(\n",
    "        accuracy_score(y_test, y_test_pred),\n",
    "        accuracy_score(y_train, y_train_pred)\n",
    "    )\n",
    "    \n",
    ")\n"
   ]
  },
  {
   "cell_type": "code",
   "execution_count": 30,
   "metadata": {},
   "outputs": [
    {
     "name": "stdout",
     "output_type": "stream",
     "text": [
      "Digits test accuracy score: 98.0% [train score: 99.3%]\n"
     ]
    }
   ],
   "source": [
    "from sklearn.neighbors import KNeighborsClassifier\n",
    "\n",
    "clf = KNeighborsClassifier(n_neighbors=3, metric='euclidean')\n",
    "\n",
    "clf.fit(x_train, y_train)\n",
    "y_train_pred = clf.predict(x_train)\n",
    "y_test_pred = clf.predict(x_test)\n",
    "\n",
    "\n",
    "from sklearn.metrics import accuracy_score\n",
    "\n",
    "print(\n",
    "    'Digits test accuracy score: {:.1%} [train score: {:.1%}]'.format(\n",
    "        accuracy_score(y_test, y_test_pred),\n",
    "        accuracy_score(y_train, y_train_pred)\n",
    "    )\n",
    "    \n",
    ")\n"
   ]
  },
  {
   "cell_type": "markdown",
   "metadata": {},
   "source": [
    "## Inverted Image"
   ]
  },
  {
   "cell_type": "code",
   "execution_count": 32,
   "metadata": {},
   "outputs": [
    {
     "name": "stdout",
     "output_type": "stream",
     "text": [
      "Digits test accuracy score: 98.0% [train score: 99.3%]\n"
     ]
    }
   ],
   "source": [
    "from sklearn.metrics import accuracy_score\n",
    "from sklearn.neighbors import KNeighborsClassifier\n",
    "\n",
    "clf = KNeighborsClassifier(n_neighbors=3, metric='euclidean')\n",
    "\n",
    "clf.fit(x_train, y_train)\n",
    "y_train_pred = clf.predict(x_train)\n",
    "y_test_pred = clf.predict(x_test)\n",
    "\n",
    "\n",
    "print(\n",
    "    'Digits test accuracy score: {:.1%} [train score: {:.1%}]'.format(\n",
    "        accuracy_score(y_test, y_test_pred),\n",
    "        accuracy_score(y_train, y_train_pred)\n",
    "    )\n",
    "    \n",
    ")\n"
   ]
  },
  {
   "cell_type": "code",
   "execution_count": 33,
   "metadata": {},
   "outputs": [],
   "source": [
    "x_train_inv = x_train.max() - x_train"
   ]
  },
  {
   "cell_type": "code",
   "execution_count": 34,
   "metadata": {},
   "outputs": [],
   "source": [
    "x_test_inv = x_test.max() - x_test"
   ]
  },
  {
   "cell_type": "code",
   "execution_count": 35,
   "metadata": {},
   "outputs": [
    {
     "data": {
      "text/plain": [
       "array([[16., 16., 14., ...,  0.,  6., 16.],\n",
       "       [16., 16., 14., ..., 10., 16., 16.],\n",
       "       [16., 13.,  0., ...,  8., 13., 16.],\n",
       "       ...,\n",
       "       [16., 16.,  8., ...,  9., 16., 16.],\n",
       "       [16., 16.,  6., ...,  2.,  0.,  1.],\n",
       "       [16., 16.,  8., ..., 16., 16., 16.]])"
      ]
     },
     "execution_count": 35,
     "metadata": {},
     "output_type": "execute_result"
    }
   ],
   "source": [
    "x_train_inv"
   ]
  },
  {
   "cell_type": "code",
   "execution_count": 36,
   "metadata": {},
   "outputs": [
    {
     "ename": "NameError",
     "evalue": "name 'img_inv' is not defined",
     "output_type": "error",
     "traceback": [
      "\u001b[0;31m---------------------------------------------------------------------------\u001b[0m",
      "\u001b[0;31mNameError\u001b[0m                                 Traceback (most recent call last)",
      "\u001b[0;32m<ipython-input-36-0d5a4a2c9cb9>\u001b[0m in \u001b[0;36m<module>\u001b[0;34m\u001b[0m\n\u001b[1;32m      1\u001b[0m \u001b[0mfig\u001b[0m\u001b[0;34m,\u001b[0m \u001b[0maxs\u001b[0m \u001b[0;34m=\u001b[0m \u001b[0mplt\u001b[0m\u001b[0;34m.\u001b[0m\u001b[0msubplots\u001b[0m\u001b[0;34m(\u001b[0m\u001b[0;36m1\u001b[0m\u001b[0;34m,\u001b[0m \u001b[0;36m8\u001b[0m\u001b[0;34m,\u001b[0m \u001b[0mfigsize\u001b[0m\u001b[0;34m=\u001b[0m\u001b[0;34m(\u001b[0m\u001b[0;36m14\u001b[0m\u001b[0;34m,\u001b[0m \u001b[0;36m5\u001b[0m\u001b[0;34m)\u001b[0m\u001b[0;34m)\u001b[0m\u001b[0;34m\u001b[0m\u001b[0;34m\u001b[0m\u001b[0m\n\u001b[1;32m      2\u001b[0m \u001b[0;34m\u001b[0m\u001b[0m\n\u001b[0;32m----> 3\u001b[0;31m \u001b[0mdisplay_img\u001b[0m\u001b[0;34m(\u001b[0m\u001b[0mimg_inv\u001b[0m\u001b[0;34m,\u001b[0m \u001b[0my_train\u001b[0m\u001b[0;34m[\u001b[0m\u001b[0;36m0\u001b[0m\u001b[0;34m]\u001b[0m\u001b[0;34m,\u001b[0m \u001b[0maxs\u001b[0m\u001b[0;34m[\u001b[0m\u001b[0;36m0\u001b[0m\u001b[0;34m]\u001b[0m\u001b[0;34m,\u001b[0m \u001b[0mvmin\u001b[0m\u001b[0;34m=\u001b[0m\u001b[0;32mNone\u001b[0m\u001b[0;34m,\u001b[0m \u001b[0mvmax\u001b[0m\u001b[0;34m=\u001b[0m\u001b[0;32mNone\u001b[0m\u001b[0;34m)\u001b[0m\u001b[0;34m\u001b[0m\u001b[0;34m\u001b[0m\u001b[0m\n\u001b[0m\u001b[1;32m      4\u001b[0m \u001b[0;34m\u001b[0m\u001b[0m\n\u001b[1;32m      5\u001b[0m _, kneighbors_index_inv = clf.kneighbors(\n",
      "\u001b[0;31mNameError\u001b[0m: name 'img_inv' is not defined"
     ]
    },
    {
     "data": {
      "image/png": "[encoded data removed]",
      "text/plain": [
       "<Figure size 1008x360 with 8 Axes>"
      ]
     },
     "metadata": {
      "needs_background": "light"
     },
     "output_type": "display_data"
    }
   ],
   "source": [
    "fig, axs = plt.subplots(1, 8, figsize=(14, 5))\n",
    "\n",
    "display_img(img_inv, y_train[0], axs[0], vmin=None, vmax=None)\n",
    "    \n",
    "_, kneighbors_index_inv = clf.kneighbors(\n",
    "    [x_train_inv[0]], \n",
    "    n_neighbors=7, \n",
    "    return_distance=True\n",
    ")\n",
    "\n",
    "\n",
    "for i, neighbor_index in enumerate(kneighbors_index_inv[0], 1):\n",
    "    \n",
    "    display_img(\n",
    "        x_train[neighbor_index], \n",
    "        y_train[neighbor_index], \n",
    "        axs[i]\n",
    "    )\n",
    "    \n",
    "# Styling\n",
    "\n",
    "\n",
    "for i in range(n_neighbors+1):\n",
    "    \n",
    "    for spline in axs[i].spines.values():\n",
    "        linestyle = '-' if i == 0 else '--'\n",
    "        linewidth = 3 if i == 0 else 1\n",
    "        \n",
    "        spline.set_linestyle(linestyle)\n",
    "        spline.set_linewidth(linewidth)\n",
    "        spline.set_color('k')\n",
    "\n",
    "fig.show()"
   ]
  },
  {
   "cell_type": "code",
   "execution_count": null,
   "metadata": {},
   "outputs": [],
   "source": [
    "import random \n",
    "\n",
    "fig, axs = plt.subplots(2, 8, figsize=(14, 5))\n",
    "\n",
    "rand = 0 # random.choice(range(y_train.shape[0]))\n",
    "\n",
    "img_orig = x_train[rand]\n",
    "img_inv = x_train_inv[rand]\n",
    "\n",
    "display_img(img_orig, y_train[rand], axs[0][0], vmin=None, vmax=None)\n",
    "display_img(img_inv, y_train[rand], axs[1][0], vmin=None, vmax=None)\n",
    "\n",
    "n_neighbors = 7\n",
    "\n",
    "_, kneighbors_index_orig = clf.kneighbors(\n",
    "    [x_train[rand]], \n",
    "    n_neighbors=n_neighbors, \n",
    "    return_distance=True\n",
    ")\n",
    "\n",
    "\n",
    "for i, neighbor_index in enumerate(kneighbors_index_orig[0], 1):\n",
    "\n",
    "    display_img(\n",
    "        x_train[neighbor_index], \n",
    "        y_train[neighbor_index], \n",
    "        axs[0][i]\n",
    "    )\n",
    "    \n",
    "    \n",
    "_, kneighbors_index_inv = clf.kneighbors(\n",
    "    [x_train_inv[rand]], \n",
    "    n_neighbors=n_neighbors, \n",
    "    return_distance=True\n",
    ")\n",
    "\n",
    "\n",
    "for i, neighbor_index in enumerate(kneighbors_index_inv[0], 1):\n",
    "    \n",
    "    display_img(\n",
    "        x_train[neighbor_index], \n",
    "        y_train[neighbor_index], \n",
    "        axs[1][i]\n",
    "    )\n",
    "    \n",
    "# Styling\n",
    "\n",
    "\n",
    "for i in range(n_neighbors+1):\n",
    "    \n",
    "    for spline in axs[0][i].spines.values():\n",
    "        linestyle = '-' if i == 0 else '--'\n",
    "        linewidth = 3 if i == 0 else 1\n",
    "        \n",
    "        spline.set_linestyle(linestyle)\n",
    "        spline.set_linewidth(linewidth)\n",
    "        spline.set_color('k')\n",
    "        \n",
    "    for spline in axs[1][i].spines.values():\n",
    "        linestyle = '-' if i == 0 else '--'\n",
    "        linewidth = 3 if i == 0 else 1\n",
    "        \n",
    "        spline.set_linestyle(linestyle)\n",
    "        spline.set_linewidth(linewidth)\n",
    "        spline.set_color('k')\n",
    "    \n",
    "    \n",
    "\n",
    "\n",
    "fig.show()"
   ]
  },
  {
   "cell_type": "markdown",
   "metadata": {},
   "source": [
    "## Custom Distance"
   ]
  },
  {
   "cell_type": "code",
   "execution_count": null,
   "metadata": {},
   "outputs": [],
   "source": [
    "from sklearn.metrics.pairwise import euclidean_distances\n",
    "\n",
    "def contrast_distance(x1, x2):\n",
    "    _x1, _x2 = np.abs(8 - x1), np.abs(8 - x2)\n",
    "    d = euclidean_distances([_x1], [_x2])\n",
    "    return d[0][0]\n",
    "\n",
    "contrast_distance(x_train[0], x_train[1])"
   ]
  },
  {
   "cell_type": "code",
   "execution_count": null,
   "metadata": {},
   "outputs": [],
   "source": [
    "from sklearn.metrics import accuracy_score\n",
    "from sklearn.neighbors import KNeighborsClassifier\n",
    "\n",
    "clf = KNeighborsClassifier(n_neighbors=3, metric=contrast_distance)\n",
    "\n",
    "clf.fit(x_train, y_train)\n",
    "\n",
    "y_test_pred = clf.predict(x_test)\n",
    "y_test_inv_pred = clf.predict(x_test_inv)\n",
    "\n",
    "\n",
    "print(\n",
    "    'Digits test accuracy score: {:.1%} [invertd test score: {:.1%}]'.format(\n",
    "        accuracy_score(y_test, y_test_pred),\n",
    "        accuracy_score(y_test, y_test_inv_pred)\n",
    "    )\n",
    "    \n",
    ")\n"
   ]
  },
  {
   "cell_type": "code",
   "execution_count": null,
   "metadata": {},
   "outputs": [],
   "source": [
    "import random \n",
    "\n",
    "fig, axs = plt.subplots(2, 8, figsize=(14, 5))\n",
    "\n",
    "rand = 0 # random.choice(range(y_train.shape[0]))\n",
    "\n",
    "img_orig = x_train[rand]\n",
    "img_inv = x_train_inv[rand]\n",
    "\n",
    "display_img(img_orig, y_train[rand], axs[0][0], vmin=None, vmax=None)\n",
    "display_img(img_inv, y_train[rand], axs[1][0], vmin=None, vmax=None)\n",
    "\n",
    "n_neighbors = 7\n",
    "\n",
    "_, kneighbors_index_orig = clf.kneighbors(\n",
    "    [x_train[rand]], \n",
    "    n_neighbors=n_neighbors, \n",
    "    return_distance=True\n",
    ")\n",
    "\n",
    "\n",
    "for i, neighbor_index in enumerate(kneighbors_index_orig[0], 1):\n",
    "\n",
    "    display_img(\n",
    "        x_train[neighbor_index], \n",
    "        y_train[neighbor_index], \n",
    "        axs[0][i]\n",
    "    )\n",
    "    \n",
    "    \n",
    "_, kneighbors_index_inv = clf.kneighbors(\n",
    "    [x_train_inv[rand]], \n",
    "    n_neighbors=n_neighbors, \n",
    "    return_distance=True\n",
    ")\n",
    "\n",
    "\n",
    "for i, neighbor_index in enumerate(kneighbors_index_inv[0], 1):\n",
    "    \n",
    "    display_img(\n",
    "        x_train[neighbor_index], \n",
    "        y_train[neighbor_index], \n",
    "        axs[1][i]\n",
    "    )\n",
    "    \n",
    "# Styling\n",
    "\n",
    "\n",
    "for i in range(n_neighbors+1):\n",
    "    \n",
    "    for spline in axs[0][i].spines.values():\n",
    "        linestyle = '-' if i == 0 else '--'\n",
    "        linewidth = 3 if i == 0 else 1\n",
    "        \n",
    "        spline.set_linestyle(linestyle)\n",
    "        spline.set_linewidth(linewidth)\n",
    "        spline.set_color('k')\n",
    "        \n",
    "    for spline in axs[1][i].spines.values():\n",
    "        linestyle = '-' if i == 0 else '--'\n",
    "        linewidth = 3 if i == 0 else 1\n",
    "        \n",
    "        spline.set_linestyle(linestyle)\n",
    "        spline.set_linewidth(linewidth)\n",
    "        spline.set_color('k')\n",
    "    \n",
    "    \n",
    "\n",
    "\n",
    "fig.show()"
   ]
  },
  {
   "cell_type": "code",
   "execution_count": null,
   "metadata": {},
   "outputs": [],
   "source": []
  },
  {
   "cell_type": "markdown",
   "metadata": {},
   "source": [
    "# KNN Regressor"
   ]
  },
  {
   "cell_type": "code",
   "execution_count": 37,
   "metadata": {},
   "outputs": [],
   "source": [
    "from sklearn.model_selection import train_test_split\n",
    "\n",
    "x, y = digits['data'], digits['target']\n",
    "\n",
    "x_train, x_test, y_train, y_test = train_test_split(x, y)"
   ]
  },
  {
   "cell_type": "code",
   "execution_count": 38,
   "metadata": {},
   "outputs": [
    {
     "name": "stdout",
     "output_type": "stream",
     "text": [
      "MNIST: Accuracy score = 98.7% & MAE = 0.29\n"
     ]
    }
   ],
   "source": [
    "from sklearn.metrics import accuracy_score\n",
    "from sklearn.metrics import mean_squared_error\n",
    "from sklearn.neighbors import KNeighborsClassifier\n",
    "\n",
    "clf = KNeighborsClassifier(n_neighbors=3, metric='euclidean')\n",
    "\n",
    "clf.fit(x_train, y_train)\n",
    "y_test_pred = clf.predict(x_test)\n",
    "\n",
    "print(\n",
    "    'MNIST: Accuracy score = {:.1%} & MAE = {:.2}'.format(\n",
    "        accuracy_score(y_test, y_test_pred),\n",
    "        mean_squared_error(y_test, y_test_pred)\n",
    "    )\n",
    "    \n",
    ")"
   ]
  },
  {
   "cell_type": "code",
   "execution_count": 39,
   "metadata": {},
   "outputs": [
    {
     "name": "stdout",
     "output_type": "stream",
     "text": [
      "MNIST: Accuracy score = 96.4% & MAE = 0.33\n"
     ]
    }
   ],
   "source": [
    "from sklearn.metrics import accuracy_score\n",
    "from sklearn.metrics import mean_squared_error\n",
    "from sklearn.neighbors import KNeighborsRegressor\n",
    "\n",
    "reg = KNeighborsRegressor(n_neighbors=3, metric='euclidean')\n",
    "\n",
    "reg.fit(x_train, y_train)\n",
    "y_test_pred = reg.predict(x_test)\n",
    "y_test_pred_int = y_test_pred.round(0).astype(int)\n",
    "\n",
    "print(\n",
    "    'MNIST: Accuracy score = {:.1%} & MAE = {:.2}'.format(\n",
    "        accuracy_score(y_test, y_test_pred_int),\n",
    "        mean_squared_error(y_test, y_test_pred)\n",
    "    )\n",
    "    \n",
    ")\n"
   ]
  },
  {
   "cell_type": "code",
   "execution_count": 40,
   "metadata": {},
   "outputs": [],
   "source": [
    "df_mnist_rgrsr_pred = pd.DataFrame(\n",
    "    {\n",
    "        'y_test': y_test,\n",
    "        'y_test_pred': y_test_pred,\n",
    "    }\n",
    ")"
   ]
  },
  {
   "cell_type": "code",
   "execution_count": 41,
   "metadata": {},
   "outputs": [
    {
     "data": {
      "text/html": [
       "<div>\n",
       "<style scoped>\n",
       "    .dataframe tbody tr th:only-of-type {\n",
       "        vertical-align: middle;\n",
       "    }\n",
       "\n",
       "    .dataframe tbody tr th {\n",
       "        vertical-align: top;\n",
       "    }\n",
       "\n",
       "    .dataframe thead th {\n",
       "        text-align: right;\n",
       "    }\n",
       "</style>\n",
       "<table border=\"1\" class=\"dataframe\">\n",
       "  <thead>\n",
       "    <tr style=\"text-align: right;\">\n",
       "      <th></th>\n",
       "      <th>y_test</th>\n",
       "      <th>y_test_pred</th>\n",
       "    </tr>\n",
       "  </thead>\n",
       "  <tbody>\n",
       "    <tr>\n",
       "      <th>52</th>\n",
       "      <td>8</td>\n",
       "      <td>8.333333</td>\n",
       "    </tr>\n",
       "    <tr>\n",
       "      <th>309</th>\n",
       "      <td>3</td>\n",
       "      <td>2.666667</td>\n",
       "    </tr>\n",
       "    <tr>\n",
       "      <th>358</th>\n",
       "      <td>1</td>\n",
       "      <td>1.333333</td>\n",
       "    </tr>\n",
       "  </tbody>\n",
       "</table>\n",
       "</div>"
      ],
      "text/plain": [
       "     y_test  y_test_pred\n",
       "52        8     8.333333\n",
       "309       3     2.666667\n",
       "358       1     1.333333"
      ]
     },
     "execution_count": 41,
     "metadata": {},
     "output_type": "execute_result"
    }
   ],
   "source": [
    "df_mnist_rgrsr_pred[\n",
    "    (\n",
    "        np.abs(df_mnist_rgrsr_pred['y_test'] - df_mnist_rgrsr_pred['y_test_pred']) > 0\n",
    "    ) & (\n",
    "        np.abs(df_mnist_rgrsr_pred['y_test'] - df_mnist_rgrsr_pred['y_test_pred']) < 1\n",
    "    )\n",
    "]"
   ]
  },
  {
   "cell_type": "code",
   "execution_count": 42,
   "metadata": {},
   "outputs": [
    {
     "name": "stdout",
     "output_type": "stream",
     "text": [
      "8 8.333333333333334\n",
      "[8 9 8] 8.333333333333334\n",
      "3 2.6666666666666665\n",
      "[3 3 2] 2.6666666666666665\n",
      "1 1.3333333333333333\n",
      "[1 1 2] 1.3333333333333333\n"
     ]
    }
   ],
   "source": [
    "df_mnist_rgrsr_pred_mistakes_idx = df_mnist_rgrsr_pred[\n",
    "    (\n",
    "        np.abs(df_mnist_rgrsr_pred['y_test'] - df_mnist_rgrsr_pred['y_test_pred']) > 0\n",
    "    ) & (\n",
    "        np.abs(df_mnist_rgrsr_pred['y_test'] - df_mnist_rgrsr_pred['y_test_pred']) < 1\n",
    "    )\n",
    "].index.tolist()\n",
    "\n",
    "for i in df_mnist_rgrsr_pred_mistakes_idx:\n",
    "    neighbors = reg.kneighbors(\n",
    "        [x_test[i]], \n",
    "        n_neighbors=3, \n",
    "        return_distance=False\n",
    "    )[0].tolist()\n",
    "    \n",
    "    print(y_test[i], y_test_pred[i])\n",
    "    print(y_train[neighbors], np.mean(y_train[neighbors]))"
   ]
  },
  {
   "cell_type": "code",
   "execution_count": 43,
   "metadata": {},
   "outputs": [
    {
     "name": "stderr",
     "output_type": "stream",
     "text": [
      "/Users/tarek/anaconda3/envs/scikitbook/lib/python3.6/site-packages/ipykernel_launcher.py:18: UserWarning: Matplotlib is currently using module://ipykernel.pylab.backend_inline, which is a non-GUI backend, so cannot show the figure.\n"
     ]
    },
    {
     "data": {
      "image/png": "[encoded data removed]",
      "text/plain": [
       "<Figure size 1152x576 with 2 Axes>"
      ]
     },
     "metadata": {
      "needs_background": "light"
     },
     "output_type": "display_data"
    }
   ],
   "source": [
    "import seaborn as sns\n",
    "from sklearn.metrics import confusion_matrix\n",
    "\n",
    "fig, ax = plt.subplots(1, 1, figsize=(16, 8))\n",
    "\n",
    "cm = confusion_matrix(y_test, y_test_pred_int)\n",
    "sns.heatmap(\n",
    "    cm, cmap='Greys', \n",
    "    annot=True, \n",
    "    fmt=\"d\",\n",
    "    ax=ax\n",
    ") \n",
    "\n",
    "ax.set_title('MNIST')\n",
    "ax.set_xlabel('Predicted Label')\n",
    "ax.set_ylabel('True Label')\n",
    "\n",
    "fig.show()"
   ]
  },
  {
   "cell_type": "markdown",
   "metadata": {},
   "source": [
    "## Digits PCA"
   ]
  },
  {
   "cell_type": "code",
   "execution_count": 44,
   "metadata": {},
   "outputs": [],
   "source": [
    "from sklearn.preprocessing import StandardScaler\n",
    "from sklearn.decomposition import PCA\n",
    "\n",
    "scaler = StandardScaler()\n",
    "pca = PCA(n_components=2)\n",
    "\n",
    "x_train_scaled = scaler.fit_transform(x_train)\n",
    "x_test_scaled = scaler.transform(x_test)\n",
    "\n",
    "x_train_2d = pca.fit_transform(x_train_scaled)\n",
    "x_test_2d = pca.transform(x_test_scaled)"
   ]
  },
  {
   "cell_type": "code",
   "execution_count": 45,
   "metadata": {},
   "outputs": [
    {
     "name": "stderr",
     "output_type": "stream",
     "text": [
      "/Users/tarek/anaconda3/envs/scikitbook/lib/python3.6/site-packages/ipykernel_launcher.py:22: UserWarning: Matplotlib is currently using module://ipykernel.pylab.backend_inline, which is a non-GUI backend, so cannot show the figure.\n"
     ]
    },
    {
     "data": {
      "image/png": "[encoded data removed]",
      "text/plain": [
       "<Figure size 720x720 with 1 Axes>"
      ]
     },
     "metadata": {
      "needs_background": "light"
     },
     "output_type": "display_data"
    }
   ],
   "source": [
    "fig, ax = plt.subplots(1, 1, figsize=(10, 10))\n",
    "\n",
    "for target in set(y_train):\n",
    "    pd.DataFrame(\n",
    "        x_train_2d[\n",
    "            y_train == target\n",
    "        ],\n",
    "        columns=['x', 'y']\n",
    "    ).sample(n=40).plot(\n",
    "        kind='scatter',\n",
    "        x='x',\n",
    "        y='y',\n",
    "        marker=f'${target}$',\n",
    "        s=64,\n",
    "        color='k',\n",
    "        alpha='0.75',\n",
    "        ax=ax,\n",
    "    )\n",
    "    \n",
    "ax.set_title('PCA Digits')\n",
    "\n",
    "fig.show()"
   ]
  },
  {
   "cell_type": "code",
   "execution_count": 46,
   "metadata": {},
   "outputs": [],
   "source": [
    "from sklearn.preprocessing import MinMaxScaler\n",
    "\n",
    "scaler = MinMaxScaler(feature_range=(0, 16))\n",
    "\n",
    "x_train_ipca = pca.inverse_transform(x_train_2d) \n",
    "x_test_ipca = pca.inverse_transform(x_test_2d) \n",
    "\n",
    "x_train_ipca = scaler.fit_transform(x_train_ipca)\n",
    "x_test_ipca = scaler.fit_transform(x_test_ipca)"
   ]
  },
  {
   "cell_type": "code",
   "execution_count": 47,
   "metadata": {},
   "outputs": [
    {
     "name": "stderr",
     "output_type": "stream",
     "text": [
      "/Users/tarek/anaconda3/envs/scikitbook/lib/python3.6/site-packages/ipykernel_launcher.py:16: UserWarning: Matplotlib is currently using module://ipykernel.pylab.backend_inline, which is a non-GUI backend, so cannot show the figure.\n",
      "  app.launch_new_instance()\n"
     ]
    },
    {
     "data": {
      "image/png": "[encoded data removed]",
      "text/plain": [
       "<Figure size 1008x360 with 16 Axes>"
      ]
     },
     "metadata": {
      "needs_background": "light"
     },
     "output_type": "display_data"
    }
   ],
   "source": [
    "import random \n",
    "\n",
    "fig, axs = plt.subplots(2, 8, figsize=(14, 5))\n",
    "\n",
    "for i in range(8):\n",
    "    \n",
    "    rand = random.choice(range(y_train.shape[0]))\n",
    "\n",
    "    img_orig = x_train[rand]\n",
    "    img_comp = x_train_ipca[rand]\n",
    "    \n",
    "    display_img(img_orig, y_train[rand], axs[0][i], vmin=None, vmax=None)\n",
    "    display_img(img_comp, y_train[rand], axs[1][i], vmin=None, vmax=None)\n",
    "\n",
    "\n",
    "fig.show()"
   ]
  },
  {
   "cell_type": "code",
   "execution_count": 48,
   "metadata": {},
   "outputs": [],
   "source": [
    "from sklearn.preprocessing import StandardScaler\n",
    "from sklearn.decomposition import PCA\n",
    "\n",
    "scaler = StandardScaler()\n",
    "\n",
    "pca = PCA()\n",
    "\n",
    "x_train_scaled = scaler.fit_transform(x_train)\n",
    "pca.fit(x_train_scaled)\n",
    "\n",
    "df_explained_variance_ratio = pd.DataFrame(\n",
    "    [\n",
    "        (component, explained_variance_ratio) \n",
    "        for component, explained_variance_ratio in enumerate(pca.explained_variance_ratio_, 1)\n",
    "    ],\n",
    "    columns=['component', 'explained_variance_ratio']\n",
    ")"
   ]
  },
  {
   "cell_type": "code",
   "execution_count": 49,
   "metadata": {},
   "outputs": [
    {
     "name": "stderr",
     "output_type": "stream",
     "text": [
      "/Users/tarek/anaconda3/envs/scikitbook/lib/python3.6/site-packages/ipykernel_launcher.py:8: UserWarning: Matplotlib is currently using module://ipykernel.pylab.backend_inline, which is a non-GUI backend, so cannot show the figure.\n",
      "  \n"
     ]
    },
    {
     "data": {
      "image/png": "[encoded data removed]",
      "text/plain": [
       "<Figure size 1008x360 with 1 Axes>"
      ]
     },
     "metadata": {
      "needs_background": "light"
     },
     "output_type": "display_data"
    }
   ],
   "source": [
    "fig, ax = plt.subplots(1, 1, figsize=(14, 5))\n",
    "\n",
    "df_explained_variance_ratio.set_index('component')['explained_variance_ratio'].plot(\n",
    "    kind='bar',\n",
    "    ax=ax\n",
    ")\n",
    "\n",
    "fig.show()"
   ]
  },
  {
   "cell_type": "code",
   "execution_count": 50,
   "metadata": {},
   "outputs": [],
   "source": [
    "from sklearn.preprocessing import StandardScaler\n",
    "from sklearn.decomposition import PCA\n",
    "\n",
    "scaler = StandardScaler()\n",
    "pca = PCA(n_components=15)\n",
    "\n",
    "x_train_scaled = scaler.fit_transform(x_train)\n",
    "x_test_scaled = scaler.transform(x_test)\n",
    "\n",
    "x_train_pca = pca.fit_transform(x_train_scaled)\n",
    "x_test_pca = pca.transform(x_test_scaled)"
   ]
  },
  {
   "cell_type": "code",
   "execution_count": 51,
   "metadata": {},
   "outputs": [],
   "source": [
    "from sklearn.preprocessing import MinMaxScaler\n",
    "\n",
    "scaler = MinMaxScaler(feature_range=(0, 16))\n",
    "\n",
    "x_train_ipca = pca.inverse_transform(x_train_pca) \n",
    "x_test_ipca = pca.inverse_transform(x_test_pca) \n",
    "\n",
    "x_train_ipca = scaler.fit_transform(x_train_ipca)\n",
    "x_test_ipca = scaler.fit_transform(x_test_ipca)"
   ]
  },
  {
   "cell_type": "code",
   "execution_count": 52,
   "metadata": {},
   "outputs": [
    {
     "name": "stderr",
     "output_type": "stream",
     "text": [
      "/Users/tarek/anaconda3/envs/scikitbook/lib/python3.6/site-packages/ipykernel_launcher.py:16: UserWarning: Matplotlib is currently using module://ipykernel.pylab.backend_inline, which is a non-GUI backend, so cannot show the figure.\n",
      "  app.launch_new_instance()\n"
     ]
    },
    {
     "data": {
      "image/png": "[encoded data removed]",
      "text/plain": [
       "<Figure size 1008x360 with 16 Axes>"
      ]
     },
     "metadata": {
      "needs_background": "light"
     },
     "output_type": "display_data"
    }
   ],
   "source": [
    "import random \n",
    "\n",
    "fig, axs = plt.subplots(2, 8, figsize=(14, 5))\n",
    "\n",
    "for i in range(8):\n",
    "    \n",
    "    rand = random.choice(range(y_train.shape[0]))\n",
    "\n",
    "    img_orig = x_train[rand]\n",
    "    img_comp = x_train_ipca[rand]\n",
    "    \n",
    "    display_img(img_orig, y_train[rand], axs[0][i], vmin=None, vmax=None)\n",
    "    display_img(img_comp, y_train[rand], axs[1][i], vmin=None, vmax=None)\n",
    "\n",
    "\n",
    "fig.show()"
   ]
  },
  {
   "cell_type": "code",
   "execution_count": 53,
   "metadata": {},
   "outputs": [],
   "source": [
    "from sklearn.neighbors import KNeighborsClassifier\n",
    "\n",
    "clf = KNeighborsClassifier(n_neighbors=5)\n",
    "clf.fit(x_train_ipca, y_train)\n",
    "\n",
    "y_train_pred = clf.predict(x_train_ipca)\n",
    "y_test_pred = clf.predict(x_test_ipca)"
   ]
  },
  {
   "cell_type": "code",
   "execution_count": 54,
   "metadata": {},
   "outputs": [
    {
     "name": "stdout",
     "output_type": "stream",
     "text": [
      "Digits test accuracy score: 95.3% [train score: 98.4%]\n"
     ]
    }
   ],
   "source": [
    "from sklearn.metrics import accuracy_score\n",
    "\n",
    "print(\n",
    "    'Digits test accuracy score: {:.1%} [train score: {:.1%}]'.format(\n",
    "        accuracy_score(y_test, y_test_pred),\n",
    "        accuracy_score(y_train, y_train_pred)\n",
    "    )\n",
    "    \n",
    ")"
   ]
  },
  {
   "cell_type": "markdown",
   "metadata": {},
   "source": [
    "# NeighborhoodComponentsAnalysis"
   ]
  },
  {
   "cell_type": "code",
   "execution_count": 55,
   "metadata": {},
   "outputs": [],
   "source": [
    "from sklearn.neighbors import NeighborhoodComponentsAnalysis\n",
    "\n",
    "nca = NeighborhoodComponentsAnalysis(n_components=2)\n",
    "\n",
    "x_train_nca = nca.fit_transform(x_train, y_train)\n",
    "x_test_nca = nca.transform(x_test)"
   ]
  },
  {
   "cell_type": "code",
   "execution_count": 56,
   "metadata": {},
   "outputs": [
    {
     "name": "stderr",
     "output_type": "stream",
     "text": [
      "/Users/tarek/anaconda3/envs/scikitbook/lib/python3.6/site-packages/ipykernel_launcher.py:22: UserWarning: Matplotlib is currently using module://ipykernel.pylab.backend_inline, which is a non-GUI backend, so cannot show the figure.\n"
     ]
    },
    {
     "data": {
      "image/png": "[encoded data removed]",
      "text/plain": [
       "<Figure size 720x720 with 1 Axes>"
      ]
     },
     "metadata": {
      "needs_background": "light"
     },
     "output_type": "display_data"
    }
   ],
   "source": [
    "fig, ax = plt.subplots(1, 1, figsize=(10, 10))\n",
    "\n",
    "for target in set(y_train):\n",
    "    pd.DataFrame(\n",
    "        x_train_nca[\n",
    "            y_train == target\n",
    "        ],\n",
    "        columns=['x', 'y']\n",
    "    ).sample(n=40).plot(\n",
    "        kind='scatter',\n",
    "        x='x',\n",
    "        y='y',\n",
    "        marker=f'${target}$',\n",
    "        s=64,\n",
    "        color='k',\n",
    "        alpha='0.75',\n",
    "        ax=ax,\n",
    "    )\n",
    "    \n",
    "ax.set_title('NeighborhoodComponentsAnalysis Fashion')\n",
    "\n",
    "fig.show()"
   ]
  },
  {
   "cell_type": "code",
   "execution_count": 57,
   "metadata": {},
   "outputs": [],
   "source": [
    "from sklearn.neighbors import NeighborhoodComponentsAnalysis\n",
    "\n",
    "nca = NeighborhoodComponentsAnalysis(n_components=2)\n",
    "\n",
    "x_train_nca = nca.fit_transform(x_train, y_train)\n",
    "x_test_nca = nca.transform(x_test)"
   ]
  },
  {
   "cell_type": "code",
   "execution_count": 58,
   "metadata": {},
   "outputs": [
    {
     "name": "stdout",
     "output_type": "stream",
     "text": [
      "Digits test accuracy score: 72.0% [train score: 90.3%]\n"
     ]
    }
   ],
   "source": [
    "from sklearn.neighbors import KNeighborsClassifier\n",
    "\n",
    "clf = KNeighborsClassifier(n_neighbors=3, weights='uniform')\n",
    "clf.fit(x_train_nca, y_train)\n",
    "\n",
    "y_train_pred = clf.predict(x_train_nca)\n",
    "y_test_pred = clf.predict(x_test_nca)\n",
    "\n",
    "from sklearn.metrics import accuracy_score\n",
    "\n",
    "print(\n",
    "    'Digits test accuracy score: {:.1%} [train score: {:.1%}]'.format(\n",
    "        accuracy_score(y_test, y_test_pred),\n",
    "        accuracy_score(y_train, y_train_pred)\n",
    "    )\n",
    "    \n",
    ")"
   ]
  },
  {
   "cell_type": "code",
   "execution_count": 59,
   "metadata": {},
   "outputs": [
    {
     "name": "stdout",
     "output_type": "stream",
     "text": [
      "Digits test accuracy score: 73.6% [train score: 100.0%]\n"
     ]
    }
   ],
   "source": [
    "from sklearn.neighbors import KNeighborsClassifier\n",
    "\n",
    "clf = KNeighborsClassifier(n_neighbors=5, weights='distance')\n",
    "clf.fit(x_train_nca, y_train)\n",
    "\n",
    "y_train_pred = clf.predict(x_train_nca)\n",
    "y_test_pred = clf.predict(x_test_nca)\n",
    "\n",
    "from sklearn.metrics import accuracy_score\n",
    "\n",
    "print(\n",
    "    'Digits test accuracy score: {:.1%} [train score: {:.1%}]'.format(\n",
    "        accuracy_score(y_test, y_test_pred),\n",
    "        accuracy_score(y_train, y_train_pred)\n",
    "    )\n",
    "    \n",
    ")"
   ]
  },
  {
   "cell_type": "code",
   "execution_count": 60,
   "metadata": {},
   "outputs": [
    {
     "name": "stderr",
     "output_type": "stream",
     "text": [
      "/Users/tarek/anaconda3/envs/scikitbook/lib/python3.6/site-packages/ipykernel_launcher.py:8: UserWarning: Matplotlib is currently using module://ipykernel.pylab.backend_inline, which is a non-GUI backend, so cannot show the figure.\n",
      "  \n"
     ]
    },
    {
     "data": {
      "image/png": "[encoded data removed]",
      "text/plain": [
       "<Figure size 576x576 with 2 Axes>"
      ]
     },
     "metadata": {
      "needs_background": "light"
     },
     "output_type": "display_data"
    }
   ],
   "source": [
    "from sklearn.metrics import plot_confusion_matrix\n",
    "\n",
    "fig, ax = plt.subplots(1, 1, figsize=(8, 8))\n",
    "\n",
    "plot_confusion_matrix(clf, x_test_nca, y_test, cmap='Greys', ax=ax)\n",
    "ax.grid(False)\n",
    "\n",
    "fig.show()"
   ]
  },
  {
   "cell_type": "code",
   "execution_count": 61,
   "metadata": {},
   "outputs": [
    {
     "name": "stdout",
     "output_type": "stream",
     "text": [
      "Digits test accuracy score: 70.4% [train score: 72.0%]\n"
     ]
    }
   ],
   "source": [
    "from sklearn.preprocessing import MinMaxScaler\n",
    "from sklearn.linear_model import LogisticRegression\n",
    "\n",
    "scaler = MinMaxScaler()\n",
    "clf = LogisticRegression(max_iter=1000)\n",
    "\n",
    "x_train_scaled = scaler.fit_transform(x_train_nca)\n",
    "x_test_scaled = scaler.transform(x_test_nca)\n",
    "\n",
    "clf.fit(x_train_scaled, y_train)\n",
    "\n",
    "y_train_pred = clf.predict(x_train_scaled)\n",
    "y_test_pred = clf.predict(x_test_scaled)\n",
    "\n",
    "\n",
    "\n",
    "from sklearn.metrics import accuracy_score\n",
    "\n",
    "print(\n",
    "    'Digits test accuracy score: {:.1%} [train score: {:.1%}]'.format(\n",
    "        accuracy_score(y_test, y_test_pred),\n",
    "        accuracy_score(y_train, y_train_pred)\n",
    "    )\n",
    "    \n",
    ")"
   ]
  },
  {
   "cell_type": "markdown",
   "metadata": {},
   "source": [
    "## Distances "
   ]
  },
  {
   "cell_type": "code",
   "execution_count": 62,
   "metadata": {},
   "outputs": [
    {
     "data": {
      "text/html": [
       "<div>\n",
       "<style scoped>\n",
       "    .dataframe tbody tr th:only-of-type {\n",
       "        vertical-align: middle;\n",
       "    }\n",
       "\n",
       "    .dataframe tbody tr th {\n",
       "        vertical-align: top;\n",
       "    }\n",
       "\n",
       "    .dataframe thead th {\n",
       "        text-align: right;\n",
       "    }\n",
       "</style>\n",
       "<table border=\"1\" class=\"dataframe\">\n",
       "  <thead>\n",
       "    <tr style=\"text-align: right;\">\n",
       "      <th></th>\n",
       "      <th>x1</th>\n",
       "      <th>x2</th>\n",
       "    </tr>\n",
       "  </thead>\n",
       "  <tbody>\n",
       "    <tr>\n",
       "      <th>0</th>\n",
       "      <td>1</td>\n",
       "      <td>2</td>\n",
       "    </tr>\n",
       "    <tr>\n",
       "      <th>1</th>\n",
       "      <td>4</td>\n",
       "      <td>6</td>\n",
       "    </tr>\n",
       "  </tbody>\n",
       "</table>\n",
       "</div>"
      ],
      "text/plain": [
       "   x1  x2\n",
       "0   1   2\n",
       "1   4   6"
      ]
     },
     "execution_count": 62,
     "metadata": {},
     "output_type": "execute_result"
    }
   ],
   "source": [
    "points = pd.DataFrame(\n",
    "    [[1, 2], [4, 6]], columns=['x1', 'x2']\n",
    ")\n",
    "\n",
    "points"
   ]
  },
  {
   "cell_type": "code",
   "execution_count": 63,
   "metadata": {},
   "outputs": [
    {
     "data": {
      "text/plain": [
       "<matplotlib.axes._subplots.AxesSubplot at 0x7fa9b1a6ea58>"
      ]
     },
     "execution_count": 63,
     "metadata": {},
     "output_type": "execute_result"
    },
    {
     "data": {
      "image/png": "[encoded data removed]",
      "text/plain": [
       "<Figure size 432x288 with 1 Axes>"
      ]
     },
     "metadata": {
      "needs_background": "light"
     },
     "output_type": "display_data"
    }
   ],
   "source": [
    "from sklearn.neighbors import DistanceMetric\n",
    "\n",
    "d = [\n",
    "    (p, DistanceMetric.get_metric('minkowski', p=p).pairwise(points)[0][-1])\n",
    "    for p in [1, 2, 10, 50, 100]\n",
    "]\n",
    "\n",
    "pd.DataFrame(d, columns=['P', 'Distance']).set_index('P').plot(\n",
    "    title='Minkowski for different values of p', kind='bar', color='k'\n",
    ")"
   ]
  },
  {
   "cell_type": "code",
   "execution_count": 64,
   "metadata": {},
   "outputs": [
    {
     "data": {
      "text/plain": [
       "(7.0, 5.0)"
      ]
     },
     "execution_count": 64,
     "metadata": {},
     "output_type": "execute_result"
    }
   ],
   "source": [
    "from sklearn.metrics.pairwise import euclidean_distances, manhattan_distances\n",
    "\n",
    "manhattan_distances(points)[0][-1], euclidean_distances(points)[0][-1]"
   ]
  },
  {
   "cell_type": "code",
   "execution_count": 65,
   "metadata": {},
   "outputs": [
    {
     "name": "stderr",
     "output_type": "stream",
     "text": [
      "/Users/tarek/anaconda3/envs/scikitbook/lib/python3.6/site-packages/ipykernel_launcher.py:6: UserWarning: Matplotlib is currently using module://ipykernel.pylab.backend_inline, which is a non-GUI backend, so cannot show the figure.\n",
      "  \n"
     ]
    },
    {
     "data": {
      "image/png": "[encoded data removed]",
      "text/plain": [
       "<Figure size 720x720 with 2 Axes>"
      ]
     },
     "metadata": {
      "needs_background": "light"
     },
     "output_type": "display_data"
    }
   ],
   "source": [
    "fig, axs = plt.subplots(1, 2, figsize=(10, 10))\n",
    "\n",
    "display_img(1.0 * digits['data'][0],  f\"{digits['target'][0]} [Original intensity]\", axs[0])\n",
    "display_img(2.0 * digits['data'][0],  f\"{digits['target'][0]} [2x intensity]\", axs[1])\n",
    "\n",
    "fig.show()"
   ]
  },
  {
   "cell_type": "code",
   "execution_count": 66,
   "metadata": {},
   "outputs": [
    {
     "name": "stdout",
     "output_type": "stream",
     "text": [
      "Manhattan Distances = 294.00, Euclidean Distances = 55.41, Cosine Distances 0.00\n"
     ]
    }
   ],
   "source": [
    "from sklearn.metrics.pairwise import euclidean_distances, manhattan_distances, cosine_distances\n",
    "\n",
    "d0 = manhattan_distances(\n",
    "    [1.0 * digits['data'][0], 2.0 * digits['data'][0]]\n",
    ")[0,1]\n",
    "\n",
    "\n",
    "d1 = euclidean_distances(\n",
    "    [1.0 * digits['data'][0], 2.0 * digits['data'][0]]\n",
    ")[0,1]\n",
    "\n",
    "d2 = cosine_distances(\n",
    "    [1.0 * digits['data'][0], 2.0 * digits['data'][0]]\n",
    ")[0,1]\n",
    "\n",
    "print(\n",
    "    f'Manhattan Distances = {d0:.2f}, Euclidean Distances = {d1:.2f}, Cosine Distances {d2:.2f}'\n",
    ")"
   ]
  },
  {
   "cell_type": "code",
   "execution_count": 67,
   "metadata": {},
   "outputs": [
    {
     "name": "stdout",
     "output_type": "stream",
     "text": [
      "Manhattan Distances = 294.00, Euclidean Distances = 55.41, Cosine Distances 0.00\n"
     ]
    }
   ],
   "source": [
    "from sklearn.metrics.pairwise import paired_distances\n",
    "\n",
    "d0 = paired_distances([1.0 * digits['data'][0]], [2.0 * digits['data'][0]], metric='manhattan')[0]\n",
    "d1 = paired_distances([1.0 * digits['data'][0]], [2.0 * digits['data'][0]], metric='euclidean')[0]\n",
    "d2 = paired_distances([1.0 * digits['data'][0]], [2.0 * digits['data'][0]], metric='cosine')[0]\n",
    "\n",
    "print(\n",
    "    f'Manhattan Distances = {d0:.2f}, Euclidean Distances = {d1:.2f}, Cosine Distances {d2:.2f}'\n",
    ")"
   ]
  },
  {
   "cell_type": "markdown",
   "metadata": {},
   "source": [
    "## Pixel Selection"
   ]
  },
  {
   "cell_type": "code",
   "execution_count": 68,
   "metadata": {},
   "outputs": [],
   "source": [
    "from sklearn.feature_selection import f_classif\n",
    "from sklearn.feature_selection import mutual_info_classif\n",
    "\n",
    "mi = mutual_info_classif(x_train, y_train)"
   ]
  },
  {
   "cell_type": "code",
   "execution_count": 69,
   "metadata": {},
   "outputs": [
    {
     "data": {
      "text/plain": [
       "Text(0.5, 1.0, 'Pixels kept when 75% removed')"
      ]
     },
     "execution_count": 69,
     "metadata": {},
     "output_type": "execute_result"
    },
    {
     "data": {
      "image/png": "[encoded data removed]",
      "text/plain": [
       "<Figure size 432x288 with 1 Axes>"
      ]
     },
     "metadata": {
      "needs_background": "light"
     },
     "output_type": "display_data"
    }
   ],
   "source": [
    "percent_to_remove = 75\n",
    "\n",
    "mi_threshold = np.quantile(mi, 0.01 * percent_to_remove)\n",
    "\n",
    "informative_pixels = (mi >= mi_threshold).reshape((8, 8))\n",
    "\n",
    "plt.imshow(informative_pixels, cmap='Greys')\n",
    "plt.title(f'Pixels kept when {percent_to_remove}% removed')"
   ]
  },
  {
   "cell_type": "code",
   "execution_count": null,
   "metadata": {},
   "outputs": [],
   "source": []
  },
  {
   "cell_type": "code",
   "execution_count": 70,
   "metadata": {},
   "outputs": [
    {
     "name": "stderr",
     "output_type": "stream",
     "text": [
      "/Users/tarek/anaconda3/envs/scikitbook/lib/python3.6/site-packages/ipykernel_launcher.py:19: UserWarning: Matplotlib is currently using module://ipykernel.pylab.backend_inline, which is a non-GUI backend, so cannot show the figure.\n"
     ]
    },
    {
     "data": {
      "image/png": "[encoded data removed]",
      "text/plain": [
       "<Figure size 864x576 with 2 Axes>"
      ]
     },
     "metadata": {
      "needs_background": "light"
     },
     "output_type": "display_data"
    }
   ],
   "source": [
    "fig, axs = plt.subplots(1, 2, figsize=(12, 8))\n",
    "\n",
    "mi_threshold = np.quantile(mi, 0.01 * percent_to_remove)\n",
    "\n",
    "zeros = np.zeros(8*8)\n",
    "\n",
    "informative_pixels = (mi >= mi_threshold).reshape((8, 8))\n",
    "\n",
    "axs[0].imshow(informative_pixels, cmap='Greys')\n",
    "axs[0].set_title(f'Pixels kept when {percent_to_remove}% removed')\n",
    "\n",
    "informative_image = np.copy(x_train[1]) \n",
    "informative_image[mi < mi_threshold] = 0\n",
    "informative_image = informative_image.reshape((8, 8))\n",
    "\n",
    "axs[1].imshow(informative_image, cmap='Greys')\n",
    "axs[1].set_title(f'Pixels kept whe {percent_to_remove}% removed')\n",
    "    \n",
    "fig.show()    "
   ]
  },
  {
   "cell_type": "code",
   "execution_count": 71,
   "metadata": {},
   "outputs": [],
   "source": [
    "from sklearn.feature_selection import mutual_info_classif\n",
    "from sklearn.feature_selection import f_classif\n",
    "from sklearn.feature_selection import SelectPercentile\n",
    "\n",
    "percent_to_keep = 100 - percent_to_remove\n",
    "selector = SelectPercentile(mutual_info_classif, percentile=percent_to_keep)\n",
    "\n",
    "x_train_mi = selector.fit_transform(x_train, y_train)\n",
    "x_test_mi = selector.transform(x_test)"
   ]
  },
  {
   "cell_type": "code",
   "execution_count": 72,
   "metadata": {},
   "outputs": [
    {
     "name": "stdout",
     "output_type": "stream",
     "text": [
      "Shift vs Pullover test accuracy score: 95.3% [train accuracy score: 96.3%]\n"
     ]
    }
   ],
   "source": [
    "from sklearn.metrics import accuracy_score\n",
    "from sklearn.neighbors import KNeighborsClassifier\n",
    "\n",
    "clf = KNeighborsClassifier(n_neighbors=5, metric='cosine', n_jobs=-1)\n",
    "\n",
    "clf.fit(x_train_mi, y_train)\n",
    "\n",
    "y_train_pred = clf.predict(x_train_mi)\n",
    "y_test_pred = clf.predict(x_test_mi)\n",
    "\n",
    "\n",
    "print(\n",
    "    'Shift vs Pullover test accuracy score: {:.1%} [train accuracy score: {:.1%}]'.format(\n",
    "        accuracy_score(y_test, y_test_pred),\n",
    "        accuracy_score(y_train, y_train_pred),\n",
    "    )\n",
    "    \n",
    ")"
   ]
  },
  {
   "cell_type": "code",
   "execution_count": null,
   "metadata": {},
   "outputs": [],
   "source": []
  }
 ],
 "metadata": {
  "kernelspec": {
   "display_name": "Python 3",
   "language": "python",
   "name": "python3"
  },
  "language_info": {
   "codemirror_mode": {
    "name": "ipython",
    "version": 3
   },
   "file_extension": ".py",
   "mimetype": "text/x-python",
   "name": "python",
   "nbconvert_exporter": "python",
   "pygments_lexer": "ipython3",
   "version": "3.6.9"
  }
 },
 "nbformat": 4,
 "nbformat_minor": 2
}
