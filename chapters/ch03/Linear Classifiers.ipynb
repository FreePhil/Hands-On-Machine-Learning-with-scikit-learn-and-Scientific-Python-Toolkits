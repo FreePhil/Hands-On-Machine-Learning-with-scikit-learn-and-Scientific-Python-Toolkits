{
 "cells": [
  {
   "cell_type": "markdown",
   "metadata": {},
   "source": [
    "# Logistic Function"
   ]
  },
  {
   "cell_type": "code",
   "execution_count": null,
   "metadata": {},
   "outputs": [],
   "source": []
  },
  {
   "cell_type": "code",
   "execution_count": null,
   "metadata": {},
   "outputs": [],
   "source": [
    "import numpy as np\n",
    "import pandas as pd\n",
    "\n",
    "fig, ax = plt.subplots(1, 1, figsize=(16, 8))\n",
    "\n",
    "theta = np.arange(-10, 10, 0.05)\n",
    "y = 1 / (1 + np.exp(-1 * theta))\n",
    "\n",
    "pd.DataFrame(\n",
    "    {\n",
    "        'theta': theta,\n",
    "        'y': y\n",
    "    }\n",
    ").plot(\n",
    "    title='Logistic Function', \n",
    "    kind='scatter', x='theta', y='y', \n",
    "    ax=ax\n",
    ")\n",
    "\n",
    "ax.set_yticks(np.arange(0, 1.25, step=0.5))\n",
    "\n",
    "fig.show()"
   ]
  },
  {
   "cell_type": "markdown",
   "metadata": {},
   "source": [
    "# Iris "
   ]
  },
  {
   "cell_type": "code",
   "execution_count": 41,
   "metadata": {},
   "outputs": [],
   "source": [
    "import pandas as pd\n",
    "from sklearn import datasets\n",
    "iris = datasets.load_iris()"
   ]
  },
  {
   "cell_type": "code",
   "execution_count": 42,
   "metadata": {},
   "outputs": [],
   "source": [
    "# It's customary to call a data frame, df\n",
    "df = pd.DataFrame(\n",
    "    iris.data,\n",
    "    columns=iris.feature_names\n",
    ")\n",
    "\n",
    "df['target'] = pd.Series(\n",
    "    iris.target\n",
    ")"
   ]
  },
  {
   "cell_type": "code",
   "execution_count": 43,
   "metadata": {},
   "outputs": [
    {
     "data": {
      "text/html": [
       "<div>\n",
       "<style scoped>\n",
       "    .dataframe tbody tr th:only-of-type {\n",
       "        vertical-align: middle;\n",
       "    }\n",
       "\n",
       "    .dataframe tbody tr th {\n",
       "        vertical-align: top;\n",
       "    }\n",
       "\n",
       "    .dataframe thead th {\n",
       "        text-align: right;\n",
       "    }\n",
       "</style>\n",
       "<table border=\"1\" class=\"dataframe\">\n",
       "  <thead>\n",
       "    <tr style=\"text-align: right;\">\n",
       "      <th></th>\n",
       "      <th>sepal length (cm)</th>\n",
       "      <th>sepal width (cm)</th>\n",
       "      <th>petal length (cm)</th>\n",
       "      <th>petal width (cm)</th>\n",
       "      <th>target</th>\n",
       "    </tr>\n",
       "  </thead>\n",
       "  <tbody>\n",
       "    <tr>\n",
       "      <th>16</th>\n",
       "      <td>5.4</td>\n",
       "      <td>3.9</td>\n",
       "      <td>1.3</td>\n",
       "      <td>0.4</td>\n",
       "      <td>0</td>\n",
       "    </tr>\n",
       "    <tr>\n",
       "      <th>149</th>\n",
       "      <td>5.9</td>\n",
       "      <td>3.0</td>\n",
       "      <td>5.1</td>\n",
       "      <td>1.8</td>\n",
       "      <td>2</td>\n",
       "    </tr>\n",
       "    <tr>\n",
       "      <th>115</th>\n",
       "      <td>6.4</td>\n",
       "      <td>3.2</td>\n",
       "      <td>5.3</td>\n",
       "      <td>2.3</td>\n",
       "      <td>2</td>\n",
       "    </tr>\n",
       "  </tbody>\n",
       "</table>\n",
       "</div>"
      ],
      "text/plain": [
       "     sepal length (cm)  sepal width (cm)  petal length (cm)  petal width (cm)  \\\n",
       "16                 5.4               3.9                1.3               0.4   \n",
       "149                5.9               3.0                5.1               1.8   \n",
       "115                6.4               3.2                5.3               2.3   \n",
       "\n",
       "     target  \n",
       "16        0  \n",
       "149       2  \n",
       "115       2  "
      ]
     },
     "execution_count": 43,
     "metadata": {},
     "output_type": "execute_result"
    }
   ],
   "source": [
    "df.sample(n=3)"
   ]
  },
  {
   "cell_type": "code",
   "execution_count": 44,
   "metadata": {
    "scrolled": false
   },
   "outputs": [
    {
     "name": "stdout",
     "output_type": "stream",
     "text": [
      "Logistic Regression: Accuracy (6-fold): 0.95 ~ 1.00\n"
     ]
    }
   ],
   "source": [
    "from sklearn.linear_model import LogisticRegression\n",
    "from sklearn.model_selection import cross_validate\n",
    "from sklearn.preprocessing import MinMaxScaler\n",
    "\n",
    "clf = LogisticRegression(solver='lbfgs', multi_class='multinomial', max_iter=1000)\n",
    "accuracy_scores = cross_validate(clf, df[iris.feature_names], df['target'], cv=num_folds, scoring=['accuracy'])\n",
    "\n",
    "accuracy_mean = pd.Series(accuracy_scores['test_accuracy']).mean()\n",
    "accuracy_std = pd.Series(accuracy_scores['test_accuracy']).std()\n",
    "accuracy_sterror = accuracy_std / np.sqrt(num_folds)\n",
    "\n",
    "print(\n",
    "    'Logistic Regression: Accuracy ({}-fold): {:.2f} ~ {:.2f}'.format(\n",
    "        num_folds,\n",
    "        (accuracy_mean - 1.96 * accuracy_sterror),\n",
    "        (accuracy_mean + 1.96 * accuracy_sterror),\n",
    "    )\n",
    ")"
   ]
  },
  {
   "cell_type": "code",
   "execution_count": 46,
   "metadata": {},
   "outputs": [
    {
     "name": "stdout",
     "output_type": "stream",
     "text": [
      "Class 0: Intercept = 2.203697707000198 & Coefficients = [-1.40492627  1.56002082 -2.86063347 -2.78713597]\n",
      "Class 1: Intercept = 1.2291506893341533 & Coefficients = [ 0.26135757 -1.43723031  0.41839556 -0.47843834]\n",
      "Class 2: Intercept = -3.432848396334338 & Coefficients = [ 1.1435687  -0.12279052  2.44223791  3.2655743 ]\n"
     ]
    }
   ],
   "source": [
    "from sklearn.preprocessing import MinMaxScaler\n",
    "\n",
    "coef_sign = lambda c: '+' if c >= 0 else '-'\n",
    "\n",
    "clf = LogisticRegression(solver='lbfgs', multi_class='multinomial', max_iter=1000)\n",
    "\n",
    "mms = MinMaxScaler()\n",
    "x_train_scaled = mms.fit_transform(df[iris.feature_names])\n",
    "\n",
    "clf.fit(x_train_scaled, df['target'])\n",
    "\n",
    "for i, (intercept, coefs) in enumerate(zip(clf.intercept_, clf.coef_)):\n",
    "    print(f'Class {i}: Intercept = {intercept} & Coefficients = {coefs}')"
   ]
  },
  {
   "cell_type": "code",
   "execution_count": 48,
   "metadata": {},
   "outputs": [
    {
     "data": {
      "text/html": [
       "<div>\n",
       "<style scoped>\n",
       "    .dataframe tbody tr th:only-of-type {\n",
       "        vertical-align: middle;\n",
       "    }\n",
       "\n",
       "    .dataframe tbody tr th {\n",
       "        vertical-align: top;\n",
       "    }\n",
       "\n",
       "    .dataframe thead th {\n",
       "        text-align: right;\n",
       "    }\n",
       "</style>\n",
       "<table border=\"1\" class=\"dataframe\">\n",
       "  <thead>\n",
       "    <tr style=\"text-align: right;\">\n",
       "      <th></th>\n",
       "      <th>Coef [Class 0]</th>\n",
       "      <th>Coef [Class 1]</th>\n",
       "      <th>Coef [Class 2]</th>\n",
       "    </tr>\n",
       "  </thead>\n",
       "  <tbody>\n",
       "    <tr>\n",
       "      <th>sepal length (cm)</th>\n",
       "      <td>-1.404926</td>\n",
       "      <td>0.261358</td>\n",
       "      <td>1.143569</td>\n",
       "    </tr>\n",
       "    <tr>\n",
       "      <th>sepal width (cm)</th>\n",
       "      <td>1.560021</td>\n",
       "      <td>-1.437230</td>\n",
       "      <td>-0.122791</td>\n",
       "    </tr>\n",
       "    <tr>\n",
       "      <th>petal length (cm)</th>\n",
       "      <td>-2.860633</td>\n",
       "      <td>0.418396</td>\n",
       "      <td>2.442238</td>\n",
       "    </tr>\n",
       "    <tr>\n",
       "      <th>petal width (cm)</th>\n",
       "      <td>-2.787136</td>\n",
       "      <td>-0.478438</td>\n",
       "      <td>3.265574</td>\n",
       "    </tr>\n",
       "    <tr>\n",
       "      <th>intercept</th>\n",
       "      <td>2.203698</td>\n",
       "      <td>1.229151</td>\n",
       "      <td>-3.432848</td>\n",
       "    </tr>\n",
       "  </tbody>\n",
       "</table>\n",
       "</div>"
      ],
      "text/plain": [
       "                   Coef [Class 0]  Coef [Class 1]  Coef [Class 2]\n",
       "sepal length (cm)       -1.404926        0.261358        1.143569\n",
       "sepal width (cm)         1.560021       -1.437230       -0.122791\n",
       "petal length (cm)       -2.860633        0.418396        2.442238\n",
       "petal width (cm)        -2.787136       -0.478438        3.265574\n",
       "intercept                2.203698        1.229151       -3.432848"
      ]
     },
     "execution_count": 48,
     "metadata": {},
     "output_type": "execute_result"
    }
   ],
   "source": [
    "df_coef = pd.DataFrame(\n",
    "    {\n",
    "        f'Coef [Class {class_id}]': clf.coef_[class_id]\n",
    "        for class_id in range(clf.coef_.shape[0])\n",
    "    },\n",
    "    index=iris.feature_names\n",
    ")\n",
    "\n",
    "df_coef.loc['intercept', :] = clf.intercept_\n",
    "df_coef"
   ]
  },
  {
   "cell_type": "code",
   "execution_count": 38,
   "metadata": {},
   "outputs": [
    {
     "name": "stdout",
     "output_type": "stream",
     "text": [
      "Logistic Regression: Accuracy (6-fold): 0.95 ~ 1.00\n"
     ]
    }
   ],
   "source": [
    "from sklearn.linear_model import LogisticRegression\n",
    "from sklearn.model_selection import cross_validate\n",
    "\n",
    "\n",
    "num_folds = 6\n",
    "\n",
    "clf = LogisticRegression(solver='lbfgs', multi_class='multinomial', max_iter=1000)\n",
    "accuracy_scores = cross_validate(clf, df[iris.feature_names], df['target'], cv=num_folds, scoring=['accuracy'])\n",
    "\n",
    "accuracy_mean = pd.Series(accuracy_scores['test_accuracy']).mean()\n",
    "accuracy_std = pd.Series(accuracy_scores['test_accuracy']).std()\n",
    "accuracy_sterror = accuracy_std / np.sqrt(num_folds)\n",
    "\n",
    "print(\n",
    "    'Logistic Regression: Accuracy ({}-fold): {:.2f} ~ {:.2f}'.format(\n",
    "        num_folds,\n",
    "        (accuracy_mean - 1.96 * accuracy_sterror),\n",
    "        (accuracy_mean + 1.96 * accuracy_sterror),\n",
    "    )\n",
    ")"
   ]
  },
  {
   "cell_type": "code",
   "execution_count": 39,
   "metadata": {},
   "outputs": [
    {
     "name": "stdout",
     "output_type": "stream",
     "text": [
      "Decision Tree Classifier: Accuracy (6-fold): 0.93 ~ 0.99\n"
     ]
    }
   ],
   "source": [
    "from sklearn.tree import DecisionTreeClassifier\n",
    "from sklearn.model_selection import cross_validate\n",
    "\n",
    "num_folds = 6\n",
    "\n",
    "clf = DecisionTreeClassifier(max_depth=3)\n",
    "accuracy_scores = cross_validate(clf, df[iris.feature_names], df['target'], cv=num_folds, scoring=['accuracy'])\n",
    "\n",
    "accuracy_mean = pd.Series(accuracy_scores['test_accuracy']).mean()\n",
    "accuracy_std = pd.Series(accuracy_scores['test_accuracy']).std()\n",
    "accuracy_sterror = accuracy_std / np.sqrt(num_folds)\n",
    "\n",
    "print(\n",
    "    'Decision Tree Classifier: Accuracy ({}-fold): {:.2f} ~ {:.2f}'.format(\n",
    "        num_folds,\n",
    "        (accuracy_mean - 1.96 * accuracy_sterror),\n",
    "        (accuracy_mean + 1.96 * accuracy_sterror),\n",
    "    )\n",
    ")"
   ]
  },
  {
   "cell_type": "code",
   "execution_count": 40,
   "metadata": {},
   "outputs": [],
   "source": [
    "# http://www.cse.chalmers.se/~richajo/dit866/lectures/l3/Plotting%20decision%20boundaries.html\n",
    "\n",
    "def plot_decision_boundary(clf, x, y, ax, title):\n",
    "    \n",
    "    cmap='Paired_r'\n",
    "    \n",
    "    feature_names = x.columns\n",
    "    x, y = x.values, y.values\n",
    "    \n",
    "    x_min, x_max = x[:,0].min(), x[:,0].max()\n",
    "    y_min, y_max = x[:,1].min(), x[:,1].max()\n",
    "    \n",
    "    step = 0.02\n",
    "    \n",
    "    xx, yy = np.meshgrid(\n",
    "        np.arange(x_min, x_max, step),\n",
    "        np.arange(y_min, y_max, step)\n",
    "    )\n",
    "    Z = clf.predict(np.c_[xx.ravel(), yy.ravel()])\n",
    "    Z = Z.reshape(xx.shape)\n",
    "\n",
    "    ax.contourf(xx, yy, Z, cmap=cmap, alpha=0.25)\n",
    "    ax.contour(xx, yy, Z, colors='k', linewidths=0.7)\n",
    "    ax.scatter(x[:,0], x[:,1], c=y, edgecolors='k')\n",
    "    ax.set_title(title)\n",
    "    ax.set_xlabel(feature_names[0])\n",
    "    ax.set_ylabel(feature_names[1])"
   ]
  },
  {
   "cell_type": "code",
   "execution_count": 8,
   "metadata": {},
   "outputs": [],
   "source": [
    "from sklearn.model_selection import train_test_split\n",
    "\n",
    "df_train, df_test = train_test_split(df, test_size=0.3, random_state=22)\n",
    "\n",
    "x_train = df_test[iris.feature_names]\n",
    "x_test  = df_test[iris.feature_names]\n",
    "\n",
    "y_train = df_train['target']\n",
    "y_test  = df_test['target']"
   ]
  },
  {
   "cell_type": "code",
   "execution_count": 49,
   "metadata": {},
   "outputs": [
    {
     "name": "stderr",
     "output_type": "stream",
     "text": [
      "/Users/tarek/anaconda3/envs/scikitbook/lib/python3.6/site-packages/sklearn/linear_model/logistic.py:432: FutureWarning: Default solver will be changed to 'lbfgs' in 0.22. Specify a solver to silence this warning.\n",
      "  FutureWarning)\n",
      "/Users/tarek/anaconda3/envs/scikitbook/lib/python3.6/site-packages/sklearn/linear_model/logistic.py:469: FutureWarning: Default multi_class will be changed to 'auto' in 0.22. Specify the multi_class option to silence this warning.\n",
      "  \"this warning.\", FutureWarning)\n",
      "/Users/tarek/anaconda3/envs/scikitbook/lib/python3.6/site-packages/ipykernel_launcher.py:28: UserWarning: Matplotlib is currently using module://ipykernel.pylab.backend_inline, which is a non-GUI backend, so cannot show the figure.\n"
     ]
    },
    {
     "data": {
      "image/png": "[encoded data removed]",
      "text/plain": [
       "<Figure size 864x432 with 2 Axes>"
      ]
     },
     "metadata": {
      "needs_background": "light"
     },
     "output_type": "display_data"
    }
   ],
   "source": [
    "fig, axs = plt.subplots(1, 2, figsize=(12, 6))\n",
    "\n",
    "two_features = ['petal width (cm)', 'petal length (cm)']\n",
    "\n",
    "\n",
    "clf_lr = LogisticRegression()\n",
    "clf_lr.fit(df_train[two_features], df_train['target'])\n",
    "accuracy = accuracy_score(\n",
    "    df_test['target'], \n",
    "    clf_lr.predict(df_test[two_features])\n",
    ")\n",
    "plot_decision_boundary(\n",
    "    clf_lr, df_test[two_features], df_test['target'], ax=axs[0], \n",
    "    title=f'Logistic Regression Classifier\\nAccuracy: {accuracy:.2%}'\n",
    ")\n",
    "\n",
    "clf_dt = DecisionTreeClassifier(max_depth=3)\n",
    "clf_dt.fit(df_train[two_features], df_train['target'])\n",
    "accuracy = accuracy_score(\n",
    "    df_test['target'], \n",
    "    clf_dt.predict(df_test[two_features])\n",
    ")\n",
    "plot_decision_boundary(\n",
    "    clf_dt, df_test[two_features], df_test['target'], ax=axs[1], \n",
    "    title=f'Decision Tree Classifier\\nAccuracy: {accuracy:.2%}'\n",
    ")\n",
    "\n",
    "fig.show()"
   ]
  },
  {
   "cell_type": "code",
   "execution_count": 10,
   "metadata": {},
   "outputs": [
    {
     "name": "stdout",
     "output_type": "stream",
     "text": [
      "Class 0 Boundary: 3.5 - 1.6 * petal width (cm) - 1.0 * petal length (cm)\n",
      "Class 1 Boundary: -1.6 - 0.84 * petal width (cm) + 0.5 * petal length (cm)\n",
      "Class 2 Boundary: -3.7 + 2.1 * petal width (cm) + 0.063 * petal length (cm)\n"
     ]
    }
   ],
   "source": [
    "coef_sign = lambda c: '+' if c >= 0 else '-'\n",
    "\n",
    "for i, coef_pair in enumerate(clf_lr.coef_):\n",
    "    print(\n",
    "        'Class {class_id} Boundary: {intercept} {coef0} {coef1}'.format(\n",
    "            class_id=i,\n",
    "            intercept=f'{clf_lr.intercept_[i]:.2}',\n",
    "            coef0=f'{coef_sign(coef_pair[0])} {abs(coef_pair[0]):.2} * {two_features[0]}',\n",
    "            coef1=f'{coef_sign(coef_pair[1])} {abs(coef_pair[1]):.2} * {two_features[1]}',\n",
    "        )\n",
    "    )"
   ]
  },
  {
   "cell_type": "code",
   "execution_count": null,
   "metadata": {},
   "outputs": [],
   "source": []
  }
 ],
 "metadata": {
  "kernelspec": {
   "display_name": "Python 3",
   "language": "python",
   "name": "python3"
  },
  "language_info": {
   "codemirror_mode": {
    "name": "ipython",
    "version": 3
   },
   "file_extension": ".py",
   "mimetype": "text/x-python",
   "name": "python",
   "nbconvert_exporter": "python",
   "pygments_lexer": "ipython3",
   "version": "3.6.9"
  }
 },
 "nbformat": 4,
 "nbformat_minor": 2
}
