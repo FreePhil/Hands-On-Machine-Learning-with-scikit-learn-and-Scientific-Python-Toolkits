{
 "cells": [
  {
   "cell_type": "markdown",
   "metadata": {},
   "source": [
    "# Multi-target Regression"
   ]
  },
  {
   "cell_type": "code",
   "execution_count": 195,
   "metadata": {},
   "outputs": [],
   "source": [
    "from sklearn.datasets import make_regression\n",
    "\n",
    "x, y = make_regression(\n",
    "    n_samples=500, n_features=8, n_informative=8, n_targets=3, noise=30.0\n",
    ")"
   ]
  },
  {
   "cell_type": "code",
   "execution_count": 196,
   "metadata": {},
   "outputs": [
    {
     "data": {
      "text/plain": [
       "((500, 8), (500, 3))"
      ]
     },
     "execution_count": 196,
     "metadata": {},
     "output_type": "execute_result"
    }
   ],
   "source": [
    "x.shape, y.shape"
   ]
  },
  {
   "cell_type": "code",
   "execution_count": 197,
   "metadata": {},
   "outputs": [
    {
     "data": {
      "text/html": [
       "<div>\n",
       "<style scoped>\n",
       "    .dataframe tbody tr th:only-of-type {\n",
       "        vertical-align: middle;\n",
       "    }\n",
       "\n",
       "    .dataframe tbody tr th {\n",
       "        vertical-align: top;\n",
       "    }\n",
       "\n",
       "    .dataframe thead th {\n",
       "        text-align: right;\n",
       "    }\n",
       "</style>\n",
       "<table border=\"1\" class=\"dataframe\">\n",
       "  <thead>\n",
       "    <tr style=\"text-align: right;\">\n",
       "      <th></th>\n",
       "      <th>Feature # 0</th>\n",
       "      <th>Feature # 1</th>\n",
       "      <th>Feature # 2</th>\n",
       "      <th>Feature # 3</th>\n",
       "      <th>Feature # 4</th>\n",
       "      <th>Feature # 5</th>\n",
       "      <th>Feature # 6</th>\n",
       "      <th>Feature # 7</th>\n",
       "    </tr>\n",
       "  </thead>\n",
       "  <tbody>\n",
       "    <tr>\n",
       "      <th>0</th>\n",
       "      <td>-0.234291</td>\n",
       "      <td>3.410540</td>\n",
       "      <td>-1.055788</td>\n",
       "      <td>1.170131</td>\n",
       "      <td>-0.583787</td>\n",
       "      <td>-0.916505</td>\n",
       "      <td>0.741791</td>\n",
       "      <td>0.712511</td>\n",
       "    </tr>\n",
       "    <tr>\n",
       "      <th>1</th>\n",
       "      <td>1.290357</td>\n",
       "      <td>-0.893547</td>\n",
       "      <td>-0.252787</td>\n",
       "      <td>0.372504</td>\n",
       "      <td>-1.398954</td>\n",
       "      <td>0.714473</td>\n",
       "      <td>0.421053</td>\n",
       "      <td>-0.638882</td>\n",
       "    </tr>\n",
       "    <tr>\n",
       "      <th>2</th>\n",
       "      <td>1.010074</td>\n",
       "      <td>-2.316156</td>\n",
       "      <td>-0.786846</td>\n",
       "      <td>-1.632872</td>\n",
       "      <td>-0.130154</td>\n",
       "      <td>1.121834</td>\n",
       "      <td>-0.036761</td>\n",
       "      <td>0.122820</td>\n",
       "    </tr>\n",
       "    <tr>\n",
       "      <th>3</th>\n",
       "      <td>1.273611</td>\n",
       "      <td>0.146087</td>\n",
       "      <td>0.389042</td>\n",
       "      <td>0.171821</td>\n",
       "      <td>-0.227237</td>\n",
       "      <td>-0.130186</td>\n",
       "      <td>1.246264</td>\n",
       "      <td>0.409828</td>\n",
       "    </tr>\n",
       "    <tr>\n",
       "      <th>4</th>\n",
       "      <td>0.575768</td>\n",
       "      <td>-0.374273</td>\n",
       "      <td>-0.907563</td>\n",
       "      <td>-0.054001</td>\n",
       "      <td>-0.968092</td>\n",
       "      <td>3.412116</td>\n",
       "      <td>0.591016</td>\n",
       "      <td>0.025119</td>\n",
       "    </tr>\n",
       "  </tbody>\n",
       "</table>\n",
       "</div>"
      ],
      "text/plain": [
       "   Feature # 0  Feature # 1  Feature # 2  Feature # 3  Feature # 4  \\\n",
       "0    -0.234291     3.410540    -1.055788     1.170131    -0.583787   \n",
       "1     1.290357    -0.893547    -0.252787     0.372504    -1.398954   \n",
       "2     1.010074    -2.316156    -0.786846    -1.632872    -0.130154   \n",
       "3     1.273611     0.146087     0.389042     0.171821    -0.227237   \n",
       "4     0.575768    -0.374273    -0.907563    -0.054001    -0.968092   \n",
       "\n",
       "   Feature # 5  Feature # 6  Feature # 7  \n",
       "0    -0.916505     0.741791     0.712511  \n",
       "1     0.714473     0.421053    -0.638882  \n",
       "2     1.121834    -0.036761     0.122820  \n",
       "3    -0.130186     1.246264     0.409828  \n",
       "4     3.412116     0.591016     0.025119  "
      ]
     },
     "execution_count": 197,
     "metadata": {},
     "output_type": "execute_result"
    }
   ],
   "source": [
    "feature_names = [f'Feature # {i}' for i in range(x.shape[1])]\n",
    "\n",
    "dfx = pd.DataFrame(\n",
    "    x, columns=feature_names\n",
    ")\n",
    "\n",
    "dfx.head(5)"
   ]
  },
  {
   "cell_type": "code",
   "execution_count": 198,
   "metadata": {},
   "outputs": [
    {
     "data": {
      "text/html": [
       "<div>\n",
       "<style scoped>\n",
       "    .dataframe tbody tr th:only-of-type {\n",
       "        vertical-align: middle;\n",
       "    }\n",
       "\n",
       "    .dataframe tbody tr th {\n",
       "        vertical-align: top;\n",
       "    }\n",
       "\n",
       "    .dataframe thead th {\n",
       "        text-align: right;\n",
       "    }\n",
       "</style>\n",
       "<table border=\"1\" class=\"dataframe\">\n",
       "  <thead>\n",
       "    <tr style=\"text-align: right;\">\n",
       "      <th></th>\n",
       "      <th>Target # 0</th>\n",
       "      <th>Target # 1</th>\n",
       "      <th>Target # 2</th>\n",
       "    </tr>\n",
       "  </thead>\n",
       "  <tbody>\n",
       "    <tr>\n",
       "      <th>0</th>\n",
       "      <td>164.270976</td>\n",
       "      <td>76.500488</td>\n",
       "      <td>332.243261</td>\n",
       "    </tr>\n",
       "    <tr>\n",
       "      <th>1</th>\n",
       "      <td>-93.304859</td>\n",
       "      <td>-54.432572</td>\n",
       "      <td>-109.252772</td>\n",
       "    </tr>\n",
       "    <tr>\n",
       "      <th>2</th>\n",
       "      <td>-67.992018</td>\n",
       "      <td>-146.931883</td>\n",
       "      <td>-284.899534</td>\n",
       "    </tr>\n",
       "    <tr>\n",
       "      <th>3</th>\n",
       "      <td>82.714219</td>\n",
       "      <td>128.460132</td>\n",
       "      <td>151.325199</td>\n",
       "    </tr>\n",
       "    <tr>\n",
       "      <th>4</th>\n",
       "      <td>112.618186</td>\n",
       "      <td>237.370879</td>\n",
       "      <td>0.115468</td>\n",
       "    </tr>\n",
       "  </tbody>\n",
       "</table>\n",
       "</div>"
      ],
      "text/plain": [
       "   Target # 0  Target # 1  Target # 2\n",
       "0  164.270976   76.500488  332.243261\n",
       "1  -93.304859  -54.432572 -109.252772\n",
       "2  -67.992018 -146.931883 -284.899534\n",
       "3   82.714219  128.460132  151.325199\n",
       "4  112.618186  237.370879    0.115468"
      ]
     },
     "execution_count": 198,
     "metadata": {},
     "output_type": "execute_result"
    }
   ],
   "source": [
    "target_names = [f'Target # {i}' for i in range(y.shape[1])]\n",
    "\n",
    "dfy = pd.DataFrame(\n",
    "    y, columns=target_names\n",
    ")\n",
    "\n",
    "dfy.head(5)"
   ]
  },
  {
   "cell_type": "code",
   "execution_count": 199,
   "metadata": {},
   "outputs": [],
   "source": [
    "from sklearn.model_selection import train_test_split\n",
    "\n",
    "x_train, x_test, y_train, y_test = train_test_split(x, y, test_size=0.25)"
   ]
  },
  {
   "cell_type": "code",
   "execution_count": 200,
   "metadata": {},
   "outputs": [
    {
     "data": {
      "text/plain": [
       "((375, 8), (375, 3), (125, 8), (125, 3))"
      ]
     },
     "execution_count": 200,
     "metadata": {},
     "output_type": "execute_result"
    }
   ],
   "source": [
    "x_train.shape, y_train.shape, x_test.shape, y_test.shape"
   ]
  },
  {
   "cell_type": "code",
   "execution_count": 201,
   "metadata": {},
   "outputs": [
    {
     "ename": "ValueError",
     "evalue": "bad input shape (375, 3)",
     "output_type": "error",
     "traceback": [
      "\u001b[0;31m---------------------------------------------------------------------------\u001b[0m",
      "\u001b[0;31mValueError\u001b[0m                                Traceback (most recent call last)",
      "\u001b[0;32m<ipython-input-201-94c98af23d7a>\u001b[0m in \u001b[0;36m<module>\u001b[0;34m\u001b[0m\n\u001b[1;32m      2\u001b[0m \u001b[0;34m\u001b[0m\u001b[0m\n\u001b[1;32m      3\u001b[0m \u001b[0mrgr\u001b[0m \u001b[0;34m=\u001b[0m \u001b[0mSGDRegressor\u001b[0m\u001b[0;34m(\u001b[0m\u001b[0;34m)\u001b[0m\u001b[0;34m\u001b[0m\u001b[0;34m\u001b[0m\u001b[0m\n\u001b[0;32m----> 4\u001b[0;31m \u001b[0mrgr\u001b[0m\u001b[0;34m.\u001b[0m\u001b[0mfit\u001b[0m\u001b[0;34m(\u001b[0m\u001b[0mx_train\u001b[0m\u001b[0;34m,\u001b[0m \u001b[0my_train\u001b[0m\u001b[0;34m)\u001b[0m\u001b[0;34m\u001b[0m\u001b[0;34m\u001b[0m\u001b[0m\n\u001b[0m\u001b[1;32m      5\u001b[0m \u001b[0;34m\u001b[0m\u001b[0m\n\u001b[1;32m      6\u001b[0m \u001b[0my_pred\u001b[0m \u001b[0;34m=\u001b[0m \u001b[0mrgr\u001b[0m\u001b[0;34m.\u001b[0m\u001b[0mpredict\u001b[0m\u001b[0;34m(\u001b[0m\u001b[0mx_test\u001b[0m\u001b[0;34m)\u001b[0m\u001b[0;34m\u001b[0m\u001b[0;34m\u001b[0m\u001b[0m\n",
      "\u001b[0;32m~/anaconda3/envs/scikitbook/lib/python3.6/site-packages/sklearn/linear_model/_stochastic_gradient.py\u001b[0m in \u001b[0;36mfit\u001b[0;34m(self, X, y, coef_init, intercept_init, sample_weight)\u001b[0m\n\u001b[1;32m   1219\u001b[0m                          \u001b[0mcoef_init\u001b[0m\u001b[0;34m=\u001b[0m\u001b[0mcoef_init\u001b[0m\u001b[0;34m,\u001b[0m\u001b[0;34m\u001b[0m\u001b[0;34m\u001b[0m\u001b[0m\n\u001b[1;32m   1220\u001b[0m                          \u001b[0mintercept_init\u001b[0m\u001b[0;34m=\u001b[0m\u001b[0mintercept_init\u001b[0m\u001b[0;34m,\u001b[0m\u001b[0;34m\u001b[0m\u001b[0;34m\u001b[0m\u001b[0m\n\u001b[0;32m-> 1221\u001b[0;31m                          sample_weight=sample_weight)\n\u001b[0m\u001b[1;32m   1222\u001b[0m \u001b[0;34m\u001b[0m\u001b[0m\n\u001b[1;32m   1223\u001b[0m     \u001b[0;32mdef\u001b[0m \u001b[0m_decision_function\u001b[0m\u001b[0;34m(\u001b[0m\u001b[0mself\u001b[0m\u001b[0;34m,\u001b[0m \u001b[0mX\u001b[0m\u001b[0;34m)\u001b[0m\u001b[0;34m:\u001b[0m\u001b[0;34m\u001b[0m\u001b[0;34m\u001b[0m\u001b[0m\n",
      "\u001b[0;32m~/anaconda3/envs/scikitbook/lib/python3.6/site-packages/sklearn/linear_model/_stochastic_gradient.py\u001b[0m in \u001b[0;36m_fit\u001b[0;34m(self, X, y, alpha, C, loss, learning_rate, coef_init, intercept_init, sample_weight)\u001b[0m\n\u001b[1;32m   1179\u001b[0m         self._partial_fit(X, y, alpha, C, loss, learning_rate,\n\u001b[1;32m   1180\u001b[0m                           \u001b[0mself\u001b[0m\u001b[0;34m.\u001b[0m\u001b[0mmax_iter\u001b[0m\u001b[0;34m,\u001b[0m \u001b[0msample_weight\u001b[0m\u001b[0;34m,\u001b[0m \u001b[0mcoef_init\u001b[0m\u001b[0;34m,\u001b[0m\u001b[0;34m\u001b[0m\u001b[0;34m\u001b[0m\u001b[0m\n\u001b[0;32m-> 1181\u001b[0;31m                           intercept_init)\n\u001b[0m\u001b[1;32m   1182\u001b[0m \u001b[0;34m\u001b[0m\u001b[0m\n\u001b[1;32m   1183\u001b[0m         if (self.tol is not None and self.tol > -np.inf\n",
      "\u001b[0;32m~/anaconda3/envs/scikitbook/lib/python3.6/site-packages/sklearn/linear_model/_stochastic_gradient.py\u001b[0m in \u001b[0;36m_partial_fit\u001b[0;34m(self, X, y, alpha, C, loss, learning_rate, max_iter, sample_weight, coef_init, intercept_init)\u001b[0m\n\u001b[1;32m   1100\u001b[0m                      max_iter, sample_weight, coef_init, intercept_init):\n\u001b[1;32m   1101\u001b[0m         X, y = check_X_y(X, y, \"csr\", copy=False, order='C', dtype=np.float64,\n\u001b[0;32m-> 1102\u001b[0;31m                          accept_large_sparse=False)\n\u001b[0m\u001b[1;32m   1103\u001b[0m         \u001b[0my\u001b[0m \u001b[0;34m=\u001b[0m \u001b[0my\u001b[0m\u001b[0;34m.\u001b[0m\u001b[0mastype\u001b[0m\u001b[0;34m(\u001b[0m\u001b[0mnp\u001b[0m\u001b[0;34m.\u001b[0m\u001b[0mfloat64\u001b[0m\u001b[0;34m,\u001b[0m \u001b[0mcopy\u001b[0m\u001b[0;34m=\u001b[0m\u001b[0;32mFalse\u001b[0m\u001b[0;34m)\u001b[0m\u001b[0;34m\u001b[0m\u001b[0;34m\u001b[0m\u001b[0m\n\u001b[1;32m   1104\u001b[0m \u001b[0;34m\u001b[0m\u001b[0m\n",
      "\u001b[0;32m~/anaconda3/envs/scikitbook/lib/python3.6/site-packages/sklearn/utils/validation.py\u001b[0m in \u001b[0;36mcheck_X_y\u001b[0;34m(X, y, accept_sparse, accept_large_sparse, dtype, order, copy, force_all_finite, ensure_2d, allow_nd, multi_output, ensure_min_samples, ensure_min_features, y_numeric, warn_on_dtype, estimator)\u001b[0m\n\u001b[1;32m    742\u001b[0m                         dtype=None)\n\u001b[1;32m    743\u001b[0m     \u001b[0;32melse\u001b[0m\u001b[0;34m:\u001b[0m\u001b[0;34m\u001b[0m\u001b[0;34m\u001b[0m\u001b[0m\n\u001b[0;32m--> 744\u001b[0;31m         \u001b[0my\u001b[0m \u001b[0;34m=\u001b[0m \u001b[0mcolumn_or_1d\u001b[0m\u001b[0;34m(\u001b[0m\u001b[0my\u001b[0m\u001b[0;34m,\u001b[0m \u001b[0mwarn\u001b[0m\u001b[0;34m=\u001b[0m\u001b[0;32mTrue\u001b[0m\u001b[0;34m)\u001b[0m\u001b[0;34m\u001b[0m\u001b[0;34m\u001b[0m\u001b[0m\n\u001b[0m\u001b[1;32m    745\u001b[0m         \u001b[0m_assert_all_finite\u001b[0m\u001b[0;34m(\u001b[0m\u001b[0my\u001b[0m\u001b[0;34m)\u001b[0m\u001b[0;34m\u001b[0m\u001b[0;34m\u001b[0m\u001b[0m\n\u001b[1;32m    746\u001b[0m     \u001b[0;32mif\u001b[0m \u001b[0my_numeric\u001b[0m \u001b[0;32mand\u001b[0m \u001b[0my\u001b[0m\u001b[0;34m.\u001b[0m\u001b[0mdtype\u001b[0m\u001b[0;34m.\u001b[0m\u001b[0mkind\u001b[0m \u001b[0;34m==\u001b[0m \u001b[0;34m'O'\u001b[0m\u001b[0;34m:\u001b[0m\u001b[0;34m\u001b[0m\u001b[0;34m\u001b[0m\u001b[0m\n",
      "\u001b[0;32m~/anaconda3/envs/scikitbook/lib/python3.6/site-packages/sklearn/utils/validation.py\u001b[0m in \u001b[0;36mcolumn_or_1d\u001b[0;34m(y, warn)\u001b[0m\n\u001b[1;32m    779\u001b[0m         \u001b[0;32mreturn\u001b[0m \u001b[0mnp\u001b[0m\u001b[0;34m.\u001b[0m\u001b[0mravel\u001b[0m\u001b[0;34m(\u001b[0m\u001b[0my\u001b[0m\u001b[0;34m)\u001b[0m\u001b[0;34m\u001b[0m\u001b[0;34m\u001b[0m\u001b[0m\n\u001b[1;32m    780\u001b[0m \u001b[0;34m\u001b[0m\u001b[0m\n\u001b[0;32m--> 781\u001b[0;31m     \u001b[0;32mraise\u001b[0m \u001b[0mValueError\u001b[0m\u001b[0;34m(\u001b[0m\u001b[0;34m\"bad input shape {0}\"\u001b[0m\u001b[0;34m.\u001b[0m\u001b[0mformat\u001b[0m\u001b[0;34m(\u001b[0m\u001b[0mshape\u001b[0m\u001b[0;34m)\u001b[0m\u001b[0;34m)\u001b[0m\u001b[0;34m\u001b[0m\u001b[0;34m\u001b[0m\u001b[0m\n\u001b[0m\u001b[1;32m    782\u001b[0m \u001b[0;34m\u001b[0m\u001b[0m\n\u001b[1;32m    783\u001b[0m \u001b[0;34m\u001b[0m\u001b[0m\n",
      "\u001b[0;31mValueError\u001b[0m: bad input shape (375, 3)"
     ]
    }
   ],
   "source": [
    "from sklearn.linear_model import SGDRegressor\n",
    "\n",
    "rgr = SGDRegressor()\n",
    "rgr.fit(x_train, y_train)\n",
    "\n",
    "y_pred = rgr.predict(x_test)"
   ]
  },
  {
   "cell_type": "markdown",
   "metadata": {},
   "source": [
    "## MultiOutput Regressor"
   ]
  },
  {
   "cell_type": "code",
   "execution_count": 213,
   "metadata": {},
   "outputs": [],
   "source": [
    "from sklearn.multioutput import MultiOutputRegressor\n",
    "from sklearn.linear_model import SGDRegressor\n",
    "\n",
    "rgr = MultiOutputRegressor(\n",
    "    estimator=SGDRegressor(), \n",
    "    n_jobs=-1\n",
    ")\n",
    "rgr.fit(x_train, y_train)\n",
    "y_pred = rgr.predict(x_test)"
   ]
  },
  {
   "cell_type": "code",
   "execution_count": 214,
   "metadata": {},
   "outputs": [
    {
     "data": {
      "text/html": [
       "<div>\n",
       "<style scoped>\n",
       "    .dataframe tbody tr th:only-of-type {\n",
       "        vertical-align: middle;\n",
       "    }\n",
       "\n",
       "    .dataframe tbody tr th {\n",
       "        vertical-align: top;\n",
       "    }\n",
       "\n",
       "    .dataframe thead th {\n",
       "        text-align: right;\n",
       "    }\n",
       "</style>\n",
       "<table border=\"1\" class=\"dataframe\">\n",
       "  <thead>\n",
       "    <tr style=\"text-align: right;\">\n",
       "      <th></th>\n",
       "      <th>Target # 0</th>\n",
       "      <th>Target # 1</th>\n",
       "      <th>Target # 2</th>\n",
       "    </tr>\n",
       "  </thead>\n",
       "  <tbody>\n",
       "    <tr>\n",
       "      <th>0</th>\n",
       "      <td>-352.849222</td>\n",
       "      <td>-240.576353</td>\n",
       "      <td>-128.787501</td>\n",
       "    </tr>\n",
       "    <tr>\n",
       "      <th>1</th>\n",
       "      <td>234.181517</td>\n",
       "      <td>66.326261</td>\n",
       "      <td>7.696854</td>\n",
       "    </tr>\n",
       "    <tr>\n",
       "      <th>2</th>\n",
       "      <td>155.231462</td>\n",
       "      <td>45.344622</td>\n",
       "      <td>147.747449</td>\n",
       "    </tr>\n",
       "    <tr>\n",
       "      <th>3</th>\n",
       "      <td>-61.234729</td>\n",
       "      <td>148.834736</td>\n",
       "      <td>-34.593278</td>\n",
       "    </tr>\n",
       "    <tr>\n",
       "      <th>4</th>\n",
       "      <td>189.656469</td>\n",
       "      <td>249.366643</td>\n",
       "      <td>148.917926</td>\n",
       "    </tr>\n",
       "  </tbody>\n",
       "</table>\n",
       "</div>"
      ],
      "text/plain": [
       "   Target # 0  Target # 1  Target # 2\n",
       "0 -352.849222 -240.576353 -128.787501\n",
       "1  234.181517   66.326261    7.696854\n",
       "2  155.231462   45.344622  147.747449\n",
       "3  -61.234729  148.834736  -34.593278\n",
       "4  189.656469  249.366643  148.917926"
      ]
     },
     "execution_count": 214,
     "metadata": {},
     "output_type": "execute_result"
    }
   ],
   "source": [
    "df_pred = pd.DataFrame(\n",
    "    y_pred, columns=[f'Target # {i}' for i in range(y.shape[1])]\n",
    ")\n",
    "\n",
    "df_pred.head(5)"
   ]
  },
  {
   "cell_type": "code",
   "execution_count": 215,
   "metadata": {},
   "outputs": [
    {
     "data": {
      "text/html": [
       "<div>\n",
       "<style scoped>\n",
       "    .dataframe tbody tr th:only-of-type {\n",
       "        vertical-align: middle;\n",
       "    }\n",
       "\n",
       "    .dataframe tbody tr th {\n",
       "        vertical-align: top;\n",
       "    }\n",
       "\n",
       "    .dataframe thead th {\n",
       "        text-align: right;\n",
       "    }\n",
       "</style>\n",
       "<table border=\"1\" class=\"dataframe\">\n",
       "  <thead>\n",
       "    <tr style=\"text-align: right;\">\n",
       "      <th></th>\n",
       "      <th>Target # 0</th>\n",
       "      <th>Target # 1</th>\n",
       "      <th>Target # 2</th>\n",
       "    </tr>\n",
       "  </thead>\n",
       "  <tbody>\n",
       "    <tr>\n",
       "      <th>count</th>\n",
       "      <td>125.000000</td>\n",
       "      <td>125.000000</td>\n",
       "      <td>125.000000</td>\n",
       "    </tr>\n",
       "    <tr>\n",
       "      <th>mean</th>\n",
       "      <td>9.400890</td>\n",
       "      <td>-17.411867</td>\n",
       "      <td>1.804059</td>\n",
       "    </tr>\n",
       "    <tr>\n",
       "      <th>std</th>\n",
       "      <td>145.367035</td>\n",
       "      <td>171.298608</td>\n",
       "      <td>128.944297</td>\n",
       "    </tr>\n",
       "    <tr>\n",
       "      <th>min</th>\n",
       "      <td>-352.849222</td>\n",
       "      <td>-462.809792</td>\n",
       "      <td>-462.164070</td>\n",
       "    </tr>\n",
       "    <tr>\n",
       "      <th>25%</th>\n",
       "      <td>-94.785308</td>\n",
       "      <td>-142.820593</td>\n",
       "      <td>-77.507723</td>\n",
       "    </tr>\n",
       "    <tr>\n",
       "      <th>50%</th>\n",
       "      <td>2.558329</td>\n",
       "      <td>-1.815154</td>\n",
       "      <td>10.825149</td>\n",
       "    </tr>\n",
       "    <tr>\n",
       "      <th>75%</th>\n",
       "      <td>105.954121</td>\n",
       "      <td>100.384961</td>\n",
       "      <td>85.864121</td>\n",
       "    </tr>\n",
       "    <tr>\n",
       "      <th>max</th>\n",
       "      <td>387.934670</td>\n",
       "      <td>450.340257</td>\n",
       "      <td>279.684610</td>\n",
       "    </tr>\n",
       "  </tbody>\n",
       "</table>\n",
       "</div>"
      ],
      "text/plain": [
       "       Target # 0  Target # 1  Target # 2\n",
       "count  125.000000  125.000000  125.000000\n",
       "mean     9.400890  -17.411867    1.804059\n",
       "std    145.367035  171.298608  128.944297\n",
       "min   -352.849222 -462.809792 -462.164070\n",
       "25%    -94.785308 -142.820593  -77.507723\n",
       "50%      2.558329   -1.815154   10.825149\n",
       "75%    105.954121  100.384961   85.864121\n",
       "max    387.934670  450.340257  279.684610"
      ]
     },
     "execution_count": 215,
     "metadata": {},
     "output_type": "execute_result"
    }
   ],
   "source": [
    "df_pred.describe()"
   ]
  },
  {
   "cell_type": "code",
   "execution_count": 216,
   "metadata": {},
   "outputs": [
    {
     "name": "stderr",
     "output_type": "stream",
     "text": [
      "/Users/tarek/anaconda3/envs/scikitbook/lib/python3.6/site-packages/ipykernel_launcher.py:10: UserWarning: Matplotlib is currently using module://ipykernel.pylab.backend_inline, which is a non-GUI backend, so cannot show the figure.\n",
      "  # Remove the CWD from sys.path while we load stuff.\n"
     ]
    },
    {
     "data": {
      "image/png": "[encoded data removed]",
      "text/plain": [
       "<Figure size 1080x576 with 1 Axes>"
      ]
     },
     "metadata": {
      "needs_background": "light"
     },
     "output_type": "display_data"
    }
   ],
   "source": [
    "fig, ax = plt.subplots(1, 1, figsize=(15, 8))\n",
    "\n",
    "df_pred.plot(\n",
    "    title='Predictions',\n",
    "    kind='box',\n",
    "    color='k',\n",
    "    ax=ax\n",
    ")\n",
    "\n",
    "fig.show()"
   ]
  },
  {
   "cell_type": "code",
   "execution_count": 217,
   "metadata": {},
   "outputs": [
    {
     "name": "stdout",
     "output_type": "stream",
     "text": [
      "Target # 0: MAE=32.55, R2=0.846837\n",
      "Target # 1: MAE=24.48, R2=0.882266\n",
      "Target # 2: MAE=19.98, R2=0.903248\n"
     ]
    }
   ],
   "source": [
    "from sklearn.metrics import mean_absolute_error\n",
    "from sklearn.metrics import r2_score\n",
    "\n",
    "for t in range(y_train.shape[1]):\n",
    "    print(\n",
    "        'Target # {}: MAE={:.2f}, R2={:2f}'.format(\n",
    "            t,\n",
    "            mean_absolute_error(y_test[t], y_pred[t]),\n",
    "            r2_score(y_test[t], y_pred[t]),\n",
    "        )\n",
    "    )"
   ]
  },
  {
   "cell_type": "markdown",
   "metadata": {},
   "source": [
    "## Regressor Chain"
   ]
  },
  {
   "cell_type": "code",
   "execution_count": 227,
   "metadata": {},
   "outputs": [],
   "source": [
    "from sklearn.multioutput import RegressorChain\n",
    "from sklearn.linear_model import Ridge\n",
    "\n",
    "rgr = RegressorChain(\n",
    "    base_estimator=Ridge(\n",
    "        alpha=1\n",
    "    ), \n",
    "    order=[0,1,2],\n",
    ")\n",
    "rgr.fit(x_train, y_train)\n",
    "y_pred = rgr.predict(x_test)"
   ]
  },
  {
   "cell_type": "code",
   "execution_count": 228,
   "metadata": {},
   "outputs": [
    {
     "data": {
      "text/html": [
       "<div>\n",
       "<style scoped>\n",
       "    .dataframe tbody tr th:only-of-type {\n",
       "        vertical-align: middle;\n",
       "    }\n",
       "\n",
       "    .dataframe tbody tr th {\n",
       "        vertical-align: top;\n",
       "    }\n",
       "\n",
       "    .dataframe thead th {\n",
       "        text-align: right;\n",
       "    }\n",
       "</style>\n",
       "<table border=\"1\" class=\"dataframe\">\n",
       "  <thead>\n",
       "    <tr style=\"text-align: right;\">\n",
       "      <th></th>\n",
       "      <th>Target # 0</th>\n",
       "      <th>Target # 1</th>\n",
       "      <th>Target # 2</th>\n",
       "    </tr>\n",
       "  </thead>\n",
       "  <tbody>\n",
       "    <tr>\n",
       "      <th>0</th>\n",
       "      <td>-351.864224</td>\n",
       "      <td>-239.843365</td>\n",
       "      <td>-129.064782</td>\n",
       "    </tr>\n",
       "    <tr>\n",
       "      <th>1</th>\n",
       "      <td>233.260203</td>\n",
       "      <td>65.844974</td>\n",
       "      <td>7.903439</td>\n",
       "    </tr>\n",
       "    <tr>\n",
       "      <th>2</th>\n",
       "      <td>154.500346</td>\n",
       "      <td>45.032614</td>\n",
       "      <td>147.340666</td>\n",
       "    </tr>\n",
       "    <tr>\n",
       "      <th>3</th>\n",
       "      <td>-61.021133</td>\n",
       "      <td>148.466974</td>\n",
       "      <td>-34.710983</td>\n",
       "    </tr>\n",
       "    <tr>\n",
       "      <th>4</th>\n",
       "      <td>188.972889</td>\n",
       "      <td>248.470564</td>\n",
       "      <td>148.562350</td>\n",
       "    </tr>\n",
       "  </tbody>\n",
       "</table>\n",
       "</div>"
      ],
      "text/plain": [
       "   Target # 0  Target # 1  Target # 2\n",
       "0 -351.864224 -239.843365 -129.064782\n",
       "1  233.260203   65.844974    7.903439\n",
       "2  154.500346   45.032614  147.340666\n",
       "3  -61.021133  148.466974  -34.710983\n",
       "4  188.972889  248.470564  148.562350"
      ]
     },
     "execution_count": 228,
     "metadata": {},
     "output_type": "execute_result"
    }
   ],
   "source": [
    "df_pred = pd.DataFrame(\n",
    "    y_pred, columns=[f'Target # {i}' for i in range(y.shape[1])]\n",
    ")\n",
    "\n",
    "df_pred.head(5)"
   ]
  },
  {
   "cell_type": "code",
   "execution_count": 229,
   "metadata": {},
   "outputs": [
    {
     "data": {
      "text/html": [
       "<div>\n",
       "<style scoped>\n",
       "    .dataframe tbody tr th:only-of-type {\n",
       "        vertical-align: middle;\n",
       "    }\n",
       "\n",
       "    .dataframe tbody tr th {\n",
       "        vertical-align: top;\n",
       "    }\n",
       "\n",
       "    .dataframe thead th {\n",
       "        text-align: right;\n",
       "    }\n",
       "</style>\n",
       "<table border=\"1\" class=\"dataframe\">\n",
       "  <thead>\n",
       "    <tr style=\"text-align: right;\">\n",
       "      <th></th>\n",
       "      <th>Target # 0</th>\n",
       "      <th>Target # 1</th>\n",
       "      <th>Target # 2</th>\n",
       "    </tr>\n",
       "  </thead>\n",
       "  <tbody>\n",
       "    <tr>\n",
       "      <th>count</th>\n",
       "      <td>125.000000</td>\n",
       "      <td>125.000000</td>\n",
       "      <td>125.000000</td>\n",
       "    </tr>\n",
       "    <tr>\n",
       "      <th>mean</th>\n",
       "      <td>9.373623</td>\n",
       "      <td>-17.300025</td>\n",
       "      <td>1.658148</td>\n",
       "    </tr>\n",
       "    <tr>\n",
       "      <th>std</th>\n",
       "      <td>144.923273</td>\n",
       "      <td>170.741431</td>\n",
       "      <td>128.661459</td>\n",
       "    </tr>\n",
       "    <tr>\n",
       "      <th>min</th>\n",
       "      <td>-351.864224</td>\n",
       "      <td>-461.219592</td>\n",
       "      <td>-461.068821</td>\n",
       "    </tr>\n",
       "    <tr>\n",
       "      <th>25%</th>\n",
       "      <td>-94.453103</td>\n",
       "      <td>-142.563061</td>\n",
       "      <td>-77.597279</td>\n",
       "    </tr>\n",
       "    <tr>\n",
       "      <th>50%</th>\n",
       "      <td>2.679298</td>\n",
       "      <td>-1.673259</td>\n",
       "      <td>10.574097</td>\n",
       "    </tr>\n",
       "    <tr>\n",
       "      <th>75%</th>\n",
       "      <td>105.552622</td>\n",
       "      <td>100.136042</td>\n",
       "      <td>85.742022</td>\n",
       "    </tr>\n",
       "    <tr>\n",
       "      <th>max</th>\n",
       "      <td>386.714170</td>\n",
       "      <td>448.988795</td>\n",
       "      <td>278.463762</td>\n",
       "    </tr>\n",
       "  </tbody>\n",
       "</table>\n",
       "</div>"
      ],
      "text/plain": [
       "       Target # 0  Target # 1  Target # 2\n",
       "count  125.000000  125.000000  125.000000\n",
       "mean     9.373623  -17.300025    1.658148\n",
       "std    144.923273  170.741431  128.661459\n",
       "min   -351.864224 -461.219592 -461.068821\n",
       "25%    -94.453103 -142.563061  -77.597279\n",
       "50%      2.679298   -1.673259   10.574097\n",
       "75%    105.552622  100.136042   85.742022\n",
       "max    386.714170  448.988795  278.463762"
      ]
     },
     "execution_count": 229,
     "metadata": {},
     "output_type": "execute_result"
    }
   ],
   "source": [
    "df_pred.describe()"
   ]
  },
  {
   "cell_type": "code",
   "execution_count": 230,
   "metadata": {},
   "outputs": [
    {
     "name": "stdout",
     "output_type": "stream",
     "text": [
      "Target # 0: MAE=32.54, R2=0.849077\n",
      "Target # 1: MAE=24.41, R2=0.883333\n",
      "Target # 2: MAE=20.25, R2=0.902682\n"
     ]
    }
   ],
   "source": [
    "from sklearn.metrics import mean_absolute_error\n",
    "from sklearn.metrics import r2_score\n",
    "\n",
    "for t in range(y_train.shape[1]):\n",
    "    print(\n",
    "        'Target # {}: MAE={:.2f}, R2={:2f}'.format(\n",
    "            t,\n",
    "            mean_absolute_error(y_test[t], y_pred[t]),\n",
    "            r2_score(y_test[t], y_pred[t]),\n",
    "        )\n",
    "    )"
   ]
  },
  {
   "cell_type": "code",
   "execution_count": 232,
   "metadata": {},
   "outputs": [
    {
     "name": "stdout",
     "output_type": "stream",
     "text": [
      "\n",
      "Estimator for Target # 0:\n",
      "       Coeff      Feature\n",
      "0  47.461634  Feature # 0\n",
      "1  23.712445  Feature # 1\n",
      "2   5.984506  Feature # 2\n",
      "3  69.379341  Feature # 3\n",
      "4  91.024753  Feature # 4\n",
      "5  36.368493  Feature # 5\n",
      "6  34.214164  Feature # 6\n",
      "7  59.575319  Feature # 7\n",
      "\n",
      "Estimator for Target # 1:\n",
      "       Coeff      Feature\n",
      "0  -2.024903  Feature # 0\n",
      "1  26.673123  Feature # 1\n",
      "2  66.621538  Feature # 2\n",
      "3  54.186870  Feature # 3\n",
      "4  21.376981  Feature # 4\n",
      "5  72.187765  Feature # 5\n",
      "6  25.269254  Feature # 6\n",
      "7  87.975019  Feature # 7\n",
      "8   0.094273   Target # 0\n",
      "\n",
      "Estimator for Target # 2:\n",
      "       Coeff      Feature\n",
      "0   9.475401  Feature # 0\n",
      "1  65.654326  Feature # 1\n",
      "2  16.987566  Feature # 2\n",
      "3  22.978893  Feature # 3\n",
      "4  11.515631  Feature # 4\n",
      "5  -6.380563  Feature # 5\n",
      "6  61.695123  Feature # 6\n",
      "7  51.703299  Feature # 7\n",
      "8  -0.057848   Target # 0\n",
      "9   0.165512   Target # 1\n"
     ]
    }
   ],
   "source": [
    "for t, estimator in enumerate(rgr.estimators_):\n",
    "    print(f'\\nEstimator for Target # {t}:')\n",
    "    df_coef = pd.DataFrame(\n",
    "        zip(\n",
    "            rgr.estimators_[t].coef_, \n",
    "            feature_names + target_names\n",
    "        ),\n",
    "        columns=['Coeff', 'Feature']\n",
    "    )\n",
    "    print(df_coef)"
   ]
  },
  {
   "cell_type": "code",
   "execution_count": 235,
   "metadata": {},
   "outputs": [
    {
     "data": {
      "text/html": [
       "<style  type=\"text/css\" >\n",
       "    #T_240f3798_60bc_11ea_a8b0_784f43517922row0_col1 {\n",
       "            width:  10em;\n",
       "             height:  80%;\n",
       "            background:  linear-gradient(90deg,#AAAAAA 52.1%, transparent 52.1%);\n",
       "        }    #T_240f3798_60bc_11ea_a8b0_784f43517922row1_col1 {\n",
       "            width:  10em;\n",
       "             height:  80%;\n",
       "            background:  linear-gradient(90deg,#AAAAAA 26.1%, transparent 26.1%);\n",
       "        }    #T_240f3798_60bc_11ea_a8b0_784f43517922row2_col1 {\n",
       "            width:  10em;\n",
       "             height:  80%;\n",
       "            background:  linear-gradient(90deg,#AAAAAA 6.6%, transparent 6.6%);\n",
       "        }    #T_240f3798_60bc_11ea_a8b0_784f43517922row3_col1 {\n",
       "            width:  10em;\n",
       "             height:  80%;\n",
       "            background:  linear-gradient(90deg,#AAAAAA 76.2%, transparent 76.2%);\n",
       "        }    #T_240f3798_60bc_11ea_a8b0_784f43517922row4_col1 {\n",
       "            width:  10em;\n",
       "             height:  80%;\n",
       "            background:  linear-gradient(90deg,#AAAAAA 100.0%, transparent 100.0%);\n",
       "        }    #T_240f3798_60bc_11ea_a8b0_784f43517922row5_col1 {\n",
       "            width:  10em;\n",
       "             height:  80%;\n",
       "            background:  linear-gradient(90deg,#AAAAAA 40.0%, transparent 40.0%);\n",
       "        }    #T_240f3798_60bc_11ea_a8b0_784f43517922row6_col1 {\n",
       "            width:  10em;\n",
       "             height:  80%;\n",
       "            background:  linear-gradient(90deg,#AAAAAA 37.6%, transparent 37.6%);\n",
       "        }    #T_240f3798_60bc_11ea_a8b0_784f43517922row7_col1 {\n",
       "            width:  10em;\n",
       "             height:  80%;\n",
       "            background:  linear-gradient(90deg,#AAAAAA 65.4%, transparent 65.4%);\n",
       "        }</style><table id=\"T_240f3798_60bc_11ea_a8b0_784f43517922\" ><thead>    <tr>        <th class=\"blank level0\" ></th>        <th class=\"col_heading level0 col0\" >Feature</th>        <th class=\"col_heading level0 col1\" >Coeff</th>    </tr></thead><tbody>\n",
       "                <tr>\n",
       "                        <th id=\"T_240f3798_60bc_11ea_a8b0_784f43517922level0_row0\" class=\"row_heading level0 row0\" >0</th>\n",
       "                        <td id=\"T_240f3798_60bc_11ea_a8b0_784f43517922row0_col0\" class=\"data row0 col0\" >Feature # 0</td>\n",
       "                        <td id=\"T_240f3798_60bc_11ea_a8b0_784f43517922row0_col1\" class=\"data row0 col1\" >47.4616</td>\n",
       "            </tr>\n",
       "            <tr>\n",
       "                        <th id=\"T_240f3798_60bc_11ea_a8b0_784f43517922level0_row1\" class=\"row_heading level0 row1\" >1</th>\n",
       "                        <td id=\"T_240f3798_60bc_11ea_a8b0_784f43517922row1_col0\" class=\"data row1 col0\" >Feature # 1</td>\n",
       "                        <td id=\"T_240f3798_60bc_11ea_a8b0_784f43517922row1_col1\" class=\"data row1 col1\" >23.7124</td>\n",
       "            </tr>\n",
       "            <tr>\n",
       "                        <th id=\"T_240f3798_60bc_11ea_a8b0_784f43517922level0_row2\" class=\"row_heading level0 row2\" >2</th>\n",
       "                        <td id=\"T_240f3798_60bc_11ea_a8b0_784f43517922row2_col0\" class=\"data row2 col0\" >Feature # 2</td>\n",
       "                        <td id=\"T_240f3798_60bc_11ea_a8b0_784f43517922row2_col1\" class=\"data row2 col1\" >5.98451</td>\n",
       "            </tr>\n",
       "            <tr>\n",
       "                        <th id=\"T_240f3798_60bc_11ea_a8b0_784f43517922level0_row3\" class=\"row_heading level0 row3\" >3</th>\n",
       "                        <td id=\"T_240f3798_60bc_11ea_a8b0_784f43517922row3_col0\" class=\"data row3 col0\" >Feature # 3</td>\n",
       "                        <td id=\"T_240f3798_60bc_11ea_a8b0_784f43517922row3_col1\" class=\"data row3 col1\" >69.3793</td>\n",
       "            </tr>\n",
       "            <tr>\n",
       "                        <th id=\"T_240f3798_60bc_11ea_a8b0_784f43517922level0_row4\" class=\"row_heading level0 row4\" >4</th>\n",
       "                        <td id=\"T_240f3798_60bc_11ea_a8b0_784f43517922row4_col0\" class=\"data row4 col0\" >Feature # 4</td>\n",
       "                        <td id=\"T_240f3798_60bc_11ea_a8b0_784f43517922row4_col1\" class=\"data row4 col1\" >91.0248</td>\n",
       "            </tr>\n",
       "            <tr>\n",
       "                        <th id=\"T_240f3798_60bc_11ea_a8b0_784f43517922level0_row5\" class=\"row_heading level0 row5\" >5</th>\n",
       "                        <td id=\"T_240f3798_60bc_11ea_a8b0_784f43517922row5_col0\" class=\"data row5 col0\" >Feature # 5</td>\n",
       "                        <td id=\"T_240f3798_60bc_11ea_a8b0_784f43517922row5_col1\" class=\"data row5 col1\" >36.3685</td>\n",
       "            </tr>\n",
       "            <tr>\n",
       "                        <th id=\"T_240f3798_60bc_11ea_a8b0_784f43517922level0_row6\" class=\"row_heading level0 row6\" >6</th>\n",
       "                        <td id=\"T_240f3798_60bc_11ea_a8b0_784f43517922row6_col0\" class=\"data row6 col0\" >Feature # 6</td>\n",
       "                        <td id=\"T_240f3798_60bc_11ea_a8b0_784f43517922row6_col1\" class=\"data row6 col1\" >34.2142</td>\n",
       "            </tr>\n",
       "            <tr>\n",
       "                        <th id=\"T_240f3798_60bc_11ea_a8b0_784f43517922level0_row7\" class=\"row_heading level0 row7\" >7</th>\n",
       "                        <td id=\"T_240f3798_60bc_11ea_a8b0_784f43517922row7_col0\" class=\"data row7 col0\" >Feature # 7</td>\n",
       "                        <td id=\"T_240f3798_60bc_11ea_a8b0_784f43517922row7_col1\" class=\"data row7 col1\" >59.5753</td>\n",
       "            </tr>\n",
       "    </tbody></table>"
      ],
      "text/plain": [
       "<pandas.io.formats.style.Styler at 0x1a1a4f4898>"
      ]
     },
     "execution_count": 235,
     "metadata": {},
     "output_type": "execute_result"
    }
   ],
   "source": [
    "pd.DataFrame(\n",
    "    zip(\n",
    "        rgr.estimators_[0].coef_, \n",
    "        feature_names + target_names\n",
    "    ),\n",
    "    columns=['Coeff', 'Feature']\n",
    ")[\n",
    "    ['Feature', 'Coeff']\n",
    "].style.bar(\n",
    "    subset=['Coeff'], align='mid', color='#AAAAAA'\n",
    ")"
   ]
  },
  {
   "cell_type": "code",
   "execution_count": 234,
   "metadata": {},
   "outputs": [
    {
     "data": {
      "text/html": [
       "<style  type=\"text/css\" >\n",
       "    #T_1d71b4f4_60bc_11ea_ab97_784f43517922row0_col1 {\n",
       "            width:  10em;\n",
       "             height:  80%;\n",
       "            background:  linear-gradient(90deg, transparent 8.9%, #AAAAAA 8.9%, #AAAAAA 22.0%, transparent 22.0%);\n",
       "        }    #T_1d71b4f4_60bc_11ea_ab97_784f43517922row1_col1 {\n",
       "            width:  10em;\n",
       "             height:  80%;\n",
       "            background:  linear-gradient(90deg, transparent 8.9%, #AAAAAA 8.9%, #AAAAAA 100.0%, transparent 100.0%);\n",
       "        }    #T_1d71b4f4_60bc_11ea_ab97_784f43517922row2_col1 {\n",
       "            width:  10em;\n",
       "             height:  80%;\n",
       "            background:  linear-gradient(90deg, transparent 8.9%, #AAAAAA 8.9%, #AAAAAA 32.4%, transparent 32.4%);\n",
       "        }    #T_1d71b4f4_60bc_11ea_ab97_784f43517922row3_col1 {\n",
       "            width:  10em;\n",
       "             height:  80%;\n",
       "            background:  linear-gradient(90deg, transparent 8.9%, #AAAAAA 8.9%, #AAAAAA 40.8%, transparent 40.8%);\n",
       "        }    #T_1d71b4f4_60bc_11ea_ab97_784f43517922row4_col1 {\n",
       "            width:  10em;\n",
       "             height:  80%;\n",
       "            background:  linear-gradient(90deg, transparent 8.9%, #AAAAAA 8.9%, #AAAAAA 24.8%, transparent 24.8%);\n",
       "        }    #T_1d71b4f4_60bc_11ea_ab97_784f43517922row5_col1 {\n",
       "            width:  10em;\n",
       "             height:  80%;\n",
       "            background:  linear-gradient(90deg,#AAAAAA 8.9%, transparent 8.9%);\n",
       "        }    #T_1d71b4f4_60bc_11ea_ab97_784f43517922row6_col1 {\n",
       "            width:  10em;\n",
       "             height:  80%;\n",
       "            background:  linear-gradient(90deg, transparent 8.9%, #AAAAAA 8.9%, #AAAAAA 94.5%, transparent 94.5%);\n",
       "        }    #T_1d71b4f4_60bc_11ea_ab97_784f43517922row7_col1 {\n",
       "            width:  10em;\n",
       "             height:  80%;\n",
       "            background:  linear-gradient(90deg, transparent 8.9%, #AAAAAA 8.9%, #AAAAAA 80.6%, transparent 80.6%);\n",
       "        }    #T_1d71b4f4_60bc_11ea_ab97_784f43517922row8_col1 {\n",
       "            width:  10em;\n",
       "             height:  80%;\n",
       "            background:  linear-gradient(90deg, transparent 8.8%, #AAAAAA 8.8%, #AAAAAA 8.9%, transparent 8.9%);\n",
       "        }    #T_1d71b4f4_60bc_11ea_ab97_784f43517922row9_col1 {\n",
       "            width:  10em;\n",
       "             height:  80%;\n",
       "            background:  linear-gradient(90deg, transparent 8.9%, #AAAAAA 8.9%, #AAAAAA 9.1%, transparent 9.1%);\n",
       "        }</style><table id=\"T_1d71b4f4_60bc_11ea_ab97_784f43517922\" ><thead>    <tr>        <th class=\"blank level0\" ></th>        <th class=\"col_heading level0 col0\" >Feature</th>        <th class=\"col_heading level0 col1\" >Coeff</th>    </tr></thead><tbody>\n",
       "                <tr>\n",
       "                        <th id=\"T_1d71b4f4_60bc_11ea_ab97_784f43517922level0_row0\" class=\"row_heading level0 row0\" >0</th>\n",
       "                        <td id=\"T_1d71b4f4_60bc_11ea_ab97_784f43517922row0_col0\" class=\"data row0 col0\" >Feature # 0</td>\n",
       "                        <td id=\"T_1d71b4f4_60bc_11ea_ab97_784f43517922row0_col1\" class=\"data row0 col1\" >9.4754</td>\n",
       "            </tr>\n",
       "            <tr>\n",
       "                        <th id=\"T_1d71b4f4_60bc_11ea_ab97_784f43517922level0_row1\" class=\"row_heading level0 row1\" >1</th>\n",
       "                        <td id=\"T_1d71b4f4_60bc_11ea_ab97_784f43517922row1_col0\" class=\"data row1 col0\" >Feature # 1</td>\n",
       "                        <td id=\"T_1d71b4f4_60bc_11ea_ab97_784f43517922row1_col1\" class=\"data row1 col1\" >65.6543</td>\n",
       "            </tr>\n",
       "            <tr>\n",
       "                        <th id=\"T_1d71b4f4_60bc_11ea_ab97_784f43517922level0_row2\" class=\"row_heading level0 row2\" >2</th>\n",
       "                        <td id=\"T_1d71b4f4_60bc_11ea_ab97_784f43517922row2_col0\" class=\"data row2 col0\" >Feature # 2</td>\n",
       "                        <td id=\"T_1d71b4f4_60bc_11ea_ab97_784f43517922row2_col1\" class=\"data row2 col1\" >16.9876</td>\n",
       "            </tr>\n",
       "            <tr>\n",
       "                        <th id=\"T_1d71b4f4_60bc_11ea_ab97_784f43517922level0_row3\" class=\"row_heading level0 row3\" >3</th>\n",
       "                        <td id=\"T_1d71b4f4_60bc_11ea_ab97_784f43517922row3_col0\" class=\"data row3 col0\" >Feature # 3</td>\n",
       "                        <td id=\"T_1d71b4f4_60bc_11ea_ab97_784f43517922row3_col1\" class=\"data row3 col1\" >22.9789</td>\n",
       "            </tr>\n",
       "            <tr>\n",
       "                        <th id=\"T_1d71b4f4_60bc_11ea_ab97_784f43517922level0_row4\" class=\"row_heading level0 row4\" >4</th>\n",
       "                        <td id=\"T_1d71b4f4_60bc_11ea_ab97_784f43517922row4_col0\" class=\"data row4 col0\" >Feature # 4</td>\n",
       "                        <td id=\"T_1d71b4f4_60bc_11ea_ab97_784f43517922row4_col1\" class=\"data row4 col1\" >11.5156</td>\n",
       "            </tr>\n",
       "            <tr>\n",
       "                        <th id=\"T_1d71b4f4_60bc_11ea_ab97_784f43517922level0_row5\" class=\"row_heading level0 row5\" >5</th>\n",
       "                        <td id=\"T_1d71b4f4_60bc_11ea_ab97_784f43517922row5_col0\" class=\"data row5 col0\" >Feature # 5</td>\n",
       "                        <td id=\"T_1d71b4f4_60bc_11ea_ab97_784f43517922row5_col1\" class=\"data row5 col1\" >-6.38056</td>\n",
       "            </tr>\n",
       "            <tr>\n",
       "                        <th id=\"T_1d71b4f4_60bc_11ea_ab97_784f43517922level0_row6\" class=\"row_heading level0 row6\" >6</th>\n",
       "                        <td id=\"T_1d71b4f4_60bc_11ea_ab97_784f43517922row6_col0\" class=\"data row6 col0\" >Feature # 6</td>\n",
       "                        <td id=\"T_1d71b4f4_60bc_11ea_ab97_784f43517922row6_col1\" class=\"data row6 col1\" >61.6951</td>\n",
       "            </tr>\n",
       "            <tr>\n",
       "                        <th id=\"T_1d71b4f4_60bc_11ea_ab97_784f43517922level0_row7\" class=\"row_heading level0 row7\" >7</th>\n",
       "                        <td id=\"T_1d71b4f4_60bc_11ea_ab97_784f43517922row7_col0\" class=\"data row7 col0\" >Feature # 7</td>\n",
       "                        <td id=\"T_1d71b4f4_60bc_11ea_ab97_784f43517922row7_col1\" class=\"data row7 col1\" >51.7033</td>\n",
       "            </tr>\n",
       "            <tr>\n",
       "                        <th id=\"T_1d71b4f4_60bc_11ea_ab97_784f43517922level0_row8\" class=\"row_heading level0 row8\" >8</th>\n",
       "                        <td id=\"T_1d71b4f4_60bc_11ea_ab97_784f43517922row8_col0\" class=\"data row8 col0\" >Target # 0</td>\n",
       "                        <td id=\"T_1d71b4f4_60bc_11ea_ab97_784f43517922row8_col1\" class=\"data row8 col1\" >-0.057848</td>\n",
       "            </tr>\n",
       "            <tr>\n",
       "                        <th id=\"T_1d71b4f4_60bc_11ea_ab97_784f43517922level0_row9\" class=\"row_heading level0 row9\" >9</th>\n",
       "                        <td id=\"T_1d71b4f4_60bc_11ea_ab97_784f43517922row9_col0\" class=\"data row9 col0\" >Target # 1</td>\n",
       "                        <td id=\"T_1d71b4f4_60bc_11ea_ab97_784f43517922row9_col1\" class=\"data row9 col1\" >0.165512</td>\n",
       "            </tr>\n",
       "    </tbody></table>"
      ],
      "text/plain": [
       "<pandas.io.formats.style.Styler at 0x1a1a4f4cf8>"
      ]
     },
     "execution_count": 234,
     "metadata": {},
     "output_type": "execute_result"
    }
   ],
   "source": [
    "pd.DataFrame(\n",
    "    zip(\n",
    "        rgr.estimators_[-1].coef_, \n",
    "        feature_names + target_names\n",
    "    ),\n",
    "    columns=['Coeff', 'Feature']\n",
    ")[\n",
    "    ['Feature', 'Coeff']\n",
    "].style.bar(\n",
    "    subset=['Coeff'], align='mid', color='#AAAAAA'\n",
    ")"
   ]
  },
  {
   "cell_type": "markdown",
   "metadata": {},
   "source": [
    "# Multi-target Regression\n"
   ]
  },
  {
   "cell_type": "markdown",
   "metadata": {},
   "source": [
    "**Multiclass classification:** classification task with more than two classes. Each sample can only be labelled as one class. For example, classification using features extracted from a set of images of fruit, where each image may either be of an orange, an apple, or a pear. Each image is one sample and is labelled as one of the 3 possible classes. \n",
    "\n",
    "**Multilabel classification:** classification task labelling each sample with x labels from n_classes. For example, prediction of the topics relevant to a text document or video. The document or video may be about one of ‘religion’, ‘politics’, ‘finance’ or ‘education’, several of the topic classes or all of the topic classes."
   ]
  },
  {
   "cell_type": "code",
   "execution_count": 309,
   "metadata": {},
   "outputs": [],
   "source": [
    "from sklearn.datasets import make_multilabel_classification\n",
    "\n",
    "x, y = make_multilabel_classification(\n",
    "    n_samples=500, n_features=8, n_classes=3, n_labels=2\n",
    ")"
   ]
  },
  {
   "cell_type": "code",
   "execution_count": 310,
   "metadata": {},
   "outputs": [
    {
     "data": {
      "text/plain": [
       "((500, 8), (500, 3))"
      ]
     },
     "execution_count": 310,
     "metadata": {},
     "output_type": "execute_result"
    }
   ],
   "source": [
    "x.shape, y.shape"
   ]
  },
  {
   "cell_type": "code",
   "execution_count": 320,
   "metadata": {},
   "outputs": [],
   "source": [
    "y[:,-1] = y[:,0]"
   ]
  },
  {
   "cell_type": "code",
   "execution_count": 321,
   "metadata": {},
   "outputs": [],
   "source": [
    "feature_names = [f'Feature # {i}' for i in range(x.shape[1])]\n",
    "target_names = [f'Target # {i}' for i in range(y.shape[1])]"
   ]
  },
  {
   "cell_type": "code",
   "execution_count": 322,
   "metadata": {},
   "outputs": [],
   "source": [
    "from sklearn.model_selection import train_test_split\n",
    "\n",
    "x_train, x_test, y_train, y_test = train_test_split(x, y, test_size=0.25)"
   ]
  },
  {
   "cell_type": "code",
   "execution_count": 323,
   "metadata": {},
   "outputs": [
    {
     "ename": "ValueError",
     "evalue": "bad input shape (375, 3)",
     "output_type": "error",
     "traceback": [
      "\u001b[0;31m---------------------------------------------------------------------------\u001b[0m",
      "\u001b[0;31mValueError\u001b[0m                                Traceback (most recent call last)",
      "\u001b[0;32m<ipython-input-323-812cf83af533>\u001b[0m in \u001b[0;36m<module>\u001b[0;34m\u001b[0m\n\u001b[1;32m      2\u001b[0m \u001b[0;34m\u001b[0m\u001b[0m\n\u001b[1;32m      3\u001b[0m \u001b[0mclf\u001b[0m \u001b[0;34m=\u001b[0m \u001b[0mGradientBoostingClassifier\u001b[0m\u001b[0;34m(\u001b[0m\u001b[0;34m)\u001b[0m\u001b[0;34m\u001b[0m\u001b[0;34m\u001b[0m\u001b[0m\n\u001b[0;32m----> 4\u001b[0;31m \u001b[0mclf\u001b[0m\u001b[0;34m.\u001b[0m\u001b[0mfit\u001b[0m\u001b[0;34m(\u001b[0m\u001b[0mx_train\u001b[0m\u001b[0;34m,\u001b[0m \u001b[0my_train\u001b[0m\u001b[0;34m)\u001b[0m\u001b[0;34m\u001b[0m\u001b[0;34m\u001b[0m\u001b[0m\n\u001b[0m\u001b[1;32m      5\u001b[0m \u001b[0my_pred\u001b[0m \u001b[0;34m=\u001b[0m \u001b[0mclf\u001b[0m\u001b[0;34m.\u001b[0m\u001b[0mpredict\u001b[0m\u001b[0;34m(\u001b[0m\u001b[0mx_test\u001b[0m\u001b[0;34m)\u001b[0m\u001b[0;34m\u001b[0m\u001b[0;34m\u001b[0m\u001b[0m\n",
      "\u001b[0;32m~/anaconda3/envs/scikitbook/lib/python3.6/site-packages/sklearn/ensemble/_gb.py\u001b[0m in \u001b[0;36mfit\u001b[0;34m(self, X, y, sample_weight, monitor)\u001b[0m\n\u001b[1;32m   1452\u001b[0m \u001b[0;34m\u001b[0m\u001b[0m\n\u001b[1;32m   1453\u001b[0m         \u001b[0my\u001b[0m \u001b[0;34m=\u001b[0m \u001b[0mcheck_array\u001b[0m\u001b[0;34m(\u001b[0m\u001b[0my\u001b[0m\u001b[0;34m,\u001b[0m \u001b[0maccept_sparse\u001b[0m\u001b[0;34m=\u001b[0m\u001b[0;34m'csc'\u001b[0m\u001b[0;34m,\u001b[0m \u001b[0mensure_2d\u001b[0m\u001b[0;34m=\u001b[0m\u001b[0;32mFalse\u001b[0m\u001b[0;34m,\u001b[0m \u001b[0mdtype\u001b[0m\u001b[0;34m=\u001b[0m\u001b[0;32mNone\u001b[0m\u001b[0;34m)\u001b[0m\u001b[0;34m\u001b[0m\u001b[0;34m\u001b[0m\u001b[0m\n\u001b[0;32m-> 1454\u001b[0;31m         \u001b[0my\u001b[0m \u001b[0;34m=\u001b[0m \u001b[0mcolumn_or_1d\u001b[0m\u001b[0;34m(\u001b[0m\u001b[0my\u001b[0m\u001b[0;34m,\u001b[0m \u001b[0mwarn\u001b[0m\u001b[0;34m=\u001b[0m\u001b[0;32mTrue\u001b[0m\u001b[0;34m)\u001b[0m\u001b[0;34m\u001b[0m\u001b[0;34m\u001b[0m\u001b[0m\n\u001b[0m\u001b[1;32m   1455\u001b[0m         \u001b[0my\u001b[0m \u001b[0;34m=\u001b[0m \u001b[0mself\u001b[0m\u001b[0;34m.\u001b[0m\u001b[0m_validate_y\u001b[0m\u001b[0;34m(\u001b[0m\u001b[0my\u001b[0m\u001b[0;34m,\u001b[0m \u001b[0msample_weight\u001b[0m\u001b[0;34m)\u001b[0m\u001b[0;34m\u001b[0m\u001b[0;34m\u001b[0m\u001b[0m\n\u001b[1;32m   1456\u001b[0m \u001b[0;34m\u001b[0m\u001b[0m\n",
      "\u001b[0;32m~/anaconda3/envs/scikitbook/lib/python3.6/site-packages/sklearn/utils/validation.py\u001b[0m in \u001b[0;36mcolumn_or_1d\u001b[0;34m(y, warn)\u001b[0m\n\u001b[1;32m    779\u001b[0m         \u001b[0;32mreturn\u001b[0m \u001b[0mnp\u001b[0m\u001b[0;34m.\u001b[0m\u001b[0mravel\u001b[0m\u001b[0;34m(\u001b[0m\u001b[0my\u001b[0m\u001b[0;34m)\u001b[0m\u001b[0;34m\u001b[0m\u001b[0;34m\u001b[0m\u001b[0m\n\u001b[1;32m    780\u001b[0m \u001b[0;34m\u001b[0m\u001b[0m\n\u001b[0;32m--> 781\u001b[0;31m     \u001b[0;32mraise\u001b[0m \u001b[0mValueError\u001b[0m\u001b[0;34m(\u001b[0m\u001b[0;34m\"bad input shape {0}\"\u001b[0m\u001b[0;34m.\u001b[0m\u001b[0mformat\u001b[0m\u001b[0;34m(\u001b[0m\u001b[0mshape\u001b[0m\u001b[0;34m)\u001b[0m\u001b[0;34m)\u001b[0m\u001b[0;34m\u001b[0m\u001b[0;34m\u001b[0m\u001b[0m\n\u001b[0m\u001b[1;32m    782\u001b[0m \u001b[0;34m\u001b[0m\u001b[0m\n\u001b[1;32m    783\u001b[0m \u001b[0;34m\u001b[0m\u001b[0m\n",
      "\u001b[0;31mValueError\u001b[0m: bad input shape (375, 3)"
     ]
    }
   ],
   "source": [
    "from sklearn.ensemble import GradientBoostingClassifier\n",
    "\n",
    "clf = GradientBoostingClassifier()\n",
    "clf.fit(x_train, y_train)\n",
    "y_pred = clf.predict(x_test)"
   ]
  },
  {
   "cell_type": "code",
   "execution_count": 324,
   "metadata": {},
   "outputs": [],
   "source": [
    "from sklearn.multioutput import MultiOutputClassifier\n",
    "from sklearn.ensemble import GradientBoostingClassifier\n",
    "\n",
    "clf = MultiOutputClassifier(\n",
    "    estimator=GradientBoostingClassifier(\n",
    "        n_estimators=500,\n",
    "        learning_rate=0.01,\n",
    "        subsample=0.8,\n",
    "    ),\n",
    "    n_jobs=-1\n",
    ")\n",
    "clf.fit(x_train, y_train)\n",
    "y_pred_multioutput = clf.predict(x_test)"
   ]
  },
  {
   "cell_type": "code",
   "execution_count": 325,
   "metadata": {},
   "outputs": [],
   "source": [
    "from sklearn.multioutput import ClassifierChain\n",
    "from sklearn.ensemble import GradientBoostingClassifier\n",
    "\n",
    "clf = ClassifierChain(\n",
    "    base_estimator=GradientBoostingClassifier(\n",
    "        n_estimators=500,\n",
    "        learning_rate=0.01,\n",
    "        subsample=0.8,\n",
    "    ),\n",
    "    order=[0,1,2]\n",
    ")\n",
    "clf.fit(x_train, y_train)\n",
    "y_pred_chain = clf.predict(x_test)"
   ]
  },
  {
   "cell_type": "code",
   "execution_count": 328,
   "metadata": {},
   "outputs": [
    {
     "data": {
      "text/html": [
       "<style  type=\"text/css\" >\n",
       "    #T_e52d7a86_60c2_11ea_889f_784f43517922row0_col1 {\n",
       "            width:  10em;\n",
       "             height:  80%;\n",
       "            background:  linear-gradient(90deg,#AAAAAA 93.4%, transparent 93.4%);\n",
       "        }    #T_e52d7a86_60c2_11ea_889f_784f43517922row1_col1 {\n",
       "            width:  10em;\n",
       "             height:  80%;\n",
       "            background:  linear-gradient(90deg,#AAAAAA 100.0%, transparent 100.0%);\n",
       "        }    #T_e52d7a86_60c2_11ea_889f_784f43517922row2_col1 {\n",
       "            width:  10em;\n",
       "             height:  80%;\n",
       "            background:  linear-gradient(90deg,#AAAAAA 12.7%, transparent 12.7%);\n",
       "        }    #T_e52d7a86_60c2_11ea_889f_784f43517922row3_col1 {\n",
       "            width:  10em;\n",
       "             height:  80%;\n",
       "            background:  linear-gradient(90deg,#AAAAAA 8.9%, transparent 8.9%);\n",
       "        }    #T_e52d7a86_60c2_11ea_889f_784f43517922row4_col1 {\n",
       "            width:  10em;\n",
       "             height:  80%;\n",
       "            background:  linear-gradient(90deg,#AAAAAA 21.5%, transparent 21.5%);\n",
       "        }    #T_e52d7a86_60c2_11ea_889f_784f43517922row5_col1 {\n",
       "            width:  10em;\n",
       "             height:  80%;\n",
       "            background:  linear-gradient(90deg,#AAAAAA 10.9%, transparent 10.9%);\n",
       "        }    #T_e52d7a86_60c2_11ea_889f_784f43517922row6_col1 {\n",
       "            width:  10em;\n",
       "             height:  80%;\n",
       "            background:  linear-gradient(90deg,#AAAAAA 10.7%, transparent 10.7%);\n",
       "        }    #T_e52d7a86_60c2_11ea_889f_784f43517922row7_col1 {\n",
       "            width:  10em;\n",
       "             height:  80%;\n",
       "            background:  linear-gradient(90deg,#AAAAAA 30.7%, transparent 30.7%);\n",
       "        }    #T_e52d7a86_60c2_11ea_889f_784f43517922row8_col1 {\n",
       "            width:  10em;\n",
       "             height:  80%;\n",
       "            background:  linear-gradient(90deg,#AAAAAA 17.5%, transparent 17.5%);\n",
       "        }</style><table id=\"T_e52d7a86_60c2_11ea_889f_784f43517922\" ><thead>    <tr>        <th class=\"blank level0\" ></th>        <th class=\"col_heading level0 col0\" >Feature</th>        <th class=\"col_heading level0 col1\" >Coeff</th>    </tr></thead><tbody>\n",
       "                <tr>\n",
       "                        <th id=\"T_e52d7a86_60c2_11ea_889f_784f43517922level0_row0\" class=\"row_heading level0 row0\" >0</th>\n",
       "                        <td id=\"T_e52d7a86_60c2_11ea_889f_784f43517922row0_col0\" class=\"data row0 col0\" >Feature # 0</td>\n",
       "                        <td id=\"T_e52d7a86_60c2_11ea_889f_784f43517922row0_col1\" class=\"data row0 col1\" >0.30486</td>\n",
       "            </tr>\n",
       "            <tr>\n",
       "                        <th id=\"T_e52d7a86_60c2_11ea_889f_784f43517922level0_row1\" class=\"row_heading level0 row1\" >1</th>\n",
       "                        <td id=\"T_e52d7a86_60c2_11ea_889f_784f43517922row1_col0\" class=\"data row1 col0\" >Feature # 1</td>\n",
       "                        <td id=\"T_e52d7a86_60c2_11ea_889f_784f43517922row1_col1\" class=\"data row1 col1\" >0.326233</td>\n",
       "            </tr>\n",
       "            <tr>\n",
       "                        <th id=\"T_e52d7a86_60c2_11ea_889f_784f43517922level0_row2\" class=\"row_heading level0 row2\" >2</th>\n",
       "                        <td id=\"T_e52d7a86_60c2_11ea_889f_784f43517922row2_col0\" class=\"data row2 col0\" >Feature # 2</td>\n",
       "                        <td id=\"T_e52d7a86_60c2_11ea_889f_784f43517922row2_col1\" class=\"data row2 col1\" >0.0415743</td>\n",
       "            </tr>\n",
       "            <tr>\n",
       "                        <th id=\"T_e52d7a86_60c2_11ea_889f_784f43517922level0_row3\" class=\"row_heading level0 row3\" >3</th>\n",
       "                        <td id=\"T_e52d7a86_60c2_11ea_889f_784f43517922row3_col0\" class=\"data row3 col0\" >Feature # 3</td>\n",
       "                        <td id=\"T_e52d7a86_60c2_11ea_889f_784f43517922row3_col1\" class=\"data row3 col1\" >0.0290591</td>\n",
       "            </tr>\n",
       "            <tr>\n",
       "                        <th id=\"T_e52d7a86_60c2_11ea_889f_784f43517922level0_row4\" class=\"row_heading level0 row4\" >4</th>\n",
       "                        <td id=\"T_e52d7a86_60c2_11ea_889f_784f43517922row4_col0\" class=\"data row4 col0\" >Feature # 4</td>\n",
       "                        <td id=\"T_e52d7a86_60c2_11ea_889f_784f43517922row4_col1\" class=\"data row4 col1\" >0.0701826</td>\n",
       "            </tr>\n",
       "            <tr>\n",
       "                        <th id=\"T_e52d7a86_60c2_11ea_889f_784f43517922level0_row5\" class=\"row_heading level0 row5\" >5</th>\n",
       "                        <td id=\"T_e52d7a86_60c2_11ea_889f_784f43517922row5_col0\" class=\"data row5 col0\" >Feature # 5</td>\n",
       "                        <td id=\"T_e52d7a86_60c2_11ea_889f_784f43517922row5_col1\" class=\"data row5 col1\" >0.0356352</td>\n",
       "            </tr>\n",
       "            <tr>\n",
       "                        <th id=\"T_e52d7a86_60c2_11ea_889f_784f43517922level0_row6\" class=\"row_heading level0 row6\" >6</th>\n",
       "                        <td id=\"T_e52d7a86_60c2_11ea_889f_784f43517922row6_col0\" class=\"data row6 col0\" >Feature # 6</td>\n",
       "                        <td id=\"T_e52d7a86_60c2_11ea_889f_784f43517922row6_col1\" class=\"data row6 col1\" >0.0349031</td>\n",
       "            </tr>\n",
       "            <tr>\n",
       "                        <th id=\"T_e52d7a86_60c2_11ea_889f_784f43517922level0_row7\" class=\"row_heading level0 row7\" >7</th>\n",
       "                        <td id=\"T_e52d7a86_60c2_11ea_889f_784f43517922row7_col0\" class=\"data row7 col0\" >Feature # 7</td>\n",
       "                        <td id=\"T_e52d7a86_60c2_11ea_889f_784f43517922row7_col1\" class=\"data row7 col1\" >0.100316</td>\n",
       "            </tr>\n",
       "            <tr>\n",
       "                        <th id=\"T_e52d7a86_60c2_11ea_889f_784f43517922level0_row8\" class=\"row_heading level0 row8\" >8</th>\n",
       "                        <td id=\"T_e52d7a86_60c2_11ea_889f_784f43517922row8_col0\" class=\"data row8 col0\" >Target # 0</td>\n",
       "                        <td id=\"T_e52d7a86_60c2_11ea_889f_784f43517922row8_col1\" class=\"data row8 col1\" >0.057236</td>\n",
       "            </tr>\n",
       "    </tbody></table>"
      ],
      "text/plain": [
       "<pandas.io.formats.style.Styler at 0x1a199256d8>"
      ]
     },
     "execution_count": 328,
     "metadata": {},
     "output_type": "execute_result"
    }
   ],
   "source": [
    "pd.DataFrame(\n",
    "    zip(\n",
    "        clf.estimators_[-2].feature_importances_, \n",
    "        feature_names + target_names\n",
    "    ),\n",
    "    columns=['Coeff', 'Feature']\n",
    ")[\n",
    "    ['Feature', 'Coeff']\n",
    "].style.bar(\n",
    "    subset=['Coeff'], align='mid', color='#AAAAAA'\n",
    ")"
   ]
  },
  {
   "cell_type": "code",
   "execution_count": 329,
   "metadata": {},
   "outputs": [
    {
     "data": {
      "text/html": [
       "<style  type=\"text/css\" >\n",
       "    #T_e75886ac_60c2_11ea_a40e_784f43517922row0_col1 {\n",
       "            width:  10em;\n",
       "             height:  80%;\n",
       "        }    #T_e75886ac_60c2_11ea_a40e_784f43517922row1_col1 {\n",
       "            width:  10em;\n",
       "             height:  80%;\n",
       "        }    #T_e75886ac_60c2_11ea_a40e_784f43517922row2_col1 {\n",
       "            width:  10em;\n",
       "             height:  80%;\n",
       "        }    #T_e75886ac_60c2_11ea_a40e_784f43517922row3_col1 {\n",
       "            width:  10em;\n",
       "             height:  80%;\n",
       "        }    #T_e75886ac_60c2_11ea_a40e_784f43517922row4_col1 {\n",
       "            width:  10em;\n",
       "             height:  80%;\n",
       "        }    #T_e75886ac_60c2_11ea_a40e_784f43517922row5_col1 {\n",
       "            width:  10em;\n",
       "             height:  80%;\n",
       "        }    #T_e75886ac_60c2_11ea_a40e_784f43517922row6_col1 {\n",
       "            width:  10em;\n",
       "             height:  80%;\n",
       "        }    #T_e75886ac_60c2_11ea_a40e_784f43517922row7_col1 {\n",
       "            width:  10em;\n",
       "             height:  80%;\n",
       "        }    #T_e75886ac_60c2_11ea_a40e_784f43517922row8_col1 {\n",
       "            width:  10em;\n",
       "             height:  80%;\n",
       "            background:  linear-gradient(90deg,#AAAAAA 100.0%, transparent 100.0%);\n",
       "        }    #T_e75886ac_60c2_11ea_a40e_784f43517922row9_col1 {\n",
       "            width:  10em;\n",
       "             height:  80%;\n",
       "        }</style><table id=\"T_e75886ac_60c2_11ea_a40e_784f43517922\" ><thead>    <tr>        <th class=\"blank level0\" ></th>        <th class=\"col_heading level0 col0\" >Feature</th>        <th class=\"col_heading level0 col1\" >Coeff</th>    </tr></thead><tbody>\n",
       "                <tr>\n",
       "                        <th id=\"T_e75886ac_60c2_11ea_a40e_784f43517922level0_row0\" class=\"row_heading level0 row0\" >0</th>\n",
       "                        <td id=\"T_e75886ac_60c2_11ea_a40e_784f43517922row0_col0\" class=\"data row0 col0\" >Feature # 0</td>\n",
       "                        <td id=\"T_e75886ac_60c2_11ea_a40e_784f43517922row0_col1\" class=\"data row0 col1\" >0</td>\n",
       "            </tr>\n",
       "            <tr>\n",
       "                        <th id=\"T_e75886ac_60c2_11ea_a40e_784f43517922level0_row1\" class=\"row_heading level0 row1\" >1</th>\n",
       "                        <td id=\"T_e75886ac_60c2_11ea_a40e_784f43517922row1_col0\" class=\"data row1 col0\" >Feature # 1</td>\n",
       "                        <td id=\"T_e75886ac_60c2_11ea_a40e_784f43517922row1_col1\" class=\"data row1 col1\" >0</td>\n",
       "            </tr>\n",
       "            <tr>\n",
       "                        <th id=\"T_e75886ac_60c2_11ea_a40e_784f43517922level0_row2\" class=\"row_heading level0 row2\" >2</th>\n",
       "                        <td id=\"T_e75886ac_60c2_11ea_a40e_784f43517922row2_col0\" class=\"data row2 col0\" >Feature # 2</td>\n",
       "                        <td id=\"T_e75886ac_60c2_11ea_a40e_784f43517922row2_col1\" class=\"data row2 col1\" >0</td>\n",
       "            </tr>\n",
       "            <tr>\n",
       "                        <th id=\"T_e75886ac_60c2_11ea_a40e_784f43517922level0_row3\" class=\"row_heading level0 row3\" >3</th>\n",
       "                        <td id=\"T_e75886ac_60c2_11ea_a40e_784f43517922row3_col0\" class=\"data row3 col0\" >Feature # 3</td>\n",
       "                        <td id=\"T_e75886ac_60c2_11ea_a40e_784f43517922row3_col1\" class=\"data row3 col1\" >0</td>\n",
       "            </tr>\n",
       "            <tr>\n",
       "                        <th id=\"T_e75886ac_60c2_11ea_a40e_784f43517922level0_row4\" class=\"row_heading level0 row4\" >4</th>\n",
       "                        <td id=\"T_e75886ac_60c2_11ea_a40e_784f43517922row4_col0\" class=\"data row4 col0\" >Feature # 4</td>\n",
       "                        <td id=\"T_e75886ac_60c2_11ea_a40e_784f43517922row4_col1\" class=\"data row4 col1\" >0</td>\n",
       "            </tr>\n",
       "            <tr>\n",
       "                        <th id=\"T_e75886ac_60c2_11ea_a40e_784f43517922level0_row5\" class=\"row_heading level0 row5\" >5</th>\n",
       "                        <td id=\"T_e75886ac_60c2_11ea_a40e_784f43517922row5_col0\" class=\"data row5 col0\" >Feature # 5</td>\n",
       "                        <td id=\"T_e75886ac_60c2_11ea_a40e_784f43517922row5_col1\" class=\"data row5 col1\" >0</td>\n",
       "            </tr>\n",
       "            <tr>\n",
       "                        <th id=\"T_e75886ac_60c2_11ea_a40e_784f43517922level0_row6\" class=\"row_heading level0 row6\" >6</th>\n",
       "                        <td id=\"T_e75886ac_60c2_11ea_a40e_784f43517922row6_col0\" class=\"data row6 col0\" >Feature # 6</td>\n",
       "                        <td id=\"T_e75886ac_60c2_11ea_a40e_784f43517922row6_col1\" class=\"data row6 col1\" >0</td>\n",
       "            </tr>\n",
       "            <tr>\n",
       "                        <th id=\"T_e75886ac_60c2_11ea_a40e_784f43517922level0_row7\" class=\"row_heading level0 row7\" >7</th>\n",
       "                        <td id=\"T_e75886ac_60c2_11ea_a40e_784f43517922row7_col0\" class=\"data row7 col0\" >Feature # 7</td>\n",
       "                        <td id=\"T_e75886ac_60c2_11ea_a40e_784f43517922row7_col1\" class=\"data row7 col1\" >0</td>\n",
       "            </tr>\n",
       "            <tr>\n",
       "                        <th id=\"T_e75886ac_60c2_11ea_a40e_784f43517922level0_row8\" class=\"row_heading level0 row8\" >8</th>\n",
       "                        <td id=\"T_e75886ac_60c2_11ea_a40e_784f43517922row8_col0\" class=\"data row8 col0\" >Target # 0</td>\n",
       "                        <td id=\"T_e75886ac_60c2_11ea_a40e_784f43517922row8_col1\" class=\"data row8 col1\" >1</td>\n",
       "            </tr>\n",
       "            <tr>\n",
       "                        <th id=\"T_e75886ac_60c2_11ea_a40e_784f43517922level0_row9\" class=\"row_heading level0 row9\" >9</th>\n",
       "                        <td id=\"T_e75886ac_60c2_11ea_a40e_784f43517922row9_col0\" class=\"data row9 col0\" >Target # 1</td>\n",
       "                        <td id=\"T_e75886ac_60c2_11ea_a40e_784f43517922row9_col1\" class=\"data row9 col1\" >0</td>\n",
       "            </tr>\n",
       "    </tbody></table>"
      ],
      "text/plain": [
       "<pandas.io.formats.style.Styler at 0x1a199254e0>"
      ]
     },
     "execution_count": 329,
     "metadata": {},
     "output_type": "execute_result"
    }
   ],
   "source": [
    "pd.DataFrame(\n",
    "    zip(\n",
    "        clf.estimators_[-1].feature_importances_, \n",
    "        feature_names + target_names\n",
    "    ),\n",
    "    columns=['Coeff', 'Feature']\n",
    ")[\n",
    "    ['Feature', 'Coeff']\n",
    "].style.bar(\n",
    "    subset=['Coeff'], align='mid', color='#AAAAAA'\n",
    ")"
   ]
  },
  {
   "cell_type": "code",
   "execution_count": 330,
   "metadata": {},
   "outputs": [
    {
     "name": "stdout",
     "output_type": "stream",
     "text": [
      "F1-Score; MultiOutputClassifier=0.81, ClassifierChain=0.79\n"
     ]
    }
   ],
   "source": [
    "from sklearn.metrics import f1_score\n",
    "\n",
    "print(\n",
    "    'F1-Score; MultiOutputClassifier={:.2f}, ClassifierChain={:.2f}'.format(\n",
    "        f1_score(y_test, y_pred_multioutput, average='macro'),\n",
    "        f1_score(y_test, y_pred_chain, average='macro'),\n",
    "    )\n",
    ")"
   ]
  },
  {
   "cell_type": "markdown",
   "metadata": {},
   "source": [
    "## One-Vs-The-Rest"
   ]
  },
  {
   "cell_type": "code",
   "execution_count": 515,
   "metadata": {},
   "outputs": [],
   "source": [
    "from sklearn.datasets import make_classification\n",
    "\n",
    "x, y = make_classification(\n",
    "    n_samples=5000, n_features=15, n_informative=8, n_redundant=2, n_classes=4, class_sep=0.5, # 0.005,\n",
    ")"
   ]
  },
  {
   "cell_type": "code",
   "execution_count": 516,
   "metadata": {},
   "outputs": [
    {
     "data": {
      "text/plain": [
       "((5000, 15), (5000,))"
      ]
     },
     "execution_count": 516,
     "metadata": {},
     "output_type": "execute_result"
    }
   ],
   "source": [
    "x.shape, y.shape"
   ]
  },
  {
   "cell_type": "code",
   "execution_count": 517,
   "metadata": {},
   "outputs": [],
   "source": [
    "from sklearn.model_selection import train_test_split\n",
    "\n",
    "x_train, x_test, y_train, y_test = train_test_split(x, y, test_size=0.25)"
   ]
  },
  {
   "cell_type": "code",
   "execution_count": 518,
   "metadata": {},
   "outputs": [
    {
     "data": {
      "text/plain": [
       "0.4336"
      ]
     },
     "execution_count": 518,
     "metadata": {},
     "output_type": "execute_result"
    }
   ],
   "source": [
    "from sklearn.linear_model import LogisticRegression\n",
    "from sklearn.multiclass import OneVsRestClassifier\n",
    "from sklearn.metrics import accuracy_score\n",
    "\n",
    "clf = OneVsRestClassifier(\n",
    "    estimator=LogisticRegression(solver='saga')\n",
    ")\n",
    "clf.fit(x_train, y_train)\n",
    "y_pred = clf.predict(x_test)\n",
    "\n",
    "accuracy_score(y_test, y_pred)"
   ]
  },
  {
   "cell_type": "code",
   "execution_count": 519,
   "metadata": {},
   "outputs": [
    {
     "data": {
      "text/plain": [
       "0.4472"
      ]
     },
     "execution_count": 519,
     "metadata": {},
     "output_type": "execute_result"
    }
   ],
   "source": [
    "from sklearn.linear_model import LogisticRegression\n",
    "from sklearn.multiclass import OneVsOneClassifier\n",
    "\n",
    "clf = OneVsOneClassifier(\n",
    "    estimator=LogisticRegression(solver='saga')\n",
    ")\n",
    "clf.fit(x_train, y_train)\n",
    "y_pred = clf.predict(x_test)\n",
    "\n",
    "accuracy_score(y_test, y_pred)"
   ]
  },
  {
   "cell_type": "code",
   "execution_count": 520,
   "metadata": {},
   "outputs": [
    {
     "data": {
      "text/plain": [
       "0.3936"
      ]
     },
     "execution_count": 520,
     "metadata": {},
     "output_type": "execute_result"
    }
   ],
   "source": [
    "from sklearn.linear_model import LogisticRegression\n",
    "from sklearn.multiclass import OutputCodeClassifier\n",
    "\n",
    "clf = OutputCodeClassifier(\n",
    "    estimator=LogisticRegression(solver='saga')\n",
    ")\n",
    "clf.fit(x_train, y_train)\n",
    "y_pred = clf.predict(x_test)\n",
    "\n",
    "accuracy_score(y_test, y_pred)"
   ]
  },
  {
   "cell_type": "code",
   "execution_count": null,
   "metadata": {},
   "outputs": [],
   "source": []
  },
  {
   "cell_type": "code",
   "execution_count": null,
   "metadata": {},
   "outputs": [],
   "source": []
  },
  {
   "cell_type": "markdown",
   "metadata": {},
   "source": [
    "# Calibration"
   ]
  },
  {
   "cell_type": "code",
   "execution_count": 435,
   "metadata": {},
   "outputs": [
    {
     "data": {
      "text/plain": [
       "((50000, 15), (50000,))"
      ]
     },
     "execution_count": 435,
     "metadata": {},
     "output_type": "execute_result"
    }
   ],
   "source": [
    "from sklearn.datasets import make_classification\n",
    "\n",
    "x, y = make_classification(\n",
    "    n_samples=50000, n_features=15, n_informative=5, n_redundant=10, n_classes=2, class_sep=0.001\n",
    ")\n",
    "\n",
    "x.shape, y.shape"
   ]
  },
  {
   "cell_type": "code",
   "execution_count": 436,
   "metadata": {},
   "outputs": [],
   "source": [
    "from sklearn.model_selection import train_test_split\n",
    "\n",
    "x_train, x_test, y_train, y_test = train_test_split(x, y, test_size=0.25)"
   ]
  },
  {
   "cell_type": "code",
   "execution_count": 443,
   "metadata": {},
   "outputs": [],
   "source": [
    "from sklearn.naive_bayes import GaussianNB\n",
    "\n",
    "clf = GaussianNB()\n",
    "clf.fit(x_train, y_train)\n",
    "y_pred = clf.predict(x_test)\n",
    "y_pred_proba = clf.predict_proba(x_test)[:,-1]"
   ]
  },
  {
   "cell_type": "code",
   "execution_count": 466,
   "metadata": {},
   "outputs": [
    {
     "name": "stderr",
     "output_type": "stream",
     "text": [
      "/Users/tarek/anaconda3/envs/scikitbook/lib/python3.6/site-packages/ipykernel_launcher.py:19: UserWarning: Matplotlib is currently using module://ipykernel.pylab.backend_inline, which is a non-GUI backend, so cannot show the figure.\n"
     ]
    },
    {
     "data": {
      "image/png": "[encoded data removed]",
      "text/plain": [
       "<Figure size 720x576 with 1 Axes>"
      ]
     },
     "metadata": {
      "needs_background": "light"
     },
     "output_type": "display_data"
    }
   ],
   "source": [
    "from sklearn.calibration import calibration_curve\n",
    "\n",
    "fraction_of_positives, mean_predicted_value = calibration_curve(y_test, y_pred_proba, n_bins=10)\n",
    "\n",
    "fig, ax = plt.subplots(1, 1, figsize=(10, 8))\n",
    "\n",
    "ax.plot(\n",
    "    mean_predicted_value, fraction_of_positives, \"--\", label='Uncalibrated GaussianNB', color='k'\n",
    ")\n",
    "\n",
    "ax.set_title('Probability Calibration Curve')\n",
    "ax.set_xlabel('Predicted Probability')\n",
    "ax.set_ylabel('% of samples in Class 1')\n",
    "ax.set_xlim((0,1))\n",
    "ax.set_ylim((0,1))\n",
    "\n",
    "ax.legend(loc=\"upper left\", fontsize='x-large', shadow=True)\n",
    "\n",
    "fig.show()"
   ]
  },
  {
   "cell_type": "code",
   "execution_count": 464,
   "metadata": {},
   "outputs": [],
   "source": [
    "from sklearn.calibration import CalibratedClassifierCV\n",
    "from sklearn.naive_bayes import GaussianNB\n",
    "\n",
    "clf_calib = CalibratedClassifierCV(GaussianNB(), cv=3, method='isotonic')\n",
    "clf_calib.fit(x_train, y_train)\n",
    "y_pred_calib = clf_calib.predict(x_test)\n",
    "y_pred_proba_calib = clf_calib.predict_proba(x_test)[:,-1]"
   ]
  },
  {
   "cell_type": "code",
   "execution_count": 465,
   "metadata": {},
   "outputs": [
    {
     "name": "stderr",
     "output_type": "stream",
     "text": [
      "/Users/tarek/anaconda3/envs/scikitbook/lib/python3.6/site-packages/ipykernel_launcher.py:30: UserWarning: Matplotlib is currently using module://ipykernel.pylab.backend_inline, which is a non-GUI backend, so cannot show the figure.\n"
     ]
    },
    {
     "data": {
      "image/png": "[encoded data removed]",
      "text/plain": [
       "<Figure size 720x576 with 1 Axes>"
      ]
     },
     "metadata": {
      "needs_background": "light"
     },
     "output_type": "display_data"
    }
   ],
   "source": [
    "from sklearn.calibration import calibration_curve\n",
    "\n",
    "fig, ax = plt.subplots(1, 1, figsize=(10, 8))\n",
    "\n",
    "ax.plot(\n",
    "    [0, 1], [0, 1], \n",
    "    linestyle=':', \n",
    "    lw=2, color='k',\n",
    "    label='Ideal Calibration', alpha=0.5\n",
    ")\n",
    "\n",
    "fraction_of_positives, mean_predicted_value = calibration_curve(y_test, y_pred_proba, n_bins=10)\n",
    "\n",
    "ax.plot(\n",
    "    mean_predicted_value, fraction_of_positives, \"--\", label='Uncalibrated GaussianNB', color='k', alpha=0.85\n",
    ")\n",
    "\n",
    "fraction_of_positives, mean_predicted_value = calibration_curve(y_test, y_pred_proba_calib, n_bins=10)\n",
    "\n",
    "ax.plot(\n",
    "    mean_predicted_value, fraction_of_positives, \"-\", label='Calibrated GaussianNB', color='k', alpha=0.85\n",
    ")\n",
    "\n",
    "ax.set_title('Probability Calibration Curve')\n",
    "ax.set_xlabel('Predicted Probability')\n",
    "ax.set_ylabel('% of samples in Class 1')\n",
    "\n",
    "ax.legend(loc=\"upper left\", fontsize='x-large', shadow=True)\n",
    "\n",
    "fig.show()"
   ]
  },
  {
   "cell_type": "code",
   "execution_count": null,
   "metadata": {},
   "outputs": [],
   "source": []
  }
 ],
 "metadata": {
  "kernelspec": {
   "display_name": "Python 3",
   "language": "python",
   "name": "python3"
  },
  "language_info": {
   "codemirror_mode": {
    "name": "ipython",
    "version": 3
   },
   "file_extension": ".py",
   "mimetype": "text/x-python",
   "name": "python",
   "nbconvert_exporter": "python",
   "pygments_lexer": "ipython3",
   "version": "3.6.9"
  }
 },
 "nbformat": 4,
 "nbformat_minor": 2
}
