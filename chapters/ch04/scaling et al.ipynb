{
 "cells": [
  {
   "cell_type": "markdown",
   "metadata": {},
   "source": [
    "# Scaling et al"
   ]
  },
  {
   "cell_type": "code",
   "execution_count": 3,
   "metadata": {},
   "outputs": [],
   "source": [
    "# https://scikit-learn.org/stable/modules/preprocessing.html"
   ]
  },
  {
   "cell_type": "code",
   "execution_count": 4,
   "metadata": {},
   "outputs": [],
   "source": [
    "from sklearn import datasets\n",
    "\n",
    "iris = datasets.load_iris()\n",
    "wine = datasets.load_wine()\n",
    "\n",
    "df = pd.DataFrame(\n",
    "    wine.data,\n",
    "    columns=wine.feature_names\n",
    ")\n",
    "\n",
    "df['target'] = pd.Series(\n",
    "    wine.target\n",
    ")"
   ]
  },
  {
   "cell_type": "code",
   "execution_count": 5,
   "metadata": {},
   "outputs": [],
   "source": [
    "from sklearn.model_selection import train_test_split\n",
    "\n",
    "df_train, df_test = train_test_split(df, test_size=0.4, random_state=22)\n",
    "\n",
    "x_train = df_train[wine.feature_names]\n",
    "x_test  = df_test[wine.feature_names]\n",
    "\n",
    "y_train = df_train['target']\n",
    "y_test  = df_test['target']"
   ]
  },
  {
   "cell_type": "code",
   "execution_count": 6,
   "metadata": {},
   "outputs": [],
   "source": [
    "from sklearn.preprocessing import StandardScaler\n",
    "\n",
    "scaler = StandardScaler()\n",
    "x_train_scaled = scaler.fit_transform(x_train)\n",
    "x_test_scaled = scaler.transform(x_test)"
   ]
  },
  {
   "cell_type": "code",
   "execution_count": 7,
   "metadata": {},
   "outputs": [],
   "source": [
    "from sklearn.preprocessing import MinMaxScaler\n",
    "\n",
    "scaler = MinMaxScaler(feature_range=(-1,1))\n",
    "x_train_scaled = scaler.fit_transform(x_train)\n",
    "x_test_scaled = scaler.transform(x_test)"
   ]
  },
  {
   "cell_type": "code",
   "execution_count": 8,
   "metadata": {},
   "outputs": [],
   "source": [
    "from sklearn.preprocessing import RobustScaler\n",
    "\n",
    "scaler = RobustScaler()\n",
    "x_train_scaled = scaler.fit_transform(x_train)\n",
    "x_test_scaled = scaler.transform(x_test)"
   ]
  },
  {
   "cell_type": "markdown",
   "metadata": {},
   "source": [
    "# Feature Selection"
   ]
  },
  {
   "cell_type": "markdown",
   "metadata": {},
   "source": [
    "## Mutual Information"
   ]
  },
  {
   "cell_type": "code",
   "execution_count": 9,
   "metadata": {},
   "outputs": [
    {
     "data": {
      "text/html": [
       "<div>\n",
       "<style scoped>\n",
       "    .dataframe tbody tr th:only-of-type {\n",
       "        vertical-align: middle;\n",
       "    }\n",
       "\n",
       "    .dataframe tbody tr th {\n",
       "        vertical-align: top;\n",
       "    }\n",
       "\n",
       "    .dataframe thead th {\n",
       "        text-align: right;\n",
       "    }\n",
       "</style>\n",
       "<table border=\"1\" class=\"dataframe\">\n",
       "  <thead>\n",
       "    <tr style=\"text-align: right;\">\n",
       "      <th></th>\n",
       "      <th>x1</th>\n",
       "      <th>x2</th>\n",
       "      <th>y</th>\n",
       "    </tr>\n",
       "  </thead>\n",
       "  <tbody>\n",
       "    <tr>\n",
       "      <th>0</th>\n",
       "      <td>0</td>\n",
       "      <td>1</td>\n",
       "      <td>0</td>\n",
       "    </tr>\n",
       "    <tr>\n",
       "      <th>1</th>\n",
       "      <td>1</td>\n",
       "      <td>0</td>\n",
       "      <td>1</td>\n",
       "    </tr>\n",
       "    <tr>\n",
       "      <th>2</th>\n",
       "      <td>1</td>\n",
       "      <td>1</td>\n",
       "      <td>0</td>\n",
       "    </tr>\n",
       "    <tr>\n",
       "      <th>3</th>\n",
       "      <td>1</td>\n",
       "      <td>0</td>\n",
       "      <td>1</td>\n",
       "    </tr>\n",
       "    <tr>\n",
       "      <th>4</th>\n",
       "      <td>0</td>\n",
       "      <td>0</td>\n",
       "      <td>1</td>\n",
       "    </tr>\n",
       "  </tbody>\n",
       "</table>\n",
       "</div>"
      ],
      "text/plain": [
       "   x1  x2  y\n",
       "0   0   1  0\n",
       "1   1   0  1\n",
       "2   1   1  0\n",
       "3   1   0  1\n",
       "4   0   0  1"
      ]
     },
     "execution_count": 9,
     "metadata": {},
     "output_type": "execute_result"
    }
   ],
   "source": [
    "df_mi = pd.DataFrame(\n",
    "    {\n",
    "        'x1': [0, 1, 1, 1, 0],\n",
    "        'x2': [1, 0, 1, 0, 0],\n",
    "        'y': [0, 1, 0, 1, 1],\n",
    "    }\n",
    ")\n",
    "\n",
    "df_mi"
   ]
  },
  {
   "cell_type": "code",
   "execution_count": 10,
   "metadata": {},
   "outputs": [
    {
     "data": {
      "text/plain": [
       "array([0.        , 0.78333333])"
      ]
     },
     "execution_count": 10,
     "metadata": {},
     "output_type": "execute_result"
    }
   ],
   "source": [
    "from sklearn.feature_selection import mutual_info_classif\n",
    "\n",
    "mutual_info_classif(df_mi[['x1', 'x2']], df_mi['y'], n_neighbors=2)"
   ]
  },
  {
   "cell_type": "code",
   "execution_count": 11,
   "metadata": {},
   "outputs": [
    {
     "data": {
      "text/plain": [
       "0.013844293808390418"
      ]
     },
     "execution_count": 11,
     "metadata": {},
     "output_type": "execute_result"
    }
   ],
   "source": [
    "from sklearn.metrics import mutual_info_score\n",
    "\n",
    "mutual_info_score(df_mi['x1'], df_mi['y'])"
   ]
  },
  {
   "cell_type": "code",
   "execution_count": 12,
   "metadata": {},
   "outputs": [
    {
     "name": "stdout",
     "output_type": "stream",
     "text": [
      "0.013844293808390619\n"
     ]
    }
   ],
   "source": [
    "import math \n",
    "\n",
    "p_xy = lambda x, y, xcol: df_mi[(df_mi[xcol] == x) & (df_mi['y'] == y)].shape[0] / df_mi.shape[0]\n",
    "p_x = lambda x, xcol: df_mi[(df_mi[xcol] == x)].shape[0] / df_mi.shape[0]\n",
    "p_y = lambda y: df_mi[(df_mi['y'] == y)].shape[0] / df_mi.shape[0]\n",
    "\n",
    "def pmi(x, y, xcol='x1'):\n",
    "    _pxy = p_xy(x, y, xcol)\n",
    "    _px = p_x(x, xcol)\n",
    "    _py = p_y(y)\n",
    "    if _pxy == 0:\n",
    "        return 0\n",
    "    else:\n",
    "        return _pxy * math.log(_pxy / (_px * _py))\n",
    "\n",
    "mi = []\n",
    "for i in [0, 1]:\n",
    "    for j in [0, 1]:\n",
    "        mi.append(pmi(i, j, 'x1'))\n",
    "\n",
    "print(sum(mi))"
   ]
  },
  {
   "cell_type": "markdown",
   "metadata": {},
   "source": [
    "## Load Data"
   ]
  },
  {
   "cell_type": "code",
   "execution_count": 13,
   "metadata": {},
   "outputs": [],
   "source": [
    "iris = datasets.load_iris()\n",
    "wine = datasets.load_wine()\n",
    "\n",
    "df = pd.DataFrame(\n",
    "    wine.data,\n",
    "    columns=wine.feature_names\n",
    ")\n",
    "\n",
    "df['target'] = pd.Series(\n",
    "    wine.target\n",
    ")"
   ]
  },
  {
   "cell_type": "code",
   "execution_count": 14,
   "metadata": {},
   "outputs": [],
   "source": [
    "from sklearn.model_selection import train_test_split\n",
    "\n",
    "df_train, df_test = train_test_split(df, test_size=0.4, random_state=22)\n",
    "\n",
    "x_train = df_train[wine.feature_names]\n",
    "x_test  = df_test[wine.feature_names]\n",
    "\n",
    "y_train = df_train['target']\n",
    "y_test  = df_test['target']"
   ]
  },
  {
   "cell_type": "markdown",
   "metadata": {},
   "source": [
    "## Variance Threshold"
   ]
  },
  {
   "cell_type": "code",
   "execution_count": 15,
   "metadata": {},
   "outputs": [
    {
     "data": {
      "text/plain": [
       "VarianceThreshold(threshold=0)"
      ]
     },
     "execution_count": 15,
     "metadata": {},
     "output_type": "execute_result"
    }
   ],
   "source": [
    "from sklearn.feature_selection import VarianceThreshold\n",
    "\n",
    "vt = VarianceThreshold(threshold=0)\n",
    "vt.fit(x_train)"
   ]
  },
  {
   "cell_type": "code",
   "execution_count": 16,
   "metadata": {},
   "outputs": [
    {
     "data": {
      "text/html": [
       "<div>\n",
       "<style scoped>\n",
       "    .dataframe tbody tr th:only-of-type {\n",
       "        vertical-align: middle;\n",
       "    }\n",
       "\n",
       "    .dataframe tbody tr th {\n",
       "        vertical-align: top;\n",
       "    }\n",
       "\n",
       "    .dataframe thead th {\n",
       "        text-align: right;\n",
       "    }\n",
       "</style>\n",
       "<table border=\"1\" class=\"dataframe\">\n",
       "  <thead>\n",
       "    <tr style=\"text-align: right;\">\n",
       "      <th></th>\n",
       "      <th>Feature</th>\n",
       "      <th>Variance</th>\n",
       "    </tr>\n",
       "  </thead>\n",
       "  <tbody>\n",
       "    <tr>\n",
       "      <th>7</th>\n",
       "      <td>nonflavanoid_phenols</td>\n",
       "      <td>0.013845</td>\n",
       "    </tr>\n",
       "    <tr>\n",
       "      <th>10</th>\n",
       "      <td>hue</td>\n",
       "      <td>0.055709</td>\n",
       "    </tr>\n",
       "    <tr>\n",
       "      <th>2</th>\n",
       "      <td>ash</td>\n",
       "      <td>0.068327</td>\n",
       "    </tr>\n",
       "    <tr>\n",
       "      <th>8</th>\n",
       "      <td>proanthocyanins</td>\n",
       "      <td>0.306081</td>\n",
       "    </tr>\n",
       "    <tr>\n",
       "      <th>5</th>\n",
       "      <td>total_phenols</td>\n",
       "      <td>0.369353</td>\n",
       "    </tr>\n",
       "    <tr>\n",
       "      <th>11</th>\n",
       "      <td>od280/od315_of_diluted_wines</td>\n",
       "      <td>0.478116</td>\n",
       "    </tr>\n",
       "    <tr>\n",
       "      <th>0</th>\n",
       "      <td>alcohol</td>\n",
       "      <td>0.679757</td>\n",
       "    </tr>\n",
       "    <tr>\n",
       "      <th>6</th>\n",
       "      <td>flavanoids</td>\n",
       "      <td>0.925865</td>\n",
       "    </tr>\n",
       "    <tr>\n",
       "      <th>1</th>\n",
       "      <td>malic_acid</td>\n",
       "      <td>0.987016</td>\n",
       "    </tr>\n",
       "    <tr>\n",
       "      <th>9</th>\n",
       "      <td>color_intensity</td>\n",
       "      <td>5.612742</td>\n",
       "    </tr>\n",
       "    <tr>\n",
       "      <th>3</th>\n",
       "      <td>alcalinity_of_ash</td>\n",
       "      <td>8.914152</td>\n",
       "    </tr>\n",
       "    <tr>\n",
       "      <th>4</th>\n",
       "      <td>magnesium</td>\n",
       "      <td>92.000000</td>\n",
       "    </tr>\n",
       "    <tr>\n",
       "      <th>12</th>\n",
       "      <td>proline</td>\n",
       "      <td>1402.000000</td>\n",
       "    </tr>\n",
       "  </tbody>\n",
       "</table>\n",
       "</div>"
      ],
      "text/plain": [
       "                         Feature     Variance\n",
       "7           nonflavanoid_phenols     0.013845\n",
       "10                           hue     0.055709\n",
       "2                            ash     0.068327\n",
       "8                proanthocyanins     0.306081\n",
       "5                  total_phenols     0.369353\n",
       "11  od280/od315_of_diluted_wines     0.478116\n",
       "0                        alcohol     0.679757\n",
       "6                     flavanoids     0.925865\n",
       "1                     malic_acid     0.987016\n",
       "9                color_intensity     5.612742\n",
       "3              alcalinity_of_ash     8.914152\n",
       "4                      magnesium    92.000000\n",
       "12                       proline  1402.000000"
      ]
     },
     "execution_count": 16,
     "metadata": {},
     "output_type": "execute_result"
    }
   ],
   "source": [
    "pd.DataFrame(\n",
    "    {\n",
    "        'Feature': wine.feature_names,\n",
    "        'Variance': vt.variances_,\n",
    "    }\n",
    ").sort_values(\n",
    "    'Variance', ascending=True\n",
    ")"
   ]
  },
  {
   "cell_type": "code",
   "execution_count": 17,
   "metadata": {},
   "outputs": [
    {
     "data": {
      "text/plain": [
       "VarianceThreshold(threshold=5)"
      ]
     },
     "execution_count": 17,
     "metadata": {},
     "output_type": "execute_result"
    }
   ],
   "source": [
    "vt = VarianceThreshold(threshold=5)\n",
    "vt.fit(x_train)\n",
    "# x_train_new, x_test_new = vt.transform(x_train), vt.transform(x_test)"
   ]
  },
  {
   "cell_type": "code",
   "execution_count": 18,
   "metadata": {},
   "outputs": [
    {
     "data": {
      "text/html": [
       "<div>\n",
       "<style scoped>\n",
       "    .dataframe tbody tr th:only-of-type {\n",
       "        vertical-align: middle;\n",
       "    }\n",
       "\n",
       "    .dataframe tbody tr th {\n",
       "        vertical-align: top;\n",
       "    }\n",
       "\n",
       "    .dataframe thead th {\n",
       "        text-align: right;\n",
       "    }\n",
       "</style>\n",
       "<table border=\"1\" class=\"dataframe\">\n",
       "  <thead>\n",
       "    <tr style=\"text-align: right;\">\n",
       "      <th></th>\n",
       "      <th>alcalinity_of_ash</th>\n",
       "      <th>magnesium</th>\n",
       "      <th>color_intensity</th>\n",
       "      <th>proline</th>\n",
       "    </tr>\n",
       "  </thead>\n",
       "  <tbody>\n",
       "    <tr>\n",
       "      <th>131</th>\n",
       "      <td>20.0</td>\n",
       "      <td>104.0</td>\n",
       "      <td>5.40</td>\n",
       "      <td>530.0</td>\n",
       "    </tr>\n",
       "    <tr>\n",
       "      <th>16</th>\n",
       "      <td>20.0</td>\n",
       "      <td>120.0</td>\n",
       "      <td>6.20</td>\n",
       "      <td>1280.0</td>\n",
       "    </tr>\n",
       "    <tr>\n",
       "      <th>106</th>\n",
       "      <td>19.0</td>\n",
       "      <td>80.0</td>\n",
       "      <td>3.40</td>\n",
       "      <td>510.0</td>\n",
       "    </tr>\n",
       "    <tr>\n",
       "      <th>64</th>\n",
       "      <td>19.0</td>\n",
       "      <td>104.0</td>\n",
       "      <td>2.95</td>\n",
       "      <td>355.0</td>\n",
       "    </tr>\n",
       "    <tr>\n",
       "      <th>68</th>\n",
       "      <td>17.0</td>\n",
       "      <td>110.0</td>\n",
       "      <td>3.17</td>\n",
       "      <td>750.0</td>\n",
       "    </tr>\n",
       "    <tr>\n",
       "      <th>...</th>\n",
       "      <td>...</td>\n",
       "      <td>...</td>\n",
       "      <td>...</td>\n",
       "      <td>...</td>\n",
       "    </tr>\n",
       "    <tr>\n",
       "      <th>102</th>\n",
       "      <td>21.0</td>\n",
       "      <td>98.0</td>\n",
       "      <td>2.80</td>\n",
       "      <td>438.0</td>\n",
       "    </tr>\n",
       "    <tr>\n",
       "      <th>100</th>\n",
       "      <td>17.5</td>\n",
       "      <td>97.0</td>\n",
       "      <td>3.30</td>\n",
       "      <td>710.0</td>\n",
       "    </tr>\n",
       "    <tr>\n",
       "      <th>44</th>\n",
       "      <td>17.0</td>\n",
       "      <td>107.0</td>\n",
       "      <td>5.04</td>\n",
       "      <td>885.0</td>\n",
       "    </tr>\n",
       "    <tr>\n",
       "      <th>132</th>\n",
       "      <td>24.0</td>\n",
       "      <td>98.0</td>\n",
       "      <td>5.70</td>\n",
       "      <td>560.0</td>\n",
       "    </tr>\n",
       "    <tr>\n",
       "      <th>117</th>\n",
       "      <td>22.5</td>\n",
       "      <td>108.0</td>\n",
       "      <td>2.06</td>\n",
       "      <td>345.0</td>\n",
       "    </tr>\n",
       "  </tbody>\n",
       "</table>\n",
       "<p>106 rows × 4 columns</p>\n",
       "</div>"
      ],
      "text/plain": [
       "     alcalinity_of_ash  magnesium  color_intensity  proline\n",
       "131               20.0      104.0             5.40    530.0\n",
       "16                20.0      120.0             6.20   1280.0\n",
       "106               19.0       80.0             3.40    510.0\n",
       "64                19.0      104.0             2.95    355.0\n",
       "68                17.0      110.0             3.17    750.0\n",
       "..                 ...        ...              ...      ...\n",
       "102               21.0       98.0             2.80    438.0\n",
       "100               17.5       97.0             3.30    710.0\n",
       "44                17.0      107.0             5.04    885.0\n",
       "132               24.0       98.0             5.70    560.0\n",
       "117               22.5      108.0             2.06    345.0\n",
       "\n",
       "[106 rows x 4 columns]"
      ]
     },
     "execution_count": 18,
     "metadata": {},
     "output_type": "execute_result"
    }
   ],
   "source": [
    "# x_train_new = x_train.iloc[:, vt.get_support()]\n",
    "x_train.iloc[:, vt.get_support()]"
   ]
  },
  {
   "cell_type": "code",
   "execution_count": 19,
   "metadata": {},
   "outputs": [
    {
     "name": "stdout",
     "output_type": "stream",
     "text": [
      "VAR(units): 8.25, VAR(tens): 825.0, VAR(hundreds): 82500.0\n"
     ]
    }
   ],
   "source": [
    "units = np.arange(10)\n",
    "tens = 10 * units\n",
    "hundreds = 100 * units\n",
    "\n",
    "print(\n",
    "    'VAR(units): {}, VAR(tens): {}, VAR(hundreds): {}'.format(\n",
    "        units.var(), tens.var(), hundreds.var()\n",
    "    )\n",
    ")"
   ]
  },
  {
   "cell_type": "code",
   "execution_count": 20,
   "metadata": {},
   "outputs": [
    {
     "data": {
      "text/plain": [
       "VarianceThreshold(threshold=0)"
      ]
     },
     "execution_count": 20,
     "metadata": {},
     "output_type": "execute_result"
    }
   ],
   "source": [
    "from sklearn.feature_selection import VarianceThreshold\n",
    "from sklearn.preprocessing import MinMaxScaler\n",
    "\n",
    "scaler = MinMaxScaler()\n",
    "x_train_scaled = scaler.fit_transform(x_train)\n",
    "\n",
    "vt = VarianceThreshold(threshold=0)\n",
    "vt.fit(x_train_scaled)"
   ]
  },
  {
   "cell_type": "code",
   "execution_count": 21,
   "metadata": {},
   "outputs": [
    {
     "data": {
      "text/html": [
       "<div>\n",
       "<style scoped>\n",
       "    .dataframe tbody tr th:only-of-type {\n",
       "        vertical-align: middle;\n",
       "    }\n",
       "\n",
       "    .dataframe tbody tr th {\n",
       "        vertical-align: top;\n",
       "    }\n",
       "\n",
       "    .dataframe thead th {\n",
       "        text-align: right;\n",
       "    }\n",
       "</style>\n",
       "<table border=\"1\" class=\"dataframe\">\n",
       "  <thead>\n",
       "    <tr style=\"text-align: right;\">\n",
       "      <th></th>\n",
       "      <th>Feature</th>\n",
       "      <th>Variance</th>\n",
       "    </tr>\n",
       "  </thead>\n",
       "  <tbody>\n",
       "    <tr>\n",
       "      <th>4</th>\n",
       "      <td>magnesium</td>\n",
       "      <td>0.027419</td>\n",
       "    </tr>\n",
       "    <tr>\n",
       "      <th>2</th>\n",
       "      <td>ash</td>\n",
       "      <td>0.029189</td>\n",
       "    </tr>\n",
       "    <tr>\n",
       "      <th>3</th>\n",
       "      <td>alcalinity_of_ash</td>\n",
       "      <td>0.032743</td>\n",
       "    </tr>\n",
       "    <tr>\n",
       "      <th>10</th>\n",
       "      <td>hue</td>\n",
       "      <td>0.036823</td>\n",
       "    </tr>\n",
       "    <tr>\n",
       "      <th>8</th>\n",
       "      <td>proanthocyanins</td>\n",
       "      <td>0.037160</td>\n",
       "    </tr>\n",
       "    <tr>\n",
       "      <th>6</th>\n",
       "      <td>flavanoids</td>\n",
       "      <td>0.041209</td>\n",
       "    </tr>\n",
       "    <tr>\n",
       "      <th>5</th>\n",
       "      <td>total_phenols</td>\n",
       "      <td>0.043918</td>\n",
       "    </tr>\n",
       "    <tr>\n",
       "      <th>9</th>\n",
       "      <td>color_intensity</td>\n",
       "      <td>0.044269</td>\n",
       "    </tr>\n",
       "    <tr>\n",
       "      <th>0</th>\n",
       "      <td>alcohol</td>\n",
       "      <td>0.047075</td>\n",
       "    </tr>\n",
       "    <tr>\n",
       "      <th>1</th>\n",
       "      <td>malic_acid</td>\n",
       "      <td>0.049843</td>\n",
       "    </tr>\n",
       "    <tr>\n",
       "      <th>7</th>\n",
       "      <td>nonflavanoid_phenols</td>\n",
       "      <td>0.051202</td>\n",
       "    </tr>\n",
       "    <tr>\n",
       "      <th>12</th>\n",
       "      <td>proline</td>\n",
       "      <td>0.053753</td>\n",
       "    </tr>\n",
       "    <tr>\n",
       "      <th>11</th>\n",
       "      <td>od280/od315_of_diluted_wines</td>\n",
       "      <td>0.068083</td>\n",
       "    </tr>\n",
       "  </tbody>\n",
       "</table>\n",
       "</div>"
      ],
      "text/plain": [
       "                         Feature  Variance\n",
       "4                      magnesium  0.027419\n",
       "2                            ash  0.029189\n",
       "3              alcalinity_of_ash  0.032743\n",
       "10                           hue  0.036823\n",
       "8                proanthocyanins  0.037160\n",
       "6                     flavanoids  0.041209\n",
       "5                  total_phenols  0.043918\n",
       "9                color_intensity  0.044269\n",
       "0                        alcohol  0.047075\n",
       "1                     malic_acid  0.049843\n",
       "7           nonflavanoid_phenols  0.051202\n",
       "12                       proline  0.053753\n",
       "11  od280/od315_of_diluted_wines  0.068083"
      ]
     },
     "execution_count": 21,
     "metadata": {},
     "output_type": "execute_result"
    }
   ],
   "source": [
    "pd.DataFrame(\n",
    "    {\n",
    "        'Feature': wine.feature_names,\n",
    "        'Variance': vt.variances_,\n",
    "    }\n",
    ").sort_values(\n",
    "    'Variance', ascending=True\n",
    ")"
   ]
  },
  {
   "cell_type": "code",
   "execution_count": 22,
   "metadata": {},
   "outputs": [
    {
     "data": {
      "text/html": [
       "<div>\n",
       "<style scoped>\n",
       "    .dataframe tbody tr th:only-of-type {\n",
       "        vertical-align: middle;\n",
       "    }\n",
       "\n",
       "    .dataframe tbody tr th {\n",
       "        vertical-align: top;\n",
       "    }\n",
       "\n",
       "    .dataframe thead th {\n",
       "        text-align: right;\n",
       "    }\n",
       "</style>\n",
       "<table border=\"1\" class=\"dataframe\">\n",
       "  <thead>\n",
       "    <tr style=\"text-align: right;\">\n",
       "      <th></th>\n",
       "      <th>var</th>\n",
       "      <th>cv</th>\n",
       "    </tr>\n",
       "  </thead>\n",
       "  <tbody>\n",
       "    <tr>\n",
       "      <th>alcohol</th>\n",
       "      <td>0.686231</td>\n",
       "      <td>0.063844</td>\n",
       "    </tr>\n",
       "    <tr>\n",
       "      <th>ash</th>\n",
       "      <td>0.068978</td>\n",
       "      <td>0.111398</td>\n",
       "    </tr>\n",
       "    <tr>\n",
       "      <th>magnesium</th>\n",
       "      <td>234.287960</td>\n",
       "      <td>0.153195</td>\n",
       "    </tr>\n",
       "    <tr>\n",
       "      <th>alcalinity_of_ash</th>\n",
       "      <td>8.999049</td>\n",
       "      <td>0.154009</td>\n",
       "    </tr>\n",
       "    <tr>\n",
       "      <th>hue</th>\n",
       "      <td>0.056240</td>\n",
       "      <td>0.242091</td>\n",
       "    </tr>\n",
       "    <tr>\n",
       "      <th>od280/od315_of_diluted_wines</th>\n",
       "      <td>0.482670</td>\n",
       "      <td>0.264152</td>\n",
       "    </tr>\n",
       "    <tr>\n",
       "      <th>total_phenols</th>\n",
       "      <td>0.372870</td>\n",
       "      <td>0.267334</td>\n",
       "    </tr>\n",
       "    <tr>\n",
       "      <th>nonflavanoid_phenols</th>\n",
       "      <td>0.013977</td>\n",
       "      <td>0.327457</td>\n",
       "    </tr>\n",
       "    <tr>\n",
       "      <th>proanthocyanins</th>\n",
       "      <td>0.308996</td>\n",
       "      <td>0.351651</td>\n",
       "    </tr>\n",
       "    <tr>\n",
       "      <th>proline</th>\n",
       "      <td>106662.478347</td>\n",
       "      <td>0.440263</td>\n",
       "    </tr>\n",
       "    <tr>\n",
       "      <th>malic_acid</th>\n",
       "      <td>0.996416</td>\n",
       "      <td>0.465610</td>\n",
       "    </tr>\n",
       "    <tr>\n",
       "      <th>flavanoids</th>\n",
       "      <td>0.934683</td>\n",
       "      <td>0.472344</td>\n",
       "    </tr>\n",
       "    <tr>\n",
       "      <th>color_intensity</th>\n",
       "      <td>5.666196</td>\n",
       "      <td>0.477743</td>\n",
       "    </tr>\n",
       "  </tbody>\n",
       "</table>\n",
       "</div>"
      ],
      "text/plain": [
       "                                        var        cv\n",
       "alcohol                            0.686231  0.063844\n",
       "ash                                0.068978  0.111398\n",
       "magnesium                        234.287960  0.153195\n",
       "alcalinity_of_ash                  8.999049  0.154009\n",
       "hue                                0.056240  0.242091\n",
       "od280/od315_of_diluted_wines       0.482670  0.264152\n",
       "total_phenols                      0.372870  0.267334\n",
       "nonflavanoid_phenols               0.013977  0.327457\n",
       "proanthocyanins                    0.308996  0.351651\n",
       "proline                       106662.478347  0.440263\n",
       "malic_acid                         0.996416  0.465610\n",
       "flavanoids                         0.934683  0.472344\n",
       "color_intensity                    5.666196  0.477743"
      ]
     },
     "execution_count": 22,
     "metadata": {},
     "output_type": "execute_result"
    }
   ],
   "source": [
    "# Coefficient of variation\n",
    "\n",
    "df_variances = x_train.apply([np.mean, np.var, np.std]).T\n",
    "df_variances['cv'] = df_variances['std'] / df_variances['mean']\n",
    "\n",
    "df_variances.sort_values('cv', ascending=True)[\n",
    "    ['var', 'cv']\n",
    "]"
   ]
  },
  {
   "cell_type": "markdown",
   "metadata": {},
   "source": [
    "## Filters"
   ]
  },
  {
   "cell_type": "code",
   "execution_count": 81,
   "metadata": {},
   "outputs": [],
   "source": [
    "from sklearn.feature_selection import f_classif\n",
    "from sklearn.preprocessing import StandardScaler\n",
    "\n",
    "scaler = StandardScaler()\n",
    "x_train_scaled = scaler.fit_transform(x_train, )\n",
    "\n",
    "f, p = f_classif(x_train_scaled, y_train)"
   ]
  },
  {
   "cell_type": "code",
   "execution_count": 82,
   "metadata": {},
   "outputs": [],
   "source": [
    "from sklearn.feature_selection import mutual_info_classif\n",
    "\n",
    "mi = mutual_info_classif(x_train, y_train)"
   ]
  },
  {
   "cell_type": "code",
   "execution_count": 83,
   "metadata": {},
   "outputs": [
    {
     "data": {
      "text/html": [
       "<style  type=\"text/css\" >\n",
       "    #T_6523761e_2a27_11ea_9863_784f43517922row0_col1 {\n",
       "            width:  10em;\n",
       "             height:  80%;\n",
       "            background:  linear-gradient(90deg,grey 89.1%, transparent 89.1%);\n",
       "        }    #T_6523761e_2a27_11ea_9863_784f43517922row0_col2 {\n",
       "            width:  10em;\n",
       "             height:  80%;\n",
       "            background:  linear-gradient(90deg,grey 100.0%, transparent 100.0%);\n",
       "        }    #T_6523761e_2a27_11ea_9863_784f43517922row1_col1 {\n",
       "            width:  10em;\n",
       "             height:  80%;\n",
       "            background:  linear-gradient(90deg,grey 52.9%, transparent 52.9%);\n",
       "        }    #T_6523761e_2a27_11ea_9863_784f43517922row1_col2 {\n",
       "            width:  10em;\n",
       "             height:  80%;\n",
       "            background:  linear-gradient(90deg,grey 88.6%, transparent 88.6%);\n",
       "        }    #T_6523761e_2a27_11ea_9863_784f43517922row2_col1 {\n",
       "            width:  10em;\n",
       "             height:  80%;\n",
       "            background:  linear-gradient(90deg,grey 100.0%, transparent 100.0%);\n",
       "        }    #T_6523761e_2a27_11ea_9863_784f43517922row2_col2 {\n",
       "            width:  10em;\n",
       "             height:  80%;\n",
       "            background:  linear-gradient(90deg,grey 72.5%, transparent 72.5%);\n",
       "        }    #T_6523761e_2a27_11ea_9863_784f43517922row3_col1 {\n",
       "            width:  10em;\n",
       "             height:  80%;\n",
       "            background:  linear-gradient(90deg,grey 66.1%, transparent 66.1%);\n",
       "        }    #T_6523761e_2a27_11ea_9863_784f43517922row3_col2 {\n",
       "            width:  10em;\n",
       "             height:  80%;\n",
       "            background:  linear-gradient(90deg,grey 67.5%, transparent 67.5%);\n",
       "        }    #T_6523761e_2a27_11ea_9863_784f43517922row4_col1 {\n",
       "            width:  10em;\n",
       "             height:  80%;\n",
       "            background:  linear-gradient(90deg,grey 59.7%, transparent 59.7%);\n",
       "        }    #T_6523761e_2a27_11ea_9863_784f43517922row4_col2 {\n",
       "            width:  10em;\n",
       "             height:  80%;\n",
       "            background:  linear-gradient(90deg,grey 60.4%, transparent 60.4%);\n",
       "        }    #T_6523761e_2a27_11ea_9863_784f43517922row5_col1 {\n",
       "            width:  10em;\n",
       "             height:  80%;\n",
       "            background:  linear-gradient(90deg,grey 47.0%, transparent 47.0%);\n",
       "        }    #T_6523761e_2a27_11ea_9863_784f43517922row5_col2 {\n",
       "            width:  10em;\n",
       "             height:  80%;\n",
       "            background:  linear-gradient(90deg,grey 58.0%, transparent 58.0%);\n",
       "        }    #T_6523761e_2a27_11ea_9863_784f43517922row6_col1 {\n",
       "            width:  10em;\n",
       "             height:  80%;\n",
       "            background:  linear-gradient(90deg,grey 37.4%, transparent 37.4%);\n",
       "        }    #T_6523761e_2a27_11ea_9863_784f43517922row6_col2 {\n",
       "            width:  10em;\n",
       "             height:  80%;\n",
       "            background:  linear-gradient(90deg,grey 50.8%, transparent 50.8%);\n",
       "        }    #T_6523761e_2a27_11ea_9863_784f43517922row7_col1 {\n",
       "            width:  10em;\n",
       "             height:  80%;\n",
       "            background:  linear-gradient(90deg,grey 12.3%, transparent 12.3%);\n",
       "        }    #T_6523761e_2a27_11ea_9863_784f43517922row7_col2 {\n",
       "            width:  10em;\n",
       "             height:  80%;\n",
       "            background:  linear-gradient(90deg,grey 38.9%, transparent 38.9%);\n",
       "        }    #T_6523761e_2a27_11ea_9863_784f43517922row8_col1 {\n",
       "            width:  10em;\n",
       "             height:  80%;\n",
       "            background:  linear-gradient(90deg,grey 14.4%, transparent 14.4%);\n",
       "        }    #T_6523761e_2a27_11ea_9863_784f43517922row8_col2 {\n",
       "            width:  10em;\n",
       "             height:  80%;\n",
       "            background:  linear-gradient(90deg,grey 34.3%, transparent 34.3%);\n",
       "        }    #T_6523761e_2a27_11ea_9863_784f43517922row9_col1 {\n",
       "            width:  10em;\n",
       "             height:  80%;\n",
       "            background:  linear-gradient(90deg,grey 6.0%, transparent 6.0%);\n",
       "        }    #T_6523761e_2a27_11ea_9863_784f43517922row9_col2 {\n",
       "            width:  10em;\n",
       "             height:  80%;\n",
       "            background:  linear-gradient(90deg,grey 20.1%, transparent 20.1%);\n",
       "        }    #T_6523761e_2a27_11ea_9863_784f43517922row10_col1 {\n",
       "            width:  10em;\n",
       "             height:  80%;\n",
       "        }    #T_6523761e_2a27_11ea_9863_784f43517922row10_col2 {\n",
       "            width:  10em;\n",
       "             height:  80%;\n",
       "            background:  linear-gradient(90deg,grey 13.2%, transparent 13.2%);\n",
       "        }    #T_6523761e_2a27_11ea_9863_784f43517922row11_col1 {\n",
       "            width:  10em;\n",
       "             height:  80%;\n",
       "            background:  linear-gradient(90deg,grey 1.7%, transparent 1.7%);\n",
       "        }    #T_6523761e_2a27_11ea_9863_784f43517922row11_col2 {\n",
       "            width:  10em;\n",
       "             height:  80%;\n",
       "            background:  linear-gradient(90deg,grey 2.1%, transparent 2.1%);\n",
       "        }    #T_6523761e_2a27_11ea_9863_784f43517922row12_col1 {\n",
       "            width:  10em;\n",
       "             height:  80%;\n",
       "            background:  linear-gradient(90deg,grey 0.8%, transparent 0.8%);\n",
       "        }    #T_6523761e_2a27_11ea_9863_784f43517922row12_col2 {\n",
       "            width:  10em;\n",
       "             height:  80%;\n",
       "        }</style><table id=\"T_6523761e_2a27_11ea_9863_784f43517922\" ><thead>    <tr>        <th class=\"blank level0\" ></th>        <th class=\"col_heading level0 col0\" >Feature</th>        <th class=\"col_heading level0 col1\" >F</th>        <th class=\"col_heading level0 col2\" >MI</th>    </tr></thead><tbody>\n",
       "                <tr>\n",
       "                        <th id=\"T_6523761e_2a27_11ea_9863_784f43517922level0_row0\" class=\"row_heading level0 row0\" >6</th>\n",
       "                        <td id=\"T_6523761e_2a27_11ea_9863_784f43517922row0_col0\" class=\"data row0 col0\" >flavanoids</td>\n",
       "                        <td id=\"T_6523761e_2a27_11ea_9863_784f43517922row0_col1\" class=\"data row0 col1\" >119.566</td>\n",
       "                        <td id=\"T_6523761e_2a27_11ea_9863_784f43517922row0_col2\" class=\"data row0 col2\" >0.688558</td>\n",
       "            </tr>\n",
       "            <tr>\n",
       "                        <th id=\"T_6523761e_2a27_11ea_9863_784f43517922level0_row1\" class=\"row_heading level0 row1\" >9</th>\n",
       "                        <td id=\"T_6523761e_2a27_11ea_9863_784f43517922row1_col0\" class=\"data row1 col0\" >color_intensity</td>\n",
       "                        <td id=\"T_6523761e_2a27_11ea_9863_784f43517922row1_col1\" class=\"data row1 col1\" >74.0814</td>\n",
       "                        <td id=\"T_6523761e_2a27_11ea_9863_784f43517922row1_col2\" class=\"data row1 col2\" >0.624761</td>\n",
       "            </tr>\n",
       "            <tr>\n",
       "                        <th id=\"T_6523761e_2a27_11ea_9863_784f43517922level0_row2\" class=\"row_heading level0 row2\" >12</th>\n",
       "                        <td id=\"T_6523761e_2a27_11ea_9863_784f43517922row2_col0\" class=\"data row2 col0\" >proline</td>\n",
       "                        <td id=\"T_6523761e_2a27_11ea_9863_784f43517922row2_col1\" class=\"data row2 col1\" >133.289</td>\n",
       "                        <td id=\"T_6523761e_2a27_11ea_9863_784f43517922row2_col2\" class=\"data row2 col2\" >0.534474</td>\n",
       "            </tr>\n",
       "            <tr>\n",
       "                        <th id=\"T_6523761e_2a27_11ea_9863_784f43517922level0_row3\" class=\"row_heading level0 row3\" >11</th>\n",
       "                        <td id=\"T_6523761e_2a27_11ea_9863_784f43517922row3_col0\" class=\"data row3 col0\" >od280/od315_of_diluted_wines</td>\n",
       "                        <td id=\"T_6523761e_2a27_11ea_9863_784f43517922row3_col1\" class=\"data row3 col1\" >90.6593</td>\n",
       "                        <td id=\"T_6523761e_2a27_11ea_9863_784f43517922row3_col2\" class=\"data row3 col2\" >0.506598</td>\n",
       "            </tr>\n",
       "            <tr>\n",
       "                        <th id=\"T_6523761e_2a27_11ea_9863_784f43517922level0_row4\" class=\"row_heading level0 row4\" >0</th>\n",
       "                        <td id=\"T_6523761e_2a27_11ea_9863_784f43517922row4_col0\" class=\"data row4 col0\" >alcohol</td>\n",
       "                        <td id=\"T_6523761e_2a27_11ea_9863_784f43517922row4_col1\" class=\"data row4 col1\" >82.6288</td>\n",
       "                        <td id=\"T_6523761e_2a27_11ea_9863_784f43517922row4_col2\" class=\"data row4 col2\" >0.46681</td>\n",
       "            </tr>\n",
       "            <tr>\n",
       "                        <th id=\"T_6523761e_2a27_11ea_9863_784f43517922level0_row5\" class=\"row_heading level0 row5\" >10</th>\n",
       "                        <td id=\"T_6523761e_2a27_11ea_9863_784f43517922row5_col0\" class=\"data row5 col0\" >hue</td>\n",
       "                        <td id=\"T_6523761e_2a27_11ea_9863_784f43517922row5_col1\" class=\"data row5 col1\" >66.7377</td>\n",
       "                        <td id=\"T_6523761e_2a27_11ea_9863_784f43517922row5_col2\" class=\"data row5 col2\" >0.453248</td>\n",
       "            </tr>\n",
       "            <tr>\n",
       "                        <th id=\"T_6523761e_2a27_11ea_9863_784f43517922level0_row6\" class=\"row_heading level0 row6\" >5</th>\n",
       "                        <td id=\"T_6523761e_2a27_11ea_9863_784f43517922row6_col0\" class=\"data row6 col0\" >total_phenols</td>\n",
       "                        <td id=\"T_6523761e_2a27_11ea_9863_784f43517922row6_col1\" class=\"data row6 col1\" >54.6519</td>\n",
       "                        <td id=\"T_6523761e_2a27_11ea_9863_784f43517922row6_col2\" class=\"data row6 col2\" >0.41294</td>\n",
       "            </tr>\n",
       "            <tr>\n",
       "                        <th id=\"T_6523761e_2a27_11ea_9863_784f43517922level0_row7\" class=\"row_heading level0 row7\" >1</th>\n",
       "                        <td id=\"T_6523761e_2a27_11ea_9863_784f43517922row7_col0\" class=\"data row7 col0\" >malic_acid</td>\n",
       "                        <td id=\"T_6523761e_2a27_11ea_9863_784f43517922row7_col1\" class=\"data row7 col1\" >23.0863</td>\n",
       "                        <td id=\"T_6523761e_2a27_11ea_9863_784f43517922row7_col2\" class=\"data row7 col2\" >0.346242</td>\n",
       "            </tr>\n",
       "            <tr>\n",
       "                        <th id=\"T_6523761e_2a27_11ea_9863_784f43517922level0_row8\" class=\"row_heading level0 row8\" >3</th>\n",
       "                        <td id=\"T_6523761e_2a27_11ea_9863_784f43517922row8_col0\" class=\"data row8 col0\" >alcalinity_of_ash</td>\n",
       "                        <td id=\"T_6523761e_2a27_11ea_9863_784f43517922row8_col1\" class=\"data row8 col1\" >25.8039</td>\n",
       "                        <td id=\"T_6523761e_2a27_11ea_9863_784f43517922row8_col2\" class=\"data row8 col2\" >0.320276</td>\n",
       "            </tr>\n",
       "            <tr>\n",
       "                        <th id=\"T_6523761e_2a27_11ea_9863_784f43517922level0_row9\" class=\"row_heading level0 row9\" >8</th>\n",
       "                        <td id=\"T_6523761e_2a27_11ea_9863_784f43517922row9_col0\" class=\"data row9 col0\" >proanthocyanins</td>\n",
       "                        <td id=\"T_6523761e_2a27_11ea_9863_784f43517922row9_col1\" class=\"data row9 col1\" >15.1593</td>\n",
       "                        <td id=\"T_6523761e_2a27_11ea_9863_784f43517922row9_col2\" class=\"data row9 col2\" >0.240758</td>\n",
       "            </tr>\n",
       "            <tr>\n",
       "                        <th id=\"T_6523761e_2a27_11ea_9863_784f43517922level0_row10\" class=\"row_heading level0 row10\" >4</th>\n",
       "                        <td id=\"T_6523761e_2a27_11ea_9863_784f43517922row10_col0\" class=\"data row10 col0\" >magnesium</td>\n",
       "                        <td id=\"T_6523761e_2a27_11ea_9863_784f43517922row10_col1\" class=\"data row10 col1\" >7.65196</td>\n",
       "                        <td id=\"T_6523761e_2a27_11ea_9863_784f43517922row10_col2\" class=\"data row10 col2\" >0.202124</td>\n",
       "            </tr>\n",
       "            <tr>\n",
       "                        <th id=\"T_6523761e_2a27_11ea_9863_784f43517922level0_row11\" class=\"row_heading level0 row11\" >7</th>\n",
       "                        <td id=\"T_6523761e_2a27_11ea_9863_784f43517922row11_col0\" class=\"data row11 col0\" >nonflavanoid_phenols</td>\n",
       "                        <td id=\"T_6523761e_2a27_11ea_9863_784f43517922row11_col1\" class=\"data row11 col1\" >9.79048</td>\n",
       "                        <td id=\"T_6523761e_2a27_11ea_9863_784f43517922row11_col2\" class=\"data row11 col2\" >0.13985</td>\n",
       "            </tr>\n",
       "            <tr>\n",
       "                        <th id=\"T_6523761e_2a27_11ea_9863_784f43517922level0_row12\" class=\"row_heading level0 row12\" >2</th>\n",
       "                        <td id=\"T_6523761e_2a27_11ea_9863_784f43517922row12_col0\" class=\"data row12 col0\" >ash</td>\n",
       "                        <td id=\"T_6523761e_2a27_11ea_9863_784f43517922row12_col1\" class=\"data row12 col1\" >8.69691</td>\n",
       "                        <td id=\"T_6523761e_2a27_11ea_9863_784f43517922row12_col2\" class=\"data row12 col2\" >0.12829</td>\n",
       "            </tr>\n",
       "    </tbody></table>"
      ],
      "text/plain": [
       "<pandas.io.formats.style.Styler at 0x1a20e7fac8>"
      ]
     },
     "execution_count": 83,
     "metadata": {},
     "output_type": "execute_result"
    }
   ],
   "source": [
    "pd.DataFrame(\n",
    "    {\n",
    "        'Feature': wine.feature_names,\n",
    "        'F': f,\n",
    "        'MI': mi,\n",
    "    }\n",
    ").sort_values(\n",
    "    'MI', ascending=False\n",
    ").style.bar(\n",
    "    subset=['F', 'MI'], color='grey'\n",
    ")"
   ]
  },
  {
   "cell_type": "code",
   "execution_count": 49,
   "metadata": {},
   "outputs": [
    {
     "name": "stderr",
     "output_type": "stream",
     "text": [
      "/Users/tarek/anaconda3/envs/scikitbook/lib/python3.6/site-packages/ipykernel_launcher.py:24: UserWarning: Matplotlib is currently using module://ipykernel.pylab.backend_inline, which is a non-GUI backend, so cannot show the figure.\n"
     ]
    },
    {
     "data": {
      "image/png": "[encoded data removed]",
      "text/plain": [
       "<Figure size 1008x576 with 3 Axes>"
      ]
     },
     "metadata": {
      "needs_background": "light"
     },
     "output_type": "display_data"
    }
   ],
   "source": [
    "fig, axs = plt.subplots(1, 3, figsize=(14, 8));\n",
    "\n",
    "df.plot(\n",
    "    kind='scatter',\n",
    "    x='flavanoids',\n",
    "    y='target',\n",
    "    ax=axs[0]\n",
    ")\n",
    "\n",
    "df.plot(\n",
    "    kind='scatter',\n",
    "    x='color_intensity',\n",
    "    y='target',\n",
    "    ax=axs[1]\n",
    ")\n",
    "\n",
    "df.plot(\n",
    "    kind='scatter',\n",
    "    x='proline',\n",
    "    y='target',\n",
    "    ax=axs[2]\n",
    ")\n",
    "\n",
    "fig.show()"
   ]
  },
  {
   "cell_type": "code",
   "execution_count": 53,
   "metadata": {},
   "outputs": [
    {
     "name": "stderr",
     "output_type": "stream",
     "text": [
      "/Users/tarek/anaconda3/envs/scikitbook/lib/python3.6/site-packages/ipykernel_launcher.py:35: UserWarning: Matplotlib is currently using module://ipykernel.pylab.backend_inline, which is a non-GUI backend, so cannot show the figure.\n"
     ]
    },
    {
     "data": {
      "image/png": "[encoded data removed]",
      "text/plain": [
       "<Figure size 1008x576 with 2 Axes>"
      ]
     },
     "metadata": {
      "needs_background": "light"
     },
     "output_type": "display_data"
    }
   ],
   "source": [
    "fig, axs = plt.subplots(1, 2, figsize=(14, 8));\n",
    "\n",
    "for c in df['target'].value_counts().index.tolist():\n",
    "    \n",
    "    df[\n",
    "        df['target'] == c\n",
    "    ].plot(\n",
    "        kind='scatter',\n",
    "        x='flavanoids',\n",
    "        y='proline',\n",
    "        color=['r', 'g', 'b'][c],\n",
    "        marker=f'${c}$',\n",
    "        s=64,\n",
    "        alpha='0.5',\n",
    "        label=f'Class {c}',\n",
    "        ax=axs[0],\n",
    "    )\n",
    "\n",
    "for c in df['target'].value_counts().index.tolist():\n",
    "    \n",
    "    df[\n",
    "        df['target'] == c\n",
    "    ].plot(\n",
    "        kind='scatter',\n",
    "        x='flavanoids',\n",
    "        y='color_intensity',\n",
    "        color=['r', 'g', 'b'][c],\n",
    "        marker=f'${c}$',\n",
    "        s=64,\n",
    "        alpha='0.5',\n",
    "        label=f'Class {c}',\n",
    "        ax=axs[1],\n",
    "    )\n",
    "\n",
    "fig.show()"
   ]
  },
  {
   "cell_type": "code",
   "execution_count": 64,
   "metadata": {},
   "outputs": [
    {
     "data": {
      "text/html": [
       "<div>\n",
       "<style scoped>\n",
       "    .dataframe tbody tr th:only-of-type {\n",
       "        vertical-align: middle;\n",
       "    }\n",
       "\n",
       "    .dataframe tbody tr th {\n",
       "        vertical-align: top;\n",
       "    }\n",
       "\n",
       "    .dataframe thead th {\n",
       "        text-align: right;\n",
       "    }\n",
       "</style>\n",
       "<table border=\"1\" class=\"dataframe\">\n",
       "  <thead>\n",
       "    <tr style=\"text-align: right;\">\n",
       "      <th></th>\n",
       "      <th>alcohol</th>\n",
       "      <th>malic_acid</th>\n",
       "      <th>total_phenols</th>\n",
       "      <th>flavanoids</th>\n",
       "      <th>color_intensity</th>\n",
       "      <th>hue</th>\n",
       "      <th>od280/od315_of_diluted_wines</th>\n",
       "      <th>proline</th>\n",
       "    </tr>\n",
       "  </thead>\n",
       "  <tbody>\n",
       "    <tr>\n",
       "      <th>131</th>\n",
       "      <td>12.88</td>\n",
       "      <td>2.99</td>\n",
       "      <td>1.30</td>\n",
       "      <td>1.22</td>\n",
       "      <td>5.40</td>\n",
       "      <td>0.74</td>\n",
       "      <td>1.42</td>\n",
       "      <td>530.0</td>\n",
       "    </tr>\n",
       "    <tr>\n",
       "      <th>16</th>\n",
       "      <td>14.30</td>\n",
       "      <td>1.92</td>\n",
       "      <td>2.80</td>\n",
       "      <td>3.14</td>\n",
       "      <td>6.20</td>\n",
       "      <td>1.07</td>\n",
       "      <td>2.65</td>\n",
       "      <td>1280.0</td>\n",
       "    </tr>\n",
       "    <tr>\n",
       "      <th>106</th>\n",
       "      <td>12.25</td>\n",
       "      <td>1.73</td>\n",
       "      <td>1.65</td>\n",
       "      <td>2.03</td>\n",
       "      <td>3.40</td>\n",
       "      <td>1.00</td>\n",
       "      <td>3.17</td>\n",
       "      <td>510.0</td>\n",
       "    </tr>\n",
       "    <tr>\n",
       "      <th>64</th>\n",
       "      <td>12.17</td>\n",
       "      <td>1.45</td>\n",
       "      <td>1.89</td>\n",
       "      <td>1.75</td>\n",
       "      <td>2.95</td>\n",
       "      <td>1.45</td>\n",
       "      <td>2.23</td>\n",
       "      <td>355.0</td>\n",
       "    </tr>\n",
       "    <tr>\n",
       "      <th>68</th>\n",
       "      <td>13.34</td>\n",
       "      <td>0.94</td>\n",
       "      <td>2.53</td>\n",
       "      <td>1.30</td>\n",
       "      <td>3.17</td>\n",
       "      <td>1.02</td>\n",
       "      <td>1.93</td>\n",
       "      <td>750.0</td>\n",
       "    </tr>\n",
       "    <tr>\n",
       "      <th>...</th>\n",
       "      <td>...</td>\n",
       "      <td>...</td>\n",
       "      <td>...</td>\n",
       "      <td>...</td>\n",
       "      <td>...</td>\n",
       "      <td>...</td>\n",
       "      <td>...</td>\n",
       "      <td>...</td>\n",
       "    </tr>\n",
       "    <tr>\n",
       "      <th>102</th>\n",
       "      <td>12.34</td>\n",
       "      <td>2.45</td>\n",
       "      <td>2.56</td>\n",
       "      <td>2.11</td>\n",
       "      <td>2.80</td>\n",
       "      <td>0.80</td>\n",
       "      <td>3.38</td>\n",
       "      <td>438.0</td>\n",
       "    </tr>\n",
       "    <tr>\n",
       "      <th>100</th>\n",
       "      <td>12.08</td>\n",
       "      <td>2.08</td>\n",
       "      <td>2.23</td>\n",
       "      <td>2.17</td>\n",
       "      <td>3.30</td>\n",
       "      <td>1.27</td>\n",
       "      <td>2.96</td>\n",
       "      <td>710.0</td>\n",
       "    </tr>\n",
       "    <tr>\n",
       "      <th>44</th>\n",
       "      <td>13.05</td>\n",
       "      <td>1.77</td>\n",
       "      <td>3.00</td>\n",
       "      <td>3.00</td>\n",
       "      <td>5.04</td>\n",
       "      <td>0.88</td>\n",
       "      <td>3.35</td>\n",
       "      <td>885.0</td>\n",
       "    </tr>\n",
       "    <tr>\n",
       "      <th>132</th>\n",
       "      <td>12.81</td>\n",
       "      <td>2.31</td>\n",
       "      <td>1.15</td>\n",
       "      <td>1.09</td>\n",
       "      <td>5.70</td>\n",
       "      <td>0.66</td>\n",
       "      <td>1.36</td>\n",
       "      <td>560.0</td>\n",
       "    </tr>\n",
       "    <tr>\n",
       "      <th>117</th>\n",
       "      <td>12.42</td>\n",
       "      <td>1.61</td>\n",
       "      <td>2.00</td>\n",
       "      <td>2.09</td>\n",
       "      <td>2.06</td>\n",
       "      <td>1.06</td>\n",
       "      <td>2.96</td>\n",
       "      <td>345.0</td>\n",
       "    </tr>\n",
       "  </tbody>\n",
       "</table>\n",
       "<p>106 rows × 8 columns</p>\n",
       "</div>"
      ],
      "text/plain": [
       "     alcohol  malic_acid  total_phenols  flavanoids  color_intensity   hue  \\\n",
       "131    12.88        2.99           1.30        1.22             5.40  0.74   \n",
       "16     14.30        1.92           2.80        3.14             6.20  1.07   \n",
       "106    12.25        1.73           1.65        2.03             3.40  1.00   \n",
       "64     12.17        1.45           1.89        1.75             2.95  1.45   \n",
       "68     13.34        0.94           2.53        1.30             3.17  1.02   \n",
       "..       ...         ...            ...         ...              ...   ...   \n",
       "102    12.34        2.45           2.56        2.11             2.80  0.80   \n",
       "100    12.08        2.08           2.23        2.17             3.30  1.27   \n",
       "44     13.05        1.77           3.00        3.00             5.04  0.88   \n",
       "132    12.81        2.31           1.15        1.09             5.70  0.66   \n",
       "117    12.42        1.61           2.00        2.09             2.06  1.06   \n",
       "\n",
       "     od280/od315_of_diluted_wines  proline  \n",
       "131                          1.42    530.0  \n",
       "16                           2.65   1280.0  \n",
       "106                          3.17    510.0  \n",
       "64                           2.23    355.0  \n",
       "68                           1.93    750.0  \n",
       "..                            ...      ...  \n",
       "102                          3.38    438.0  \n",
       "100                          2.96    710.0  \n",
       "44                           3.35    885.0  \n",
       "132                          1.36    560.0  \n",
       "117                          2.96    345.0  \n",
       "\n",
       "[106 rows x 8 columns]"
      ]
     },
     "execution_count": 64,
     "metadata": {},
     "output_type": "execute_result"
    }
   ],
   "source": [
    "from sklearn.feature_selection import SelectKBest\n",
    "from sklearn.feature_selection import mutual_info_classif\n",
    "\n",
    "selector = SelectKBest(score_func=mutual_info_classif, k=8)\n",
    "selector.fit(x_train, y_train)\n",
    "\n",
    "x_train.iloc[:, selector.get_support()]"
   ]
  },
  {
   "cell_type": "code",
   "execution_count": 87,
   "metadata": {},
   "outputs": [
    {
     "name": "stdout",
     "output_type": "stream",
     "text": [
      "Logistic Regression (MI top 5) Accuracy: 0.90\n",
      "Logistic Regression (F top 5) Accuracy: 0.97\n"
     ]
    }
   ],
   "source": [
    "from sklearn.feature_selection import SelectKBest\n",
    "from sklearn.preprocessing import StandardScaler\n",
    "from sklearn.feature_selection import mutual_info_classif\n",
    "from sklearn.linear_model import LogisticRegression\n",
    "from sklearn.metrics import accuracy_score\n",
    "from sklearn.tree import DecisionTreeClassifier\n",
    "\n",
    "topn = 5\n",
    "\n",
    "# mutual_info_classif\n",
    "\n",
    "selector = SelectKBest(score_func=mutual_info_classif, k=2)\n",
    "selector.fit(x_train, y_train)\n",
    "\n",
    "x_train_topn = x_train.iloc[:, selector.get_support()]\n",
    "x_test_topn = x_test.iloc[:, selector.get_support()]\n",
    "\n",
    "scaler = StandardScaler()\n",
    "x_train_topn_scaled = scaler.fit_transform(x_train_topn)\n",
    "x_test_topn_scaled = scaler.transform(x_test_topn)\n",
    "\n",
    "model = LogisticRegression()\n",
    "model.fit(x_train_topn_scaled, y_train)\n",
    "y_pred = model.predict(x_test_topn_scaled)\n",
    "\n",
    "lr_mi_accuracy = accuracy_score(y_test, y_pred)\n",
    "print(\n",
    "    f'Logistic Regression (MI top {topn}) Accuracy: {lr_mi_accuracy:.2f}'\n",
    ")\n",
    "\n",
    "# f_classif\n",
    "\n",
    "selector = SelectKBest(score_func=f_classif, k=topn)\n",
    "selector.fit(x_train, y_train)\n",
    "\n",
    "x_train_topn = x_train.iloc[:, selector.get_support()]\n",
    "x_test_topn = x_test.iloc[:, selector.get_support()]\n",
    "\n",
    "scaler = StandardScaler()\n",
    "x_train_topn_scaled = scaler.fit_transform(x_train_topn)\n",
    "x_test_topn_scaled = scaler.transform(x_test_topn)\n",
    "\n",
    "model = LogisticRegression()\n",
    "model.fit(x_train_topn_scaled, y_train)\n",
    "y_pred = model.predict(x_test_topn_scaled)\n",
    "\n",
    "lr_f_accuracy = accuracy_score(y_test, y_pred)\n",
    "print(\n",
    "    f'Logistic Regression (F top {topn}) Accuracy: {lr_f_accuracy:.2f}'\n",
    ")\n",
    "\n"
   ]
  },
  {
   "cell_type": "code",
   "execution_count": 90,
   "metadata": {},
   "outputs": [
    {
     "name": "stdout",
     "output_type": "stream",
     "text": [
      "Decision Tree Classifier (MI top 4) Accuracy: 0.93\n",
      "Decision Tree Classifier (F top 4) Accuracy: 0.89\n"
     ]
    }
   ],
   "source": [
    "from sklearn.feature_selection import SelectKBest\n",
    "from sklearn.preprocessing import StandardScaler\n",
    "from sklearn.feature_selection import mutual_info_classif\n",
    "from sklearn.linear_model import LogisticRegression\n",
    "from sklearn.tree import DecisionTreeClassifier\n",
    "from sklearn.metrics import accuracy_score\n",
    "\n",
    "topn = 4\n",
    "\n",
    "# mutual_info_classif\n",
    "\n",
    "selector = SelectKBest(score_func=mutual_info_classif, k=2)\n",
    "selector.fit(x_train, y_train)\n",
    "\n",
    "x_train_topn = x_train.iloc[:, selector.get_support()]\n",
    "x_test_topn = x_test.iloc[:, selector.get_support()]\n",
    "\n",
    "scaler = StandardScaler()\n",
    "x_train_topn_scaled = scaler.fit_transform(x_train_topn)\n",
    "x_test_topn_scaled = scaler.transform(x_test_topn)\n",
    "\n",
    "model = DecisionTreeClassifier()\n",
    "model.fit(x_train_topn_scaled, y_train)\n",
    "y_pred = model.predict(x_test_topn_scaled)\n",
    "\n",
    "dt_mi_accuracy = accuracy_score(y_test, y_pred)\n",
    "print(\n",
    "    f'Decision Tree Classifier (MI top {topn}) Accuracy: {dt_mi_accuracy:.2f}'\n",
    ")\n",
    "\n",
    "# f_classif\n",
    "\n",
    "selector = SelectKBest(score_func=f_classif, k=topn)\n",
    "selector.fit(x_train, y_train)\n",
    "\n",
    "x_train_topn = x_train.iloc[:, selector.get_support()]\n",
    "x_test_topn = x_test.iloc[:, selector.get_support()]\n",
    "\n",
    "scaler = StandardScaler()\n",
    "x_train_topn_scaled = scaler.fit_transform(x_train_topn)\n",
    "x_test_topn_scaled = scaler.transform(x_test_topn)\n",
    "\n",
    "model = DecisionTreeClassifier()\n",
    "model.fit(x_train_topn_scaled, y_train)\n",
    "y_pred = model.predict(x_test_topn_scaled)\n",
    "\n",
    "dt_f_accuracy = accuracy_score(y_test, y_pred)\n",
    "print(\n",
    "    f'Decision Tree Classifier (F top {topn}) Accuracy: {dt_f_accuracy:.2f}'\n",
    ")\n",
    "\n"
   ]
  },
  {
   "cell_type": "code",
   "execution_count": 102,
   "metadata": {},
   "outputs": [
    {
     "data": {
      "text/html": [
       "<style  type=\"text/css\" >\n",
       "    #T_fcc455e2_2a29_11ea_ad67_784f43517922row0_col0 {\n",
       "            font-weight:  bold;\n",
       "        }    #T_fcc455e2_2a29_11ea_ad67_784f43517922row1_col1 {\n",
       "            font-weight:  bold;\n",
       "        }</style><table id=\"T_fcc455e2_2a29_11ea_ad67_784f43517922\" ><thead>    <tr>        <th class=\"blank level0\" ></th>        <th class=\"col_heading level0 col0\" >Logistic Regression</th>        <th class=\"col_heading level0 col1\" >Decision Tree Classifier</th>    </tr></thead><tbody>\n",
       "                <tr>\n",
       "                        <th id=\"T_fcc455e2_2a29_11ea_ad67_784f43517922level0_row0\" class=\"row_heading level0 row0\" >SelectKBest(f_classif)</th>\n",
       "                        <td id=\"T_fcc455e2_2a29_11ea_ad67_784f43517922row0_col0\" class=\"data row0 col0\" >0.97</td>\n",
       "                        <td id=\"T_fcc455e2_2a29_11ea_ad67_784f43517922row0_col1\" class=\"data row0 col1\" >0.89</td>\n",
       "            </tr>\n",
       "            <tr>\n",
       "                        <th id=\"T_fcc455e2_2a29_11ea_ad67_784f43517922level0_row1\" class=\"row_heading level0 row1\" >SelectKBest(mutual_info_classif)</th>\n",
       "                        <td id=\"T_fcc455e2_2a29_11ea_ad67_784f43517922row1_col0\" class=\"data row1 col0\" >0.9</td>\n",
       "                        <td id=\"T_fcc455e2_2a29_11ea_ad67_784f43517922row1_col1\" class=\"data row1 col1\" >0.93</td>\n",
       "            </tr>\n",
       "    </tbody></table>"
      ],
      "text/plain": [
       "<pandas.io.formats.style.Styler at 0x1a21e781d0>"
      ]
     },
     "execution_count": 102,
     "metadata": {},
     "output_type": "execute_result"
    }
   ],
   "source": [
    "def highlight_max(s):\n",
    "    is_max = s == s.max()\n",
    "    return ['font-weight: bold' if v else '' for v in is_max]\n",
    "\n",
    "pd.DataFrame(\n",
    "    {\n",
    "        'Logistic Regression': [lr_f_accuracy, lr_mi_accuracy],\n",
    "        'Decision Tree Classifier': [dt_f_accuracy, dt_mi_accuracy], \n",
    "    },\n",
    "    index=['SelectKBest(f_classif)', 'SelectKBest(mutual_info_classif)'],\n",
    ").round(2).style.apply(highlight_max)"
   ]
  },
  {
   "cell_type": "code",
   "execution_count": 56,
   "metadata": {},
   "outputs": [
    {
     "name": "stdout",
     "output_type": "stream",
     "text": [
      "Logistic Regression Accuracy 0.9444444444444444\n",
      "Decision Tree Classifier Accuracy 0.8611111111111112\n"
     ]
    },
    {
     "name": "stderr",
     "output_type": "stream",
     "text": [
      "/Users/tarek/anaconda3/envs/scikitbook/lib/python3.6/site-packages/sklearn/linear_model/_logistic.py:939: ConvergenceWarning: lbfgs failed to converge (status=1):\n",
      "STOP: TOTAL NO. of ITERATIONS REACHED LIMIT.\n",
      "\n",
      "Increase the number of iterations (max_iter) or scale the data as shown in:\n",
      "    https://scikit-learn.org/stable/modules/preprocessing.html.\n",
      "Please also refer to the documentation for alternative solver options:\n",
      "    https://scikit-learn.org/stable/modules/linear_model.html#logistic-regression\n",
      "  extra_warning_msg=_LOGISTIC_SOLVER_CONVERGENCE_MSG)\n"
     ]
    }
   ],
   "source": [
    "from sklearn.feature_selection import SelectKBest\n",
    "from sklearn.feature_selection import mutual_info_classif\n",
    "\n",
    "selector = SelectKBest(score_func=mutual_info_classif, k=3)\n",
    "selector.fit(x_train, y_train)\n",
    "\n",
    "x_train_topn = x_train.iloc[:, selector.get_support()]\n",
    "x_test_topn = x_test.iloc[:, selector.get_support()]\n",
    "\n",
    "from sklearn.linear_model import LogisticRegression\n",
    "from sklearn.metrics import accuracy_score\n",
    "from sklearn.tree import DecisionTreeClassifier\n",
    "\n",
    "model = LogisticRegression()\n",
    "model.fit(x_train_topn, y_train)\n",
    "y_pred = model.predict(x_test_topn)\n",
    "\n",
    "print(\n",
    "    'Logistic Regression Accuracy',\n",
    "    accuracy_score(y_test, y_pred)\n",
    ")\n",
    "\n",
    "model = DecisionTreeClassifier()\n",
    "model.fit(x_train_topn, y_train)\n",
    "y_pred = model.predict(x_test_topn)\n",
    "\n",
    "print(\n",
    "    'Decision Tree Classifier Accuracy',\n",
    "    accuracy_score(y_test, y_pred)\n",
    ")"
   ]
  },
  {
   "cell_type": "code",
   "execution_count": null,
   "metadata": {},
   "outputs": [],
   "source": []
  },
  {
   "cell_type": "code",
   "execution_count": 27,
   "metadata": {},
   "outputs": [],
   "source": [
    "# from sklearn.feature_selection import SelectKBest\n",
    "# feature_selection.SelectPercentile"
   ]
  },
  {
   "cell_type": "markdown",
   "metadata": {},
   "source": [
    "## Embedded "
   ]
  },
  {
   "cell_type": "code",
   "execution_count": 28,
   "metadata": {},
   "outputs": [
    {
     "data": {
      "text/plain": [
       "SelectFromModel(estimator=DecisionTreeClassifier(ccp_alpha=0.0,\n",
       "                                                 class_weight=None,\n",
       "                                                 criterion='gini',\n",
       "                                                 max_depth=None,\n",
       "                                                 max_features=None,\n",
       "                                                 max_leaf_nodes=None,\n",
       "                                                 min_impurity_decrease=0.0,\n",
       "                                                 min_impurity_split=None,\n",
       "                                                 min_samples_leaf=1,\n",
       "                                                 min_samples_split=2,\n",
       "                                                 min_weight_fraction_leaf=0.0,\n",
       "                                                 presort='deprecated',\n",
       "                                                 random_state=None,\n",
       "                                                 splitter='best'),\n",
       "                max_features=8, norm_order=1, prefit=False, threshold=-inf)"
      ]
     },
     "execution_count": 28,
     "metadata": {},
     "output_type": "execute_result"
    }
   ],
   "source": [
    "from sklearn.feature_selection import SelectFromModel\n",
    "from sklearn.tree import DecisionTreeClassifier\n",
    "\n",
    "estimator = DecisionTreeClassifier()\n",
    "selector = SelectFromModel(estimator=estimator, threshold=-np.inf, max_features=8)\n",
    "selector.fit(x_train, y_train)"
   ]
  },
  {
   "cell_type": "code",
   "execution_count": 29,
   "metadata": {},
   "outputs": [
    {
     "data": {
      "text/html": [
       "<div>\n",
       "<style scoped>\n",
       "    .dataframe tbody tr th:only-of-type {\n",
       "        vertical-align: middle;\n",
       "    }\n",
       "\n",
       "    .dataframe tbody tr th {\n",
       "        vertical-align: top;\n",
       "    }\n",
       "\n",
       "    .dataframe thead th {\n",
       "        text-align: right;\n",
       "    }\n",
       "</style>\n",
       "<table border=\"1\" class=\"dataframe\">\n",
       "  <thead>\n",
       "    <tr style=\"text-align: right;\">\n",
       "      <th></th>\n",
       "      <th>alcohol</th>\n",
       "      <th>malic_acid</th>\n",
       "      <th>ash</th>\n",
       "      <th>alcalinity_of_ash</th>\n",
       "      <th>flavanoids</th>\n",
       "      <th>color_intensity</th>\n",
       "      <th>hue</th>\n",
       "      <th>proline</th>\n",
       "    </tr>\n",
       "  </thead>\n",
       "  <tbody>\n",
       "    <tr>\n",
       "      <th>131</th>\n",
       "      <td>12.88</td>\n",
       "      <td>2.99</td>\n",
       "      <td>2.40</td>\n",
       "      <td>20.0</td>\n",
       "      <td>1.22</td>\n",
       "      <td>5.40</td>\n",
       "      <td>0.74</td>\n",
       "      <td>530.0</td>\n",
       "    </tr>\n",
       "    <tr>\n",
       "      <th>16</th>\n",
       "      <td>14.30</td>\n",
       "      <td>1.92</td>\n",
       "      <td>2.72</td>\n",
       "      <td>20.0</td>\n",
       "      <td>3.14</td>\n",
       "      <td>6.20</td>\n",
       "      <td>1.07</td>\n",
       "      <td>1280.0</td>\n",
       "    </tr>\n",
       "    <tr>\n",
       "      <th>106</th>\n",
       "      <td>12.25</td>\n",
       "      <td>1.73</td>\n",
       "      <td>2.12</td>\n",
       "      <td>19.0</td>\n",
       "      <td>2.03</td>\n",
       "      <td>3.40</td>\n",
       "      <td>1.00</td>\n",
       "      <td>510.0</td>\n",
       "    </tr>\n",
       "    <tr>\n",
       "      <th>64</th>\n",
       "      <td>12.17</td>\n",
       "      <td>1.45</td>\n",
       "      <td>2.53</td>\n",
       "      <td>19.0</td>\n",
       "      <td>1.75</td>\n",
       "      <td>2.95</td>\n",
       "      <td>1.45</td>\n",
       "      <td>355.0</td>\n",
       "    </tr>\n",
       "    <tr>\n",
       "      <th>68</th>\n",
       "      <td>13.34</td>\n",
       "      <td>0.94</td>\n",
       "      <td>2.36</td>\n",
       "      <td>17.0</td>\n",
       "      <td>1.30</td>\n",
       "      <td>3.17</td>\n",
       "      <td>1.02</td>\n",
       "      <td>750.0</td>\n",
       "    </tr>\n",
       "    <tr>\n",
       "      <th>...</th>\n",
       "      <td>...</td>\n",
       "      <td>...</td>\n",
       "      <td>...</td>\n",
       "      <td>...</td>\n",
       "      <td>...</td>\n",
       "      <td>...</td>\n",
       "      <td>...</td>\n",
       "      <td>...</td>\n",
       "    </tr>\n",
       "    <tr>\n",
       "      <th>102</th>\n",
       "      <td>12.34</td>\n",
       "      <td>2.45</td>\n",
       "      <td>2.46</td>\n",
       "      <td>21.0</td>\n",
       "      <td>2.11</td>\n",
       "      <td>2.80</td>\n",
       "      <td>0.80</td>\n",
       "      <td>438.0</td>\n",
       "    </tr>\n",
       "    <tr>\n",
       "      <th>100</th>\n",
       "      <td>12.08</td>\n",
       "      <td>2.08</td>\n",
       "      <td>1.70</td>\n",
       "      <td>17.5</td>\n",
       "      <td>2.17</td>\n",
       "      <td>3.30</td>\n",
       "      <td>1.27</td>\n",
       "      <td>710.0</td>\n",
       "    </tr>\n",
       "    <tr>\n",
       "      <th>44</th>\n",
       "      <td>13.05</td>\n",
       "      <td>1.77</td>\n",
       "      <td>2.10</td>\n",
       "      <td>17.0</td>\n",
       "      <td>3.00</td>\n",
       "      <td>5.04</td>\n",
       "      <td>0.88</td>\n",
       "      <td>885.0</td>\n",
       "    </tr>\n",
       "    <tr>\n",
       "      <th>132</th>\n",
       "      <td>12.81</td>\n",
       "      <td>2.31</td>\n",
       "      <td>2.40</td>\n",
       "      <td>24.0</td>\n",
       "      <td>1.09</td>\n",
       "      <td>5.70</td>\n",
       "      <td>0.66</td>\n",
       "      <td>560.0</td>\n",
       "    </tr>\n",
       "    <tr>\n",
       "      <th>117</th>\n",
       "      <td>12.42</td>\n",
       "      <td>1.61</td>\n",
       "      <td>2.19</td>\n",
       "      <td>22.5</td>\n",
       "      <td>2.09</td>\n",
       "      <td>2.06</td>\n",
       "      <td>1.06</td>\n",
       "      <td>345.0</td>\n",
       "    </tr>\n",
       "  </tbody>\n",
       "</table>\n",
       "<p>106 rows × 8 columns</p>\n",
       "</div>"
      ],
      "text/plain": [
       "     alcohol  malic_acid   ash  alcalinity_of_ash  flavanoids  \\\n",
       "131    12.88        2.99  2.40               20.0        1.22   \n",
       "16     14.30        1.92  2.72               20.0        3.14   \n",
       "106    12.25        1.73  2.12               19.0        2.03   \n",
       "64     12.17        1.45  2.53               19.0        1.75   \n",
       "68     13.34        0.94  2.36               17.0        1.30   \n",
       "..       ...         ...   ...                ...         ...   \n",
       "102    12.34        2.45  2.46               21.0        2.11   \n",
       "100    12.08        2.08  1.70               17.5        2.17   \n",
       "44     13.05        1.77  2.10               17.0        3.00   \n",
       "132    12.81        2.31  2.40               24.0        1.09   \n",
       "117    12.42        1.61  2.19               22.5        2.09   \n",
       "\n",
       "     color_intensity   hue  proline  \n",
       "131             5.40  0.74    530.0  \n",
       "16              6.20  1.07   1280.0  \n",
       "106             3.40  1.00    510.0  \n",
       "64              2.95  1.45    355.0  \n",
       "68              3.17  1.02    750.0  \n",
       "..               ...   ...      ...  \n",
       "102             2.80  0.80    438.0  \n",
       "100             3.30  1.27    710.0  \n",
       "44              5.04  0.88    885.0  \n",
       "132             5.70  0.66    560.0  \n",
       "117             2.06  1.06    345.0  \n",
       "\n",
       "[106 rows x 8 columns]"
      ]
     },
     "execution_count": 29,
     "metadata": {},
     "output_type": "execute_result"
    }
   ],
   "source": [
    "x_train.iloc[:, selector.get_support()]"
   ]
  },
  {
   "cell_type": "code",
   "execution_count": null,
   "metadata": {},
   "outputs": [],
   "source": []
  },
  {
   "cell_type": "markdown",
   "metadata": {},
   "source": [
    "# PCA & LDA"
   ]
  },
  {
   "cell_type": "code",
   "execution_count": 395,
   "metadata": {},
   "outputs": [],
   "source": [
    "n = 500\n",
    "\n",
    "df_rand = pd.DataFrame(\n",
    "    {\n",
    "        'x1': np.random.normal(loc=0, scale=.1, size=n),\n",
    "        'x2': np.random.normal(loc=0, scale=.1, size=n),\n",
    "    }\n",
    ")\n",
    "\n",
    "df_rand['y'] = df_rand['x1'] - df_rand['x2']"
   ]
  },
  {
   "cell_type": "code",
   "execution_count": 396,
   "metadata": {},
   "outputs": [
    {
     "name": "stderr",
     "output_type": "stream",
     "text": [
      "/Users/tarek/anaconda3/envs/scikitbook/lib/python3.6/site-packages/ipykernel_launcher.py:12: UserWarning: Matplotlib is currently using module://ipykernel.pylab.backend_inline, which is a non-GUI backend, so cannot show the figure.\n",
      "  if sys.path[0] == '':\n"
     ]
    },
    {
     "data": {
      "image/png": "[encoded data removed]",
      "text/plain": [
       "<Figure size 1008x576 with 2 Axes>"
      ]
     },
     "metadata": {
      "needs_background": "light"
     },
     "output_type": "display_data"
    }
   ],
   "source": [
    "fig, axs = plt.subplots(1, 2, figsize=(14, 8), sharex=True, sharey=True);\n",
    "\n",
    "for i in range(2):\n",
    "    \n",
    "    df_rand.plot(\n",
    "        kind='scatter',\n",
    "        x=f'x{i+1}',\n",
    "        y='y',\n",
    "        ax=axs[i]\n",
    "    )\n",
    "\n",
    "fig.show()"
   ]
  },
  {
   "cell_type": "code",
   "execution_count": 397,
   "metadata": {},
   "outputs": [],
   "source": [
    "from sklearn.decomposition import PCA\n",
    "from sklearn.decomposition import KernelPCA\n",
    "\n",
    "n_components = 1\n",
    "\n",
    "pca = PCA(n_components=n_components)\n",
    "\n",
    "if n_components == 2:\n",
    "    df_rand['Component 1'] = pca.fit_transform(df_rand[['x1', 'x2']])[:,0]\n",
    "    df_rand['Component 2'] = pca.fit_transform(df_rand[['x1', 'x2']])[:,1]\n",
    "else:\n",
    "    df_rand['Principal Component'] = pca.fit_transform(df_rand[['x1', 'x2']])"
   ]
  },
  {
   "cell_type": "code",
   "execution_count": 398,
   "metadata": {},
   "outputs": [
    {
     "data": {
      "text/plain": [
       "(array([[ 0.79582081, -0.60553219]]), array([0.00952858]))"
      ]
     },
     "execution_count": 398,
     "metadata": {},
     "output_type": "execute_result"
    }
   ],
   "source": [
    "pca.components_, pca.explained_variance_"
   ]
  },
  {
   "cell_type": "code",
   "execution_count": 399,
   "metadata": {},
   "outputs": [
    {
     "name": "stderr",
     "output_type": "stream",
     "text": [
      "/Users/tarek/anaconda3/envs/scikitbook/lib/python3.6/site-packages/ipykernel_launcher.py:24: UserWarning: Matplotlib is currently using module://ipykernel.pylab.backend_inline, which is a non-GUI backend, so cannot show the figure.\n"
     ]
    },
    {
     "data": {
      "image/png": "[encoded data removed]",
      "text/plain": [
       "<Figure size 1008x576 with 3 Axes>"
      ]
     },
     "metadata": {
      "needs_background": "light"
     },
     "output_type": "display_data"
    }
   ],
   "source": [
    "fig, axs = plt.subplots(1, 3, figsize=(14, 8));\n",
    "    \n",
    "df_rand.plot(\n",
    "    kind='scatter',\n",
    "    x='x1',\n",
    "    y='y',\n",
    "    ax=axs[0]\n",
    ")\n",
    "\n",
    "df_rand.plot(\n",
    "    kind='scatter',\n",
    "    x='x2',\n",
    "    y='y',\n",
    "    ax=axs[1]\n",
    ")\n",
    "\n",
    "df_rand.plot(\n",
    "    kind='scatter',\n",
    "    x='Principal Component',\n",
    "    y='y',\n",
    "    ax=axs[2]\n",
    ")\n",
    "\n",
    "fig.show()"
   ]
  },
  {
   "cell_type": "code",
   "execution_count": 368,
   "metadata": {},
   "outputs": [],
   "source": [
    "import pandas as pd\n",
    "from sklearn import datasets"
   ]
  },
  {
   "cell_type": "code",
   "execution_count": 103,
   "metadata": {},
   "outputs": [],
   "source": [
    "iris = datasets.load_iris()\n",
    "wine = datasets.load_wine()\n",
    "\n",
    "df = pd.DataFrame(\n",
    "    iris.data,\n",
    "    columns=iris.feature_names\n",
    ")\n",
    "\n",
    "df['target'] = pd.Series(\n",
    "    iris.target\n",
    ")"
   ]
  },
  {
   "cell_type": "code",
   "execution_count": 104,
   "metadata": {},
   "outputs": [
    {
     "data": {
      "text/html": [
       "<div>\n",
       "<style scoped>\n",
       "    .dataframe tbody tr th:only-of-type {\n",
       "        vertical-align: middle;\n",
       "    }\n",
       "\n",
       "    .dataframe tbody tr th {\n",
       "        vertical-align: top;\n",
       "    }\n",
       "\n",
       "    .dataframe thead th {\n",
       "        text-align: right;\n",
       "    }\n",
       "</style>\n",
       "<table border=\"1\" class=\"dataframe\">\n",
       "  <thead>\n",
       "    <tr style=\"text-align: right;\">\n",
       "      <th></th>\n",
       "      <th>sepal length (cm)</th>\n",
       "      <th>sepal width (cm)</th>\n",
       "      <th>petal length (cm)</th>\n",
       "      <th>petal width (cm)</th>\n",
       "      <th>target</th>\n",
       "    </tr>\n",
       "  </thead>\n",
       "  <tbody>\n",
       "    <tr>\n",
       "      <th>0</th>\n",
       "      <td>5.1</td>\n",
       "      <td>3.5</td>\n",
       "      <td>1.4</td>\n",
       "      <td>0.2</td>\n",
       "      <td>0</td>\n",
       "    </tr>\n",
       "    <tr>\n",
       "      <th>1</th>\n",
       "      <td>4.9</td>\n",
       "      <td>3.0</td>\n",
       "      <td>1.4</td>\n",
       "      <td>0.2</td>\n",
       "      <td>0</td>\n",
       "    </tr>\n",
       "    <tr>\n",
       "      <th>2</th>\n",
       "      <td>4.7</td>\n",
       "      <td>3.2</td>\n",
       "      <td>1.3</td>\n",
       "      <td>0.2</td>\n",
       "      <td>0</td>\n",
       "    </tr>\n",
       "  </tbody>\n",
       "</table>\n",
       "</div>"
      ],
      "text/plain": [
       "   sepal length (cm)  sepal width (cm)  petal length (cm)  petal width (cm)  \\\n",
       "0                5.1               3.5                1.4               0.2   \n",
       "1                4.9               3.0                1.4               0.2   \n",
       "2                4.7               3.2                1.3               0.2   \n",
       "\n",
       "   target  \n",
       "0       0  \n",
       "1       0  \n",
       "2       0  "
      ]
     },
     "execution_count": 104,
     "metadata": {},
     "output_type": "execute_result"
    }
   ],
   "source": [
    "df.head(3)"
   ]
  },
  {
   "cell_type": "code",
   "execution_count": 107,
   "metadata": {},
   "outputs": [],
   "source": [
    "x, y = df[iris.feature_names], df['target']"
   ]
  },
  {
   "cell_type": "code",
   "execution_count": 108,
   "metadata": {},
   "outputs": [
    {
     "data": {
      "text/html": [
       "<div>\n",
       "<style scoped>\n",
       "    .dataframe tbody tr th:only-of-type {\n",
       "        vertical-align: middle;\n",
       "    }\n",
       "\n",
       "    .dataframe tbody tr th {\n",
       "        vertical-align: top;\n",
       "    }\n",
       "\n",
       "    .dataframe thead th {\n",
       "        text-align: right;\n",
       "    }\n",
       "</style>\n",
       "<table border=\"1\" class=\"dataframe\">\n",
       "  <thead>\n",
       "    <tr style=\"text-align: right;\">\n",
       "      <th></th>\n",
       "      <th>Features</th>\n",
       "      <th>ABS(Coeff)</th>\n",
       "    </tr>\n",
       "  </thead>\n",
       "  <tbody>\n",
       "    <tr>\n",
       "      <th>2</th>\n",
       "      <td>petal length (cm)</td>\n",
       "      <td>1.930629</td>\n",
       "    </tr>\n",
       "    <tr>\n",
       "      <th>3</th>\n",
       "      <td>petal width (cm)</td>\n",
       "      <td>1.811689</td>\n",
       "    </tr>\n",
       "    <tr>\n",
       "      <th>1</th>\n",
       "      <td>sepal width (cm)</td>\n",
       "      <td>1.160063</td>\n",
       "    </tr>\n",
       "    <tr>\n",
       "      <th>0</th>\n",
       "      <td>sepal length (cm)</td>\n",
       "      <td>1.074041</td>\n",
       "    </tr>\n",
       "  </tbody>\n",
       "</table>\n",
       "</div>"
      ],
      "text/plain": [
       "            Features  ABS(Coeff)\n",
       "2  petal length (cm)    1.930629\n",
       "3   petal width (cm)    1.811689\n",
       "1   sepal width (cm)    1.160063\n",
       "0  sepal length (cm)    1.074041"
      ]
     },
     "execution_count": 108,
     "metadata": {},
     "output_type": "execute_result"
    }
   ],
   "source": [
    "from sklearn.linear_model import LogisticRegression\n",
    "\n",
    "scaler = StandardScaler()\n",
    "model = LogisticRegression()\n",
    "model.fit(scaler.fit_transform(x), y)\n",
    "\n",
    "pd.DataFrame(\n",
    "    {\n",
    "        'Features': x.columns,\n",
    "        'ABS(Coeff)': np.abs(model.coef_[0]),\n",
    "    }\n",
    ").sort_values('ABS(Coeff)', ascending=False)"
   ]
  },
  {
   "cell_type": "code",
   "execution_count": 112,
   "metadata": {},
   "outputs": [],
   "source": [
    "from sklearn.preprocessing import StandardScaler\n",
    "from sklearn.decomposition import PCA\n",
    "from sklearn.decomposition import KernelPCA\n",
    "\n",
    "n_components = 2\n",
    "\n",
    "scaler = StandardScaler()\n",
    "pca = PCA(n_components=n_components)\n",
    "# pca = KernelPCA(n_components=n_components, kernel='cosine')\n",
    "\n",
    "x_scaled = scaler.fit_transform(x)\n",
    "x_pca = pca.fit_transform(x_scaled)\n",
    "\n",
    "df_pca = pd.DataFrame(\n",
    "    x_pca,\n",
    "    columns=[f'Component {n}' for n in range(1, n_components+1)]\n",
    ")\n",
    "df_pca['target'] = df['target']"
   ]
  },
  {
   "cell_type": "code",
   "execution_count": 113,
   "metadata": {},
   "outputs": [
    {
     "name": "stderr",
     "output_type": "stream",
     "text": [
      "/Users/tarek/anaconda3/envs/scikitbook/lib/python3.6/site-packages/ipykernel_launcher.py:33: UserWarning: Matplotlib is currently using module://ipykernel.pylab.backend_inline, which is a non-GUI backend, so cannot show the figure.\n"
     ]
    },
    {
     "data": {
      "image/png": "[encoded data removed]",
      "text/plain": [
       "<Figure size 1008x576 with 2 Axes>"
      ]
     },
     "metadata": {
      "needs_background": "light"
     },
     "output_type": "display_data"
    }
   ],
   "source": [
    "fig, axs = plt.subplots(1, 2, figsize=(14, 8));\n",
    "\n",
    "for c in df['target'].value_counts().index.tolist():\n",
    "    df[\n",
    "        df['target'] == c\n",
    "    ].plot(\n",
    "        kind='scatter',\n",
    "        x='petal length (cm)',\n",
    "        y='petal width (cm)',\n",
    "        color=['r', 'g', 'b'][c],\n",
    "        marker=f'${c}$',\n",
    "        s=64,\n",
    "        alpha='0.5',\n",
    "        label=f'Class {c}',\n",
    "        ax=axs[0],\n",
    "    )\n",
    "    \n",
    "for c in df_pca['target'].value_counts().index.tolist():\n",
    "    df_pca[\n",
    "        df_pca['target'] == c\n",
    "    ].plot(\n",
    "        kind='scatter',\n",
    "        x='Component 1',\n",
    "        y='Component 2',\n",
    "        color=['r', 'g', 'b'][c],\n",
    "        marker=f'${c}$',\n",
    "        s=64,\n",
    "        alpha='0.5',\n",
    "        label=f'Class {c}',\n",
    "        ax=axs[1],\n",
    "    )\n",
    "    \n",
    "fig.show()"
   ]
  },
  {
   "cell_type": "code",
   "execution_count": 114,
   "metadata": {},
   "outputs": [],
   "source": [
    "from sklearn.preprocessing import StandardScaler\n",
    "from sklearn.discriminant_analysis import LinearDiscriminantAnalysis\n",
    "\n",
    "n_components = 2\n",
    "\n",
    "scaler = StandardScaler()\n",
    "lda = LinearDiscriminantAnalysis(n_components=n_components)\n",
    "\n",
    "x_scaled = scaler.fit_transform(x)\n",
    "x_lda = lda.fit_transform(x_scaled, y)\n",
    "\n",
    "df_lda = pd.DataFrame(\n",
    "    x_lda,\n",
    "    columns=[f'Component {n}' for n in range(1, n_components+1)]\n",
    ")\n",
    "df_lda['target'] = df['target']"
   ]
  },
  {
   "cell_type": "code",
   "execution_count": 115,
   "metadata": {},
   "outputs": [
    {
     "name": "stderr",
     "output_type": "stream",
     "text": [
      "/Users/tarek/anaconda3/envs/scikitbook/lib/python3.6/site-packages/ipykernel_launcher.py:33: UserWarning: Matplotlib is currently using module://ipykernel.pylab.backend_inline, which is a non-GUI backend, so cannot show the figure.\n"
     ]
    },
    {
     "data": {
      "image/png": "[encoded data removed]",
      "text/plain": [
       "<Figure size 1008x576 with 2 Axes>"
      ]
     },
     "metadata": {
      "needs_background": "light"
     },
     "output_type": "display_data"
    }
   ],
   "source": [
    "fig, axs = plt.subplots(1, 2, figsize=(14, 8));\n",
    "\n",
    "for c in df['target'].value_counts().index.tolist():\n",
    "    df[\n",
    "        df['target'] == c\n",
    "    ].plot(\n",
    "        kind='scatter',\n",
    "        x='petal length (cm)',\n",
    "        y='petal width (cm)',\n",
    "        color=['r', 'g', 'b'][c],\n",
    "        marker=f'${c}$',\n",
    "        s=64,\n",
    "        alpha='0.5',\n",
    "        label=f'Class {c}',\n",
    "        ax=axs[0],\n",
    "    )\n",
    "    \n",
    "for c in df_pca['target'].value_counts().index.tolist():\n",
    "    df_lda[\n",
    "        df_lda['target'] == c\n",
    "    ].plot(\n",
    "        kind='scatter',\n",
    "        x='Component 1',\n",
    "        y='Component 2',\n",
    "        color=['r', 'g', 'b'][c],\n",
    "        marker=f'${c}$',\n",
    "        s=64,\n",
    "        alpha='0.5',\n",
    "        label=f'Class {c}',\n",
    "        ax=axs[1],\n",
    "    )\n",
    "    \n",
    "fig.show()"
   ]
  },
  {
   "cell_type": "code",
   "execution_count": 117,
   "metadata": {},
   "outputs": [],
   "source": [
    "from sklearn.model_selection import train_test_split\n",
    "\n",
    "df_train, df_test = train_test_split(df, test_size=0.4, random_state=22)\n",
    "\n",
    "x_train = df_train[iris.feature_names]\n",
    "x_test  = df_test[iris.feature_names]\n",
    "\n",
    "y_train = df_train['target']\n",
    "y_test  = df_test['target']"
   ]
  },
  {
   "cell_type": "code",
   "execution_count": 118,
   "metadata": {},
   "outputs": [
    {
     "data": {
      "text/plain": [
       "((90, 4), (60, 4), (90,))"
      ]
     },
     "execution_count": 118,
     "metadata": {},
     "output_type": "execute_result"
    }
   ],
   "source": [
    "x_train.shape, x_test.shape, y_train.shape"
   ]
  },
  {
   "cell_type": "code",
   "execution_count": 127,
   "metadata": {},
   "outputs": [
    {
     "data": {
      "text/plain": [
       "0.95"
      ]
     },
     "execution_count": 127,
     "metadata": {},
     "output_type": "execute_result"
    }
   ],
   "source": [
    "from sklearn.linear_model import LogisticRegression\n",
    "from sklearn.tree import DecisionTreeClassifier\n",
    "from sklearn.metrics import accuracy_score\n",
    "\n",
    "model = DecisionTreeClassifier() # LogisticRegression()\n",
    "model.fit(x_train, y_train)\n",
    "y_pred = model.predict(x_test)\n",
    "\n",
    "accuracy_score(y_test, y_pred)"
   ]
  },
  {
   "cell_type": "code",
   "execution_count": 128,
   "metadata": {},
   "outputs": [
    {
     "data": {
      "text/plain": [
       "0.8166666666666667"
      ]
     },
     "execution_count": 128,
     "metadata": {},
     "output_type": "execute_result"
    }
   ],
   "source": [
    "from sklearn.preprocessing import StandardScaler\n",
    "from sklearn.decomposition import PCA\n",
    "from sklearn.linear_model import LogisticRegression\n",
    "from sklearn.tree import DecisionTreeClassifier\n",
    "from sklearn.metrics import accuracy_score\n",
    "\n",
    "n_components = 2\n",
    "\n",
    "scaler = StandardScaler()\n",
    "pca = PCA(n_components=n_components)\n",
    "# pca = KernelPCA(n_components=n_components, kernel='cosine')\n",
    "\n",
    "x_train_scaled = scaler.fit_transform(x_train)\n",
    "x_test_scaled = scaler.transform(x_test)\n",
    "\n",
    "x_train_pca = pca.fit_transform(x_train_scaled)\n",
    "x_test_pca = pca.transform(x_test_scaled)\n",
    "\n",
    "model = DecisionTreeClassifier() # LogisticRegression()\n",
    "model.fit(x_train_pca, y_train)\n",
    "y_pred = model.predict(x_test_pca)\n",
    "\n",
    "accuracy_score(y_test, y_pred)"
   ]
  },
  {
   "cell_type": "code",
   "execution_count": 129,
   "metadata": {},
   "outputs": [
    {
     "data": {
      "text/plain": [
       "0.9833333333333333"
      ]
     },
     "execution_count": 129,
     "metadata": {},
     "output_type": "execute_result"
    }
   ],
   "source": [
    "from sklearn.preprocessing import StandardScaler\n",
    "from sklearn.discriminant_analysis import LinearDiscriminantAnalysis\n",
    "from sklearn.linear_model import LogisticRegression\n",
    "from sklearn.metrics import accuracy_score\n",
    "\n",
    "n_components = 2\n",
    "\n",
    "scaler = StandardScaler()\n",
    "lda = LinearDiscriminantAnalysis(n_components=n_components)\n",
    "\n",
    "x_train_scaled = scaler.fit_transform(x_train)\n",
    "x_test_scaled = scaler.transform(x_test)\n",
    "\n",
    "x_train_lda = lda.fit_transform(x_train_scaled, y_train)\n",
    "x_test_lda = lda.transform(x_test_scaled)\n",
    "\n",
    "model = DecisionTreeClassifier() # LogisticRegression()\n",
    "model.fit(x_train_lda, y_train)\n",
    "y_pred = model.predict(x_test_lda)\n",
    "\n",
    "accuracy_score(y_test, y_pred)"
   ]
  },
  {
   "cell_type": "code",
   "execution_count": null,
   "metadata": {},
   "outputs": [],
   "source": []
  }
 ],
 "metadata": {
  "kernelspec": {
   "display_name": "Python 3",
   "language": "python",
   "name": "python3"
  },
  "language_info": {
   "codemirror_mode": {
    "name": "ipython",
    "version": 3
   },
   "file_extension": ".py",
   "mimetype": "text/x-python",
   "name": "python",
   "nbconvert_exporter": "python",
   "pygments_lexer": "ipython3",
   "version": "3.6.9"
  }
 },
 "nbformat": 4,
 "nbformat_minor": 2
}
